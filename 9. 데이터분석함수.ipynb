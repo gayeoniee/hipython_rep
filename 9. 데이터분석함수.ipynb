{
 "cells": [
  {
   "cell_type": "markdown",
   "id": "7dcd074c",
   "metadata": {},
   "source": [
    "# defaultdict class"
   ]
  },
  {
   "cell_type": "code",
   "execution_count": 2,
   "id": "de36bb1f",
   "metadata": {},
   "outputs": [],
   "source": [
    "from collections import defaultdict"
   ]
  },
  {
   "cell_type": "code",
   "execution_count": 6,
   "id": "b0affb3e",
   "metadata": {},
   "outputs": [
    {
     "name": "stdout",
     "output_type": "stream",
     "text": [
      "defaultdict(<class 'int'>, {'a': 1, 'b': 0, 'c': 2})\n"
     ]
    }
   ],
   "source": [
    "dd = defaultdict(int)\n",
    "dd['a'] = 1\n",
    "dd['b']\n",
    "dd['c'] = 2\n",
    "\n",
    "print(dd)"
   ]
  },
  {
   "cell_type": "code",
   "execution_count": 7,
   "id": "377fd1b0",
   "metadata": {},
   "outputs": [
    {
     "data": {
      "text/plain": [
       "[('alice', 90), ('bob', 80), ('charlie', 70), ('alice', 80)]"
      ]
     },
     "execution_count": 7,
     "metadata": {},
     "output_type": "execute_result"
    }
   ],
   "source": [
    "scores = [('alice', 90), ('bob', 80), ('charlie', 70), ('alice', 80)]\n",
    "scores"
   ]
  },
  {
   "cell_type": "code",
   "execution_count": 11,
   "id": "3547af21",
   "metadata": {},
   "outputs": [
    {
     "data": {
      "text/plain": [
       "{'alice': [90, 80], 'bob': [80], 'charlie': [70]}"
      ]
     },
     "execution_count": 11,
     "metadata": {},
     "output_type": "execute_result"
    }
   ],
   "source": [
    "grouped = defaultdict(list)\n",
    "for name, score in scores:\n",
    "    grouped[name].append(score)\n",
    "    \n",
    "grouped\n",
    "dict(grouped)"
   ]
  },
  {
   "cell_type": "code",
   "execution_count": 12,
   "id": "e6de0e22",
   "metadata": {},
   "outputs": [
    {
     "data": {
      "text/plain": [
       "{'b': 1, 'a': 3, 'n': 2}"
      ]
     },
     "execution_count": 12,
     "metadata": {},
     "output_type": "execute_result"
    }
   ],
   "source": [
    "s = 'banana'\n",
    "cnt = defaultdict(int)\n",
    "for char in s:\n",
    "    cnt[char] += 1\n",
    "    \n",
    "cnt\n",
    "dict(cnt)"
   ]
  },
  {
   "cell_type": "markdown",
   "id": "1b74cbba",
   "metadata": {},
   "source": [
    "# Counter\n",
    "collections 모듈의 클래스   \n",
    "시퀀스 데이터- 리스트, 문자열의 원소 개수를 카운트"
   ]
  },
  {
   "cell_type": "code",
   "execution_count": 2,
   "id": "522caa1a",
   "metadata": {},
   "outputs": [
    {
     "data": {
      "text/plain": [
       "Counter({2: 3, 3: 2, 0: 1, 1: 1, 4: 1})"
      ]
     },
     "execution_count": 2,
     "metadata": {},
     "output_type": "execute_result"
    }
   ],
   "source": [
    "from collections import Counter\n",
    "list1 = [0, 1, 2, 3, 4, 2, 2, 3]\n",
    "cnt = Counter(list1)\n",
    "cnt"
   ]
  },
  {
   "cell_type": "code",
   "execution_count": 4,
   "id": "b10012d2",
   "metadata": {},
   "outputs": [
    {
     "data": {
      "text/plain": [
       "[(2, 3), (3, 2)]"
      ]
     },
     "execution_count": 4,
     "metadata": {},
     "output_type": "execute_result"
    }
   ],
   "source": [
    "# 제일 많은 원소 상위 2개\n",
    "cnt.most_common(2)"
   ]
  },
  {
   "cell_type": "markdown",
   "id": "a4e4e567",
   "metadata": {},
   "source": [
    "# extend()\n",
    "extend(): 리스트에 풀어서 붙임\n",
    "\n",
    "append(): 리스트에 1개씩 추가"
   ]
  },
  {
   "cell_type": "code",
   "execution_count": 7,
   "id": "0ad23823",
   "metadata": {},
   "outputs": [
    {
     "data": {
      "text/plain": [
       "[0, 1, 2, 3, 4, 2, 2, 3, [10, 11], 10, 11]"
      ]
     },
     "execution_count": 7,
     "metadata": {},
     "output_type": "execute_result"
    }
   ],
   "source": [
    "list1 = [0, 1, 2, 3, 4, 2, 2, 3]\n",
    "list1.append([10, 11])\n",
    "list1.extend([10, 11])  # 1차원으로 쭉 붙여줄 때 사용\n",
    "list1"
   ]
  },
  {
   "cell_type": "code",
   "execution_count": null,
   "id": "536b060e",
   "metadata": {},
   "outputs": [],
   "source": []
  }
 ],
 "metadata": {
  "kernelspec": {
   "display_name": "hipython",
   "language": "python",
   "name": "python3"
  },
  "language_info": {
   "codemirror_mode": {
    "name": "ipython",
    "version": 3
   },
   "file_extension": ".py",
   "mimetype": "text/x-python",
   "name": "python",
   "nbconvert_exporter": "python",
   "pygments_lexer": "ipython3",
   "version": "3.12.9"
  }
 },
 "nbformat": 4,
 "nbformat_minor": 5
}
