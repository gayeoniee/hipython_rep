{
 "cells": [
  {
   "cell_type": "code",
   "execution_count": 23,
   "id": "6a9198e3-939a-4a35-802e-bee9979d1c5e",
   "metadata": {},
   "outputs": [],
   "source": [
    "# 관리 프로그램  crud\n",
    "# 1. 간식박스 생성  create\n",
    "# 2. 간식박스 포장    update\n",
    "# 3. 간식박스 미리보기 (3개만) read\n",
    "# 4. 간식 삭제  delete\n",
    "# 5. 간식 찾기   search\n",
    "# 6. 간식박스 전체보기   read\n",
    "# 7. 간식박스 요약"
   ]
  },
  {
   "cell_type": "code",
   "execution_count": 6,
   "id": "80491fab-dc3b-4c84-ad42-dcddc357b40a",
   "metadata": {},
   "outputs": [],
   "source": [
    "# 함수 도출 - 기능의 세분화, 함수를 정의\n",
    "# 함수 구현\n",
    "# 문제점 - 오류 처리, 예외 처리"
   ]
  },
  {
   "cell_type": "code",
   "execution_count": 12,
   "id": "903102e5-9652-48ea-aa17-b8880b1d6afa",
   "metadata": {},
   "outputs": [],
   "source": [
    "# 1. 간식박스 생성  create\n",
    "def create_snack_box():\n",
    "    snack_box = ['초코파이']\n",
    "    new_input = input('먹고 싶은 간식을 추가하세요. 단 쉼표(,)로 연결하세요.')\n",
    "    new_input = new_input.replace(' ', '')\n",
    "    new_snack = new_input.split(',')\n",
    "    snack_box += new_snack\n",
    "\n",
    "    return snack_box"
   ]
  },
  {
   "cell_type": "code",
   "execution_count": 13,
   "id": "e24b6bb1-4ea5-4a13-9a78-5c0600e54e51",
   "metadata": {},
   "outputs": [],
   "source": [
    "# 2. 간식박스 포장    update\n",
    "def multiply_snack_box(snack_box):\n",
    "    qty = int(input('간식 박스를 몇 세트로 포장할까요? 예: 2 -> 2box'))\n",
    "    \n",
    "    return snack_box * qty"
   ]
  },
  {
   "cell_type": "code",
   "execution_count": 14,
   "id": "310fa233-5da7-4403-9fad-e2b9d318fc8a",
   "metadata": {},
   "outputs": [],
   "source": [
    "# 6. 간식박스 전체보기   read\n",
    "def display_snack_box(snack_box):\n",
    "    print(f'{snack_box[::-1]} 총 {len(snack_box)} 개 입니다.')"
   ]
  },
  {
   "cell_type": "code",
   "execution_count": 24,
   "id": "7f7adefa-2d3d-4b48-ac25-6ae7f4659019",
   "metadata": {},
   "outputs": [],
   "source": [
    "# 3. 간식박스 미리보기 (3개만) read - signature\n",
    "def preview_snack_box(snack_box):\n",
    "    preview = ','.join(snack_box[:3])\n",
    "    print(f'선택하신 간식은 {preview} 등 입니다.')"
   ]
  },
  {
   "cell_type": "code",
   "execution_count": 26,
   "id": "b39758f4-fe21-4f71-859d-4f9805b5a8f4",
   "metadata": {},
   "outputs": [],
   "source": [
    "# 4. 간식 삭제  delete\n",
    "def remove_snack_box(snack_box):\n",
    "    # 예외처리\n",
    "    if not snack_box:\n",
    "        print('간식박스가 비어있어요.')\n",
    "        return\n",
    "    \n",
    "    display_snack_box(snack_box)\n",
    "    \n",
    "    snack_no = int(input(f'혹시 빼고 싶은 간식이 있으면 번호를 입력하세요 (0 ~ {len(snack_box)-1})'))\n",
    "    del snack_box[snack_no]\n",
    "\n",
    "    # snack_no validatin\n",
    "    return snack_box"
   ]
  },
  {
   "cell_type": "code",
   "execution_count": 29,
   "id": "abbc18be-9b36-4857-8bd8-b24f13d9002e",
   "metadata": {},
   "outputs": [],
   "source": [
    "# 5. 간식 찾기   search\n",
    "def search_snack_box(snack_box):\n",
    "    snack_find = input('찾고 싶은 간식을 입력하세요: ')\n",
    "\n",
    "    print('있어요' if snack_find in snack_box else '없어요')"
   ]
  },
  {
   "cell_type": "code",
   "execution_count": 33,
   "id": "da5389f3-cb26-485a-8cea-27d097e1efdc",
   "metadata": {},
   "outputs": [],
   "source": [
    "# 7. 간식박스 요약\n",
    "def summarize_snaks(snack_box):\n",
    "    summary = {}\n",
    "    for snack in snack_box:\n",
    "        summary[snack] = summary.get(snack, 0) + 1\n",
    "\n",
    "    print('간식박스 정리')\n",
    "    for snack, qty in summary.items():\n",
    "        print(f'- {snack} : {qty} 개')\n"
   ]
  },
  {
   "cell_type": "code",
   "execution_count": 38,
   "id": "a112d046-8377-4279-b6ad-432f7b600359",
   "metadata": {
    "scrolled": true
   },
   "outputs": [
    {
     "name": "stdin",
     "output_type": "stream",
     "text": [
      "먹고 싶은 간식을 추가하세요. 단 쉼표(,)로 연결하세요. 사이다\n"
     ]
    },
    {
     "name": "stdout",
     "output_type": "stream",
     "text": [
      "간식박스가 만들어졌어요\n",
      "['사이다', '초코파이'] 총 2 개 입니다.\n"
     ]
    },
    {
     "name": "stdin",
     "output_type": "stream",
     "text": [
      "간식 박스를 몇 세트로 포장할까요? 예: 2 -> 2box 2\n"
     ]
    },
    {
     "name": "stdout",
     "output_type": "stream",
     "text": [
      "['사이다', '초코파이', '사이다', '초코파이'] 총 4 개 입니다.\n"
     ]
    },
    {
     "name": "stdin",
     "output_type": "stream",
     "text": [
      "찾고 싶은 간식을 입력하세요:  사이다\n"
     ]
    },
    {
     "name": "stdout",
     "output_type": "stream",
     "text": [
      "있어요\n",
      "['사이다', '초코파이', '사이다', '초코파이'] 총 4 개 입니다.\n"
     ]
    },
    {
     "name": "stdin",
     "output_type": "stream",
     "text": [
      "혹시 빼고 싶은 간식이 있으면 번호를 입력하세요 (0 ~ 3) 2\n"
     ]
    },
    {
     "name": "stdout",
     "output_type": "stream",
     "text": [
      "간식박스 정리\n",
      "- 초코파이 : 1 개\n",
      "- 사이다 : 2 개\n"
     ]
    }
   ],
   "source": [
    "# 서비스의 흐름  - 순차\n",
    "box = create_snack_box()\n",
    "print('간식박스가 만들어졌어요')\n",
    "display_snack_box(box)\n",
    "box = multiply_snack_box(box)\n",
    "display_snack_box(box)\n",
    "\n",
    "# 검색 후 삭제 기능\n",
    "search_snack_box(box)\n",
    "remove_snack_box(box)\n",
    "\n",
    "summarize_snaks(box)"
   ]
  },
  {
   "cell_type": "markdown",
   "id": "b6545fbb-b8cd-44c0-a24b-6595e6756a88",
   "metadata": {},
   "source": [
    "# 메뉴 형식으로 구조를 개편"
   ]
  },
  {
   "cell_type": "code",
   "execution_count": 36,
   "id": "a541f8d6-c521-4785-bde9-00cd8dc602bf",
   "metadata": {},
   "outputs": [],
   "source": [
    "# 선택, 반복"
   ]
  },
  {
   "cell_type": "code",
   "execution_count": 93,
   "id": "e08e743a-df09-4a65-9b58-da643e417952",
   "metadata": {},
   "outputs": [],
   "source": [
    "# -- 공통 유틸리티 함수\n",
    "def get_valid_text_input(msg):\n",
    "    user_input = input(msg).strip()\n",
    "\n",
    "    if not user_input:\n",
    "        print('입력값을 확인하세요')\n",
    "        return None\n",
    "    return user_input\n",
    "\n",
    "# 숫자 검증\n",
    "def get_valid_number_input(msg, min_no=1, max_no=5):\n",
    "    # 숫자 체크\n",
    "    try:\n",
    "        number = int(input(msg))\n",
    "\n",
    "        if number < min_no:\n",
    "            print(f'{min_no} 이상 숫자를 입력하세요')\n",
    "            return None\n",
    "        elif number > max_no:\n",
    "            print(f'{max_no} 이하 숫자를 입력하세요')\n",
    "            return None\n",
    "        else:\n",
    "            return number\n",
    "            \n",
    "    except ValueError:\n",
    "        print('숫자를 압력하세요')\n",
    "        return None\n"
   ]
  },
  {
   "cell_type": "code",
   "execution_count": 37,
   "id": "7ec62e61-42ba-4465-87cf-0a6e8249c9af",
   "metadata": {},
   "outputs": [],
   "source": [
    "# -- 기본함수 정의"
   ]
  },
  {
   "cell_type": "code",
   "execution_count": 113,
   "id": "66a8155f-f71e-4449-ab83-39b1b8ca20bb",
   "metadata": {},
   "outputs": [],
   "source": [
    "# 1. 간식박스 생성  create\n",
    "def create_snack_box():\n",
    "    snack_box = ['초코파이']\n",
    "    new_input = input('먹고 싶은 간식을 추가하세요. 단 쉼표(,)로 연결하세요.')\n",
    "    new_input = new_input.replace(' ', '')\n",
    "    new_snack = new_input.split(',')\n",
    "    snack_box += new_snack\n",
    "\n",
    "    return snack_box\n",
    "\n",
    "# 2. 간식박스 포장    update\n",
    "def multiply_snack_box(snack_box):\n",
    "    mul_msg = '간식 박스를 몇 세트로 포장할까요? 예: 2 -> 2box'\n",
    "    \n",
    "    qty = get_valid_number_input(mul_msg, 2, 5)\n",
    "\n",
    "    if qty is None:\n",
    "        qty = 1\n",
    "    \n",
    "    return snack_box * qty\n",
    "\n",
    "# 6. 간식박스 전체보기   read\n",
    "def display_snack_box(snack_box):\n",
    "    print(f'{snack_box[:]} 총 {len(snack_box)} 개 입니다.')\n",
    "\n",
    "# 3. 간식박스 미리보기 (3개만) read - signature\n",
    "def preview_snack_box(snack_box):\n",
    "    preview = ','.join(snack_box[:3])\n",
    "    print(f'선택하신 간식은 {preview} 등 입니다.')\n",
    "\n",
    "# 4. 간식 삭제  delete\n",
    "def remove_snack_box(snack_box):\n",
    "    # 예외처리\n",
    "    if not snack_box:\n",
    "        print('간식박스가 비어있어요.')\n",
    "        return\n",
    "    \n",
    "    display_snack_box(snack_box)\n",
    "    remove_msg = f'혹시 빼고 싶은 간식이 있으면 번호를 입력하세요 (0 ~ {len(snack_box)-1})'\n",
    "    snack_no = get_valid_number_input(remove_msg, 0, len(snack_box)-1)\n",
    "\n",
    "    del snack_box[snack_no]\n",
    "\n",
    "    # snack_no validatin\n",
    "    return snack_box\n",
    "\n",
    "# 5. 간식 찾기   search\n",
    "def search_snack_box(snack_box):\n",
    "    search_msg = '찾고 싶은 간식을 입력하세요: '\n",
    "    snack_find = get_valid_text_input(search_msg)\n",
    "\n",
    "    print('있어요' if snack_find in snack_box else '없어요')\n",
    "\n",
    "# 7. 간식박스 요약\n",
    "def summarize_snacks(snack_box):\n",
    "    summary = {}\n",
    "    for snack in snack_box:\n",
    "        summary[snack] = summary.get(snack, 0) + 1\n",
    "\n",
    "    print('간식박스 정리')\n",
    "    for snack, qty in summary.items():\n",
    "        print(f'- {snack} : {qty} 개')\n",
    "\n",
    "def select_menu():\n",
    "    print('간식박스 관리 프로그램 메뉴')\n",
    "    print('1. 간식박스 생성')\n",
    "    print('2. 세트 생성')\n",
    "    print('3. 세트 미리보기')\n",
    "    print('4. 간식 삭제')\n",
    "    print('5. 간식 검색')\n",
    "    print('6. 간식박스 요약')\n",
    "    print('7. 최종 간식박스 확인')\n",
    "\n",
    "    menu_msg = '원하는 메뉴 번호를 입력하세요'\n",
    "    num = str(get_valid_number_input(menu_msg, 1, 7))\n",
    "    return num"
   ]
  },
  {
   "cell_type": "code",
   "execution_count": 114,
   "id": "7490042b-2ea1-445c-b364-ceebcd244a1a",
   "metadata": {},
   "outputs": [],
   "source": [
    "# 서비스의 흐름  - 선택과 반복\n",
    "\n",
    "def run_menu_program():\n",
    "    snack_box = []\n",
    "    while True:\n",
    "\n",
    "        choice = select_menu()\n",
    "\n",
    "        if choice == '1':\n",
    "            snack_box = create_snack_box()\n",
    "        elif choice == '2':\n",
    "            snack_box = multiply_snack_box(snack_box)\n",
    "        elif choice == '3':\n",
    "            preview_snack_box(snack_box)\n",
    "        elif choice == '4':\n",
    "            remove_snack_box(snack_box)\n",
    "        elif choice == '5':\n",
    "            search_snack_box(snack_box)\n",
    "        elif choice == '6':\n",
    "            summarize_snacks(snack_box)\n",
    "        elif choice == '7':\n",
    "            display_snack_box(snack_box)\n"
   ]
  },
  {
   "cell_type": "code",
   "execution_count": 112,
   "id": "2389ccd2-fe22-44bf-99f2-765ea4c1df93",
   "metadata": {
    "collapsed": true,
    "jupyter": {
     "outputs_hidden": true
    }
   },
   "outputs": [
    {
     "name": "stdout",
     "output_type": "stream",
     "text": [
      "간식박스 관리 프로그램 메뉴\n",
      "1. 간식박스 생성\n",
      "2. 세트 생성\n",
      "3. 세트 미리보기\n",
      "4. 간식 삭제\n",
      "5. 간식 검색\n",
      "6. 간식박스 요약\n",
      "7. 최종 간식박스 확인\n"
     ]
    },
    {
     "name": "stdin",
     "output_type": "stream",
     "text": [
      "원하는 메뉴 번호를 입력하세요 1\n",
      "먹고 싶은 간식을 추가하세요. 단 쉼표(,)로 연결하세요. 사이다\n"
     ]
    },
    {
     "name": "stdout",
     "output_type": "stream",
     "text": [
      "간식박스 관리 프로그램 메뉴\n",
      "1. 간식박스 생성\n",
      "2. 세트 생성\n",
      "3. 세트 미리보기\n",
      "4. 간식 삭제\n",
      "5. 간식 검색\n",
      "6. 간식박스 요약\n",
      "7. 최종 간식박스 확인\n"
     ]
    },
    {
     "name": "stdin",
     "output_type": "stream",
     "text": [
      "원하는 메뉴 번호를 입력하세요 2\n",
      "간식 박스를 몇 세트로 포장할까요? 예: 2 -> 2box 7\n"
     ]
    },
    {
     "name": "stdout",
     "output_type": "stream",
     "text": [
      "5 이하 숫자를 입력하세요\n",
      "간식박스 관리 프로그램 메뉴\n",
      "1. 간식박스 생성\n",
      "2. 세트 생성\n",
      "3. 세트 미리보기\n",
      "4. 간식 삭제\n",
      "5. 간식 검색\n",
      "6. 간식박스 요약\n",
      "7. 최종 간식박스 확인\n"
     ]
    },
    {
     "name": "stdin",
     "output_type": "stream",
     "text": [
      "원하는 메뉴 번호를 입력하세요 2\n",
      "간식 박스를 몇 세트로 포장할까요? 예: 2 -> 2box 6\n"
     ]
    },
    {
     "name": "stdout",
     "output_type": "stream",
     "text": [
      "5 이하 숫자를 입력하세요\n",
      "간식박스 관리 프로그램 메뉴\n",
      "1. 간식박스 생성\n",
      "2. 세트 생성\n",
      "3. 세트 미리보기\n",
      "4. 간식 삭제\n",
      "5. 간식 검색\n",
      "6. 간식박스 요약\n",
      "7. 최종 간식박스 확인\n"
     ]
    },
    {
     "name": "stdin",
     "output_type": "stream",
     "text": [
      "원하는 메뉴 번호를 입력하세요 6\n"
     ]
    },
    {
     "name": "stdout",
     "output_type": "stream",
     "text": [
      "간식박스 정리\n",
      "- 초코파이 : 1 개\n",
      "- 사이다 : 1 개\n",
      "간식박스 관리 프로그램 메뉴\n",
      "1. 간식박스 생성\n",
      "2. 세트 생성\n",
      "3. 세트 미리보기\n",
      "4. 간식 삭제\n",
      "5. 간식 검색\n",
      "6. 간식박스 요약\n",
      "7. 최종 간식박스 확인\n"
     ]
    },
    {
     "name": "stdin",
     "output_type": "stream",
     "text": [
      "원하는 메뉴 번호를 입력하세요 2\n",
      "간식 박스를 몇 세트로 포장할까요? 예: 2 -> 2box 3\n"
     ]
    },
    {
     "name": "stdout",
     "output_type": "stream",
     "text": [
      "간식박스 관리 프로그램 메뉴\n",
      "1. 간식박스 생성\n",
      "2. 세트 생성\n",
      "3. 세트 미리보기\n",
      "4. 간식 삭제\n",
      "5. 간식 검색\n",
      "6. 간식박스 요약\n",
      "7. 최종 간식박스 확인\n"
     ]
    },
    {
     "name": "stdin",
     "output_type": "stream",
     "text": [
      "원하는 메뉴 번호를 입력하세요 3\n"
     ]
    },
    {
     "name": "stdout",
     "output_type": "stream",
     "text": [
      "선택하신 간식은 초코파이,사이다,초코파이 등 입니다.\n",
      "간식박스 관리 프로그램 메뉴\n",
      "1. 간식박스 생성\n",
      "2. 세트 생성\n",
      "3. 세트 미리보기\n",
      "4. 간식 삭제\n",
      "5. 간식 검색\n",
      "6. 간식박스 요약\n",
      "7. 최종 간식박스 확인\n"
     ]
    },
    {
     "name": "stdin",
     "output_type": "stream",
     "text": [
      "원하는 메뉴 번호를 입력하세요 5\n",
      "찾고 싶은 간식을 입력하세요:  사이다\n"
     ]
    },
    {
     "name": "stdout",
     "output_type": "stream",
     "text": [
      "있어요\n",
      "간식박스 관리 프로그램 메뉴\n",
      "1. 간식박스 생성\n",
      "2. 세트 생성\n",
      "3. 세트 미리보기\n",
      "4. 간식 삭제\n",
      "5. 간식 검색\n",
      "6. 간식박스 요약\n",
      "7. 최종 간식박스 확인\n"
     ]
    },
    {
     "name": "stdin",
     "output_type": "stream",
     "text": [
      "원하는 메뉴 번호를 입력하세요 7\n"
     ]
    },
    {
     "name": "stdout",
     "output_type": "stream",
     "text": [
      "['초코파이', '사이다', '초코파이', '사이다', '초코파이', '사이다'] 총 6 개 입니다.\n",
      "간식박스 관리 프로그램 메뉴\n",
      "1. 간식박스 생성\n",
      "2. 세트 생성\n",
      "3. 세트 미리보기\n",
      "4. 간식 삭제\n",
      "5. 간식 검색\n",
      "6. 간식박스 요약\n",
      "7. 최종 간식박스 확인\n"
     ]
    },
    {
     "ename": "KeyboardInterrupt",
     "evalue": "Interrupted by user",
     "output_type": "error",
     "traceback": [
      "\u001b[31m---------------------------------------------------------------------------\u001b[39m",
      "\u001b[31mKeyboardInterrupt\u001b[39m                         Traceback (most recent call last)",
      "\u001b[36mCell\u001b[39m\u001b[36m \u001b[39m\u001b[32mIn[112]\u001b[39m\u001b[32m, line 1\u001b[39m\n\u001b[32m----> \u001b[39m\u001b[32m1\u001b[39m run_menu_program()\n",
      "\u001b[36mCell\u001b[39m\u001b[36m \u001b[39m\u001b[32mIn[111]\u001b[39m\u001b[32m, line 7\u001b[39m, in \u001b[36mrun_menu_program\u001b[39m\u001b[34m()\u001b[39m\n\u001b[32m      4\u001b[39m snack_box = []\n\u001b[32m      5\u001b[39m \u001b[38;5;28;01mwhile\u001b[39;00m \u001b[38;5;28;01mTrue\u001b[39;00m:\n\u001b[32m----> \u001b[39m\u001b[32m7\u001b[39m     choice = select_menu()\n\u001b[32m      9\u001b[39m     \u001b[38;5;28;01mif\u001b[39;00m choice == \u001b[33m'\u001b[39m\u001b[33m1\u001b[39m\u001b[33m'\u001b[39m:\n\u001b[32m     10\u001b[39m         snack_box = create_snack_box()\n",
      "\u001b[36mCell\u001b[39m\u001b[36m \u001b[39m\u001b[32mIn[110]\u001b[39m\u001b[32m, line 75\u001b[39m, in \u001b[36mselect_menu\u001b[39m\u001b[34m()\u001b[39m\n\u001b[32m     72\u001b[39m \u001b[38;5;28mprint\u001b[39m(\u001b[33m'\u001b[39m\u001b[33m7. 최종 간식박스 확인\u001b[39m\u001b[33m'\u001b[39m)\n\u001b[32m     74\u001b[39m menu_msg = \u001b[33m'\u001b[39m\u001b[33m원하는 메뉴 번호를 입력하세요\u001b[39m\u001b[33m'\u001b[39m\n\u001b[32m---> \u001b[39m\u001b[32m75\u001b[39m num = \u001b[38;5;28mstr\u001b[39m(get_valid_number_input(menu_msg, \u001b[32m1\u001b[39m, \u001b[32m7\u001b[39m))\n\u001b[32m     76\u001b[39m \u001b[38;5;28;01mreturn\u001b[39;00m num\n",
      "\u001b[36mCell\u001b[39m\u001b[36m \u001b[39m\u001b[32mIn[93]\u001b[39m\u001b[32m, line 14\u001b[39m, in \u001b[36mget_valid_number_input\u001b[39m\u001b[34m(msg, min_no, max_no)\u001b[39m\n\u001b[32m     11\u001b[39m \u001b[38;5;28;01mdef\u001b[39;00m\u001b[38;5;250m \u001b[39m\u001b[34mget_valid_number_input\u001b[39m(msg, min_no=\u001b[32m1\u001b[39m, max_no=\u001b[32m5\u001b[39m):\n\u001b[32m     12\u001b[39m     \u001b[38;5;66;03m# 숫자 체크\u001b[39;00m\n\u001b[32m     13\u001b[39m     \u001b[38;5;28;01mtry\u001b[39;00m:\n\u001b[32m---> \u001b[39m\u001b[32m14\u001b[39m         number = \u001b[38;5;28mint\u001b[39m(\u001b[38;5;28minput\u001b[39m(msg))\n\u001b[32m     16\u001b[39m         \u001b[38;5;28;01mif\u001b[39;00m number < min_no:\n\u001b[32m     17\u001b[39m             \u001b[38;5;28mprint\u001b[39m(\u001b[33mf\u001b[39m\u001b[33m'\u001b[39m\u001b[38;5;132;01m{\u001b[39;00mmin_no\u001b[38;5;132;01m}\u001b[39;00m\u001b[33m 이상 숫자를 입력하세요\u001b[39m\u001b[33m'\u001b[39m)\n",
      "\u001b[36mFile \u001b[39m\u001b[32m~\\miniconda3\\envs\\hipython\\Lib\\site-packages\\ipykernel\\kernelbase.py:1282\u001b[39m, in \u001b[36mKernel.raw_input\u001b[39m\u001b[34m(self, prompt)\u001b[39m\n\u001b[32m   1280\u001b[39m     msg = \u001b[33m\"\u001b[39m\u001b[33mraw_input was called, but this frontend does not support input requests.\u001b[39m\u001b[33m\"\u001b[39m\n\u001b[32m   1281\u001b[39m     \u001b[38;5;28;01mraise\u001b[39;00m StdinNotImplementedError(msg)\n\u001b[32m-> \u001b[39m\u001b[32m1282\u001b[39m \u001b[38;5;28;01mreturn\u001b[39;00m \u001b[38;5;28mself\u001b[39m._input_request(\n\u001b[32m   1283\u001b[39m     \u001b[38;5;28mstr\u001b[39m(prompt),\n\u001b[32m   1284\u001b[39m     \u001b[38;5;28mself\u001b[39m._parent_ident[\u001b[33m\"\u001b[39m\u001b[33mshell\u001b[39m\u001b[33m\"\u001b[39m],\n\u001b[32m   1285\u001b[39m     \u001b[38;5;28mself\u001b[39m.get_parent(\u001b[33m\"\u001b[39m\u001b[33mshell\u001b[39m\u001b[33m\"\u001b[39m),\n\u001b[32m   1286\u001b[39m     password=\u001b[38;5;28;01mFalse\u001b[39;00m,\n\u001b[32m   1287\u001b[39m )\n",
      "\u001b[36mFile \u001b[39m\u001b[32m~\\miniconda3\\envs\\hipython\\Lib\\site-packages\\ipykernel\\kernelbase.py:1325\u001b[39m, in \u001b[36mKernel._input_request\u001b[39m\u001b[34m(self, prompt, ident, parent, password)\u001b[39m\n\u001b[32m   1322\u001b[39m \u001b[38;5;28;01mexcept\u001b[39;00m \u001b[38;5;167;01mKeyboardInterrupt\u001b[39;00m:\n\u001b[32m   1323\u001b[39m     \u001b[38;5;66;03m# re-raise KeyboardInterrupt, to truncate traceback\u001b[39;00m\n\u001b[32m   1324\u001b[39m     msg = \u001b[33m\"\u001b[39m\u001b[33mInterrupted by user\u001b[39m\u001b[33m\"\u001b[39m\n\u001b[32m-> \u001b[39m\u001b[32m1325\u001b[39m     \u001b[38;5;28;01mraise\u001b[39;00m \u001b[38;5;167;01mKeyboardInterrupt\u001b[39;00m(msg) \u001b[38;5;28;01mfrom\u001b[39;00m\u001b[38;5;250m \u001b[39m\u001b[38;5;28;01mNone\u001b[39;00m\n\u001b[32m   1326\u001b[39m \u001b[38;5;28;01mexcept\u001b[39;00m \u001b[38;5;167;01mException\u001b[39;00m:\n\u001b[32m   1327\u001b[39m     \u001b[38;5;28mself\u001b[39m.log.warning(\u001b[33m\"\u001b[39m\u001b[33mInvalid Message:\u001b[39m\u001b[33m\"\u001b[39m, exc_info=\u001b[38;5;28;01mTrue\u001b[39;00m)\n",
      "\u001b[31mKeyboardInterrupt\u001b[39m: Interrupted by user"
     ]
    }
   ],
   "source": [
    "run_menu_program()"
   ]
  },
  {
   "cell_type": "code",
   "execution_count": null,
   "id": "031a77b2-12e8-48c0-9b9d-63e1e977f297",
   "metadata": {},
   "outputs": [],
   "source": []
  }
 ],
 "metadata": {
  "kernelspec": {
   "display_name": "Python 3 (ipykernel)",
   "language": "python",
   "name": "python3"
  },
  "language_info": {
   "codemirror_mode": {
    "name": "ipython",
    "version": 3
   },
   "file_extension": ".py",
   "mimetype": "text/x-python",
   "name": "python",
   "nbconvert_exporter": "python",
   "pygments_lexer": "ipython3",
   "version": "3.12.9"
  }
 },
 "nbformat": 4,
 "nbformat_minor": 5
}
