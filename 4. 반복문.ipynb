{
 "cells": [
  {
   "cell_type": "markdown",
   "id": "e47325f6-a002-4b1c-b52c-f6d9ef88c9fa",
   "metadata": {},
   "source": [
    "# 반복문: for, while"
   ]
  },
  {
   "cell_type": "markdown",
   "id": "4dec4387-f1ee-4acd-aaf5-ed7b04355aed",
   "metadata": {},
   "source": [
    "# for문\n",
    "\n",
    "for 변수 in 반복자:\n",
    "\n",
    "반복자에는 리스트, 문자열, 튜플, 딕셔너리, 세트(집합)"
   ]
  },
  {
   "cell_type": "code",
   "execution_count": 2,
   "id": "7a37ee4d-a71c-4caf-babe-0bb286057316",
   "metadata": {},
   "outputs": [
    {
     "name": "stdout",
     "output_type": "stream",
     "text": [
      "0 1 2 3 4 "
     ]
    }
   ],
   "source": [
    "data = [0, 1, 2, 3, 4]\n",
    "\n",
    "for var in data:\n",
    "    print(var, end=' ')"
   ]
  },
  {
   "cell_type": "code",
   "execution_count": 14,
   "id": "6bd0e83c-ed23-496f-9c79-423411852187",
   "metadata": {},
   "outputs": [
    {
     "data": {
      "text/plain": [
       "range"
      ]
     },
     "execution_count": 14,
     "metadata": {},
     "output_type": "execute_result"
    }
   ],
   "source": [
    "type(range(1, 10))"
   ]
  },
  {
   "cell_type": "code",
   "execution_count": 5,
   "id": "4f1710bf-59e4-455f-9bef-e7ba606e217f",
   "metadata": {},
   "outputs": [
    {
     "name": "stdout",
     "output_type": "stream",
     "text": [
      "1 2 3 4 5 6 7 8 9 "
     ]
    }
   ],
   "source": [
    "for x in range(1, 10):\n",
    "    print(x, end=' ')"
   ]
  },
  {
   "cell_type": "code",
   "execution_count": 13,
   "id": "16a8b8d9-409d-47de-82d6-8d0936a9edfb",
   "metadata": {},
   "outputs": [
    {
     "name": "stdout",
     "output_type": "stream",
     "text": [
      "6\n",
      "name gayeon\n",
      "age 26\n",
      "h e l l o "
     ]
    }
   ],
   "source": [
    "# tuple, dictionary, str\n",
    "sum = 0\n",
    "for i in (1, 2, 3):\n",
    "    sum += i    \n",
    "print(sum)\n",
    "\n",
    "for k, v in {'name':'gayeon', 'age':26}.items():\n",
    "    print(k, v)\n",
    "\n",
    "for s in 'hello':\n",
    "    print(s, end=' ')"
   ]
  },
  {
   "cell_type": "code",
   "execution_count": 15,
   "id": "5f4215cf-4a65-467c-978e-92a32a5b1ada",
   "metadata": {},
   "outputs": [
    {
     "data": {
      "text/plain": [
       "[1, 2, 3, 4, 5, 6, 7, 8, 9]"
      ]
     },
     "execution_count": 15,
     "metadata": {},
     "output_type": "execute_result"
    }
   ],
   "source": [
    "list(range(1, 10))"
   ]
  },
  {
   "cell_type": "markdown",
   "id": "b2973863-1c25-4357-a4df-da95ca37cb05",
   "metadata": {},
   "source": [
    "# range(1, 10, 2)\n",
    "start, stop, step = 1(default)"
   ]
  },
  {
   "cell_type": "code",
   "execution_count": 17,
   "id": "2113f287-fdb7-439d-9b5b-cd97f40d68f9",
   "metadata": {},
   "outputs": [
    {
     "data": {
      "text/plain": [
       "[0, 2, 4, 6, 8]"
      ]
     },
     "execution_count": 17,
     "metadata": {},
     "output_type": "execute_result"
    }
   ],
   "source": [
    "list(range(0, 10, 2))"
   ]
  },
  {
   "cell_type": "code",
   "execution_count": 27,
   "id": "3048186c-2891-446c-a5f1-e3fa2a5bad83",
   "metadata": {},
   "outputs": [
    {
     "name": "stdout",
     "output_type": "stream",
     "text": [
      "1683\n"
     ]
    }
   ],
   "source": [
    "# 1 ~ 100 합 구하기\n",
    "sum1 = 0\n",
    "for i in range(1, 101):\n",
    "    sum1 += i\n",
    "print(sum)"
   ]
  },
  {
   "cell_type": "code",
   "execution_count": 29,
   "id": "b7543004-cb2e-48e7-a200-602e0a84e6ef",
   "metadata": {},
   "outputs": [
    {
     "name": "stdout",
     "output_type": "stream",
     "text": [
      "1683\n"
     ]
    }
   ],
   "source": [
    "# 3의 배수의 합 (1 ~ 100)\n",
    "sum2 = 0\n",
    "for i in range(3, 101, 3):\n",
    "    sum2 += i\n",
    "print(sum)"
   ]
  },
  {
   "cell_type": "code",
   "execution_count": 30,
   "id": "e4378950-dc2a-4461-8577-4ad2de986d39",
   "metadata": {},
   "outputs": [
    {
     "name": "stdout",
     "output_type": "stream",
     "text": [
      "a\n",
      "b\n",
      "c\n"
     ]
    }
   ],
   "source": [
    "char_list = ['a', 'b', 'c']\n",
    "\n",
    "for x in char_list:\n",
    "    print(x)"
   ]
  },
  {
   "cell_type": "code",
   "execution_count": 31,
   "id": "4722055b-1b53-44e0-a48d-598152e81a78",
   "metadata": {},
   "outputs": [
    {
     "name": "stdout",
     "output_type": "stream",
     "text": [
      "0 a\n",
      "1 b\n",
      "2 c\n"
     ]
    }
   ],
   "source": [
    "for i, v in enumerate(char_list):\n",
    "    print(i, v)"
   ]
  },
  {
   "cell_type": "code",
   "execution_count": 32,
   "id": "f1a4b963-fa92-443b-9df5-e9dff18bb8da",
   "metadata": {},
   "outputs": [
    {
     "data": {
      "text/plain": [
       "<zip at 0x192bb46b2c0>"
      ]
     },
     "execution_count": 32,
     "metadata": {},
     "output_type": "execute_result"
    }
   ],
   "source": [
    "char_list2 = ['hello', 'hi', 'good-bye']\n",
    "zip(char_list, char_list2)"
   ]
  },
  {
   "cell_type": "code",
   "execution_count": 33,
   "id": "4129ebba-af82-4e80-aa13-a9aac0f19931",
   "metadata": {},
   "outputs": [
    {
     "name": "stdout",
     "output_type": "stream",
     "text": [
      "('a', 'hello')\n",
      "('b', 'hi')\n",
      "('c', 'good-bye')\n"
     ]
    }
   ],
   "source": [
    "for item in zip(char_list, char_list2):\n",
    "    print(item)"
   ]
  },
  {
   "cell_type": "code",
   "execution_count": 41,
   "id": "6a8b7651-ea14-44b4-9e91-d068ab0d3101",
   "metadata": {},
   "outputs": [
    {
     "name": "stdout",
     "output_type": "stream",
     "text": [
      "2 x 1 = 2\n",
      "2 x 2 = 4\n",
      "2 x 3 = 6\n",
      "2 x 4 = 8\n",
      "2 x 5 = 10\n",
      "2 x 6 = 12\n",
      "2 x 7 = 14\n",
      "2 x 8 = 16\n",
      "2 x 9 = 18\n",
      "----------\n",
      "3 x 1 = 3\n",
      "3 x 2 = 6\n",
      "3 x 3 = 9\n",
      "3 x 4 = 12\n",
      "3 x 5 = 15\n",
      "3 x 6 = 18\n",
      "3 x 7 = 21\n",
      "3 x 8 = 24\n",
      "3 x 9 = 27\n",
      "----------\n",
      "4 x 1 = 4\n",
      "4 x 2 = 8\n",
      "4 x 3 = 12\n",
      "4 x 4 = 16\n",
      "4 x 5 = 20\n",
      "4 x 6 = 24\n",
      "4 x 7 = 28\n",
      "4 x 8 = 32\n",
      "4 x 9 = 36\n",
      "----------\n",
      "5 x 1 = 5\n",
      "5 x 2 = 10\n",
      "5 x 3 = 15\n",
      "5 x 4 = 20\n",
      "5 x 5 = 25\n",
      "5 x 6 = 30\n",
      "5 x 7 = 35\n",
      "5 x 8 = 40\n",
      "5 x 9 = 45\n",
      "----------\n",
      "6 x 1 = 6\n",
      "6 x 2 = 12\n",
      "6 x 3 = 18\n",
      "6 x 4 = 24\n",
      "6 x 5 = 30\n",
      "6 x 6 = 36\n",
      "6 x 7 = 42\n",
      "6 x 8 = 48\n",
      "6 x 9 = 54\n",
      "----------\n",
      "7 x 1 = 7\n",
      "7 x 2 = 14\n",
      "7 x 3 = 21\n",
      "7 x 4 = 28\n",
      "7 x 5 = 35\n",
      "7 x 6 = 42\n",
      "7 x 7 = 49\n",
      "7 x 8 = 56\n",
      "7 x 9 = 63\n",
      "----------\n",
      "8 x 1 = 8\n",
      "8 x 2 = 16\n",
      "8 x 3 = 24\n",
      "8 x 4 = 32\n",
      "8 x 5 = 40\n",
      "8 x 6 = 48\n",
      "8 x 7 = 56\n",
      "8 x 8 = 64\n",
      "8 x 9 = 72\n",
      "----------\n",
      "9 x 1 = 9\n",
      "9 x 2 = 18\n",
      "9 x 3 = 27\n",
      "9 x 4 = 36\n",
      "9 x 5 = 45\n",
      "9 x 6 = 54\n",
      "9 x 7 = 63\n",
      "9 x 8 = 72\n",
      "9 x 9 = 81\n",
      "----------\n"
     ]
    }
   ],
   "source": [
    "# 구구단\n",
    "for dan in range(2, 10):\n",
    "    for i in range(1, 10):\n",
    "        print(f'{dan} x {i} = {dan*i}')\n",
    "    print('-'*10)"
   ]
  },
  {
   "cell_type": "code",
   "execution_count": 38,
   "id": "e10d4ee2-61c3-4938-a440-020785598446",
   "metadata": {},
   "outputs": [
    {
     "name": "stdout",
     "output_type": "stream",
     "text": [
      "영화 미션임파서블의 평점 : 😀😀😀😀\n",
      "영화 미치광이피에로의 평점 : 😀😀😀😀😀\n",
      "영화 씨너스의 평점 : 😀😀😀\n",
      "영화 울지않는아이의 평점 : 😀😀\n"
     ]
    }
   ],
   "source": [
    "movie_dict = {'미션임파서블':4, '미치광이피에로':5, '씨너스':3, '울지않는아이':2}\n",
    "for k, v in movie_dict.items():\n",
    "    print(f'영화 {k}의 평점 : {'😀'*v}')"
   ]
  },
  {
   "cell_type": "code",
   "execution_count": 59,
   "id": "a7bd4d6c-8923-43fb-878b-d529d6f9736e",
   "metadata": {},
   "outputs": [
    {
     "name": "stdout",
     "output_type": "stream",
     "text": [
      "💎\n",
      "💎💎\n",
      "💎💎💎\n",
      "💎💎💎💎\n",
      "💎💎💎💎💎\n"
     ]
    }
   ],
   "source": [
    "for i in range(1, 6):\n",
    "    for j in range(i):\n",
    "        print('💎', end='')\n",
    "    print()"
   ]
  },
  {
   "cell_type": "code",
   "execution_count": 56,
   "id": "0ea630f1-12da-4845-8a31-5fe361251427",
   "metadata": {},
   "outputs": [
    {
     "name": "stdout",
     "output_type": "stream",
     "text": [
      "      💎\n",
      "     💎💎\n",
      "    💎💎💎\n",
      "   💎💎💎💎\n",
      "  💎💎💎💎💎\n"
     ]
    }
   ],
   "source": [
    "for i in range(1, 6):\n",
    "    print(' ' * (6 - i), end=' ')\n",
    "    print('💎'* i)"
   ]
  },
  {
   "cell_type": "code",
   "execution_count": null,
   "id": "5c2401c7-99b6-4458-9e95-e8cd45b97905",
   "metadata": {},
   "outputs": [],
   "source": []
  }
 ],
 "metadata": {
  "kernelspec": {
   "display_name": "Python 3 (ipykernel)",
   "language": "python",
   "name": "python3"
  },
  "language_info": {
   "codemirror_mode": {
    "name": "ipython",
    "version": 3
   },
   "file_extension": ".py",
   "mimetype": "text/x-python",
   "name": "python",
   "nbconvert_exporter": "python",
   "pygments_lexer": "ipython3",
   "version": "3.12.9"
  }
 },
 "nbformat": 4,
 "nbformat_minor": 5
}
