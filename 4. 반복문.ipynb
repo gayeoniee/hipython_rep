{
 "cells": [
  {
   "cell_type": "markdown",
   "id": "e47325f6-a002-4b1c-b52c-f6d9ef88c9fa",
   "metadata": {},
   "source": [
    "# 반복문: for, while"
   ]
  },
  {
   "cell_type": "markdown",
   "id": "4dec4387-f1ee-4acd-aaf5-ed7b04355aed",
   "metadata": {},
   "source": [
    "# for문\n",
    "\n",
    "for 변수 in 반복자:\n",
    "\n",
    "반복자에는 리스트, 문자열, 튜플, 딕셔너리, 세트(집합)"
   ]
  },
  {
   "cell_type": "code",
   "execution_count": 2,
   "id": "7a37ee4d-a71c-4caf-babe-0bb286057316",
   "metadata": {},
   "outputs": [
    {
     "name": "stdout",
     "output_type": "stream",
     "text": [
      "0 1 2 3 4 "
     ]
    }
   ],
   "source": [
    "data = [0, 1, 2, 3, 4]\n",
    "\n",
    "for var in data:\n",
    "    print(var, end=' ')"
   ]
  },
  {
   "cell_type": "code",
   "execution_count": 3,
   "id": "6bd0e83c-ed23-496f-9c79-423411852187",
   "metadata": {},
   "outputs": [
    {
     "data": {
      "text/plain": [
       "range"
      ]
     },
     "execution_count": 3,
     "metadata": {},
     "output_type": "execute_result"
    }
   ],
   "source": [
    "type(range(1, 10))"
   ]
  },
  {
   "cell_type": "code",
   "execution_count": 4,
   "id": "4f1710bf-59e4-455f-9bef-e7ba606e217f",
   "metadata": {},
   "outputs": [
    {
     "name": "stdout",
     "output_type": "stream",
     "text": [
      "1 2 3 4 5 6 7 8 9 "
     ]
    }
   ],
   "source": [
    "for x in range(1, 10):\n",
    "    print(x, end=' ')"
   ]
  },
  {
   "cell_type": "code",
   "execution_count": 5,
   "id": "16a8b8d9-409d-47de-82d6-8d0936a9edfb",
   "metadata": {},
   "outputs": [
    {
     "name": "stdout",
     "output_type": "stream",
     "text": [
      "6\n",
      "name gayeon\n",
      "age 26\n",
      "h e l l o "
     ]
    }
   ],
   "source": [
    "# tuple, dictionary, str\n",
    "total = 0\n",
    "for i in (1, 2, 3):\n",
    "    total += i    \n",
    "print(total)\n",
    "\n",
    "for k, v in {'name':'gayeon', 'age':26}.items():\n",
    "    print(k, v)\n",
    "\n",
    "for s in 'hello':\n",
    "    print(s, end=' ')"
   ]
  },
  {
   "cell_type": "code",
   "execution_count": 6,
   "id": "5f4215cf-4a65-467c-978e-92a32a5b1ada",
   "metadata": {},
   "outputs": [
    {
     "data": {
      "text/plain": [
       "[1, 2, 3, 4, 5, 6, 7, 8, 9]"
      ]
     },
     "execution_count": 6,
     "metadata": {},
     "output_type": "execute_result"
    }
   ],
   "source": [
    "list(range(1, 10))"
   ]
  },
  {
   "cell_type": "markdown",
   "id": "b2973863-1c25-4357-a4df-da95ca37cb05",
   "metadata": {},
   "source": [
    "# range(1, 10, 2)\n",
    "start, stop, step = 1(default)"
   ]
  },
  {
   "cell_type": "code",
   "execution_count": 7,
   "id": "2113f287-fdb7-439d-9b5b-cd97f40d68f9",
   "metadata": {},
   "outputs": [
    {
     "data": {
      "text/plain": [
       "[0, 2, 4, 6, 8]"
      ]
     },
     "execution_count": 7,
     "metadata": {},
     "output_type": "execute_result"
    }
   ],
   "source": [
    "list(range(0, 10, 2))"
   ]
  },
  {
   "cell_type": "code",
   "execution_count": 8,
   "id": "3048186c-2891-446c-a5f1-e3fa2a5bad83",
   "metadata": {},
   "outputs": [
    {
     "name": "stdout",
     "output_type": "stream",
     "text": [
      "5050\n"
     ]
    }
   ],
   "source": [
    "# 1 ~ 100 합 구하기\n",
    "sum1 = 0\n",
    "for i in range(1, 101):\n",
    "    sum1 += i\n",
    "print(sum1)"
   ]
  },
  {
   "cell_type": "code",
   "execution_count": 9,
   "id": "b7543004-cb2e-48e7-a200-602e0a84e6ef",
   "metadata": {},
   "outputs": [
    {
     "name": "stdout",
     "output_type": "stream",
     "text": [
      "1683\n"
     ]
    }
   ],
   "source": [
    "# 3의 배수의 합 (1 ~ 100)\n",
    "sum2 = 0\n",
    "for i in range(3, 101, 3):\n",
    "    sum2 += i\n",
    "print(sum2)"
   ]
  },
  {
   "cell_type": "code",
   "execution_count": 10,
   "id": "e4378950-dc2a-4461-8577-4ad2de986d39",
   "metadata": {},
   "outputs": [
    {
     "name": "stdout",
     "output_type": "stream",
     "text": [
      "a\n",
      "b\n",
      "c\n"
     ]
    }
   ],
   "source": [
    "char_list = ['a', 'b', 'c']\n",
    "\n",
    "for x in char_list:\n",
    "    print(x)"
   ]
  },
  {
   "cell_type": "code",
   "execution_count": 11,
   "id": "4722055b-1b53-44e0-a48d-598152e81a78",
   "metadata": {},
   "outputs": [
    {
     "name": "stdout",
     "output_type": "stream",
     "text": [
      "0 a\n",
      "1 b\n",
      "2 c\n"
     ]
    }
   ],
   "source": [
    "for i, v in enumerate(char_list):\n",
    "    print(i, v)"
   ]
  },
  {
   "cell_type": "code",
   "execution_count": 44,
   "id": "f1a4b963-fa92-443b-9df5-e9dff18bb8da",
   "metadata": {},
   "outputs": [
    {
     "data": {
      "text/plain": [
       "<zip at 0x1f7c2d41a80>"
      ]
     },
     "execution_count": 44,
     "metadata": {},
     "output_type": "execute_result"
    }
   ],
   "source": [
    "char_list2 = ['hello', 'hi', 'good-bye']\n",
    "zip(char_list, char_list2)"
   ]
  },
  {
   "cell_type": "code",
   "execution_count": 13,
   "id": "4129ebba-af82-4e80-aa13-a9aac0f19931",
   "metadata": {},
   "outputs": [
    {
     "name": "stdout",
     "output_type": "stream",
     "text": [
      "('a', 'hello')\n",
      "('b', 'hi')\n",
      "('c', 'good-bye')\n"
     ]
    }
   ],
   "source": [
    "for item in zip(char_list, char_list2):\n",
    "    print(item)"
   ]
  },
  {
   "cell_type": "code",
   "execution_count": 14,
   "id": "6a8b7651-ea14-44b4-9e91-d068ab0d3101",
   "metadata": {},
   "outputs": [
    {
     "name": "stdout",
     "output_type": "stream",
     "text": [
      "2 x 1 = 2\n",
      "2 x 2 = 4\n",
      "2 x 3 = 6\n",
      "2 x 4 = 8\n",
      "2 x 5 = 10\n",
      "2 x 6 = 12\n",
      "2 x 7 = 14\n",
      "2 x 8 = 16\n",
      "2 x 9 = 18\n",
      "----------\n",
      "3 x 1 = 3\n",
      "3 x 2 = 6\n",
      "3 x 3 = 9\n",
      "3 x 4 = 12\n",
      "3 x 5 = 15\n",
      "3 x 6 = 18\n",
      "3 x 7 = 21\n",
      "3 x 8 = 24\n",
      "3 x 9 = 27\n",
      "----------\n",
      "4 x 1 = 4\n",
      "4 x 2 = 8\n",
      "4 x 3 = 12\n",
      "4 x 4 = 16\n",
      "4 x 5 = 20\n",
      "4 x 6 = 24\n",
      "4 x 7 = 28\n",
      "4 x 8 = 32\n",
      "4 x 9 = 36\n",
      "----------\n",
      "5 x 1 = 5\n",
      "5 x 2 = 10\n",
      "5 x 3 = 15\n",
      "5 x 4 = 20\n",
      "5 x 5 = 25\n",
      "5 x 6 = 30\n",
      "5 x 7 = 35\n",
      "5 x 8 = 40\n",
      "5 x 9 = 45\n",
      "----------\n",
      "6 x 1 = 6\n",
      "6 x 2 = 12\n",
      "6 x 3 = 18\n",
      "6 x 4 = 24\n",
      "6 x 5 = 30\n",
      "6 x 6 = 36\n",
      "6 x 7 = 42\n",
      "6 x 8 = 48\n",
      "6 x 9 = 54\n",
      "----------\n",
      "7 x 1 = 7\n",
      "7 x 2 = 14\n",
      "7 x 3 = 21\n",
      "7 x 4 = 28\n",
      "7 x 5 = 35\n",
      "7 x 6 = 42\n",
      "7 x 7 = 49\n",
      "7 x 8 = 56\n",
      "7 x 9 = 63\n",
      "----------\n",
      "8 x 1 = 8\n",
      "8 x 2 = 16\n",
      "8 x 3 = 24\n",
      "8 x 4 = 32\n",
      "8 x 5 = 40\n",
      "8 x 6 = 48\n",
      "8 x 7 = 56\n",
      "8 x 8 = 64\n",
      "8 x 9 = 72\n",
      "----------\n",
      "9 x 1 = 9\n",
      "9 x 2 = 18\n",
      "9 x 3 = 27\n",
      "9 x 4 = 36\n",
      "9 x 5 = 45\n",
      "9 x 6 = 54\n",
      "9 x 7 = 63\n",
      "9 x 8 = 72\n",
      "9 x 9 = 81\n",
      "----------\n"
     ]
    }
   ],
   "source": [
    "# 구구단\n",
    "for dan in range(2, 10):\n",
    "    for i in range(1, 10):\n",
    "        print(f'{dan} x {i} = {dan*i}')\n",
    "    print('-'*10)"
   ]
  },
  {
   "cell_type": "code",
   "execution_count": 15,
   "id": "e10d4ee2-61c3-4938-a440-020785598446",
   "metadata": {},
   "outputs": [
    {
     "name": "stdout",
     "output_type": "stream",
     "text": [
      "영화 미션임파서블의 평점 : 😀😀😀😀\n",
      "영화 미치광이피에로의 평점 : 😀😀😀😀😀\n",
      "영화 씨너스의 평점 : 😀😀😀\n",
      "영화 울지않는아이의 평점 : 😀😀\n"
     ]
    }
   ],
   "source": [
    "movie_dict = {'미션임파서블':4, '미치광이피에로':5, '씨너스':3, '울지않는아이':2}\n",
    "for k, v in movie_dict.items():\n",
    "    print(f'영화 {k}의 평점 : {'😀'*v}')"
   ]
  },
  {
   "cell_type": "code",
   "execution_count": 16,
   "id": "a7bd4d6c-8923-43fb-878b-d529d6f9736e",
   "metadata": {},
   "outputs": [
    {
     "name": "stdout",
     "output_type": "stream",
     "text": [
      "💎\n",
      "💎💎\n",
      "💎💎💎\n",
      "💎💎💎💎\n",
      "💎💎💎💎💎\n"
     ]
    }
   ],
   "source": [
    "for i in range(1, 6):\n",
    "    for j in range(i):\n",
    "        print('💎', end='')\n",
    "    print()"
   ]
  },
  {
   "cell_type": "code",
   "execution_count": 17,
   "id": "0ea630f1-12da-4845-8a31-5fe361251427",
   "metadata": {},
   "outputs": [
    {
     "name": "stdout",
     "output_type": "stream",
     "text": [
      "      💎\n",
      "     💎💎\n",
      "    💎💎💎\n",
      "   💎💎💎💎\n",
      "  💎💎💎💎💎\n"
     ]
    }
   ],
   "source": [
    "for i in range(1, 6):\n",
    "    print(' ' * (6 - i), end=' ')\n",
    "    print('💎'* i)"
   ]
  },
  {
   "cell_type": "markdown",
   "id": "3c3dbeb3-11b7-41e2-a3ad-9edeb296ae25",
   "metadata": {},
   "source": [
    "1. 변수 number가 주어졌을 때, 숫자가 양수인지 음수인지 또는 0인지 판별하고, 해당 결과를 출력하는 코드를 작성하세요."
   ]
  },
  {
   "cell_type": "code",
   "execution_count": 18,
   "id": "5c2401c7-99b6-4458-9e95-e8cd45b97905",
   "metadata": {},
   "outputs": [
    {
     "name": "stdout",
     "output_type": "stream",
     "text": [
      "양수\n"
     ]
    }
   ],
   "source": [
    "number = 9\n",
    "print('0') if number == 0 else print('양수') if number > 0 else ('음수')"
   ]
  },
  {
   "cell_type": "markdown",
   "id": "7161cbd8-5929-4df5-820f-98fb375e2a4e",
   "metadata": {},
   "source": [
    "2. 변수 number가 주어졌을 때, 숫자가 짝수인지 홀수인지 판별하고, 해당 결과를 출력하는 코드를 작성하세요."
   ]
  },
  {
   "cell_type": "code",
   "execution_count": 19,
   "id": "a0e9db58-3b92-4103-b5b6-e4e13256c5a6",
   "metadata": {},
   "outputs": [
    {
     "name": "stdout",
     "output_type": "stream",
     "text": [
      "홀수\n"
     ]
    }
   ],
   "source": [
    "number = 51\n",
    "print('짝수') if number % 2 == 0 else print('홀수')"
   ]
  },
  {
   "cell_type": "markdown",
   "id": "5b4df113-2562-42f7-8575-727af59d5754",
   "metadata": {},
   "source": [
    "3. 변수 score가 주어졌을 때, 다음 기준에 따라 학점을 출력하는 코드를 작성하세요.\n",
    "- 90점 이상: A\n",
    "- 80점 이상 90점 미만: B\n",
    "- 70점 이상 80점 미만: C\n",
    "- 70점 미만: F"
   ]
  },
  {
   "cell_type": "code",
   "execution_count": 20,
   "id": "231ffec5-9165-4439-8d72-05596037f82e",
   "metadata": {},
   "outputs": [
    {
     "name": "stdout",
     "output_type": "stream",
     "text": [
      "B\n"
     ]
    }
   ],
   "source": [
    "score = 88\n",
    "\n",
    "print('F') if score < 70 else \\\n",
    "print('C') if score < 80 else \\\n",
    "print('B') if score < 90 else print('A')"
   ]
  },
  {
   "cell_type": "markdown",
   "id": "a992ee7b-6eac-4e8e-884f-519ad2d7e459",
   "metadata": {},
   "source": [
    "4. 변수 price와 is_discount가 주어졌을 때, is_discount가 True이면 가격에 10% 할인을 적용하고, 그렇지 않으면 원래 가격을 출력하는 코드를 작성하세요."
   ]
  },
  {
   "cell_type": "code",
   "execution_count": 21,
   "id": "4b8b594d-7fdb-49fb-be82-b82f6cea67ca",
   "metadata": {},
   "outputs": [
    {
     "name": "stdout",
     "output_type": "stream",
     "text": [
      "90.0\n"
     ]
    }
   ],
   "source": [
    "price = 100\n",
    "is_discount = True\n",
    "\n",
    "print(price * 0.9) if is_discount else print(price)"
   ]
  },
  {
   "cell_type": "markdown",
   "id": "0ef85cde-bc37-4ce4-b657-38653f01497c",
   "metadata": {},
   "source": [
    "5. 반복문을 사용하여 1부터 10까지의 숫자를 출력하는 코드를 작성하세요."
   ]
  },
  {
   "cell_type": "code",
   "execution_count": 22,
   "id": "ad5f74bc-3781-4176-8ba4-1efcf630e8cf",
   "metadata": {},
   "outputs": [
    {
     "name": "stdout",
     "output_type": "stream",
     "text": [
      "1 2 3 4 5 6 7 8 9 10 "
     ]
    }
   ],
   "source": [
    "for i in range(1, 11):\n",
    "    print(i, end=' ')"
   ]
  },
  {
   "cell_type": "markdown",
   "id": "e8a38072-28db-4200-96ee-0ba0fcf59063",
   "metadata": {},
   "source": [
    "6. 위 반복문(1~10) 숫자 중, 짝수의 값만 출력하는 코드를 작성하세요."
   ]
  },
  {
   "cell_type": "code",
   "execution_count": 23,
   "id": "9cab2296-7d8a-42cb-b4bb-9ce03aa8c0c4",
   "metadata": {},
   "outputs": [
    {
     "name": "stdout",
     "output_type": "stream",
     "text": [
      "2 4 6 8 10 "
     ]
    }
   ],
   "source": [
    "for i in range(1, 11):\n",
    "    if i % 2 == 0:\n",
    "        print(i, end=' ')"
   ]
  },
  {
   "cell_type": "code",
   "execution_count": 24,
   "id": "20a077aa-3994-4d09-94bb-aec984f61bf8",
   "metadata": {},
   "outputs": [
    {
     "data": {
      "text/plain": [
       "[2, 4, 6, 8, 10]"
      ]
     },
     "execution_count": 24,
     "metadata": {},
     "output_type": "execute_result"
    }
   ],
   "source": [
    "[i for i in range(1, 11) if i % 2 == 0]"
   ]
  },
  {
   "cell_type": "markdown",
   "id": "301ccc20-2165-4706-9a15-03798177c40f",
   "metadata": {},
   "source": [
    "7. 리스트 items와 변수 target이 주어졌을 때, for 반복문을 사용하여 target이 리스트에 있는지 확인하고, 결과를 출력하는 코드를 작성하세요."
   ]
  },
  {
   "cell_type": "code",
   "execution_count": 25,
   "id": "e26b7b95-4ace-47bf-bacc-e0519d88080a",
   "metadata": {},
   "outputs": [
    {
     "name": "stdout",
     "output_type": "stream",
     "text": [
      "founded!!\n"
     ]
    }
   ],
   "source": [
    "items = [\"apple\", \"banana\", \"cherry\"]\n",
    "target = \"banana\"\n",
    "\n",
    "found = [item for item in items if target == item]\n",
    "print('founded!!') if found else print('not found')"
   ]
  },
  {
   "cell_type": "markdown",
   "id": "a72a7bd2-99fd-4f10-8c3b-70cf57ecdec9",
   "metadata": {},
   "source": [
    "8. for 반복문을 사용하여 구구단 2단의 결과물을 출력하는 코드를 작성하세요."
   ]
  },
  {
   "cell_type": "code",
   "execution_count": 26,
   "id": "5d51a3f0-49d9-4dc7-8e7b-472f3f74b0dd",
   "metadata": {},
   "outputs": [
    {
     "name": "stdout",
     "output_type": "stream",
     "text": [
      "2 x 1 = 2\n",
      "2 x 2 = 4\n",
      "2 x 3 = 6\n",
      "2 x 4 = 8\n",
      "2 x 5 = 10\n",
      "2 x 6 = 12\n",
      "2 x 7 = 14\n",
      "2 x 8 = 16\n",
      "2 x 9 = 18\n"
     ]
    }
   ],
   "source": [
    "for i in range(1, 10):\n",
    "    print(f'2 x {i} = {2*i}')"
   ]
  },
  {
   "cell_type": "markdown",
   "id": "d35820e1-95ce-4962-87b3-a1bef9e761b4",
   "metadata": {},
   "source": [
    "9. 나이에 따라 다음과 같은 입장료를 받고 있다고 할 때, 반복문을 이용하여 1세부터 13세까지의 전체 가격표를 만드는 코드를 작성하세요.\n",
    "- 3세 이하: 무료\n",
    "- 3세에서 5세: 5달러\n",
    "- 5세에서 9세: 10달러\n",
    "- 9세에서 12세: 12달러\n",
    "- 12세 이상: 사용할 수 없음 (프로그램 종료)"
   ]
  },
  {
   "cell_type": "code",
   "execution_count": 27,
   "id": "606d8c1b-3eef-4f70-ba36-6800e09d8958",
   "metadata": {},
   "outputs": [
    {
     "name": "stdout",
     "output_type": "stream",
     "text": [
      "1세: 무료\n",
      "2세: 무료\n",
      "3세: 무료\n",
      "4세: 5달러\n",
      "5세: 5달러\n",
      "6세: 10달러\n",
      "7세: 10달러\n",
      "8세: 10달러\n",
      "9세: 10달러\n",
      "10세: 12달러\n",
      "11세: 12달러\n",
      "12세: 12달러\n",
      "사용 불가\n"
     ]
    }
   ],
   "source": [
    "for age in range(1, 14):\n",
    "    if age <= 3:\n",
    "        print(f'{age}세: 무료')\n",
    "    elif age <= 5:\n",
    "        print(f'{age}세: 5달러')\n",
    "    elif age <= 9:\n",
    "        print(f'{age}세: 10달러')\n",
    "    elif age <= 12:\n",
    "        print(f'{age}세: 12달러')\n",
    "    else:\n",
    "        print('사용 불가')\n",
    "        break"
   ]
  },
  {
   "cell_type": "markdown",
   "id": "842df53f-bfe1-4e40-af84-35d82cb6e0b9",
   "metadata": {},
   "source": [
    "10. 다음 코드의 결과값은 무엇일까?\n",
    "\n",
    "a = \"Life is too short, you need python\"\n",
    "\n",
    "if \"wife\" in a:\n",
    "    print(\"wife\")\n",
    "\n",
    "elif \"python\" in a and \"you\" not in a:\n",
    "    print(\"python\")\n",
    "\n",
    "elif \"shirt\" not in a:\n",
    "    print(\"shirt\")\n",
    "\n",
    "elif \"need\" in a:\n",
    "    print(\"need\")\n",
    "\n",
    "else: print(\"none\")"
   ]
  },
  {
   "cell_type": "code",
   "execution_count": 28,
   "id": "c9995094-795f-4c5a-a7eb-6a922dc81b3e",
   "metadata": {},
   "outputs": [],
   "source": [
    "# shirt"
   ]
  },
  {
   "cell_type": "markdown",
   "id": "6c38c2bc-9e79-41c8-86f6-d9b895ad9228",
   "metadata": {},
   "source": [
    "11. 휴대폰 번호 앞자리에 따라 통신사는 아래와 같이 구분된다. 사용자로부터 휴대전화 번호를 입력 받고, 통신사를 출력하는 프로그램을 작성하라.\n",
    "\n",
    "번호 통신사   \n",
    "011 SKT   \n",
    "016 KT   \n",
    "019 LGU   \n",
    "010 알수없음\n",
    "\n",
    ">> 휴대전화 번호 입력: 011-345-1922   \n",
    "당신은 SKT 사용자입니다."
   ]
  },
  {
   "cell_type": "code",
   "execution_count": 29,
   "id": "22e19cbf-037e-44af-9946-eec5ec5c3331",
   "metadata": {},
   "outputs": [
    {
     "name": "stdin",
     "output_type": "stream",
     "text": [
      "휴대전화 번호 입력: 01927382738\n"
     ]
    },
    {
     "name": "stdout",
     "output_type": "stream",
     "text": [
      "당신은 LGU 사용자입니다.\n"
     ]
    }
   ],
   "source": [
    "phone = input('휴대전화 번호 입력:')\n",
    "\n",
    "# if '-' in phone:\n",
    "#     num = phone.split('-')[0]\n",
    "# else:\n",
    "#     num = phone[:3]\n",
    "\n",
    "num = phone.split('-')[0] if '-' in phone else phone[:3]\n",
    "\n",
    "phone_num = {\n",
    "    '011': 'SKT',\n",
    "    '016': 'KT',\n",
    "    '019': 'LGU',\n",
    "    '010': '알수없음'\n",
    "}\n",
    "\n",
    "com = phone_num.get(num, '못찾았음')\n",
    "print(f'당신은 {com} 사용자입니다.')"
   ]
  },
  {
   "cell_type": "markdown",
   "id": "4c0790ee-4ec8-4146-af56-3aef7b0413c0",
   "metadata": {},
   "source": [
    "11. 주민등록번호는 13자리로 구성되는데 마지막 자리수는 주민등록번호의 유효성을 체크하는데 사용된다.\n",
    "먼저 앞에서부터 12자리의 숫자에 2, 3, 4, 5, 6, 7, 8, 9, 2, 3, 4, 5를 차례로 곱한 뒤 그 값을 전부 더한다.   \n",
    "연산 결과 값을 11로 나누면 나머지가 나오는데 11에서 나머지를 뺀 값이 주민등록번호의 마지막 번호가 된다.\n",
    "  8 2 1 0 1 0 - 1 6 3 5 2 1 0   \n",
    " x 2 3 4 5 6 7   8 9 2 3 4 5 \n",
    " \n",
    "1차 계산: (8`*`2 + 2`*`3 + 1`*`4 + 0`*`5 + 1`*`6 + 0`*`7 + 1`*`8 + 6`*`9 + 3`*`2 + 5`*`3 + 2`*`4 + 1`*`5) = (128 % 11) = 7   \n",
    "2차 계산: 11 -7 = 4\n",
    "\n",
    ">> 주민등록번호: 821010-1635210   \n",
    "유효하지 않은 주민등록번호입니다. "
   ]
  },
  {
   "cell_type": "code",
   "execution_count": 30,
   "id": "8393056f-1967-42e4-83a0-0606f56041be",
   "metadata": {},
   "outputs": [
    {
     "name": "stdin",
     "output_type": "stream",
     "text": [
      "주민등록번호: 821010-1635210\n"
     ]
    },
    {
     "name": "stdout",
     "output_type": "stream",
     "text": [
      "유효하지 않은 주민등록번호입니다.\n"
     ]
    }
   ],
   "source": [
    "id = input('주민등록번호:')\n",
    "\n",
    "if '-' not in id:\n",
    "    print('\"-\"이 없습니다')\n",
    "elif len(id.replace('-', '')) != 13:\n",
    "    print('13자리가 아닙니다')\n",
    "else:   \n",
    "    id = id.replace('-', '')\n",
    "    li = [2, 3, 4, 5, 6, 7, 8, 9, 2, 3, 4, 5]\n",
    "    count1 = 0\n",
    "    \n",
    "    for i, j in zip(li, id[:12]):\n",
    "        count1 += i * int(j)\n",
    "    \n",
    "    count2 = (11 - (count1 % 11)) % 10\n",
    "    print('유효하지 않은 주민등록번호입니다.') if count2 != int(id[-1]) else print('유효한 주민등록번호입니다.')"
   ]
  },
  {
   "cell_type": "code",
   "execution_count": 32,
   "id": "9df84e4e-e5e3-4d3a-b759-2bf703e23771",
   "metadata": {},
   "outputs": [
    {
     "name": "stdin",
     "output_type": "stream",
     "text": [
      "주민번호 입력(숫자만) 8210101635218\n"
     ]
    },
    {
     "name": "stdout",
     "output_type": "stream",
     "text": [
      "reject\n"
     ]
    }
   ],
   "source": [
    "jumin_no = ''\n",
    "while True:\n",
    "    jumin_no = input('주민번호 입력(숫자만)')\n",
    "\n",
    "    if len(jumin_no) != 13 or not jumin_no.isdigit():\n",
    "        print('잘못된 입력입니다. 다시 입력해주세요')\n",
    "    else:\n",
    "        break\n",
    "        \n",
    "weights = list(range(2, 10)) + list(range(2, 6))\n",
    "total = 0\n",
    "\n",
    "# for i in range(12):\n",
    "#     total += int(jumin_no[i]) * weights[i]\n",
    "total = sum(int(jumin_no[i]) * weights[i] for i in range(12))\n",
    "\n",
    "remain = (11 - (total % 11)) % 10\n",
    "\n",
    "print('ok') if int(jumin_no[-1]) == remain else  print('reject')"
   ]
  },
  {
   "cell_type": "markdown",
   "id": "678a9838-430e-4563-8d63-9057ef0fb23d",
   "metadata": {},
   "source": [
    "12. 아래 코드는 비트코인의 가격 정보를 딕셔너리로 가져오는 코드이다.\n",
    "   \n",
    "import requests   \n",
    "btc = requests.get(\"https://api.bithumb.com/public/ticker/\").json()['data']   \n",
    "   \n",
    "btc 딕셔너리 안에는 시가, 종가, 최고가, 최저가 등이 저장되어 있다.   \n",
    "최고가와 최저가의 차이를 변동폭으로 정의할 때 (시가 + 변동폭)이 최고가 보다 높을 경우 \"상승장\",\n",
    "그렇지 않은 경우 \"하락장\" 문자열을 출력하라.   \n",
    "   \n",
    "Key Name\tDescription   \n",
    "opening_price\t최근 24시간 내 시작 거래금액   \n",
    "closing_price\t최근 24시간 내 마지막 거래금액   \n",
    "min_price\t최근 24시간 내 최저 거래금액   \n",
    "max_price\t최근 24시간 내 최고 거래금액"
   ]
  },
  {
   "cell_type": "code",
   "execution_count": 33,
   "id": "f92bdec8-b605-4091-9d3a-3dbaa88c3756",
   "metadata": {},
   "outputs": [
    {
     "data": {
      "text/plain": [
       "{'opening_price': '148687000',\n",
       " 'closing_price': '146821000',\n",
       " 'min_price': '146801000',\n",
       " 'max_price': '148900000',\n",
       " 'units_traded': '174.07099475',\n",
       " 'acc_trade_value': '25695301817.77843',\n",
       " 'prev_closing_price': '148698000',\n",
       " 'units_traded_24H': '313.30486107',\n",
       " 'acc_trade_value_24H': '46229312765.5962',\n",
       " 'fluctate_24H': '-510000',\n",
       " 'fluctate_rate_24H': '-0.35',\n",
       " 'date': '1749014647867'}"
      ]
     },
     "execution_count": 33,
     "metadata": {},
     "output_type": "execute_result"
    }
   ],
   "source": [
    "import requests\n",
    "btc = requests.get(\"https://api.bithumb.com/public/ticker/\").json()['data']\n",
    "btc"
   ]
  },
  {
   "cell_type": "code",
   "execution_count": 34,
   "id": "0969c452-68ae-4c3c-a84d-078373d027c8",
   "metadata": {},
   "outputs": [
    {
     "name": "stdout",
     "output_type": "stream",
     "text": [
      "상승장\n"
     ]
    }
   ],
   "source": [
    "opening_price = float(btc['opening_price'])\n",
    "max_price = float(btc['max_price'])\n",
    "min_price = float(btc['min_price'])\n",
    "\n",
    "price_gap = max_price - min_price\n",
    "result = '상승장' if opening_price + price_gap > max_price else '하락장'\n",
    "print(result)"
   ]
  },
  {
   "cell_type": "markdown",
   "id": "2fece87a-5cc7-4641-9331-294223b05e43",
   "metadata": {},
   "source": [
    "14. 리스트에는 3일 간의 ohlc 데이터가 저장돼 있다. 시가에 매수해서 종가에 매도 했을 경우 총 수익금을 계산하라.,\n",
    "\n",
    "ohlc = [[\"open\", \"high\", \"low\", \"close\"],   \n",
    "        [100, 110, 70, 100],   \n",
    "        [200, 210, 180, 190],   \n",
    "        [300, 310, 300, 310]]   \n",
    "   \n",
    "\n",
    "\n",
    "1일차 수익 0원 (100 - 100), 2일차 수익 -10원 (190 - 200), 3일차 수익 10원 (310 - 300) 이다.   \n",
    "\n",
    "\n",
    "0"
   ]
  },
  {
   "cell_type": "code",
   "execution_count": 35,
   "id": "b5ce2cad-8b21-4eb0-8921-c94096846f57",
   "metadata": {},
   "outputs": [
    {
     "name": "stdout",
     "output_type": "stream",
     "text": [
      "0\n"
     ]
    }
   ],
   "source": [
    "ohlc = [\n",
    "    [\"open\", \"high\", \"low\", \"close\"],\n",
    "    [100, 110, 70, 100],\n",
    "    [200, 210, 180, 190],\n",
    "    [300, 310, 300, 310]\n",
    "]\n",
    "\n",
    "total = 0\n",
    "for day in ohlc[1:]:\n",
    "    total += day[-1] - day[0]\n",
    "\n",
    "print(total)"
   ]
  },
  {
   "cell_type": "code",
   "execution_count": 36,
   "id": "9bb752e7-42c9-4347-a4b4-dc9bac963ae1",
   "metadata": {},
   "outputs": [
    {
     "name": "stdin",
     "output_type": "stream",
     "text": [
      "종료하려면 exit 입력:  exit\n"
     ]
    },
    {
     "name": "stdout",
     "output_type": "stream",
     "text": [
      "프로그램 종료!\n"
     ]
    }
   ],
   "source": [
    "# 예제 1: 종료 조건이 있는 무한 루프\n",
    "while True:\n",
    "    user_input = input(\"종료하려면 exit 입력: \")\n",
    "    if user_input == \"exit\":\n",
    "        print(\"프로그램 종료!\")\n",
    "        break"
   ]
  },
  {
   "cell_type": "markdown",
   "id": "facdae55-dde0-4ad0-b2db-f4491f50c1f8",
   "metadata": {},
   "source": [
    "# while 문"
   ]
  },
  {
   "cell_type": "code",
   "execution_count": 37,
   "id": "af048106-8d25-4537-9dbf-81aaf8088ef2",
   "metadata": {},
   "outputs": [
    {
     "data": {
      "text/plain": [
       "15"
      ]
     },
     "execution_count": 37,
     "metadata": {},
     "output_type": "execute_result"
    }
   ],
   "source": [
    "total = 0\n",
    "for i in range(6):\n",
    "    total += i\n",
    "total"
   ]
  },
  {
   "cell_type": "code",
   "execution_count": 38,
   "id": "e6c1dbed-bc00-45df-b177-b4225c3bdf66",
   "metadata": {},
   "outputs": [
    {
     "data": {
      "text/plain": [
       "15"
      ]
     },
     "execution_count": 38,
     "metadata": {},
     "output_type": "execute_result"
    }
   ],
   "source": [
    "i = 0\n",
    "total = 0\n",
    "while True:\n",
    "    if i >= 6:\n",
    "        break\n",
    "\n",
    "    total += i\n",
    "    i += 1\n",
    "total"
   ]
  },
  {
   "cell_type": "code",
   "execution_count": 39,
   "id": "8a900d2b-1936-4b12-854d-637ffc350913",
   "metadata": {},
   "outputs": [
    {
     "data": {
      "text/plain": [
       "15"
      ]
     },
     "execution_count": 39,
     "metadata": {},
     "output_type": "execute_result"
    }
   ],
   "source": [
    "i = 0\n",
    "total = 0\n",
    "\n",
    "while i < 6:\n",
    "    total += i\n",
    "    i += 1\n",
    "total"
   ]
  },
  {
   "cell_type": "code",
   "execution_count": 40,
   "id": "f4a69837-24c9-4492-ad73-3594f6c33c49",
   "metadata": {},
   "outputs": [
    {
     "data": {
      "text/plain": [
       "15"
      ]
     },
     "execution_count": 40,
     "metadata": {},
     "output_type": "execute_result"
    }
   ],
   "source": [
    "sum(range(1, 6))"
   ]
  },
  {
   "cell_type": "markdown",
   "id": "5f4c1997-4cc2-48e1-9862-eecf7d190212",
   "metadata": {},
   "source": [
    "# 리스트 컴프리헨션\n",
    "`[리스트요소 for <1개> in <반복범위>]`"
   ]
  },
  {
   "cell_type": "code",
   "execution_count": 41,
   "id": "ee9ca340-57c4-4c49-ad47-323d5070326f",
   "metadata": {},
   "outputs": [
    {
     "data": {
      "text/plain": [
       "[2, 4, 6, 8, 10]"
      ]
     },
     "execution_count": 41,
     "metadata": {},
     "output_type": "execute_result"
    }
   ],
   "source": [
    "numbers = [1, 2, 3, 4, 5]\n",
    "squares = [num * 2 for num in numbers]\n",
    "squares"
   ]
  },
  {
   "cell_type": "code",
   "execution_count": 46,
   "id": "dc652c84-8ab8-494c-ba30-9ea9e7b30edb",
   "metadata": {},
   "outputs": [
    {
     "data": {
      "text/plain": [
       "[0, 2, 4, 6, 8, 5, 6, 7, 8, 9]"
      ]
     },
     "execution_count": 46,
     "metadata": {},
     "output_type": "execute_result"
    }
   ],
   "source": [
    "## 조건식 + for가 결합된 리스트 컴프리헨션\n",
    "test_list = []\n",
    "\n",
    "for x in range(10):\n",
    "    if x < 5:\n",
    "        test_list.append(x*2)\n",
    "    else:\n",
    "        test_list.append(x)\n",
    "\n",
    "test_list"
   ]
  },
  {
   "cell_type": "code",
   "execution_count": 45,
   "id": "61b738e1-7c99-4620-9820-ac6a307a4c80",
   "metadata": {},
   "outputs": [
    {
     "data": {
      "text/plain": [
       "[0, 2, 4, 6, 8, 5, 6, 7, 8, 9]"
      ]
     },
     "execution_count": 45,
     "metadata": {},
     "output_type": "execute_result"
    }
   ],
   "source": [
    "[x*2 if x < 5 else x for x in range(10)]"
   ]
  },
  {
   "cell_type": "code",
   "execution_count": 47,
   "id": "21624f10-ab4e-43d7-b5c2-ab4841857559",
   "metadata": {},
   "outputs": [
    {
     "data": {
      "text/plain": [
       "[0, 1, 2, 3, 4]"
      ]
     },
     "execution_count": 47,
     "metadata": {},
     "output_type": "execute_result"
    }
   ],
   "source": [
    "[x for x in range(10) if x < 5]"
   ]
  },
  {
   "cell_type": "code",
   "execution_count": 64,
   "id": "0f848b93-5256-4d44-8c71-f4ab5c2d1fe4",
   "metadata": {},
   "outputs": [
    {
     "name": "stdout",
     "output_type": "stream",
     "text": [
      "🎉 당첨 번호 있음! (23)\n"
     ]
    }
   ],
   "source": [
    "# 리스트 컴프리헨션을 이용한 변환, 필터\n",
    "#로또 번호 당첨 여부 확인\n",
    "my_numbers = [3, 11, 17, 23, 38, 42]\n",
    "win_numbers = [7, 14, 23, 32, 38, 45]\n",
    "\n",
    "for num in my_numbers:\n",
    "    if num in win_numbers:\n",
    "        print(f\"🎉 당첨 번호 있음! ({num})\")\n",
    "        break\n",
    "else:\n",
    "    print(\"😢 꽝입니다.\")"
   ]
  },
  {
   "cell_type": "code",
   "execution_count": 69,
   "id": "0a15b557-e4c2-4f6c-ae5f-6ca4280cb9b4",
   "metadata": {},
   "outputs": [
    {
     "name": "stdout",
     "output_type": "stream",
     "text": [
      "[23, 38]\n",
      "당첨\n"
     ]
    }
   ],
   "source": [
    "matched = [num for num in my_numbers if num in win_numbers]\n",
    "if matched:\n",
    "    print(matched)\n",
    "else:\n",
    "    print(\"😢 꽝입니다.\")\n",
    "\n",
    "print(f'당첨') if matched else print(f'꽝')"
   ]
  },
  {
   "cell_type": "markdown",
   "id": "8411bfe3-660e-4626-ba02-31b9031f0e06",
   "metadata": {},
   "source": [
    "# Iterator, Generator"
   ]
  },
  {
   "cell_type": "markdown",
   "id": "799af29c-c7e8-4881-8ca3-767f90fabe94",
   "metadata": {},
   "source": [
    "- Iterable: for의 in 뒤에 나올 수 있는 객체의 유형\n",
    "- Iterator: iter(), enumerate() -> for문에서 next() 직접 호출\n",
    "- Generator: 사용자 정의 함수 중 yield를 사용한 패턴 - 일시 정지 -> 메모리 효율이 높음"
   ]
  },
  {
   "cell_type": "code",
   "execution_count": 2,
   "id": "c5dea842-60d0-4d1a-9f27-1a9b0d340387",
   "metadata": {},
   "outputs": [
    {
     "data": {
      "text/plain": [
       "True"
      ]
     },
     "execution_count": 2,
     "metadata": {},
     "output_type": "execute_result"
    }
   ],
   "source": [
    "from collections.abc import Iterable\n",
    "isinstance('hello', Iterable)"
   ]
  },
  {
   "cell_type": "code",
   "execution_count": 4,
   "id": "fcdf3bce-8e69-461d-bb7d-aebd808bfa4a",
   "metadata": {
    "scrolled": true
   },
   "outputs": [],
   "source": [
    "itr_test_str = 'hello'\n",
    "# dir(itr_test_str)"
   ]
  },
  {
   "cell_type": "code",
   "execution_count": 43,
   "id": "64689463-bc38-48da-8968-706dd463b8f5",
   "metadata": {
    "scrolled": true
   },
   "outputs": [
    {
     "data": {
      "text/plain": [
       "['__class__',\n",
       " '__delattr__',\n",
       " '__dir__',\n",
       " '__doc__',\n",
       " '__eq__',\n",
       " '__format__',\n",
       " '__ge__',\n",
       " '__getattribute__',\n",
       " '__getstate__',\n",
       " '__gt__',\n",
       " '__hash__',\n",
       " '__init__',\n",
       " '__init_subclass__',\n",
       " '__iter__',\n",
       " '__le__',\n",
       " '__length_hint__',\n",
       " '__lt__',\n",
       " '__ne__',\n",
       " '__new__',\n",
       " '__next__',\n",
       " '__reduce__',\n",
       " '__reduce_ex__',\n",
       " '__repr__',\n",
       " '__setattr__',\n",
       " '__setstate__',\n",
       " '__sizeof__',\n",
       " '__str__',\n",
       " '__subclasshook__']"
      ]
     },
     "execution_count": 43,
     "metadata": {},
     "output_type": "execute_result"
    }
   ],
   "source": [
    "itr_obj = iter(itr_test_str)\n",
    "dir(itr_obj)"
   ]
  },
  {
   "cell_type": "code",
   "execution_count": 44,
   "id": "7513f67a-6da8-43ab-ac3b-2db44b3895df",
   "metadata": {},
   "outputs": [
    {
     "data": {
      "text/plain": [
       "'h'"
      ]
     },
     "execution_count": 44,
     "metadata": {},
     "output_type": "execute_result"
    }
   ],
   "source": [
    "# 끝까지 다 돌면 StopIteration \n",
    "itr_obj.__next__()"
   ]
  },
  {
   "cell_type": "code",
   "execution_count": 14,
   "id": "8d931840-198c-44e6-a785-9e5bcbf965d7",
   "metadata": {
    "scrolled": true
   },
   "outputs": [],
   "source": [
    "itr_test_lst = [10, 20, 30]\n",
    "# dir(itr_test_lst)"
   ]
  },
  {
   "cell_type": "code",
   "execution_count": 46,
   "id": "bab4efde-10ff-44e1-ba69-5f1e809c1da0",
   "metadata": {},
   "outputs": [
    {
     "data": {
      "text/plain": [
       "list_iterator"
      ]
     },
     "execution_count": 46,
     "metadata": {},
     "output_type": "execute_result"
    }
   ],
   "source": [
    "itr_obj_1 = iter(itr_test_lst)\n",
    "type(itr_obj_1)"
   ]
  },
  {
   "cell_type": "code",
   "execution_count": 47,
   "id": "f7487ee7-735c-4fe0-b334-11cc35a107f2",
   "metadata": {},
   "outputs": [
    {
     "data": {
      "text/plain": [
       "10"
      ]
     },
     "execution_count": 47,
     "metadata": {},
     "output_type": "execute_result"
    }
   ],
   "source": [
    "# 끝까지 다 돌면 StopIteration \n",
    "itr_obj_1.__next__()"
   ]
  },
  {
   "cell_type": "code",
   "execution_count": 48,
   "id": "01e0b0ec-1303-4788-b662-192516627528",
   "metadata": {},
   "outputs": [
    {
     "data": {
      "text/plain": [
       "20"
      ]
     },
     "execution_count": 48,
     "metadata": {},
     "output_type": "execute_result"
    }
   ],
   "source": [
    "# 끝까지 다 돌면 StopIteration \n",
    "next(itr_obj_1)  # function"
   ]
  },
  {
   "cell_type": "code",
   "execution_count": 25,
   "id": "4586ee5c-b806-49d0-a03a-391c88fc2663",
   "metadata": {},
   "outputs": [
    {
     "name": "stdout",
     "output_type": "stream",
     "text": [
      "10\n",
      "20\n",
      "30\n"
     ]
    }
   ],
   "source": [
    "itr_obj_1 = iter(itr_test_lst)\n",
    "for i in itr_obj_1:\n",
    "    print(i)"
   ]
  },
  {
   "cell_type": "code",
   "execution_count": 26,
   "id": "a8812048-b08f-4a61-818e-2bbef9ab0c16",
   "metadata": {},
   "outputs": [
    {
     "name": "stdout",
     "output_type": "stream",
     "text": [
      "0 10\n",
      "1 20\n",
      "2 30\n"
     ]
    }
   ],
   "source": [
    "for i, item in enumerate(itr_test_lst):\n",
    "    print(i, item)"
   ]
  },
  {
   "cell_type": "code",
   "execution_count": 27,
   "id": "8c0b1f95-6b50-4ea0-aa6b-485aea398ea5",
   "metadata": {},
   "outputs": [
    {
     "name": "stdout",
     "output_type": "stream",
     "text": [
      "(0, 'h')\n",
      "(1, 'e')\n",
      "(2, 'l')\n",
      "(3, 'l')\n",
      "(4, 'o')\n"
     ]
    }
   ],
   "source": [
    "msg = 'hello'\n",
    "for i in enumerate(msg):\n",
    "    print(i)"
   ]
  },
  {
   "cell_type": "code",
   "execution_count": 28,
   "id": "d2320dff-ea9d-45fc-b99a-1743ea10cc66",
   "metadata": {},
   "outputs": [
    {
     "data": {
      "text/plain": [
       "<generator object gen_자판기 at 0x000002C4FACE6B90>"
      ]
     },
     "execution_count": 28,
     "metadata": {},
     "output_type": "execute_result"
    }
   ],
   "source": [
    "def gen_자판기():\n",
    "    yield '바나나1'\n",
    "    yield '바나나2'\n",
    "    yield '바나나3'\n",
    "\n",
    "gen_자판기()"
   ]
  },
  {
   "cell_type": "code",
   "execution_count": 29,
   "id": "0d9797e7-ec5d-491c-92b1-a314fc4d1a75",
   "metadata": {},
   "outputs": [
    {
     "data": {
      "text/plain": [
       "'바나나1'"
      ]
     },
     "execution_count": 29,
     "metadata": {},
     "output_type": "execute_result"
    }
   ],
   "source": [
    "gen = gen_자판기()\n",
    "next(gen)"
   ]
  },
  {
   "cell_type": "code",
   "execution_count": 30,
   "id": "9849d5cb-39c5-4765-bf87-6e6f98fde6ec",
   "metadata": {},
   "outputs": [
    {
     "data": {
      "text/plain": [
       "'바나나2'"
      ]
     },
     "execution_count": 30,
     "metadata": {},
     "output_type": "execute_result"
    }
   ],
   "source": [
    "next(gen)"
   ]
  },
  {
   "cell_type": "code",
   "execution_count": 31,
   "id": "93bf8452-eda9-4a03-9875-d1fb4f36c0ee",
   "metadata": {},
   "outputs": [
    {
     "data": {
      "text/plain": [
       "'바나나3'"
      ]
     },
     "execution_count": 31,
     "metadata": {},
     "output_type": "execute_result"
    }
   ],
   "source": [
    "next(gen)"
   ]
  },
  {
   "cell_type": "code",
   "execution_count": 34,
   "id": "247a747a-bd46-4152-9c68-aafbcb4e73b2",
   "metadata": {},
   "outputs": [],
   "source": [
    "def 제곱머신():\n",
    "    for x in range(10):\n",
    "        yield x ** 2\n",
    "\n",
    "g_m = 제곱머신()"
   ]
  },
  {
   "cell_type": "code",
   "execution_count": 39,
   "id": "3d9afcd7-5cfa-40e2-9a19-b3c7374937c3",
   "metadata": {},
   "outputs": [
    {
     "data": {
      "text/plain": [
       "16"
      ]
     },
     "execution_count": 39,
     "metadata": {},
     "output_type": "execute_result"
    }
   ],
   "source": [
    "next(g_m)"
   ]
  },
  {
   "cell_type": "code",
   "execution_count": 40,
   "id": "4a30a0e7-ce9a-4e23-ac42-46f4e426dac3",
   "metadata": {},
   "outputs": [
    {
     "name": "stdout",
     "output_type": "stream",
     "text": [
      "25\n",
      "36\n",
      "49\n",
      "64\n",
      "81\n"
     ]
    }
   ],
   "source": [
    "for n in g_m:\n",
    "    print(n)"
   ]
  },
  {
   "cell_type": "code",
   "execution_count": 50,
   "id": "598b32e4-3234-4484-87b6-891af5241c1e",
   "metadata": {},
   "outputs": [
    {
     "name": "stdout",
     "output_type": "stream",
     "text": [
      "0\n",
      "1\n",
      "2\n",
      "3\n",
      "4\n"
     ]
    }
   ],
   "source": [
    "# 1. 기본 이터레이터 구현\n",
    "\n",
    "class NumberIterator:\n",
    "    def __init__(self, limit):\n",
    "        self.limit = limit\n",
    "        self.current = 0\n",
    "    \n",
    "    def __iter__(self):\n",
    "        return self\n",
    "    \n",
    "    def __next__(self):\n",
    "        if self.current < self.limit:\n",
    "            result = self.current\n",
    "            self.current += 1\n",
    "            return result\n",
    "        else:\n",
    "            raise StopIteration\n",
    "\n",
    "# 사용 예시\n",
    "numbers = NumberIterator(5)\n",
    "for num in numbers:\n",
    "    print(num)  # 0, 1, 2, 3, 4 출력"
   ]
  },
  {
   "cell_type": "code",
   "execution_count": 54,
   "id": "a64ac047-e16b-4c7b-8904-4f70439b2096",
   "metadata": {},
   "outputs": [
    {
     "name": "stdout",
     "output_type": "stream",
     "text": [
      "0\n",
      "1\n",
      "1\n",
      "2\n",
      "3\n"
     ]
    }
   ],
   "source": [
    "# 2. 제너레이터 함수 예시\n",
    "def fibonacci_generator(n):\n",
    "    a, b = 0, 1\n",
    "    for _ in range(n):\n",
    "        yield a\n",
    "        a, b = b, a + b\n",
    "\n",
    "# 사용 예시\n",
    "fib = fibonacci_generator(5)\n",
    "for num in fib:\n",
    "    print(num)  # 0, 1, 1, 2, 3 출력"
   ]
  },
  {
   "cell_type": "code",
   "execution_count": 66,
   "id": "7f70a902-035d-4b97-baba-766a7e3ccf9c",
   "metadata": {},
   "outputs": [
    {
     "name": "stdout",
     "output_type": "stream",
     "text": [
      "0\n",
      "1\n",
      "4\n",
      "9\n",
      "16\n",
      "25\n",
      "36\n",
      "49\n",
      "64\n",
      "81\n",
      "100\n"
     ]
    }
   ],
   "source": [
    "# 3. 제너레이터 표현식 예시\n",
    "# 리스트 컴프리헨션\n",
    "squares_list = [x**2 for x in range(1000000)]  # 메모리를 많이 사용\n",
    "\n",
    "# 제너레이터 표현식\n",
    "squares_gen = (x**2 for x in range(1000000))  # 메모리 효율적\n",
    "\n",
    "# 사용 예시\n",
    "for square in squares_gen:\n",
    "    if square > 100:\n",
    "        break\n",
    "    print(square)"
   ]
  },
  {
   "cell_type": "markdown",
   "id": "af4ef7da-d41d-4135-a3dc-8cac18d44f28",
   "metadata": {},
   "source": [
    "# 리스트 컴프리헨션 연습"
   ]
  },
  {
   "cell_type": "code",
   "execution_count": 57,
   "id": "208688b1-9a25-4111-bdfa-22d18b228c27",
   "metadata": {},
   "outputs": [
    {
     "name": "stdout",
     "output_type": "stream",
     "text": [
      "[3, 6, 9, 12, 15, 18]\n"
     ]
    }
   ],
   "source": [
    "# 1부터 20까지의 숫자 중 3의 배수만 포함하는 리스트 만들기\n",
    "li_1 = [i for i in range(1, 21) if i % 3 == 0]\n",
    "print(li_1)"
   ]
  },
  {
   "cell_type": "code",
   "execution_count": 62,
   "id": "9d94f029-f5a5-4614-8360-a557faeaeb70",
   "metadata": {},
   "outputs": [
    {
     "name": "stdout",
     "output_type": "stream",
     "text": [
      "['CAT', 'DOG', 'ELEPHANT', 'RAT', 'GIRAFFE']\n"
     ]
    }
   ],
   "source": [
    "# 문자열 리스트에서 길이가 3 이상인 단어만 대문자로 변환하기\n",
    "words = ['cat', 'dog', 'elephant', 'rat', 'giraffe']\n",
    "over_words = [w.upper() if len(w) >= 3 else x for w in words]\n",
    "print(over_words)"
   ]
  },
  {
   "cell_type": "code",
   "execution_count": 64,
   "id": "a8b965d7-0add-41d1-9240-959eb1b1f48f",
   "metadata": {},
   "outputs": [
    {
     "name": "stdout",
     "output_type": "stream",
     "text": [
      "[(1, 5), (2, 4), (2, 6), (3, 5)]\n"
     ]
    }
   ],
   "source": [
    "# 두 리스트의 모든 조합에서 합이 짝수인 쌍만 선택하기\n",
    "list1 = [1, 2, 3]\n",
    "list2 = [4, 5, 6]\n",
    "sums = [(x, y) for x in list1 for y in list2 if (x+y) % 2 == 0]\n",
    "print(sums)"
   ]
  }
 ],
 "metadata": {
  "kernelspec": {
   "display_name": "Python 3 (ipykernel)",
   "language": "python",
   "name": "python3"
  },
  "language_info": {
   "codemirror_mode": {
    "name": "ipython",
    "version": 3
   },
   "file_extension": ".py",
   "mimetype": "text/x-python",
   "name": "python",
   "nbconvert_exporter": "python",
   "pygments_lexer": "ipython3",
   "version": "3.12.9"
  }
 },
 "nbformat": 4,
 "nbformat_minor": 5
}
