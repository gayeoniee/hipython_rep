{
 "cells": [
  {
   "cell_type": "markdown",
   "id": "6f1850b2-54dc-4a2b-a13c-2f60c53ae036",
   "metadata": {},
   "source": [
    "# 조건문: \n",
    "비교연산자를 이용한 부울값이 출력되어야 한다.   \n",
    ": 이후 영역표시는 들여쓰기로 맞추어야 한다."
   ]
  },
  {
   "cell_type": "code",
   "execution_count": 4,
   "id": "7607850b-c472-4020-b37c-3b728a8b0ea9",
   "metadata": {},
   "outputs": [
    {
     "name": "stdout",
     "output_type": "stream",
     "text": [
      "pass\n"
     ]
    }
   ],
   "source": [
    "kor_score = 95\n",
    "\n",
    "# 단독 if\n",
    "if kor_score > 90:   # True일 때만 실행하는 구조!\n",
    "    print('pass')"
   ]
  },
  {
   "cell_type": "code",
   "execution_count": 5,
   "id": "a5a87acc-74ee-4fbc-8638-d9ed78ab2cf5",
   "metadata": {},
   "outputs": [
    {
     "name": "stdout",
     "output_type": "stream",
     "text": [
      "pass\n"
     ]
    }
   ],
   "source": [
    "# 한줄 작성\n",
    "if kor_score > 90: print('pass')"
   ]
  },
  {
   "cell_type": "code",
   "execution_count": 6,
   "id": "646e8fa4-0494-4027-a7f3-e3dd6ec0e0be",
   "metadata": {},
   "outputs": [
    {
     "name": "stdout",
     "output_type": "stream",
     "text": [
      "pass\n"
     ]
    }
   ],
   "source": [
    "if kor_score > 90:\n",
    "    print('pass')\n",
    "else:\n",
    "    print('fail')"
   ]
  },
  {
   "cell_type": "code",
   "execution_count": 8,
   "id": "a08f5d55-163c-475c-bd3b-88e2b1e16ac7",
   "metadata": {},
   "outputs": [
    {
     "name": "stdout",
     "output_type": "stream",
     "text": [
      "pass\n"
     ]
    }
   ],
   "source": [
    "# 한줄로 작성\n",
    "# 'true일때 실행문' if 조건식 else 'false일때 실행문'\n",
    "# 비교연산자와 논리연산자 -> 조건식\n",
    "print('pass') if kor_score > 90 else print('fail')"
   ]
  },
  {
   "cell_type": "code",
   "execution_count": 13,
   "id": "824fcf7d-9282-4652-958d-96ef813175a1",
   "metadata": {},
   "outputs": [
    {
     "name": "stdin",
     "output_type": "stream",
     "text": [
      "점수를 입력하세요: 100\n"
     ]
    },
    {
     "name": "stdout",
     "output_type": "stream",
     "text": [
      "수\n"
     ]
    }
   ],
   "source": [
    "# 수우미양가\n",
    "score = int(input('점수를 입력하세요:'))\n",
    "\n",
    "# 중첩 if문 (nested if)\n",
    "if score >= 90:\n",
    "    print('수')\n",
    "else:\n",
    "    if score >= 80:\n",
    "        print('우')\n",
    "    else:\n",
    "        if score >= 70:\n",
    "            print('미')\n",
    "        else:\n",
    "            if score >= 60:\n",
    "                print('양')\n",
    "            else:\n",
    "                print('가')\n",
    "        "
   ]
  },
  {
   "cell_type": "code",
   "execution_count": 11,
   "id": "4c7982b9-9309-4b10-8aaf-d956a1094d8b",
   "metadata": {},
   "outputs": [
    {
     "name": "stdin",
     "output_type": "stream",
     "text": [
      "점수를 입력하세요: 100\n"
     ]
    },
    {
     "name": "stdout",
     "output_type": "stream",
     "text": [
      "수\n",
      "우\n",
      "미\n"
     ]
    }
   ],
   "source": [
    "score = int(input('점수를 입력하세요:'))\n",
    "\n",
    "if score >= 90:\n",
    "    print('수')\n",
    "if score >= 80:\n",
    "    print('우')\n",
    "if score >= 70:\n",
    "    print('미')\n"
   ]
  },
  {
   "cell_type": "code",
   "execution_count": 16,
   "id": "67990306-022f-46e7-811d-f0345fd05043",
   "metadata": {},
   "outputs": [
    {
     "name": "stdin",
     "output_type": "stream",
     "text": [
      "점수를 입력하세요: 88\n"
     ]
    },
    {
     "name": "stdout",
     "output_type": "stream",
     "text": [
      "우\n"
     ]
    }
   ],
   "source": [
    "score = int(input('점수를 입력하세요:'))\n",
    "\n",
    "if score >= 90:\n",
    "    print('수')\n",
    "elif score >= 80:\n",
    "    print('우')\n",
    "elif score >= 70:\n",
    "    print('미')\n",
    "elif score >= 60:\n",
    "    print('양')\n",
    "else:\n",
    "    print('가')"
   ]
  },
  {
   "cell_type": "code",
   "execution_count": 38,
   "id": "bb856579-49e8-4702-99e4-811e72f5754c",
   "metadata": {},
   "outputs": [
    {
     "name": "stdin",
     "output_type": "stream",
     "text": [
      "수식을 입력하세요(예: 20 * 40): 43 * 7\n"
     ]
    },
    {
     "name": "stdout",
     "output_type": "stream",
     "text": [
      "43.0 * 7.0 = 301.0\n"
     ]
    }
   ],
   "source": [
    "formula = input('수식을 입력하세요(예: 20 * 40):')\n",
    "num1, opr, num2 = formula.split()\n",
    "\n",
    "num1 = float(num1)\n",
    "num2 = float(num2)\n",
    "\n",
    "if opr == '+':\n",
    "    result = num1 + num2\n",
    "elif opr == '-':\n",
    "    result = num1 - num2\n",
    "elif opr == '*':\n",
    "    result = num1 * num2\n",
    "elif opr == '/':\n",
    "    result = num1 / num2\n",
    "elif opr == '**':\n",
    "    result = num1 ** num2\n",
    "else:\n",
    "    print('지원하지 않는 연산입니다.')\n",
    "    result = None\n",
    "\n",
    "if result != None:\n",
    "    print(f'{num1} {opr} {num2} = {result}')"
   ]
  },
  {
   "cell_type": "code",
   "execution_count": 41,
   "id": "98895a72-b214-4edf-884d-72a2e5c2bc8e",
   "metadata": {},
   "outputs": [
    {
     "name": "stdin",
     "output_type": "stream",
     "text": [
      "수식을 입력하세요(예: 20 * 40): 2 ** 4\n"
     ]
    },
    {
     "name": "stdout",
     "output_type": "stream",
     "text": [
      "2.0 ** 4.0 = 16.0\n"
     ]
    }
   ],
   "source": [
    "formula = input('수식을 입력하세요(예: 20 * 40):')\n",
    "num1, opr, num2 = formula.split()\n",
    "\n",
    "num1 = float(num1)\n",
    "num2 = float(num2)\n",
    "\n",
    "opr_list = ['+', '-', '*', '/', '**']\n",
    "\n",
    "if opr not in opr_list:\n",
    "    print('지원하지 않는 연산입니다.')\n",
    "else:\n",
    "    if opr == '+':\n",
    "        result = num1 + num2\n",
    "    elif opr == '-':\n",
    "        result = num1 - num2\n",
    "    elif opr == '*':\n",
    "        result = num1 * num2\n",
    "    elif opr == '/':\n",
    "        result = num1 / num2\n",
    "    else:\n",
    "        result = num1 ** num2\n",
    "\n",
    "    print(f'{num1} {opr} {num2} = {result}')"
   ]
  },
  {
   "cell_type": "markdown",
   "id": "0fbf3363-48d1-425d-b1cd-4de913a7a90b",
   "metadata": {},
   "source": [
    "# 1줄로 쓰기"
   ]
  },
  {
   "cell_type": "code",
   "execution_count": 42,
   "id": "286a7dbd-993e-4ca1-8db1-d53f21a6be0b",
   "metadata": {},
   "outputs": [
    {
     "name": "stdout",
     "output_type": "stream",
     "text": [
      "홀수\n"
     ]
    }
   ],
   "source": [
    "num = 7\n",
    "# if num % 2 == 0: print('짝수') else print('홀수')\n",
    "print('짝수' if num % 2 == 0 else '홀수')"
   ]
  },
  {
   "cell_type": "code",
   "execution_count": 51,
   "id": "e15ae5cd-df0e-4cad-9400-e595b3fdf722",
   "metadata": {},
   "outputs": [
    {
     "name": "stdout",
     "output_type": "stream",
     "text": [
      "파이팅\n"
     ]
    }
   ],
   "source": [
    "# 졸려 = True -> 쉽시다\n",
    "# 아니면 -> 파이팅\n",
    "졸려 = False\n",
    "print('쉽시다' if 졸려 else '파이팅')"
   ]
  },
  {
   "cell_type": "code",
   "execution_count": 55,
   "id": "2937acc6-35ab-4d30-9fd8-6c30100406e4",
   "metadata": {},
   "outputs": [
    {
     "data": {
      "text/plain": [
       "'패'"
      ]
     },
     "execution_count": 55,
     "metadata": {},
     "output_type": "execute_result"
    }
   ],
   "source": [
    "player = '가위'\n",
    "computer = '바위'\n",
    "# result = '승' '패' '무'\n",
    "result = '승' if player == '가위' and computer == '보' else \\\n",
    "         '무' if player == computer else '패'\n",
    "result"
   ]
  },
  {
   "cell_type": "code",
   "execution_count": 61,
   "id": "65137e30-a05f-4fea-af62-c0e9a794d802",
   "metadata": {},
   "outputs": [
    {
     "name": "stdin",
     "output_type": "stream",
     "text": [
      "점수: 88\n"
     ]
    },
    {
     "data": {
      "text/plain": [
       "'B'"
      ]
     },
     "execution_count": 61,
     "metadata": {},
     "output_type": "execute_result"
    }
   ],
   "source": [
    "# 학점 A, B, C, D 출력하는 1줄 조건식\n",
    "score = int(input('점수:'))\n",
    "grade = 'A' if score >= 90 else \\\n",
    "        'B' if score >= 80 else \\\n",
    "        'C' if score >= 70 else 'D'\n",
    "grade"
   ]
  },
  {
   "cell_type": "markdown",
   "id": "05d21357-f593-402e-80ea-66afb461c916",
   "metadata": {},
   "source": [
    "# break, continue, pass"
   ]
  },
  {
   "cell_type": "code",
   "execution_count": 69,
   "id": "a9cc5c60-b537-4868-a479-d5a3b73773a1",
   "metadata": {},
   "outputs": [
    {
     "name": "stdout",
     "output_type": "stream",
     "text": [
      "현재 검사 중인 숫자: 1\n",
      "3를 찾았습니다!\n"
     ]
    }
   ],
   "source": [
    "numbers = [1, 3, 5, 7, 9, 11, 13, 15]\n",
    "search_number = 3\n",
    "\n",
    "for num in numbers:\n",
    "    if num == search_number:\n",
    "        print(f\"{search_number}를 찾았습니다!\")\n",
    "        break\n",
    "    print(f\"현재 검사 중인 숫자: {num}\")"
   ]
  },
  {
   "cell_type": "code",
   "execution_count": 67,
   "id": "baf2e717-6d13-43e6-b0af-308769381f6f",
   "metadata": {},
   "outputs": [
    {
     "name": "stdout",
     "output_type": "stream",
     "text": [
      "2 4 6 8 10 "
     ]
    }
   ],
   "source": [
    "for i in range(1, 11):\n",
    "    if i % 2 != 0:  # 홀수인 경우\n",
    "        continue\n",
    "    print(i, end=' ')  # 짝수만 출력"
   ]
  },
  {
   "cell_type": "code",
   "execution_count": 72,
   "id": "3cce5ae9-e6cc-4dad-af69-28726ebdf0cc",
   "metadata": {},
   "outputs": [],
   "source": [
    "condition = True\n",
    "\n",
    "if condition:\n",
    "    pass  # 나중에 구현할 예정\n",
    "else:\n",
    "    print(\"else 구문 실행\")"
   ]
  }
 ],
 "metadata": {
  "kernelspec": {
   "display_name": "Python 3 (ipykernel)",
   "language": "python",
   "name": "python3"
  },
  "language_info": {
   "codemirror_mode": {
    "name": "ipython",
    "version": 3
   },
   "file_extension": ".py",
   "mimetype": "text/x-python",
   "name": "python",
   "nbconvert_exporter": "python",
   "pygments_lexer": "ipython3",
   "version": "3.12.9"
  }
 },
 "nbformat": 4,
 "nbformat_minor": 5
}
