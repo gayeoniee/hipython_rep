{
 "cells": [
  {
   "cell_type": "markdown",
   "id": "d3176b0a-abdc-4f29-8c47-6829f55b9658",
   "metadata": {},
   "source": [
    "# 파이썬으로 객체지향 프로그래밍 (OOP)\n",
    "Object Oriented Programming\n",
    "\n",
    "파이썬으로 만드는 응용프로그램\n",
    "- 변수: 전역, 지역\n",
    "- 함수: 기능을 구현하는 도구\n",
    "- 모듈: 함수의 모음, 변수의 모음 -> .py 파일\n",
    "- CRUD 의 구현: Create, Read, Update, Delete\n",
    "\n",
    "클래스: 변수 + 함수 하나로 묶어 주는 구조의 개념   \n",
    "객체: 클래스를 이용해서 다수의 객체를 생성   \n",
    "객체지향 프로그램: 객체를 이용하는 프로그램   "
   ]
  },
  {
   "cell_type": "markdown",
   "id": "7b734739-404a-4f43-8365-4ebeda001f97",
   "metadata": {},
   "source": [
    "## 객체지향 프로그램을 만드는 법\n",
    "\n",
    "1. 클래스 만들기\n",
    "2. 클래스를 이용해 객체 생성\n",
    "3. 객체의 함수(메서드)를 호출"
   ]
  },
  {
   "cell_type": "code",
   "execution_count": 9,
   "id": "44fda1ad-b2a6-4383-a354-8d205869961d",
   "metadata": {},
   "outputs": [],
   "source": [
    "# 클래스 생성\n",
    "class Bicycle():\n",
    "    # 속성 추가 (생성자)\n",
    "    def __init__(self, color, wheelsize=20):\n",
    "        self.color = color\n",
    "        self.wheelsize = wheelsize\n",
    "\n",
    "    # 오버로딩\n",
    "    # def __init__(self, color):\n",
    "    #     self.color = color\n",
    "        \n",
    "    def move(self):\n",
    "        print(f'{self.color} {self.wheelsize} 자전거가 움직입니다')"
   ]
  },
  {
   "cell_type": "code",
   "execution_count": 10,
   "id": "e806a3c7-f669-43de-bb50-d695e381edc8",
   "metadata": {},
   "outputs": [],
   "source": [
    "# 객체 생성\n",
    "bi = Bicycle('파랑')\n",
    "bi1 = Bicycle('노랑', 10)\n",
    "bi2 = Bicycle('초록', 30)"
   ]
  },
  {
   "cell_type": "code",
   "execution_count": 12,
   "id": "1c8bcbc3-f153-49a5-8071-a101b177dcd3",
   "metadata": {},
   "outputs": [
    {
     "name": "stdout",
     "output_type": "stream",
     "text": [
      "파랑 20 자전거가 움직입니다\n",
      "노랑 10 자전거가 움직입니다\n",
      "초록 30 자전거가 움직입니다\n"
     ]
    }
   ],
   "source": [
    "# 객체의 메서드 호출  자전거=객체, 자전거 하나하나=인스턴스\n",
    "bi.move()\n",
    "bi1.move()\n",
    "bi2.move()"
   ]
  },
  {
   "cell_type": "code",
   "execution_count": 36,
   "id": "148c4c59-0222-4810-b442-99b506efdfba",
   "metadata": {},
   "outputs": [
    {
     "data": {
      "text/plain": [
       "(__main__.Bicycle, __main__.Bicycle, __main__.Bicycle)"
      ]
     },
     "execution_count": 36,
     "metadata": {},
     "output_type": "execute_result"
    }
   ],
   "source": [
    "type(bi), type(bi1), type(bi2)"
   ]
  },
  {
   "cell_type": "code",
   "execution_count": 37,
   "id": "dec99497-84b9-46aa-821a-f8af3864e947",
   "metadata": {
    "collapsed": true,
    "jupyter": {
     "outputs_hidden": true
    },
    "scrolled": true
   },
   "outputs": [
    {
     "data": {
      "text/plain": [
       "['__class__',\n",
       " '__delattr__',\n",
       " '__dict__',\n",
       " '__dir__',\n",
       " '__doc__',\n",
       " '__eq__',\n",
       " '__format__',\n",
       " '__ge__',\n",
       " '__getattribute__',\n",
       " '__getstate__',\n",
       " '__gt__',\n",
       " '__hash__',\n",
       " '__init__',\n",
       " '__init_subclass__',\n",
       " '__le__',\n",
       " '__lt__',\n",
       " '__module__',\n",
       " '__ne__',\n",
       " '__new__',\n",
       " '__reduce__',\n",
       " '__reduce_ex__',\n",
       " '__repr__',\n",
       " '__setattr__',\n",
       " '__sizeof__',\n",
       " '__str__',\n",
       " '__subclasshook__',\n",
       " '__weakref__',\n",
       " 'color',\n",
       " 'move',\n",
       " 'wheelsize']"
      ]
     },
     "execution_count": 37,
     "metadata": {},
     "output_type": "execute_result"
    }
   ],
   "source": [
    "dir(bi)"
   ]
  },
  {
   "cell_type": "code",
   "execution_count": 59,
   "id": "ca1ab046-6665-4fd8-9c50-c1316823f795",
   "metadata": {},
   "outputs": [],
   "source": [
    "class Student():\n",
    "    school = \"파이썬 스쿨\"  # 클래스 변수\n",
    "    \n",
    "    def __init__(self, name, age='secret'):\n",
    "        self.name = name\n",
    "        self.age = age\n",
    "\n",
    "    def introduce(self):\n",
    "        print(f'안녕하세요 {self.name}입니다. 나이는 {self.age}입니다 ')"
   ]
  },
  {
   "cell_type": "code",
   "execution_count": 60,
   "id": "8c64bba1-6edb-4527-8a6d-8f8dcf49d85f",
   "metadata": {},
   "outputs": [],
   "source": [
    "stud1 = Student('kevin', 20)\n",
    "stud2 = Student('gayeon', 26)\n",
    "stud3 = Student('nick')"
   ]
  },
  {
   "cell_type": "code",
   "execution_count": 61,
   "id": "c4f64f4e-03fc-4627-85c6-046e5e126178",
   "metadata": {},
   "outputs": [
    {
     "name": "stdout",
     "output_type": "stream",
     "text": [
      "안녕하세요 kevin입니다. 나이는 20입니다 \n",
      "안녕하세요 gayeon입니다. 나이는 26입니다 \n",
      "안녕하세요 nick입니다. 나이는 secret입니다 \n"
     ]
    }
   ],
   "source": [
    "stud1.introduce()\n",
    "stud2.introduce()\n",
    "stud3.introduce()"
   ]
  },
  {
   "cell_type": "code",
   "execution_count": 65,
   "id": "67c8be61-20af-4309-b364-d8d3c80c36cd",
   "metadata": {},
   "outputs": [
    {
     "name": "stdout",
     "output_type": "stream",
     "text": [
      "kevin\n",
      "nick\n",
      "파이썬 스쿨\n"
     ]
    }
   ],
   "source": [
    "print(stud1.name)  # kevin (인스턴스 변수)\n",
    "print(stud3.name)  # nick (인스턴스 변수)\n",
    "print(Student.school)  # 파이썬 스쿨 (클래스 변수)"
   ]
  },
  {
   "cell_type": "markdown",
   "id": "c84d050b-cd47-4b4b-b8d0-27d225350b5c",
   "metadata": {},
   "source": [
    "# 클래스의 속성 - 변수\n",
    "\n",
    "1. 인스턴스 변수\n",
    "2. 클래스 변수"
   ]
  },
  {
   "cell_type": "code",
   "execution_count": 15,
   "id": "9985a4ec-e452-4dff-9456-2e0d4250003b",
   "metadata": {},
   "outputs": [],
   "source": [
    "class Car():\n",
    "    # 클래스 변수  -  인스턴스들을 공통적으로 관리하고 싶을때 (공통 속성)\n",
    "    instance_cnt = 0\n",
    "\n",
    "    def __init__(self, size):\n",
    "        self.size = size\n",
    "        Car.instance_cnt += 1\n",
    "        print(f'자동차가 {Car.instance_cnt}대 생성되었습니다.')\n",
    "\n",
    "    def move(self):\n",
    "        print(f'{self.size}의 자동차가 움직입니다.')"
   ]
  },
  {
   "cell_type": "code",
   "execution_count": 54,
   "id": "dca19c58-d0fd-4262-8776-8dad208ecd23",
   "metadata": {},
   "outputs": [
    {
     "name": "stdout",
     "output_type": "stream",
     "text": [
      "자동차가 1대 생성되었습니다.\n",
      "자동차가 2대 생성되었습니다.\n",
      "자동차가 3대 생성되었습니다.\n"
     ]
    }
   ],
   "source": [
    "car1 = Car('소형')\n",
    "car2 = Car('중형')\n",
    "car3 = Car('대형')"
   ]
  },
  {
   "cell_type": "code",
   "execution_count": 56,
   "id": "c02ef956-d4d0-44f8-8354-3da19d00f203",
   "metadata": {},
   "outputs": [
    {
     "name": "stdout",
     "output_type": "stream",
     "text": [
      "소형의 자동차가 움직입니다.\n",
      "중형의 자동차가 움직입니다.\n",
      "대형의 자동차가 움직입니다.\n"
     ]
    }
   ],
   "source": [
    "car1.move()\n",
    "car2.move()\n",
    "car3.move()"
   ]
  },
  {
   "cell_type": "markdown",
   "id": "0eb1cdba-d215-4b03-ac10-fbd27d02f64c",
   "metadata": {},
   "source": [
    "# 클래스의 기능 - 메서드"
   ]
  },
  {
   "cell_type": "markdown",
   "id": "dceede7c-fab6-4ef1-8f73-b8e7be1e1944",
   "metadata": {},
   "source": [
    "## method 의 종류\n",
    "1. 인스턴스 메서드: self\n",
    "2. 스태틱(정적) 메서드: @staticmethod\n",
    "3. 클래스 메서드: @classmethod  - 클래스 변수들을 다루는 메서드, self 없음"
   ]
  },
  {
   "cell_type": "code",
   "execution_count": 66,
   "id": "da840d85-3059-4ff5-b7aa-20a7f0c6416f",
   "metadata": {},
   "outputs": [],
   "source": [
    "class Calculator:\n",
    "    def __init__(self, x, y):  # instance method\n",
    "        self.x = x\n",
    "        self.y = y\n",
    "\n",
    "    def add(self):             # instance method\n",
    "        return self.x + self.y\n",
    "\n",
    "    def multiply(self):        # instance method\n",
    "        return self.x * self.y"
   ]
  },
  {
   "cell_type": "code",
   "execution_count": 75,
   "id": "8137d96c-95b7-481b-99c4-d829ca5882d4",
   "metadata": {},
   "outputs": [
    {
     "data": {
      "text/plain": [
       "10"
      ]
     },
     "execution_count": 75,
     "metadata": {},
     "output_type": "execute_result"
    }
   ],
   "source": [
    "calc1 = Calculator(3, 7)    # __init__() 생성자 함수를 자동으로 호출\n",
    "calc1.add()  # instance method의 호출 -> 객체의참조.메서드()"
   ]
  },
  {
   "cell_type": "code",
   "execution_count": 76,
   "id": "2da8922b-f641-41f2-b9b2-67cc30951941",
   "metadata": {},
   "outputs": [
    {
     "data": {
      "text/plain": [
       "21"
      ]
     },
     "execution_count": 76,
     "metadata": {},
     "output_type": "execute_result"
    }
   ],
   "source": [
    "calc1.multiply()"
   ]
  },
  {
   "cell_type": "code",
   "execution_count": 16,
   "id": "7154fb96-8e3f-4deb-bb9b-7b521e8e13a8",
   "metadata": {},
   "outputs": [],
   "source": [
    "class Car():\n",
    "    instance_count = 0 # 클래스 속성\n",
    "\n",
    "    def __init__(self, size):\n",
    "        self.size = size\n",
    "        Car.instance_count += 1\n",
    "        print(f'자동차가 {Car.instance_count}대 생성되었습니다.')\n",
    "    \n",
    "    def auto_cruise(self):  # instance\n",
    "        print('자율주행중')\n",
    "\n",
    "    @staticmethod\n",
    "    def check_type(code):       # static method\n",
    "        if code > 20:\n",
    "            print('전기자동차')\n",
    "        elif 10 < code < 20:\n",
    "            print('가솔린자동차')\n",
    "        else:\n",
    "            print('디젤차')\n",
    "            \n",
    "    @classmethod\n",
    "    def count_instance(cls):      # class method - 공통 기능\n",
    "        print(f'자동차 대수: {cls.instance_count}')"
   ]
  },
  {
   "cell_type": "code",
   "execution_count": 104,
   "id": "0ca30210-2ec0-44e2-93a4-8a8b370d75c0",
   "metadata": {},
   "outputs": [
    {
     "name": "stdout",
     "output_type": "stream",
     "text": [
      "자동차가 1대 생성되었습니다.\n",
      "전기자동차\n"
     ]
    }
   ],
   "source": [
    "c1 = Car('소형')\n",
    "Car.check_type(25)"
   ]
  },
  {
   "cell_type": "code",
   "execution_count": 105,
   "id": "d9348c52-4cd2-4893-8469-8e5ca564ddd5",
   "metadata": {},
   "outputs": [
    {
     "name": "stdout",
     "output_type": "stream",
     "text": [
      "자동차 대수: 1\n"
     ]
    }
   ],
   "source": [
    "Car.count_instance()"
   ]
  },
  {
   "cell_type": "markdown",
   "id": "082a1d78-a59c-4a2c-b4f0-1cb563fea9ae",
   "metadata": {},
   "source": [
    "# 성적 클래스"
   ]
  },
  {
   "cell_type": "code",
   "execution_count": 4,
   "id": "277ddfd2-39a6-41ea-af09-266d88da37dd",
   "metadata": {},
   "outputs": [],
   "source": [
    "import random"
   ]
  },
  {
   "cell_type": "code",
   "execution_count": 5,
   "id": "dd5f895d-4ed3-4835-867a-d8d7492b1d88",
   "metadata": {},
   "outputs": [],
   "source": [
    "class Student():\n",
    "    '''\n",
    "        학생 개인의 성적을 관리하는 클래스\n",
    "    '''\n",
    "    def __init__(self, num, name, kor, eng, math):\n",
    "        self.num = num\n",
    "        self.name = name\n",
    "        self.kor = kor\n",
    "        self.eng = eng\n",
    "        self.math = math\n",
    "        self.total = 0\n",
    "        self.avg = 0\n",
    "        self.order = 0\n",
    "\n",
    "    # 학생 객체의 정보 출력  instance method\n",
    "    def s_info(self):\n",
    "        print(f'{self.num}, {self.name}, {self.kor}, {self.eng}, {self.math}, {self.total}, {self.avg}, {self.order}')\n",
    "\n",
    "    # 학생 객체의 총점\n",
    "    def calc_total(self):\n",
    "        self.total = self.kor + self.eng + self.math\n",
    "        self.avg = self.total / 3\n",
    "\n",
    "    # 학생 객체의 등수 계산\n",
    "    def set_order(self, order):\n",
    "        self.order = order\n",
    "\n",
    "    # Object 상속받은 메서드 재정의: overriding\n",
    "    def __str__(self):\n",
    "        return f'{self.num}. {self.name} : {self.order}등'\n",
    "\n",
    "    # 학생 성적표\n",
    "    def print_score(self):\n",
    "        print(f'이름: {self.name}, 번호: {self.num}')\n",
    "        print(f'국어: {self.kor}, 영어: {self.eng}, 수학: {self.math}, 석차: {self.order}')\n",
    "\n",
    "    # instance method + 1"
   ]
  },
  {
   "cell_type": "code",
   "execution_count": 18,
   "id": "21d5c93f-c581-422b-b9b3-ab4acf1d83cb",
   "metadata": {},
   "outputs": [],
   "source": [
    "class Classroom():\n",
    "    #클래스 이름\n",
    "    def __init__(self, student_list):\n",
    "        self.students = self.gen_student_data(student_list)\n",
    "        self.name = ''\n",
    "\n",
    "    def set_name(self, class_name):\n",
    "        self.name = class_name\n",
    "        \n",
    "    #클래스의 학생 목록의 생성하는 인스턴스 메소드\n",
    "    def gen_student_data(self, stu_list):\n",
    "        students = []\n",
    "        for i, s_name in enumerate(stu_list, start=1):\n",
    "            #print(i,s_name)\n",
    "            s = Student(i,s_name, \n",
    "                        random.randint(50,100),\n",
    "                        random.randint(50,100),\n",
    "                        random.randint(50,100)\n",
    "                               )\n",
    "\n",
    "            s.calc_total()\n",
    "            #s.s_info()\n",
    "            \n",
    "            students.append(s)\n",
    "        \n",
    "        return students\n",
    "    \n",
    "    #학급의 학생 순위를 계산해서 학생 객체에 설정\n",
    "    def calc_order(self):\n",
    "        for s in self.students:\n",
    "            rank = 1\n",
    "            for other in self.students:\n",
    "                if other.total > s.total:\n",
    "                    rank += 1\n",
    "            s.set_order(rank)\n",
    "            s.s_info()\n",
    "            \n",
    "    def print_student_score(self):\n",
    "        for student in self.students:\n",
    "            print(student)\n",
    "\n",
    "    # 학급정보 리턴함수 __str__\n",
    "    def __str__(self):\n",
    "        return f'학급명 : {self.name}'\n",
    "\n",
    "    # 학급 성적표\n",
    "    # 국어평균, 영어평균, 수학평균, 전체평균, 학생수\n",
    "    def print_class_score(self):\n",
    "        s_count = len(self.students)\n",
    "        kor_avg = sum(s.kor for s in self.students) / s_count\n",
    "        eng_avg = sum(s.eng for s in self.students) / s_count\n",
    "        math_avg = sum(s.math for s in self.students) / s_count\n",
    "        total_avg = sum(s.total for s in self.students) / s_count / 3\n",
    "        \n",
    "        print(f'우리 학급은 {self.name} 입니다.')\n",
    "        print(f'국어평균: {kor_avg}, 영어평균: {eng_avg}, 수학평균: {math_avg}, 전체평균: {total_avg}')\n",
    "        print(f'우리 학급은 총 {s_count}명입니다.\\n')\n",
    "\n",
    "    def print_ordered_class_member(self):\n",
    "        s_students = sorted(self.students, key=lambda s:s.order)\n",
    "        for s in s_students:\n",
    "            s.print_score()\n",
    "    # instance method + 1"
   ]
  },
  {
   "cell_type": "code",
   "execution_count": 7,
   "id": "2f937444-92ab-447d-a88d-ab477c665d29",
   "metadata": {},
   "outputs": [
    {
     "name": "stdout",
     "output_type": "stream",
     "text": [
      "1, 홍포도, 54, 91, 65, 210, 70.0, 3\n",
      "2, 박참외, 55, 56, 53, 164, 54.666666666666664, 4\n",
      "3, 김바나, 77, 80, 64, 221, 73.66666666666667, 2\n",
      "4, 한낑깡, 86, 86, 93, 265, 88.33333333333333, 1\n",
      "1. 홍포도 : 3등\n",
      "2. 박참외 : 4등\n",
      "3. 김바나 : 2등\n",
      "4. 한낑깡 : 1등\n",
      "1, 김사과, 83, 55, 69, 207, 69.0, 3\n",
      "2, 박메론, 57, 62, 53, 172, 57.333333333333336, 5\n",
      "3, 이수박, 83, 77, 94, 254, 84.66666666666667, 1\n",
      "4, 최모과, 86, 59, 54, 199, 66.33333333333333, 4\n",
      "5, 이딸기, 98, 59, 70, 227, 75.66666666666667, 2\n",
      "1. 김사과 : 3등\n",
      "2. 박메론 : 5등\n",
      "3. 이수박 : 1등\n",
      "4. 최모과 : 4등\n",
      "5. 이딸기 : 2등\n",
      "****************************************\n",
      "우리 학급은 WN7 입니다.\n",
      "국어평균: 68.0, 영어평균: 78.25, 수학평균: 68.75, 전체평균: 71.66666666666667\n",
      "우리 학급은 총 4명입니다.\n",
      "\n",
      "이름: 한낑깡, 번호: 4\n",
      "국어: 86, 영어: 86, 수학: 93, 석차: 1\n",
      "이름: 김바나, 번호: 3\n",
      "국어: 77, 영어: 80, 수학: 64, 석차: 2\n",
      "이름: 홍포도, 번호: 1\n",
      "국어: 54, 영어: 91, 수학: 65, 석차: 3\n",
      "이름: 박참외, 번호: 2\n",
      "국어: 55, 영어: 56, 수학: 53, 석차: 4\n",
      "****************************************\n",
      "우리 학급은 software camp 입니다.\n",
      "국어평균: 81.4, 영어평균: 62.4, 수학평균: 68.0, 전체평균: 70.60000000000001\n",
      "우리 학급은 총 5명입니다.\n",
      "\n",
      "이름: 이수박, 번호: 3\n",
      "국어: 83, 영어: 77, 수학: 94, 석차: 1\n",
      "이름: 이딸기, 번호: 5\n",
      "국어: 98, 영어: 59, 수학: 70, 석차: 2\n",
      "이름: 김사과, 번호: 1\n",
      "국어: 83, 영어: 55, 수학: 69, 석차: 3\n",
      "이름: 최모과, 번호: 4\n",
      "국어: 86, 영어: 59, 수학: 54, 석차: 4\n",
      "이름: 박메론, 번호: 2\n",
      "국어: 57, 영어: 62, 수학: 53, 석차: 5\n"
     ]
    }
   ],
   "source": [
    "# main process\n",
    "a_class_stu = ['홍포도', '박참외', '김바나', '한낑깡']\n",
    "b_class_stu = ['김사과', '박메론', '이수박', '최모과', '이딸기']\n",
    "\n",
    "a_class = Classroom(a_class_stu)\n",
    "b_class = Classroom(b_class_stu)\n",
    "\n",
    "a_class.calc_order()\n",
    "a_class.print_student_score()\n",
    "a_class.set_name('WN7')\n",
    "\n",
    "#print(a_class)\n",
    "b_class.calc_order()\n",
    "b_class.print_student_score()\n",
    "b_class.set_name('software camp')\n",
    "\n",
    "print('*'*40)\n",
    "a_class.print_class_score()\n",
    "a_class.print_ordered_class_member()\n",
    "\n",
    "print('*'*40)\n",
    "b_class.print_class_score()\n",
    "b_class.print_ordered_class_member()"
   ]
  },
  {
   "cell_type": "markdown",
   "id": "3c70e81a-3efc-465b-9ea2-d042e7fa0e84",
   "metadata": {},
   "source": [
    "# 객체와 클래스를 사용하는 이유\n",
    "\n",
    "1. 코드 작성과 관리가 편하다\n",
    "2. 규모가 큰 프로그램(라이브러리)에서 사용한다.\n",
    "3. 유사한 객체가 많은 프로그램에서 사용한다. (ex.게임)"
   ]
  },
  {
   "cell_type": "markdown",
   "id": "63b7bd25-c768-42ed-81f2-f84b5fce3ac2",
   "metadata": {},
   "source": [
    "# 객체지향의 특징\n",
    "\n",
    "- 캡슐화 encapsulation\n",
    "- 상속 inheritance\n",
    "- 다형성 polymorphism"
   ]
  },
  {
   "cell_type": "markdown",
   "id": "d7307bdb-6d0b-4742-b131-96ddcb72a3fb",
   "metadata": {},
   "source": [
    "## 캡슐화"
   ]
  },
  {
   "cell_type": "code",
   "execution_count": 352,
   "id": "20bfcf8b-de91-42f8-ac2f-a1a3f5509839",
   "metadata": {},
   "outputs": [],
   "source": [
    "class MyClass():\n",
    "    def __init__(self):\n",
    "        self.var1 = 10      # public\n",
    "        self._var2 = 20     # protected\n",
    "        self.__var3 = 30    # private"
   ]
  },
  {
   "cell_type": "code",
   "execution_count": 354,
   "id": "4e98ff9a-bf1d-4c18-80f8-47b79b92e6ba",
   "metadata": {},
   "outputs": [
    {
     "data": {
      "text/plain": [
       "10"
      ]
     },
     "execution_count": 354,
     "metadata": {},
     "output_type": "execute_result"
    }
   ],
   "source": [
    "c1 = MyClass()\n",
    "c1.var1"
   ]
  },
  {
   "cell_type": "code",
   "execution_count": 356,
   "id": "539c2079-d703-4ac2-97ad-e3465f23a947",
   "metadata": {},
   "outputs": [
    {
     "data": {
      "text/plain": [
       "30"
      ]
     },
     "execution_count": 356,
     "metadata": {},
     "output_type": "execute_result"
    }
   ],
   "source": [
    "c1._var2 = 30\n",
    "c1._var2"
   ]
  },
  {
   "cell_type": "code",
   "execution_count": 357,
   "id": "2a7cd6fc-a4d6-4780-940e-d4cf2230c150",
   "metadata": {
    "collapsed": true,
    "jupyter": {
     "outputs_hidden": true
    },
    "scrolled": true
   },
   "outputs": [
    {
     "data": {
      "text/plain": [
       "['_MyClass__var3',\n",
       " '__annotations__',\n",
       " '__class__',\n",
       " '__delattr__',\n",
       " '__dict__',\n",
       " '__dir__',\n",
       " '__doc__',\n",
       " '__eq__',\n",
       " '__format__',\n",
       " '__ge__',\n",
       " '__getattribute__',\n",
       " '__getstate__',\n",
       " '__gt__',\n",
       " '__hash__',\n",
       " '__init__',\n",
       " '__init_subclass__',\n",
       " '__le__',\n",
       " '__lt__',\n",
       " '__module__',\n",
       " '__ne__',\n",
       " '__new__',\n",
       " '__reduce__',\n",
       " '__reduce_ex__',\n",
       " '__repr__',\n",
       " '__setattr__',\n",
       " '__sizeof__',\n",
       " '__str__',\n",
       " '__subclasshook__',\n",
       " '__weakref__',\n",
       " '_var2',\n",
       " 'var1']"
      ]
     },
     "execution_count": 357,
     "metadata": {},
     "output_type": "execute_result"
    }
   ],
   "source": [
    "dir(c1)"
   ]
  },
  {
   "cell_type": "code",
   "execution_count": 359,
   "id": "55dbf126-4e0d-48b2-810d-10a8bee0581c",
   "metadata": {},
   "outputs": [],
   "source": [
    "# c1.__var3  # AttributeError: 'MyClass' object has no attribute '__var3'"
   ]
  },
  {
   "cell_type": "code",
   "execution_count": 360,
   "id": "5595b0fb-8974-4d44-b961-4f0085244ec8",
   "metadata": {},
   "outputs": [
    {
     "data": {
      "text/plain": [
       "30"
      ]
     },
     "execution_count": 360,
     "metadata": {},
     "output_type": "execute_result"
    }
   ],
   "source": [
    "c1._MyClass__var3"
   ]
  },
  {
   "cell_type": "code",
   "execution_count": 361,
   "id": "d354c5c0-3929-4e52-9328-c8bd0dc37063",
   "metadata": {
    "collapsed": true,
    "jupyter": {
     "outputs_hidden": true
    }
   },
   "outputs": [
    {
     "data": {
      "text/plain": [
       "['__annotations__',\n",
       " '__class__',\n",
       " '__delattr__',\n",
       " '__dict__',\n",
       " '__dir__',\n",
       " '__doc__',\n",
       " '__eq__',\n",
       " '__format__',\n",
       " '__ge__',\n",
       " '__getattribute__',\n",
       " '__getstate__',\n",
       " '__gt__',\n",
       " '__hash__',\n",
       " '__init__',\n",
       " '__init_subclass__',\n",
       " '__le__',\n",
       " '__lt__',\n",
       " '__module__',\n",
       " '__ne__',\n",
       " '__new__',\n",
       " '__reduce__',\n",
       " '__reduce_ex__',\n",
       " '__repr__',\n",
       " '__setattr__',\n",
       " '__sizeof__',\n",
       " '__str__',\n",
       " '__subclasshook__',\n",
       " '__weakref__']"
      ]
     },
     "execution_count": 361,
     "metadata": {},
     "output_type": "execute_result"
    }
   ],
   "source": [
    "dir(MyClass)"
   ]
  },
  {
   "cell_type": "markdown",
   "id": "eced4ef5-a1ad-4412-ac4a-eade1882894a",
   "metadata": {},
   "source": [
    "## 상속\n"
   ]
  },
  {
   "cell_type": "code",
   "execution_count": 402,
   "id": "50afc7eb-f088-4091-beac-622e733d8a1e",
   "metadata": {},
   "outputs": [],
   "source": [
    "# 부모 클래스\n",
    "class Calculator():\n",
    "    def __init__(self, x, y):\n",
    "        self.x = x\n",
    "        self.y = y\n",
    "\n",
    "    def add(self):\n",
    "        return self.x + self.y\n",
    "\n",
    "    def multiply(self):\n",
    "        return self.x * self.y\n",
    "\n",
    "    def minus(self):\n",
    "        return self.x - self.y"
   ]
  },
  {
   "cell_type": "code",
   "execution_count": 403,
   "id": "b5449651-d52f-48d2-8980-6c51cf2d99b8",
   "metadata": {},
   "outputs": [],
   "source": [
    "# 자식 클래스\n",
    "class AdvancedCalculator(Calculator):  # 상속\n",
    "    # 상속받은 기능 재사용\n",
    "    # def __init__(self, x, y):\n",
    "\n",
    "    # 자식이 추가한 기능\n",
    "    def divide(self):\n",
    "        if self.y == 0:\n",
    "            return '0으로 나누기 금지!'\n",
    "        else:\n",
    "            return self.x / self.y\n",
    "\n",
    "    # 상속받은 기능의 재정의\n",
    "    def add(self):  # 오버라이딩\n",
    "        print('advanced calulator')\n",
    "        return super().add()"
   ]
  },
  {
   "cell_type": "code",
   "execution_count": 405,
   "id": "e506b386-d9f7-4161-8978-b07f5ed97b6b",
   "metadata": {},
   "outputs": [
    {
     "data": {
      "text/plain": [
       "10.0"
      ]
     },
     "execution_count": 405,
     "metadata": {},
     "output_type": "execute_result"
    }
   ],
   "source": [
    "acalc = AdvancedCalculator(30, 3)\n",
    "acalc.divide()"
   ]
  },
  {
   "cell_type": "code",
   "execution_count": 401,
   "id": "547f8e13-f000-417e-9b7d-6427a28a8d45",
   "metadata": {
    "scrolled": true
   },
   "outputs": [],
   "source": [
    "# dir(acalc)"
   ]
  },
  {
   "cell_type": "code",
   "execution_count": 399,
   "id": "206d24c4-20a2-4ee1-b39d-c3cfdc1f2fa3",
   "metadata": {},
   "outputs": [
    {
     "name": "stdout",
     "output_type": "stream",
     "text": [
      "advanced calulator\n"
     ]
    },
    {
     "data": {
      "text/plain": [
       "33"
      ]
     },
     "execution_count": 399,
     "metadata": {},
     "output_type": "execute_result"
    }
   ],
   "source": [
    "acalc.add()"
   ]
  },
  {
   "cell_type": "code",
   "execution_count": 404,
   "id": "b1e429a5-af59-48b5-b3f7-8e2bd93a85b8",
   "metadata": {},
   "outputs": [
    {
     "data": {
      "text/plain": [
       "90"
      ]
     },
     "execution_count": 404,
     "metadata": {},
     "output_type": "execute_result"
    }
   ],
   "source": [
    "acalc.multiply()"
   ]
  },
  {
   "cell_type": "markdown",
   "id": "53e9bc46-6720-4691-97a9-e7d4e270026f",
   "metadata": {},
   "source": [
    "## 다형성\n",
    "같은 메서드나 연산이 객체에 따라 다르게 동작할 수 있게 하는 특성"
   ]
  },
  {
   "cell_type": "code",
   "execution_count": 22,
   "id": "b3eb2e5b-6ed7-4545-80f7-ccb2aebcd779",
   "metadata": {},
   "outputs": [],
   "source": [
    "class Animal:\n",
    "    def make_sound(self):\n",
    "        pass  # 정의만!\n",
    "\n",
    "class Dog(Animal):\n",
    "    def make_sound(self):  # 오버라이딩\n",
    "        return \"멍멍!\"\n",
    "\n",
    "class Cat(Animal):\n",
    "    def make_sound(self):  # 오버라이딩\n",
    "        return \"야옹!\""
   ]
  },
  {
   "cell_type": "code",
   "execution_count": 20,
   "id": "bbe22fdc-fd9c-45f2-9da7-d37a66714ca8",
   "metadata": {},
   "outputs": [
    {
     "name": "stdout",
     "output_type": "stream",
     "text": [
      "멍멍!\n",
      "야옹!\n"
     ]
    }
   ],
   "source": [
    "animals = [Dog(), Cat()]\n",
    "for animal in animals:\n",
    "    print(animal.make_sound())  # \"멍멍!\", \"야옹!\" 출력"
   ]
  },
  {
   "cell_type": "code",
   "execution_count": 26,
   "id": "a71709dc-7054-47ea-b85f-283a8acdc25d",
   "metadata": {},
   "outputs": [
    {
     "data": {
      "text/plain": [
       "(<__main__.Dog at 0x2c247cc45c0>, <__main__.Cat at 0x2c247cc6c30>)"
      ]
     },
     "execution_count": 26,
     "metadata": {},
     "output_type": "execute_result"
    }
   ],
   "source": [
    "dog1 = Dog()\n",
    "dog2 = Dog()\n",
    "cat1 = Cat()\n",
    "cat2 = Cat()\n",
    "\n",
    "# 객체 리스트\n",
    "animals = [dog1, dog2, cat1, cat2]\n",
    "animals[0], animals[2]"
   ]
  },
  {
   "cell_type": "code",
   "execution_count": 28,
   "id": "ff60db30-e071-4e9a-b04a-394a1fbab668",
   "metadata": {},
   "outputs": [
    {
     "name": "stdout",
     "output_type": "stream",
     "text": [
      "<class '__main__.Dog'>\n",
      "멍멍!\n",
      "<class '__main__.Dog'>\n",
      "멍멍!\n",
      "<class '__main__.Cat'>\n",
      "야옹!\n",
      "<class '__main__.Cat'>\n",
      "야옹!\n"
     ]
    }
   ],
   "source": [
    "for ani in animals:\n",
    "    print(type(ani))\n",
    "    print(ani.make_sound())"
   ]
  },
  {
   "cell_type": "code",
   "execution_count": null,
   "id": "2d07fec9-99ca-4fff-b41e-520d533b8508",
   "metadata": {},
   "outputs": [],
   "source": []
  }
 ],
 "metadata": {
  "kernelspec": {
   "display_name": "Python 3 (ipykernel)",
   "language": "python",
   "name": "python3"
  },
  "language_info": {
   "codemirror_mode": {
    "name": "ipython",
    "version": 3
   },
   "file_extension": ".py",
   "mimetype": "text/x-python",
   "name": "python",
   "nbconvert_exporter": "python",
   "pygments_lexer": "ipython3",
   "version": "3.12.9"
  }
 },
 "nbformat": 4,
 "nbformat_minor": 5
}
