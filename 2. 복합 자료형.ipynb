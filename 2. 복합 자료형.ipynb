{
 "cells": [
  {
   "cell_type": "markdown",
   "id": "fece4a70-3141-4d8f-b782-adab771a74b8",
   "metadata": {},
   "source": [
    "# 복합 자료형"
   ]
  },
  {
   "cell_type": "markdown",
   "id": "0d608ca1-048a-4ec6-b0f4-2eb28f442564",
   "metadata": {},
   "source": [
    "# 복합자료 리스트\n",
    "여러개의 값을 묶어서 하나의 변수로 다루는 자료형   \n",
    "\n",
    "생성법\n",
    "1. `[ ]` 대괄호를 사용\n",
    "2. 데이터는 ,(쉼표)로 구분\n",
    "3. `[ ]` 빈 대괄호는 초기화\n",
    "4. 숫자, 문자, 부울, 리스트 같은 객체를 모두 담을 수 있다.\n",
    "5. 순서 index를 가진다. -> 0 시작\n",
    "6. 음수 인덱스도 가진다."
   ]
  },
  {
   "cell_type": "code",
   "execution_count": 1,
   "id": "693d0df5-4401-4a95-ae70-853623c00fb0",
   "metadata": {},
   "outputs": [
    {
     "data": {
      "text/plain": [
       "30"
      ]
     },
     "execution_count": 1,
     "metadata": {},
     "output_type": "execute_result"
    }
   ],
   "source": [
    "score = [30, 50, 90, 80, 100]\n",
    "score[0]  # 첫 번째 학생의 점수"
   ]
  },
  {
   "cell_type": "code",
   "execution_count": 3,
   "id": "00e503ae-b31c-40ea-815d-f1d01bc86cb0",
   "metadata": {},
   "outputs": [
    {
     "data": {
      "text/plain": [
       "(list, int)"
      ]
     },
     "execution_count": 3,
     "metadata": {},
     "output_type": "execute_result"
    }
   ],
   "source": [
    "type(score), type(score[0])"
   ]
  },
  {
   "cell_type": "code",
   "execution_count": 4,
   "id": "08638fa8-6bb1-4879-93f1-380d1b7875c7",
   "metadata": {
    "scrolled": true
   },
   "outputs": [
    {
     "data": {
      "text/plain": [
       "['__add__',\n",
       " '__class__',\n",
       " '__class_getitem__',\n",
       " '__contains__',\n",
       " '__delattr__',\n",
       " '__delitem__',\n",
       " '__dir__',\n",
       " '__doc__',\n",
       " '__eq__',\n",
       " '__format__',\n",
       " '__ge__',\n",
       " '__getattribute__',\n",
       " '__getitem__',\n",
       " '__getstate__',\n",
       " '__gt__',\n",
       " '__hash__',\n",
       " '__iadd__',\n",
       " '__imul__',\n",
       " '__init__',\n",
       " '__init_subclass__',\n",
       " '__iter__',\n",
       " '__le__',\n",
       " '__len__',\n",
       " '__lt__',\n",
       " '__mul__',\n",
       " '__ne__',\n",
       " '__new__',\n",
       " '__reduce__',\n",
       " '__reduce_ex__',\n",
       " '__repr__',\n",
       " '__reversed__',\n",
       " '__rmul__',\n",
       " '__setattr__',\n",
       " '__setitem__',\n",
       " '__sizeof__',\n",
       " '__str__',\n",
       " '__subclasshook__',\n",
       " 'append',\n",
       " 'clear',\n",
       " 'copy',\n",
       " 'count',\n",
       " 'extend',\n",
       " 'index',\n",
       " 'insert',\n",
       " 'pop',\n",
       " 'remove',\n",
       " 'reverse',\n",
       " 'sort']"
      ]
     },
     "execution_count": 4,
     "metadata": {},
     "output_type": "execute_result"
    }
   ],
   "source": [
    "dir(score)"
   ]
  },
  {
   "cell_type": "code",
   "execution_count": 34,
   "id": "631e6fa3-d097-40f5-9bf9-d82ae14d1961",
   "metadata": {},
   "outputs": [],
   "source": [
    "ra = range(2, 20, 2)     # 범위 생성 -> 순열을 만들어 줌"
   ]
  },
  {
   "cell_type": "code",
   "execution_count": 22,
   "id": "e9a19dd7-7ad9-4cb4-8753-2650a22aa21e",
   "metadata": {},
   "outputs": [
    {
     "data": {
      "text/plain": [
       "[2, 4, 6, 8, 10, 12, 14, 16, 18]"
      ]
     },
     "execution_count": 22,
     "metadata": {},
     "output_type": "execute_result"
    }
   ],
   "source": [
    "num_list = list(ra)   # 생성자\n",
    "num_list"
   ]
  },
  {
   "cell_type": "code",
   "execution_count": 17,
   "id": "14af6336-84cc-453d-9e9e-055f9a0f7121",
   "metadata": {},
   "outputs": [
    {
     "data": {
      "text/plain": [
       "18"
      ]
     },
     "execution_count": 17,
     "metadata": {},
     "output_type": "execute_result"
    }
   ],
   "source": [
    "num_list[-1]"
   ]
  },
  {
   "cell_type": "code",
   "execution_count": 28,
   "id": "b13014c1-a87a-43f3-b978-cd73d8ef70cc",
   "metadata": {},
   "outputs": [
    {
     "data": {
      "text/plain": [
       "9"
      ]
     },
     "execution_count": 28,
     "metadata": {},
     "output_type": "execute_result"
    }
   ],
   "source": [
    "ra.__len__()      # method"
   ]
  },
  {
   "cell_type": "code",
   "execution_count": 29,
   "id": "b15612b6-0c83-40ad-80cb-78c2588c7986",
   "metadata": {},
   "outputs": [
    {
     "data": {
      "text/plain": [
       "1"
      ]
     },
     "execution_count": 29,
     "metadata": {},
     "output_type": "execute_result"
    }
   ],
   "source": [
    "num_list.count(10)"
   ]
  },
  {
   "cell_type": "markdown",
   "id": "bf97028f-3827-44f1-a596-44713f5b77c9",
   "metadata": {},
   "source": [
    "method와 function   \n",
    "1. method: 객체에 한해서 동작하는 함수 -> 객체명.함수()\n",
    "2. function: 함수(매개변수) -> 매개변수가 필요! 매개변수로 동작\n",
    "\n",
    "dir() -> function   \n",
    "list_obj.\\_\\_len\\__() -> method"
   ]
  },
  {
   "cell_type": "code",
   "execution_count": 32,
   "id": "5ea3e268-a630-475d-a6b8-0c210c605234",
   "metadata": {},
   "outputs": [],
   "source": [
    "str_1 = 'hello'\n",
    "# str_1[0] = 'H'   # TypeError -> str은 immutable!!"
   ]
  },
  {
   "cell_type": "code",
   "execution_count": 43,
   "id": "3503eec6-95d5-48b7-8b07-019d8bede138",
   "metadata": {},
   "outputs": [
    {
     "data": {
      "text/plain": [
       "'Hello'"
      ]
     },
     "execution_count": 43,
     "metadata": {},
     "output_type": "execute_result"
    }
   ],
   "source": [
    "str_2 = list(str_1)  # 문자열 -> 문자열 리스트\n",
    "str_2[0] = 'H'\n",
    "''.join(str_2)"
   ]
  },
  {
   "cell_type": "code",
   "execution_count": 48,
   "id": "52f0681d-0865-4485-8ec0-0c8a4fe42673",
   "metadata": {},
   "outputs": [
    {
     "data": {
      "text/plain": [
       "[['aaa', 'bbb', 'ccc'], [1, 2, 'aaa', 'bbb']]"
      ]
     },
     "execution_count": 48,
     "metadata": {},
     "output_type": "execute_result"
    }
   ],
   "source": [
    "# 리스트의 생성\n",
    "a = list()\n",
    "a = []\n",
    "b = [1, 2, 3, 4, 5]\n",
    "c = ['aaa', 'bbb', 'ccc']\n",
    "d = [1, 2, 'aaa', 'bbb']\n",
    "e = [c, d]\n",
    "e"
   ]
  },
  {
   "cell_type": "code",
   "execution_count": 49,
   "id": "929316fd-836e-4783-b4f8-601cac88bb6c",
   "metadata": {},
   "outputs": [
    {
     "data": {
      "text/plain": [
       "['aaa', 'bbb', 'ccc']"
      ]
     },
     "execution_count": 49,
     "metadata": {},
     "output_type": "execute_result"
    }
   ],
   "source": [
    "e[0]"
   ]
  },
  {
   "cell_type": "code",
   "execution_count": 50,
   "id": "1269f156-0043-4c22-bb42-e8743aff6dba",
   "metadata": {},
   "outputs": [
    {
     "data": {
      "text/plain": [
       "([1, 2, 'aaa', 'bbb'], [1, 2, 'aaa', 'bbb'])"
      ]
     },
     "execution_count": 50,
     "metadata": {},
     "output_type": "execute_result"
    }
   ],
   "source": [
    "e[1], e[-1]"
   ]
  },
  {
   "cell_type": "code",
   "execution_count": 51,
   "id": "a89c240c-70f1-4a17-b7dc-b78f9c2ae04b",
   "metadata": {},
   "outputs": [
    {
     "data": {
      "text/plain": [
       "'aaa'"
      ]
     },
     "execution_count": 51,
     "metadata": {},
     "output_type": "execute_result"
    }
   ],
   "source": [
    "e[1][2]"
   ]
  },
  {
   "cell_type": "code",
   "execution_count": 52,
   "id": "95812f3f-45a1-4622-b854-76be30d8da00",
   "metadata": {},
   "outputs": [
    {
     "data": {
      "text/plain": [
       "[1, 2]"
      ]
     },
     "execution_count": 52,
     "metadata": {},
     "output_type": "execute_result"
    }
   ],
   "source": [
    "e[1][:2]"
   ]
  },
  {
   "cell_type": "code",
   "execution_count": 58,
   "id": "8d810cb8-da83-4622-beb8-2f8c69273908",
   "metadata": {},
   "outputs": [
    {
     "data": {
      "text/plain": [
       "'bbb'"
      ]
     },
     "execution_count": 58,
     "metadata": {},
     "output_type": "execute_result"
    }
   ],
   "source": [
    "e[-1][-1]"
   ]
  },
  {
   "cell_type": "code",
   "execution_count": 59,
   "id": "92ea5913-180f-4a5b-abb3-0570cd23e6ac",
   "metadata": {},
   "outputs": [
    {
     "data": {
      "text/plain": [
       "[[1, 2], [3, 4]]"
      ]
     },
     "execution_count": 59,
     "metadata": {},
     "output_type": "execute_result"
    }
   ],
   "source": [
    "score = [[1, 2], [3, 4]]\n",
    "score"
   ]
  },
  {
   "cell_type": "markdown",
   "id": "5ddcff26-66ba-46e0-95a5-e9f9a619040e",
   "metadata": {},
   "source": [
    "복사   \n",
    "1. 얕은 복사 shallow copy\n",
    "2. 깊은 복사 deep copy"
   ]
  },
  {
   "cell_type": "code",
   "execution_count": 62,
   "id": "dd7c8912-5569-4b09-a261-3bc7aafa9931",
   "metadata": {},
   "outputs": [
    {
     "data": {
      "text/plain": [
       "[[100, 2], [3, 4]]"
      ]
     },
     "execution_count": 62,
     "metadata": {},
     "output_type": "execute_result"
    }
   ],
   "source": [
    "new_score = score[:]     # 얕은 copy\n",
    "new_score[0][0] = 100\n",
    "new_score"
   ]
  },
  {
   "cell_type": "code",
   "execution_count": 61,
   "id": "e25dacb5-c721-4bb6-b638-f4f9f558568f",
   "metadata": {},
   "outputs": [
    {
     "data": {
      "text/plain": [
       "[[100, 2], [3, 4]]"
      ]
     },
     "execution_count": 61,
     "metadata": {},
     "output_type": "execute_result"
    }
   ],
   "source": [
    "score"
   ]
  },
  {
   "cell_type": "code",
   "execution_count": 63,
   "id": "e3964a65-b490-4ede-b600-47ed2c9ad95e",
   "metadata": {},
   "outputs": [
    {
     "data": {
      "text/plain": [
       "[[100, 99], [3, 4]]"
      ]
     },
     "execution_count": 63,
     "metadata": {},
     "output_type": "execute_result"
    }
   ],
   "source": [
    "import copy\n",
    "copied = copy.copy(score)\n",
    "copied[0][1] = 99\n",
    "copied"
   ]
  },
  {
   "cell_type": "code",
   "execution_count": 64,
   "id": "c3ef495d-8038-4791-91f7-cf686b1528ea",
   "metadata": {},
   "outputs": [
    {
     "data": {
      "text/plain": [
       "[[100, 99], [3, 4]]"
      ]
     },
     "execution_count": 64,
     "metadata": {},
     "output_type": "execute_result"
    }
   ],
   "source": [
    "score"
   ]
  },
  {
   "cell_type": "code",
   "execution_count": 65,
   "id": "acc41dbd-c060-4d35-882b-794d26592fac",
   "metadata": {},
   "outputs": [
    {
     "data": {
      "text/plain": [
       "[[100, 99], [100, 4]]"
      ]
     },
     "execution_count": 65,
     "metadata": {},
     "output_type": "execute_result"
    }
   ],
   "source": [
    "deepcopied = copy.deepcopy(score)\n",
    "deepcopied[1][0] = 100\n",
    "deepcopied"
   ]
  },
  {
   "cell_type": "code",
   "execution_count": 66,
   "id": "180abf22-0bb8-4e01-b44b-b9afe25feac8",
   "metadata": {},
   "outputs": [
    {
     "data": {
      "text/plain": [
       "[[100, 99], [3, 4]]"
      ]
     },
     "execution_count": 66,
     "metadata": {},
     "output_type": "execute_result"
    }
   ],
   "source": [
    "score"
   ]
  },
  {
   "cell_type": "markdown",
   "id": "4be3d8aa-504f-4fb4-9b6f-c75e88cf2c38",
   "metadata": {},
   "source": [
    "# 리스트의 연산\n",
    "- `+` \\_\\_add\\__()\n",
    "- `*` \\_\\_mul\\__()\n",
    "- del list[항목]\n",
    "- in list -> True / False"
   ]
  },
  {
   "cell_type": "code",
   "execution_count": 74,
   "id": "2a9d99ff-60d6-43c8-8d5a-9a5cd78d5163",
   "metadata": {},
   "outputs": [
    {
     "data": {
      "text/plain": [
       "['해물라면', '샐러드', '떡볶이', '오므라이스', '볶음밥', '떡볶이', '제육볶음', '주먹밥']"
      ]
     },
     "execution_count": 74,
     "metadata": {},
     "output_type": "execute_result"
    }
   ],
   "source": [
    "lunch1 = ['해물라면', '샐러드', '떡볶이']\n",
    "lunch2 = ['오므라이스', '볶음밥', '떡볶이', '제육볶음', '주먹밥']\n",
    "lunch1 + lunch2"
   ]
  },
  {
   "cell_type": "code",
   "execution_count": 75,
   "id": "5fc4d1ef-e11b-4413-84d3-17576e410ede",
   "metadata": {},
   "outputs": [
    {
     "data": {
      "text/plain": [
       "['해물라면', '샐러드', '떡볶이', '해물라면', '샐러드', '떡볶이']"
      ]
     },
     "execution_count": 75,
     "metadata": {},
     "output_type": "execute_result"
    }
   ],
   "source": [
    "lunch1 * 2"
   ]
  },
  {
   "cell_type": "code",
   "execution_count": 76,
   "id": "c659e314-74b6-4373-b40f-81cd6103bd3c",
   "metadata": {},
   "outputs": [
    {
     "data": {
      "text/plain": [
       "['샐러드', '떡볶이']"
      ]
     },
     "execution_count": 76,
     "metadata": {},
     "output_type": "execute_result"
    }
   ],
   "source": [
    "del lunch1[0]\n",
    "lunch1"
   ]
  },
  {
   "cell_type": "code",
   "execution_count": 77,
   "id": "a1d24611-29f1-4498-a84d-c4966470f117",
   "metadata": {},
   "outputs": [
    {
     "data": {
      "text/plain": [
       "['샐러드', '오므라이스', '볶음밥', '떡볶이', '제육볶음', '주먹밥']"
      ]
     },
     "execution_count": 77,
     "metadata": {},
     "output_type": "execute_result"
    }
   ],
   "source": [
    "# lunch1과 lunch2를 합하고 '떡볶이' 1개를 지우기\n",
    "lunchall = lunch1 + lunch2\n",
    "del lunchall[1]\n",
    "lunchall"
   ]
  },
  {
   "cell_type": "code",
   "execution_count": 79,
   "id": "fb959e1d-8fe7-453c-890a-275678e01f4b",
   "metadata": {},
   "outputs": [
    {
     "data": {
      "text/plain": [
       "True"
      ]
     },
     "execution_count": 79,
     "metadata": {},
     "output_type": "execute_result"
    }
   ],
   "source": [
    "'떡볶이' in lunchall"
   ]
  },
  {
   "cell_type": "code",
   "execution_count": 110,
   "id": "57d823b7-bd7e-4622-ba75-e4fc44304db6",
   "metadata": {},
   "outputs": [
    {
     "name": "stdin",
     "output_type": "stream",
     "text": [
      "먹고 싶은 간식을 추가하세요. 단 쉼표(,)로 연결하세요. 홈런볼, 사이다\n"
     ]
    },
    {
     "name": "stdout",
     "output_type": "stream",
     "text": [
      "['초코파이', '홈런볼', '사이다']\n"
     ]
    }
   ],
   "source": [
    "# 간식박스 관리 프로그램\n",
    "snack_box = ['초코파이']\n",
    "new_input = input('먹고 싶은 간식을 추가하세요. 단 쉼표(,)로 연결하세요.')\n",
    "new_input = new_input.replace(' ', '')\n",
    "new_snack = new_input.split(',')\n",
    "snack_box += new_snack\n",
    "\n",
    "print(snack_box)"
   ]
  },
  {
   "cell_type": "code",
   "execution_count": 111,
   "id": "575c2635-eab6-49fb-a81c-90f6c49972a4",
   "metadata": {},
   "outputs": [
    {
     "name": "stdin",
     "output_type": "stream",
     "text": [
      "간식 박스를 몇 세트로 포장할까요? 예: 2 -> 2box 2\n"
     ]
    },
    {
     "data": {
      "text/plain": [
       "['초코파이', '홈런볼', '사이다', '초코파이', '홈런볼', '사이다']"
      ]
     },
     "execution_count": 111,
     "metadata": {},
     "output_type": "execute_result"
    }
   ],
   "source": [
    "qty = int(input('간식 박스를 몇 세트로 포장할까요? 예: 2 -> 2box'))\n",
    "snack_box *= qty\n",
    "snack_box"
   ]
  },
  {
   "cell_type": "code",
   "execution_count": 112,
   "id": "ee32791b-0d5c-407a-bdc7-fbe909893e7b",
   "metadata": {},
   "outputs": [
    {
     "name": "stdout",
     "output_type": "stream",
     "text": [
      "주문하신 간식 상자는 초코파이, 홈런볼, 사이다 등 입니다. 확인해주세요.\n"
     ]
    }
   ],
   "source": [
    "print(f'주문하신 간식 상자는 {snack_box[0]}, {snack_box[1]}, {snack_box[2]} 등 입니다. 확인해주세요.')"
   ]
  },
  {
   "cell_type": "code",
   "execution_count": 113,
   "id": "38ae423d-0966-4cc4-8caf-9859c0b05ec3",
   "metadata": {},
   "outputs": [
    {
     "name": "stdin",
     "output_type": "stream",
     "text": [
      "혹시 빼고 싶은 간식이 있으면 번호를 입력하세요 (0 ~ 5) 1\n"
     ]
    },
    {
     "data": {
      "text/plain": [
       "['초코파이', '사이다', '초코파이', '홈런볼', '사이다']"
      ]
     },
     "execution_count": 113,
     "metadata": {},
     "output_type": "execute_result"
    }
   ],
   "source": [
    "snack_no = int(input(f'혹시 빼고 싶은 간식이 있으면 번호를 입력하세요 (0 ~ {len(snack_box)-1})'))\n",
    "del snack_box[snack_no]\n",
    "snack_box"
   ]
  },
  {
   "cell_type": "code",
   "execution_count": 114,
   "id": "526e53f9-e804-4f20-9a67-ec4680112cfa",
   "metadata": {},
   "outputs": [
    {
     "name": "stdin",
     "output_type": "stream",
     "text": [
      "찾고 싶은 간식이름을 입력하세요:  사이다\n"
     ]
    },
    {
     "name": "stdout",
     "output_type": "stream",
     "text": [
      "있어요\n"
     ]
    }
   ],
   "source": [
    "# 찾고 싶은 간식이름을 입력하세요\n",
    "# 있어요 or 없어요 출력\n",
    "\n",
    "snack_find = input('찾고 싶은 간식이름을 입력하세요: ')\n",
    "if snack_find in snack_box:\n",
    "    print('있어요')\n",
    "else:\n",
    "    print('없어요')"
   ]
  },
  {
   "cell_type": "code",
   "execution_count": 115,
   "id": "01a072a1-b72d-4971-bf56-17d36ea6b281",
   "metadata": {},
   "outputs": [
    {
     "name": "stdout",
     "output_type": "stream",
     "text": [
      "주문하신 간식박스는 뒤에서부터 다음과 같습니다\n",
      "['사이다', '홈런볼', '초코파이', '사이다', '초코파이'], 총 5개입니다.\n"
     ]
    }
   ],
   "source": [
    "print('주문하신 간식박스는 뒤에서부터 다음과 같습니다')\n",
    "print(f'{snack_box[::-1]}, 총 {len(snack_box)}개입니다.')"
   ]
  },
  {
   "cell_type": "markdown",
   "id": "94520253-5c3e-4d2e-a889-147143ccc11a",
   "metadata": {},
   "source": [
    "---"
   ]
  },
  {
   "cell_type": "markdown",
   "id": "05e40745-fbe9-4202-a25d-ef7e5e9488d4",
   "metadata": {},
   "source": [
    "# 리스트의 메서드"
   ]
  },
  {
   "cell_type": "markdown",
   "id": "524dd838-74a7-41b8-a105-89197f25387c",
   "metadata": {},
   "source": [
    "| 메서드                  | 사용 예시                    | 설명                |\n",
    "| -------------------- | ------------------------ | ----------------- |\n",
    "| append(x)          | lst.append(4)          | 맨 뒤에 x 추가       |\n",
    "| insert(i, x)       | lst.insert(1, \"a\")     | i 위치에 x 삽입    |\n",
    "| extend(iter)       | lst.extend([4, 5])     | 리스트에 여러 값 추가      |\n",
    "| remove(x)          | lst.remove(\"a\")        | x와 일치하는 첫 항목 삭제 |\n",
    "| pop()              | lst.pop()              | 마지막 항목 제거하고 반환    |\n",
    "| pop(i)             | lst.pop(0)             | i번째 항목 제거하고 반환  |\n",
    "| clear()            | lst.clear()            | 리스트 전체 비우기        |\n",
    "| index(x)           | lst.index(\"a\")         | x의 위치(인덱스) 반환   |\n",
    "| count(x)           | lst.count(\"a\")         | x의 개수 세기        |\n",
    "| sort()             | lst.sort()             | 오름차순 정렬 (원본 변경)   |\n",
    "| sort(reverse=True) | lst.sort(reverse=True) | 내림차순 정렬           |\n",
    "| reverse()          | lst.reverse()          | 항목 순서 뒤집기         |\n",
    "| copy()             | lst2 = lst.copy()      | 리스트 복사            |"
   ]
  },
  {
   "cell_type": "code",
   "execution_count": 139,
   "id": "baee8af3-ae61-404f-9db0-7889e5eccc38",
   "metadata": {},
   "outputs": [],
   "source": [
    "list_a = [1, 2, 3, 'aa', 'bb', [10, 20], 'Dd']"
   ]
  },
  {
   "cell_type": "code",
   "execution_count": 140,
   "id": "a5df8374-3a10-44b0-896e-f52d11f4cf92",
   "metadata": {},
   "outputs": [
    {
     "name": "stdout",
     "output_type": "stream",
     "text": [
      "[1, 2, 3, 'aa', 'bb', [10, 20], 'Dd', 11]\n"
     ]
    }
   ],
   "source": [
    "list_a.append(11)\n",
    "print(list_a)"
   ]
  },
  {
   "cell_type": "code",
   "execution_count": 141,
   "id": "8b71f1e3-f439-40ba-9bca-c6082db73158",
   "metadata": {},
   "outputs": [
    {
     "name": "stdout",
     "output_type": "stream",
     "text": [
      "[1, 'aa', 2, 3, 'aa', 'bb', [10, 20], 'Dd', 11]\n"
     ]
    }
   ],
   "source": [
    "list_a.insert(1, 'aa')\n",
    "print(list_a)"
   ]
  },
  {
   "cell_type": "code",
   "execution_count": 142,
   "id": "935305f3-e8cc-495d-9639-fa7af3a37408",
   "metadata": {},
   "outputs": [
    {
     "name": "stdout",
     "output_type": "stream",
     "text": [
      "[1, 'aa', 2, 3, 'aa', 'bb', [10, 20], 'Dd', 11, 8, '6y']\n"
     ]
    }
   ],
   "source": [
    "list_a.extend([8, '6y'])\n",
    "print(list_a)"
   ]
  },
  {
   "cell_type": "code",
   "execution_count": 143,
   "id": "afe73cc8-09ff-4d46-98e7-9662dc4855ce",
   "metadata": {},
   "outputs": [
    {
     "name": "stdout",
     "output_type": "stream",
     "text": [
      "[1, 2, 3, 'aa', 'bb', [10, 20], 'Dd', 11, 8, '6y']\n"
     ]
    }
   ],
   "source": [
    "list_a.remove('aa')\n",
    "print(list_a)"
   ]
  },
  {
   "cell_type": "code",
   "execution_count": 144,
   "id": "1bac8e38-c790-45b2-be08-cb5cede23b7d",
   "metadata": {},
   "outputs": [
    {
     "data": {
      "text/plain": [
       "'6y'"
      ]
     },
     "execution_count": 144,
     "metadata": {},
     "output_type": "execute_result"
    }
   ],
   "source": [
    "list_a.pop()"
   ]
  },
  {
   "cell_type": "code",
   "execution_count": 145,
   "id": "a47c2541-63fc-4097-849d-ce40730c0704",
   "metadata": {},
   "outputs": [
    {
     "data": {
      "text/plain": [
       "11"
      ]
     },
     "execution_count": 145,
     "metadata": {},
     "output_type": "execute_result"
    }
   ],
   "source": [
    "list_a.pop(-2)"
   ]
  },
  {
   "cell_type": "code",
   "execution_count": 146,
   "id": "6c18f844-0e92-4a92-804f-10660205d3b4",
   "metadata": {},
   "outputs": [
    {
     "name": "stdout",
     "output_type": "stream",
     "text": [
      "[1, 2, 3, 'aa', 'bb', [10, 20], 'Dd', 8]\n"
     ]
    }
   ],
   "source": [
    "print(list_a)"
   ]
  },
  {
   "cell_type": "code",
   "execution_count": 148,
   "id": "8bf87959-4bc9-4f5c-84bf-4fb039f9e8e2",
   "metadata": {},
   "outputs": [
    {
     "name": "stdout",
     "output_type": "stream",
     "text": [
      "[]\n"
     ]
    }
   ],
   "source": [
    "list_a.clear()\n",
    "print(list_a)"
   ]
  },
  {
   "cell_type": "code",
   "execution_count": 157,
   "id": "5bf6804c-3391-4229-a201-a4d188e72e0d",
   "metadata": {},
   "outputs": [],
   "source": [
    "list_b = [1, 2, 'aa', [20, 10], 'Dd']\n",
    "# list_b.sort()  # TypeError: '<' not supported between instances of 'str' and 'int'"
   ]
  },
  {
   "cell_type": "code",
   "execution_count": 154,
   "id": "3824f1a0-29f2-41bf-be05-b7a2936ccabd",
   "metadata": {},
   "outputs": [
    {
     "name": "stdout",
     "output_type": "stream",
     "text": [
      "[1, 2, 3, 4, 7]\n"
     ]
    }
   ],
   "source": [
    "list_c = [1, 3, 2, 7, 4]\n",
    "list_c.sort()\n",
    "print(list_c)"
   ]
  },
  {
   "cell_type": "code",
   "execution_count": 155,
   "id": "7f570894-d052-461e-b883-dbd938b80ae2",
   "metadata": {},
   "outputs": [
    {
     "name": "stdout",
     "output_type": "stream",
     "text": [
      "[7, 4, 3, 2, 1]\n"
     ]
    }
   ],
   "source": [
    "list_c.sort(reverse=True)\n",
    "print(list_c)"
   ]
  },
  {
   "cell_type": "code",
   "execution_count": 162,
   "id": "7236d2f4-0406-4d42-b875-bef7c73ee0be",
   "metadata": {},
   "outputs": [
    {
     "name": "stdout",
     "output_type": "stream",
     "text": [
      "['a', 'c', 'ff', 't']\n"
     ]
    }
   ],
   "source": [
    "list_d = ['a', 't', 'c', 'ff']\n",
    "list_d.sort()\n",
    "print(list_d)"
   ]
  },
  {
   "cell_type": "code",
   "execution_count": 163,
   "id": "ddb634ae-1fbb-456a-9329-8c1ed08557aa",
   "metadata": {},
   "outputs": [
    {
     "name": "stdout",
     "output_type": "stream",
     "text": [
      "['t', 'ff', 'c', 'a']\n"
     ]
    }
   ],
   "source": [
    "list_d.sort(reverse=True)\n",
    "print(list_d)"
   ]
  },
  {
   "cell_type": "code",
   "execution_count": 168,
   "id": "22bfaef0-1efb-4b06-bd1a-d7ead52fe752",
   "metadata": {},
   "outputs": [
    {
     "name": "stdout",
     "output_type": "stream",
     "text": [
      "[[], [1, 1, 2], [1, 2], [2, 1]]\n"
     ]
    }
   ],
   "source": [
    "list_e = [[1, 2], [2, 1], [1, 1, 2], []]\n",
    "list_e.sort()\n",
    "print(list_e)"
   ]
  },
  {
   "cell_type": "code",
   "execution_count": 170,
   "id": "52351b37-4e3d-4ab6-8563-e7aa8c340033",
   "metadata": {},
   "outputs": [
    {
     "name": "stdout",
     "output_type": "stream",
     "text": [
      "[[2, 1], [1, 2], [1, 1, 2], []]\n"
     ]
    }
   ],
   "source": [
    "list_e.sort(reverse=True)\n",
    "print(list_e)"
   ]
  },
  {
   "cell_type": "code",
   "execution_count": 158,
   "id": "7b5c7c10-3cf1-409e-81a4-8142677007b9",
   "metadata": {},
   "outputs": [
    {
     "name": "stdout",
     "output_type": "stream",
     "text": [
      "['Dd', [20, 10], 'aa', 2, 1]\n"
     ]
    }
   ],
   "source": [
    "list_b.reverse()\n",
    "print(list_b)"
   ]
  },
  {
   "cell_type": "code",
   "execution_count": 159,
   "id": "4a1f6225-a94b-47d1-8608-edd0b873b0d8",
   "metadata": {},
   "outputs": [
    {
     "data": {
      "text/plain": [
       "['Dd', [20, 10], 'aa', 2, 1]"
      ]
     },
     "execution_count": 159,
     "metadata": {},
     "output_type": "execute_result"
    }
   ],
   "source": [
    "listb_copy = list_b.copy()\n",
    "listb_copy"
   ]
  },
  {
   "cell_type": "markdown",
   "id": "1758ddd0-5803-434f-ad5f-b4c2eeca37e2",
   "metadata": {},
   "source": [
    "# 연산자\n",
    "\n",
    "- 비식별 연산자\n",
    "  1. 수치연산: 사칙연산\n",
    "     add() -> 특별메서드를 정의하고 객체에서 쓸 수 있다.   \n",
    "     숫자일 때는 기본 연산   \n",
    "     형변환이 자동으로 일어난다. int + float -> float, int / int -> float   \n",
    "  2. 대입연산: assign 할당 `=`   \n",
    "     변수 = 값   \n",
    "     자기 자신에게 대입하는 연산 -> +=, -=, *=, /= -> ()가 자동으로 적용되는 것!   \n",
    "  3. 비교연산\n",
    "     `==`, `!=`, `>=`, `<=`   \n",
    "     리스트의 비교 `==`  ->  내용이 같은가?   \n",
    "     리스트의 비교 `is` -> 주소가 같은가?   \n",
    "        => 리스트의 주소 `id()`가 같은지 비교 -> 메모리 영역이 같은가?   \n",
    "  5. 논리연산\n",
    "     and, or, not\n",
    "     &, &&, |, !\n",
    "- 식별 연산자\n",
    "  1. is, is not"
   ]
  },
  {
   "cell_type": "code",
   "execution_count": 66,
   "id": "c067f1b9-cbe7-4e6a-a978-f739b4a10077",
   "metadata": {},
   "outputs": [
    {
     "name": "stdout",
     "output_type": "stream",
     "text": [
      "True\n",
      "False\n"
     ]
    }
   ],
   "source": [
    "lunch1 = ['주먹밥', '치킨', '칼국수']\n",
    "lunch2 = ['주먹밥', '치킨', '칼국수']\n",
    "print(lunch1 == lunch2)       # 값의 비교\n",
    "print(id(lunch1) == id(lunch2))"
   ]
  },
  {
   "cell_type": "code",
   "execution_count": 68,
   "id": "8c4a5ed7-54e3-4cc5-9939-60610242d11c",
   "metadata": {},
   "outputs": [
    {
     "data": {
      "text/plain": [
       "False"
      ]
     },
     "execution_count": 68,
     "metadata": {},
     "output_type": "execute_result"
    }
   ],
   "source": [
    "lunch1 is lunch2           # 주소 비교"
   ]
  },
  {
   "cell_type": "code",
   "execution_count": 3,
   "id": "a608f7d6-3a35-4b54-81e9-36309c0db70a",
   "metadata": {},
   "outputs": [
    {
     "data": {
      "text/plain": [
       "20"
      ]
     },
     "execution_count": 3,
     "metadata": {},
     "output_type": "execute_result"
    }
   ],
   "source": [
    "a = 5; b = 2\n",
    "a *= 2 + b  # a = 5 * (2 + 2)\n",
    "a"
   ]
  },
  {
   "cell_type": "code",
   "execution_count": 8,
   "id": "72afab3e-bb5a-4a9b-9d83-6bcf80c5e6ab",
   "metadata": {},
   "outputs": [],
   "source": [
    "students = [\n",
    "               {'num':'1','name':'김철수','kor':90,'eng':80,'math':85,'total':0,'avg':0.0,'order':0 },\n",
    "               {'num':'2','name':'박제동','kor':90,'eng':85,'math':90,'total':0,'avg':0.0,'order':0 },\n",
    "               {'num':'3','name':'홍길동','kor':80,'eng':80,'math':80,'total':0,'avg':0.0,'order':0 }\n",
    "           ]"
   ]
  },
  {
   "cell_type": "code",
   "execution_count": 14,
   "id": "6e578f29-5149-4d7b-a696-0f1c223d0107",
   "metadata": {
    "scrolled": true
   },
   "outputs": [
    {
     "name": "stdout",
     "output_type": "stream",
     "text": [
      "[{'num': '1', 'name': '김철수', 'kor': 90, 'eng': 80, 'math': 85, 'total': 255, 'avg': 0.0, 'order': 0}, {'num': '2', 'name': '박제동', 'kor': 90, 'eng': 85, 'math': 90, 'total': 265, 'avg': 0.0, 'order': 0}, {'num': '3', 'name': '홍길동', 'kor': 80, 'eng': 80, 'math': 80, 'total': 240, 'avg': 0.0, 'order': 0}]\n"
     ]
    }
   ],
   "source": [
    "# 각 학생들의 총점\n",
    "students[0]['total'] = students[0]['kor'] + students[0]['eng'] + students[0]['math']\n",
    "students[1]['total'] = students[1]['kor'] + students[1]['eng'] + students[1]['math']\n",
    "students[2]['total'] = students[2]['kor'] + students[2]['eng'] + students[2]['math']\n",
    "print(students)"
   ]
  },
  {
   "cell_type": "code",
   "execution_count": 51,
   "id": "95e38cf4-a7b3-47b3-ade3-02cba4b44952",
   "metadata": {},
   "outputs": [
    {
     "name": "stdout",
     "output_type": "stream",
     "text": [
      "255 85.0\n",
      "265 88.33333333333333\n",
      "240 80.0\n"
     ]
    }
   ],
   "source": [
    "# for문에서는 리스트의 요소를 하나씩 꺼낼 수 있다.: in 키워드\n",
    "for s in students:     # 0, 1, 2 : 0 > 1 > 2 -> iterator\n",
    "    s['total'] = s['kor'] + s['eng'] + s['math']\n",
    "    s['avg'] = s['total'] / 3  # 평균\n",
    "    print(s['total'], s['avg'])"
   ]
  },
  {
   "cell_type": "code",
   "execution_count": 61,
   "id": "6b25a0b6-be93-4660-a94e-4cf1d2e04f30",
   "metadata": {},
   "outputs": [
    {
     "name": "stdout",
     "output_type": "stream",
     "text": [
      "김철수 2 255 85.0\n",
      "박제동 1 265 88.33333333333333\n",
      "홍길동 3 240 80.0\n"
     ]
    }
   ],
   "source": [
    "# students order\n",
    "li = []\n",
    "for s in students:\n",
    "    li.append(s['avg'])\n",
    "li.sort(reverse=True)\n",
    "\n",
    "for s in students:\n",
    "    s['order'] = li.index(s['avg']) + 1\n",
    "    print(s['name'], s['order'], s['total'], s['avg'],)"
   ]
  },
  {
   "cell_type": "code",
   "execution_count": 60,
   "id": "0976400f-f90e-43b5-a588-aa19a582fed0",
   "metadata": {},
   "outputs": [
    {
     "name": "stdout",
     "output_type": "stream",
     "text": [
      "김철수 2\n",
      "박제동 1\n",
      "홍길동 3\n"
     ]
    }
   ],
   "source": [
    "for student in students:\n",
    "    rank = 1\n",
    "    for other in students:\n",
    "        if other['total'] > student['total']:\n",
    "            rank += 1\n",
    "    student['order'] = rank\n",
    "    print(student['name'], student['order'])"
   ]
  },
  {
   "cell_type": "markdown",
   "id": "831088b8-e450-4b47-9676-978cfd22c8b0",
   "metadata": {},
   "source": [
    "---"
   ]
  },
  {
   "cell_type": "markdown",
   "id": "b6702e60-a3f9-44a6-be55-6605d2c9d161",
   "metadata": {},
   "source": [
    "# 리스트에 많이 쓰는 내장함수들"
   ]
  },
  {
   "cell_type": "markdown",
   "id": "20ca8cbb-c8d0-4f68-8ff8-3c8aa60b253c",
   "metadata": {},
   "source": [
    "- type()\n",
    "- sorted()\n",
    "- dir()\n",
    "- id()\n",
    "- len()\n",
    "- sum(), max(), min()"
   ]
  },
  {
   "cell_type": "code",
   "execution_count": 69,
   "id": "a674516a-ed1e-435d-8d33-e40e84b6f801",
   "metadata": {},
   "outputs": [],
   "source": [
    "li = [1, 65, 5, 3, 7, 7, 443]"
   ]
  },
  {
   "cell_type": "code",
   "execution_count": 71,
   "id": "39c774bf-eabd-4e6e-92f6-036677b98725",
   "metadata": {},
   "outputs": [
    {
     "name": "stdout",
     "output_type": "stream",
     "text": [
      "<class 'list'>\n",
      "[1, 3, 5, 7, 7, 65, 443]\n"
     ]
    }
   ],
   "source": [
    "print(type(li))\n",
    "print(sorted(li))"
   ]
  },
  {
   "cell_type": "code",
   "execution_count": 72,
   "id": "b6a023d8-bef6-4d8d-92b2-c96ff646013f",
   "metadata": {},
   "outputs": [
    {
     "name": "stdout",
     "output_type": "stream",
     "text": [
      "['__add__', '__class__', '__class_getitem__', '__contains__', '__delattr__', '__delitem__', '__dir__', '__doc__', '__eq__', '__format__', '__ge__', '__getattribute__', '__getitem__', '__getstate__', '__gt__', '__hash__', '__iadd__', '__imul__', '__init__', '__init_subclass__', '__iter__', '__le__', '__len__', '__lt__', '__mul__', '__ne__', '__new__', '__reduce__', '__reduce_ex__', '__repr__', '__reversed__', '__rmul__', '__setattr__', '__setitem__', '__sizeof__', '__str__', '__subclasshook__', 'append', 'clear', 'copy', 'count', 'extend', 'index', 'insert', 'pop', 'remove', 'reverse', 'sort']\n"
     ]
    }
   ],
   "source": [
    "print(dir(li))"
   ]
  },
  {
   "cell_type": "code",
   "execution_count": 73,
   "id": "ac79a887-14e5-472d-89f1-f088f9f7c14a",
   "metadata": {},
   "outputs": [
    {
     "name": "stdout",
     "output_type": "stream",
     "text": [
      "1421835276416\n",
      "7\n"
     ]
    }
   ],
   "source": [
    "print(id(li))\n",
    "print(len(li))"
   ]
  },
  {
   "cell_type": "code",
   "execution_count": 75,
   "id": "0bcd98d3-9810-4afe-9544-da32fe2c3c48",
   "metadata": {},
   "outputs": [
    {
     "name": "stdout",
     "output_type": "stream",
     "text": [
      "531\n",
      "443\n",
      "1\n"
     ]
    }
   ],
   "source": [
    "print(sum(li))\n",
    "print(max(li))\n",
    "print(min(li))"
   ]
  },
  {
   "cell_type": "markdown",
   "id": "52a5d139-cb84-4c64-98b6-de1f9f7d0b08",
   "metadata": {},
   "source": [
    "리스트 퀴즈   \n",
    "Q1. [1,3,5,4,2]라는 리스트를 [5,4,3,2,1]로 만들어보자\n",
    "\n",
    "Q2. ['Life','is','too','short']라는 리스트를 Life is too short라는 문자열로 만들어 출력해 보자\n",
    "\n",
    "Q3. 다음 리스트 L의 순서를 아래와 같이 변경하시오. (힌트: pop())\n",
    "\n",
    "변경 전\n",
    "\n",
    "[1, 3, 5, 7, 9]\n",
    "\n",
    "변경 후\n",
    "\n",
    "[3, 5, 7, 9, 1]"
   ]
  },
  {
   "cell_type": "code",
   "execution_count": 80,
   "id": "5eea1960-a4be-4723-9945-911675f74bee",
   "metadata": {},
   "outputs": [
    {
     "name": "stdout",
     "output_type": "stream",
     "text": [
      "[5, 4, 3, 2, 1]\n"
     ]
    }
   ],
   "source": [
    "list1 = [1,3,5,4,2]\n",
    "list1_re_sorted = sorted(list1, reverse=True)\n",
    "print(list1_re_sorted)"
   ]
  },
  {
   "cell_type": "code",
   "execution_count": 81,
   "id": "91ec2785-ed7a-44e7-8018-fce4980d6bd8",
   "metadata": {},
   "outputs": [
    {
     "name": "stdout",
     "output_type": "stream",
     "text": [
      "Life is too short\n"
     ]
    }
   ],
   "source": [
    "list2 = ['Life','is','too','short']\n",
    "print(' '.join(list2))"
   ]
  },
  {
   "cell_type": "code",
   "execution_count": 84,
   "id": "0104f1bb-b1db-4eb4-bed6-75b7e96405a9",
   "metadata": {},
   "outputs": [
    {
     "name": "stdout",
     "output_type": "stream",
     "text": [
      "[3, 5, 7, 9, 1]\n"
     ]
    }
   ],
   "source": [
    "L = [1, 3, 5, 7, 9]\n",
    "L.append(L.pop(0))\n",
    "print(L)"
   ]
  },
  {
   "cell_type": "markdown",
   "id": "d393dcf1-f952-400f-b8a8-5a37fffd808d",
   "metadata": {},
   "source": [
    "# 딕셔너리\n",
    "\n",
    "{키 : 값, 키 : 값}"
   ]
  },
  {
   "cell_type": "code",
   "execution_count": 85,
   "id": "0fa780b0-ca6c-482d-9f0f-7c81e491adda",
   "metadata": {},
   "outputs": [
    {
     "data": {
      "text/plain": [
       "{'이름': 'Alice', '나이': 25, '도시': '서울'}"
      ]
     },
     "execution_count": 85,
     "metadata": {},
     "output_type": "execute_result"
    }
   ],
   "source": [
    "person = {'이름':'Alice', '나이':25, '도시':'서울'}\n",
    "person"
   ]
  },
  {
   "cell_type": "code",
   "execution_count": 89,
   "id": "b66a1259-2820-4e3d-858c-c59cdf388a47",
   "metadata": {},
   "outputs": [
    {
     "data": {
      "text/plain": [
       "{'이름': '홍가연', '나이': 26, '도시': '경기'}"
      ]
     },
     "execution_count": 89,
     "metadata": {},
     "output_type": "execute_result"
    }
   ],
   "source": [
    "person2 = dict(이름='홍가연', 나이=26, 도시='경기')\n",
    "person2"
   ]
  },
  {
   "cell_type": "code",
   "execution_count": 92,
   "id": "8923fbb9-ae46-4877-8ac4-68496d483d96",
   "metadata": {},
   "outputs": [
    {
     "data": {
      "text/plain": [
       "{'이름': '홍길동', '나이': 25, '도시': '서울'}"
      ]
     },
     "execution_count": 92,
     "metadata": {},
     "output_type": "execute_result"
    }
   ],
   "source": [
    "person['이름'] = '홍길동'\n",
    "person"
   ]
  },
  {
   "cell_type": "code",
   "execution_count": 97,
   "id": "1ba48593-a0f7-471e-8cf5-08e9aa2f7a0e",
   "metadata": {},
   "outputs": [
    {
     "data": {
      "text/plain": [
       "{'이름': '홍길동', '나이': 25, '도시': '서울', 0: 'Bob'}"
      ]
     },
     "execution_count": 97,
     "metadata": {},
     "output_type": "execute_result"
    }
   ],
   "source": [
    "person[0] = 'Bob'   # key add\n",
    "person"
   ]
  },
  {
   "cell_type": "code",
   "execution_count": 98,
   "id": "9f9a3e0f-93da-4399-9450-07749e917bd6",
   "metadata": {},
   "outputs": [],
   "source": [
    "# person[2]  # KeyError: 2"
   ]
  },
  {
   "cell_type": "code",
   "execution_count": 99,
   "id": "cfb0c854-dcf0-467b-bf00-a1be551bed31",
   "metadata": {},
   "outputs": [
    {
     "data": {
      "text/plain": [
       "dict"
      ]
     },
     "execution_count": 99,
     "metadata": {},
     "output_type": "execute_result"
    }
   ],
   "source": [
    "type(person)"
   ]
  },
  {
   "cell_type": "code",
   "execution_count": 100,
   "id": "cd5edbbc-b06d-478e-8812-a0ddc8aed65e",
   "metadata": {
    "collapsed": true,
    "jupyter": {
     "outputs_hidden": true
    },
    "scrolled": true
   },
   "outputs": [
    {
     "data": {
      "text/plain": [
       "['__class__',\n",
       " '__class_getitem__',\n",
       " '__contains__',\n",
       " '__delattr__',\n",
       " '__delitem__',\n",
       " '__dir__',\n",
       " '__doc__',\n",
       " '__eq__',\n",
       " '__format__',\n",
       " '__ge__',\n",
       " '__getattribute__',\n",
       " '__getitem__',\n",
       " '__getstate__',\n",
       " '__gt__',\n",
       " '__hash__',\n",
       " '__init__',\n",
       " '__init_subclass__',\n",
       " '__ior__',\n",
       " '__iter__',\n",
       " '__le__',\n",
       " '__len__',\n",
       " '__lt__',\n",
       " '__ne__',\n",
       " '__new__',\n",
       " '__or__',\n",
       " '__reduce__',\n",
       " '__reduce_ex__',\n",
       " '__repr__',\n",
       " '__reversed__',\n",
       " '__ror__',\n",
       " '__setattr__',\n",
       " '__setitem__',\n",
       " '__sizeof__',\n",
       " '__str__',\n",
       " '__subclasshook__',\n",
       " 'clear',\n",
       " 'copy',\n",
       " 'fromkeys',\n",
       " 'get',\n",
       " 'items',\n",
       " 'keys',\n",
       " 'pop',\n",
       " 'popitem',\n",
       " 'setdefault',\n",
       " 'update',\n",
       " 'values']"
      ]
     },
     "execution_count": 100,
     "metadata": {},
     "output_type": "execute_result"
    }
   ],
   "source": [
    "dir(person)"
   ]
  },
  {
   "cell_type": "code",
   "execution_count": 110,
   "id": "49651916-9c95-4e02-94f2-69234da9e297",
   "metadata": {},
   "outputs": [
    {
     "data": {
      "text/plain": [
       "dict_items"
      ]
     },
     "execution_count": 110,
     "metadata": {},
     "output_type": "execute_result"
    }
   ],
   "source": [
    "items = person.items()\n",
    "type(items)"
   ]
  },
  {
   "cell_type": "code",
   "execution_count": 111,
   "id": "92c98fe9-c0ff-449c-8231-351ad4e7e331",
   "metadata": {},
   "outputs": [
    {
     "name": "stdout",
     "output_type": "stream",
     "text": [
      "('이름', '홍길동')\n",
      "('나이', 25)\n",
      "('도시', '서울')\n",
      "(0, 'Bob')\n"
     ]
    }
   ],
   "source": [
    "for i in items:\n",
    "    print(i)"
   ]
  },
  {
   "cell_type": "code",
   "execution_count": 112,
   "id": "a5e3b065-8b1a-45eb-a3bb-d3580a6abcca",
   "metadata": {},
   "outputs": [
    {
     "data": {
      "text/plain": [
       "dict_keys"
      ]
     },
     "execution_count": 112,
     "metadata": {},
     "output_type": "execute_result"
    }
   ],
   "source": [
    "keys = person.keys()\n",
    "type(keys)"
   ]
  },
  {
   "cell_type": "code",
   "execution_count": 108,
   "id": "98e7c7cf-d671-45a6-bfff-44de00933b22",
   "metadata": {},
   "outputs": [
    {
     "name": "stdout",
     "output_type": "stream",
     "text": [
      "이름\n",
      "나이\n",
      "도시\n",
      "0\n"
     ]
    }
   ],
   "source": [
    "for k in keys:\n",
    "    print(k)"
   ]
  },
  {
   "cell_type": "code",
   "execution_count": 114,
   "id": "6d47e3c9-99f5-493b-ad64-478641528c09",
   "metadata": {},
   "outputs": [
    {
     "name": "stdout",
     "output_type": "stream",
     "text": [
      "홍길동\n",
      "25\n",
      "서울\n",
      "Bob\n"
     ]
    }
   ],
   "source": [
    "values = person.values()\n",
    "\n",
    "for v in values:\n",
    "    print(v)"
   ]
  },
  {
   "cell_type": "code",
   "execution_count": 115,
   "id": "5d2435f2-96de-472f-bcbe-e27dc4f27454",
   "metadata": {},
   "outputs": [
    {
     "name": "stdout",
     "output_type": "stream",
     "text": [
      "{'이름': '홍가연', '나이': 26, '도시': '경기', 0: 'Bob'}\n"
     ]
    }
   ],
   "source": [
    "# update()는 딕셔너리에 딕셔너리를 추가한다\n",
    "person.update(person2)\n",
    "print(person)"
   ]
  },
  {
   "cell_type": "code",
   "execution_count": 118,
   "id": "0926c072-a2ed-40b6-8a6c-f9178cb538be",
   "metadata": {},
   "outputs": [],
   "source": [
    "# person3를 추가한다면?\n",
    "# key가 같으므로 값이 업데이트\n",
    "# key가 다르면 추가"
   ]
  },
  {
   "cell_type": "code",
   "execution_count": 119,
   "id": "b5a6ad43-cf0c-4799-8ce1-6af0658fa7ff",
   "metadata": {},
   "outputs": [
    {
     "name": "stdout",
     "output_type": "stream",
     "text": [
      "{'이름': '홍가연', '나이': 26, '도시': '경기', 0: 'Bob', '성별': '여자', '취미': '책'}\n"
     ]
    }
   ],
   "source": [
    "person3 = {'성별':'여자', '취미':'책'}\n",
    "person.update(person3)\n",
    "print(person)"
   ]
  },
  {
   "cell_type": "markdown",
   "id": "dfb550de-fecb-465f-977f-97509afb040f",
   "metadata": {},
   "source": [
    "# 메뉴판 만들기"
   ]
  },
  {
   "cell_type": "code",
   "execution_count": 175,
   "id": "a791eeb5-1fad-4873-b8a8-ffe92cbb6dce",
   "metadata": {},
   "outputs": [
    {
     "name": "stdout",
     "output_type": "stream",
     "text": [
      "--------------------------------------------------\n",
      "어서오세요! julia's cafe에 오신 것을 환영합니다.\n",
      "1.     카페라떼          4,000원\n",
      "2.  아이스 아메리카노        3,500원\n",
      "3.     녹차라떼          4,200원\n"
     ]
    },
    {
     "name": "stdin",
     "output_type": "stream",
     "text": [
      "주문할 메뉴 번호를 입력하세요: 3\n",
      "주문 수량을 입력하세요: 2\n"
     ]
    },
    {
     "name": "stdout",
     "output_type": "stream",
     "text": [
      "주문하신 메뉴는 녹차라떼 2잔 입니다. 결제하실 금액은 총 8,400원 입니다.\n"
     ]
    }
   ],
   "source": [
    "store_name = 'julia\\'s cafe'\n",
    "menu_list = ['카페라떼', '아이스 아메리카노', '녹차라떼']\n",
    "price_list = [4000, 3500, 4200]\n",
    "\n",
    "print('-'*50)\n",
    "print(f'어서오세요! {store_name}에 오신 것을 환영합니다.')\n",
    "\n",
    "for i in range(len(menu_list)):\n",
    "    print(f'{i + 1}. {menu_list[i]:^12} {price_list[i]:>10,}원')\n",
    "\n",
    "order_num = int(input('주문할 메뉴 번호를 입력하세요:')) - 1\n",
    "qty = int(input('주문 수량을 입력하세요:'))\n",
    "total = price_list[order_num] * qty\n",
    "\n",
    "print(f'주문하신 메뉴는 {menu_list[order_num]} {qty}잔 입니다. 결제하실 금액은 총 {total:,}원 입니다.')"
   ]
  },
  {
   "cell_type": "markdown",
   "id": "61655098-177b-4720-b83b-b43b160d4157",
   "metadata": {},
   "source": [
    "## 딕셔너리 버전"
   ]
  },
  {
   "cell_type": "code",
   "execution_count": 177,
   "id": "462adc1b-29a8-4e43-88c5-3ef2510cad35",
   "metadata": {},
   "outputs": [
    {
     "name": "stdout",
     "output_type": "stream",
     "text": [
      "--------------------------------------------------\n",
      "어서오세요! julia's cafe에 오신 것을 환영합니다.\n",
      "--------------------------------------------------\n",
      "1.     카페라떼          4,000원\n",
      "2.  아이스 아메리카노        3,500원\n",
      "3.     녹차라떼          4,200원\n",
      "4.   말차 프라프치노        7,000원\n",
      "--------------------------------------------------\n"
     ]
    },
    {
     "name": "stdin",
     "output_type": "stream",
     "text": [
      "주문할 메뉴 번호를 입력하세요: 2\n",
      "주문 수량을 숫자로 입력하세요: 3\n"
     ]
    },
    {
     "name": "stdout",
     "output_type": "stream",
     "text": [
      "주문하신 메뉴는 아이스 아메리카노 3잔 입니다. 결제하실 금액은 총 10,500원 입니다.\n"
     ]
    }
   ],
   "source": [
    "print('-'*50)\n",
    "print(f'어서오세요! {store_name}에 오신 것을 환영합니다.')\n",
    "print('-'*50)\n",
    "\n",
    "store_name = 'julia\\'s cafe'\n",
    "menu_list = [\n",
    "    {'name':'카페라떼', 'price':4000},\n",
    "    {'name':'아이스 아메리카노', 'price':3500},\n",
    "    {'name':'녹차라떼', 'price':4200},\n",
    "    {'name':'말차 프라프치노','price':7000}\n",
    "]\n",
    "\n",
    "for i, menu in enumerate(menu_list):\n",
    "    print(f'{i + 1}. {menu['name']:^12} {menu['price']:>10,}원')\n",
    "\n",
    "print('-'*50)\n",
    "\n",
    "order_num = int(input('주문할 메뉴 번호를 입력하세요:')) - 1\n",
    "qty = int(input('주문 수량을 숫자로 입력하세요:'))\n",
    "total = menu_list[order_num]['price'] * qty\n",
    "name = menu_list[order_num]['name']\n",
    "\n",
    "print(f'주문하신 메뉴는 {name} {qty}잔 입니다. 결제하실 금액은 총 {total:,}원 입니다.')"
   ]
  },
  {
   "cell_type": "markdown",
   "id": "7f011e2b-86f1-4852-82d4-ecdc35d7dc2e",
   "metadata": {},
   "source": [
    "---"
   ]
  },
  {
   "cell_type": "code",
   "execution_count": 1,
   "id": "faf0cca9-2e94-4cb2-be8a-561108e976a3",
   "metadata": {},
   "outputs": [
    {
     "name": "stdout",
     "output_type": "stream",
     "text": [
      "=============================================\n",
      "                🍧또!젤라또🍧                 \n",
      "=============================================\n",
      "어서오세요 아이스크림을 또 주는 또젤라또입니다\n",
      "\n",
      "1. 또젤라또           1가지맛      3,000원\n",
      "2. 또또젤라또          2가지맛      5,000원\n",
      "3. 또또또젤라또         3가지맛      7,000원\n",
      "=============================================\n"
     ]
    },
    {
     "name": "stdin",
     "output_type": "stream",
     "text": [
      "주문할 메뉴 번호를 입력해주세요: 2\n"
     ]
    }
   ],
   "source": [
    "store_name = '🍧또!젤라또🍧'\n",
    "\n",
    "menu_list = [\n",
    "    {'name':'또젤라또','count':'1가지맛', 'price':3000},\n",
    "    {'name':'또또젤라또','count':'2가지맛', 'price':5000},\n",
    "    {'name':'또또또젤라또','count':'3가지맛', 'price':7000}\n",
    "]\n",
    "\n",
    "flavor_list = [\n",
    "    {'flavor':'달콤초코봄바람'},\n",
    "    {'flavor':'새콤달콤딸기정원'},\n",
    "    {'flavor':'요거트빛파도'},\n",
    "    {'flavor':'말차소풍'},\n",
    "    {'flavor':'체리팝송'},\n",
    "    {'flavor':'포도에몽'},\n",
    "    {'flavor':'바닐라하모니'},\n",
    "    {'flavor':'쿠키크러쉬'},\n",
    "    {'flavor':'소금바다우유'},\n",
    "    {'flavor':'블루베리썸머'},\n",
    "    {'flavor':'스윗피치'},\n",
    "    {'flavor':'레몬샤워'},\n",
    "]\n",
    "\n",
    "\n",
    "print(\"=\"*45)\n",
    "print(f'{store_name:^40}')\n",
    "print(\"=\"*45)\n",
    "\n",
    "print(\"어서오세요 아이스크림을 또 주는 또젤라또입니다\\n\")\n",
    "\n",
    "for i, menu in enumerate(menu_list):\n",
    "    print(f'{i + 1}. {menu['name']:<6} {menu['count']:>12} {menu['price']:>10,}원')\n",
    "print(\"=\"*45)\n",
    "\n",
    "order_num = int(input('주문할 메뉴 번호를 입력해주세요:')) - 1"
   ]
  },
  {
   "cell_type": "code",
   "execution_count": 11,
   "id": "c655c23d-1975-4f40-a415-1be76c038e28",
   "metadata": {},
   "outputs": [
    {
     "name": "stdout",
     "output_type": "stream",
     "text": [
      "=============================================\n",
      "\n",
      "선택하신 사이즈는 '또또젤라또' 입니다.\n",
      "2가지 맛을 골라주세요.\n",
      "\n",
      "=============================================\n",
      "1. 달콤초코봄바람\n",
      "2. 새콤달콤딸기정원\n",
      "3. 요거트빛파도\n",
      "4. 말차소풍\n",
      "5. 체리팝송\n",
      "6. 포도에몽\n",
      "7. 바닐라하모니\n",
      "8. 쿠키크러쉬\n",
      "9. 소금바다우유\n",
      "10. 블루베리썸머\n",
      "11. 스윗피치\n",
      "12. 레몬샤워\n",
      "=============================================\n"
     ]
    },
    {
     "name": "stdin",
     "output_type": "stream",
     "text": [
      "\n",
      "맛 번호들을 숫자로 입력하세요 (예: 1 , 3 , 5):  4, 5\n"
     ]
    },
    {
     "name": "stdout",
     "output_type": "stream",
     "text": [
      "\n",
      "=============================================\n"
     ]
    }
   ],
   "source": [
    "#[2]\n",
    "selected_menu = menu_list[order_num]\n",
    "\n",
    "# 선택한 사이즈 안내 메시지\n",
    "flavor_count = int(selected_menu['count'][0])\n",
    "print('='*45)\n",
    "print(f\"\\n선택하신 사이즈는 '{selected_menu['name']}' 입니다.\")\n",
    "\n",
    "# 선택한 수에 따라 정확히 안내 메시지 출력\n",
    "if flavor_count == 1:\n",
    "    print(\"1가지 맛을 골라주세요.\")\n",
    "elif flavor_count == 2:\n",
    "    print(\"2가지 맛을 골라주세요.\")\n",
    "elif flavor_count == 3:\n",
    "    print(\"3가지 맛을 골라주세요.\")\n",
    "print('\\n' + '='*45)\n",
    "\n",
    "# 메뉴 리스트 보여주기\n",
    "for i, fla in enumerate(flavor_list):\n",
    "    print(f\"{i+1}. {fla['flavor']}\")\n",
    "print('='*45)\n",
    "\n",
    "# 맛 번호 입력\n",
    "while True:\n",
    "    flavor_input = input(\"\\n맛 번호들을 숫자로 입력하세요 (예: 1 , 3 , 5): \")\n",
    "    print('\\n' + '='*45)\n",
    "    parts = flavor_input.split(',')\n",
    "    flavor_nums = []\n",
    "\n",
    "    for p in parts:\n",
    "        p = p.strip()\n",
    "        if p.isdigit():\n",
    "            flavor_nums.append(int(p) - 1)\n",
    "\n",
    "    if len(flavor_nums) != flavor_count:\n",
    "        print(f\"\\n {flavor_count}가지 맛을 선택해야 합니다. 다시 입력해주세요.\")\n",
    "        continue\n",
    "    break\n",
    "\n",
    "# flavor_nums"
   ]
  },
  {
   "cell_type": "code",
   "execution_count": 13,
   "id": "37e4eea2-7652-4ef5-9d2d-95c390ec9023",
   "metadata": {},
   "outputs": [
    {
     "name": "stdout",
     "output_type": "stream",
     "text": [
      "=============================================\n",
      "선택하신 제품은 [또또젤라또]이며 선택하신 맛은\n",
      "\n",
      " - 4.말차소풍\n",
      " - 5.체리팝송\n",
      "\n",
      "맛입니다\n",
      "=============================================\n"
     ]
    },
    {
     "name": "stdin",
     "output_type": "stream",
     "text": [
      "더 주문하시겠습니까?(Y/N) y\n"
     ]
    },
    {
     "name": "stdout",
     "output_type": "stream",
     "text": [
      "=============================================\n",
      "아직 배우지 않았습니다. 잠시만 기다려주세요 ^^\n",
      "=============================================\n"
     ]
    },
    {
     "name": "stdin",
     "output_type": "stream",
     "text": [
      "포인트 적립하시겠습니까? (Y,N) n\n"
     ]
    },
    {
     "name": "stdout",
     "output_type": "stream",
     "text": [
      "=============================================\n"
     ]
    }
   ],
   "source": [
    "select_name = menu_list[order_num]['name']\n",
    "print('='*45)\n",
    "print(f'선택하신 제품은 [{select_name}]이며 선택하신 맛은\\n')\n",
    "for i in flavor_nums :\n",
    "    print(f' - {i+1}.{flavor_list[i]['flavor']}')\n",
    "print('\\n맛입니다')\n",
    "print('='*45)\n",
    "\n",
    "order_q = input(f'더 주문하시겠습니까?(Y/N)')\n",
    "print('='*45)\n",
    "\n",
    "if 'y' in order_q :\n",
    "    #주문화면으로 가기\n",
    "    print('아직 배우지 않았습니다. 잠시만 기다려주세요 ^^')\n",
    "else:\n",
    "    #결제 페이지로 가기 \n",
    "    print(f'주문하신 제품은 \\'{select_name}\\'의')\n",
    "    for i in flavor_nums :\n",
    "         print(f' - {i+1}.{flavor_list[i]['flavor']}')\n",
    "    print('입니다\\n')\n",
    "    print(f'총 금액은 \\'{selected_menu['price']}\\'원 입니다.\\n')\n",
    "    \n",
    "print('='*45)\n",
    "point_q = input('포인트 적립하시겠습니까? (Y,N)')\n",
    "print('='*45)"
   ]
  },
  {
   "cell_type": "code",
   "execution_count": 15,
   "id": "e6ea2724-bc81-46e9-be09-9987282c3468",
   "metadata": {},
   "outputs": [
    {
     "name": "stdout",
     "output_type": "stream",
     "text": [
      "=============================================\n",
      "주문 완료되었습니다.\n",
      "\n",
      "고객님, 잠시만 기다려주세요.\n",
      "감사합니다. 고객님, 또 오세요😊\n",
      "=============================================\n"
     ]
    }
   ],
   "source": [
    "if 'y' in point_q:\n",
    "  print(\"\\n 등록된 전화번호를 입력해주세요. \\n\")\n",
    "  membership = input(\">> \")\n",
    "\n",
    "  # 포인트 계산 (예시 : 100원당 1포인트적립)\n",
    "  total_cost = menu_list[order_num][\"price\"] # 실제 프로젝트에서는 이 값이 외부에서 전달될 예정\n",
    "  saved_point = total_cost // 100\n",
    "  existing_point = 250 # 기존 보유 포인트(가정)\n",
    "  total_point = existing_point + saved_point\n",
    "    \n",
    "  #출력\n",
    "  print('='*45)\n",
    "  print(f\"\\n오늘의 결제 총금액은 {total_cost:,}원이며,\")\n",
    "  print(f\"\\n{saved_point} HappyPoint가 적립되어 \")\n",
    "  print(f\"총{total_point} HappyPoint를 보유중입니다.\\n\")\n",
    "else:\n",
    "    membership = \"고객\"\n",
    "print('='*45)\n",
    "print(\"주문 완료되었습니다.\\n\")\n",
    "print(f\"{membership}님, 잠시만 기다려주세요.\")\n",
    "print(f\"감사합니다. {membership}님, 또 오세요😊\")\n",
    "print('='*45)"
   ]
  },
  {
   "cell_type": "markdown",
   "id": "6bdde08c-2b81-43e0-9128-28e935ffbca1",
   "metadata": {},
   "source": [
    "---"
   ]
  },
  {
   "cell_type": "markdown",
   "id": "d452d6fd-a44b-4bd1-8a15-f14fde05ae9b",
   "metadata": {},
   "source": [
    "# 튜플\n",
    "리스트랑 비슷, 변경을 안되는 특성을 가진다"
   ]
  },
  {
   "cell_type": "code",
   "execution_count": 16,
   "id": "10a78956-0b2f-4297-918d-fccd4e8e69a6",
   "metadata": {},
   "outputs": [
    {
     "data": {
      "text/plain": [
       "((), tuple)"
      ]
     },
     "execution_count": 16,
     "metadata": {},
     "output_type": "execute_result"
    }
   ],
   "source": [
    "a = tuple()\n",
    "a, type(a)"
   ]
  },
  {
   "cell_type": "code",
   "execution_count": 17,
   "id": "15bf4152-6440-49a1-a014-70771e52f655",
   "metadata": {},
   "outputs": [
    {
     "data": {
      "text/plain": [
       "(1, int)"
      ]
     },
     "execution_count": 17,
     "metadata": {},
     "output_type": "execute_result"
    }
   ],
   "source": [
    "b = (1)\n",
    "b, type(b)"
   ]
  },
  {
   "cell_type": "code",
   "execution_count": 18,
   "id": "81aac142-5ab0-4221-886b-cb8a445f7f6a",
   "metadata": {},
   "outputs": [
    {
     "data": {
      "text/plain": [
       "((1,), tuple)"
      ]
     },
     "execution_count": 18,
     "metadata": {},
     "output_type": "execute_result"
    }
   ],
   "source": [
    "bb = (1, )\n",
    "bb, type(bb)"
   ]
  },
  {
   "cell_type": "code",
   "execution_count": 20,
   "id": "a4298e88-af83-4046-b392-41f688917b07",
   "metadata": {},
   "outputs": [
    {
     "data": {
      "text/plain": [
       "(1, 2, (3, 4), '5', [1, 2, 3])"
      ]
     },
     "execution_count": 20,
     "metadata": {},
     "output_type": "execute_result"
    }
   ],
   "source": [
    "c = (1, 2, (3, 4), '5', [1, 2, 3])\n",
    "c"
   ]
  },
  {
   "cell_type": "code",
   "execution_count": 21,
   "id": "a2a08e79-ed01-4039-ad05-1b43df779d6a",
   "metadata": {},
   "outputs": [
    {
     "data": {
      "text/plain": [
       "1"
      ]
     },
     "execution_count": 21,
     "metadata": {},
     "output_type": "execute_result"
    }
   ],
   "source": [
    "c[0]"
   ]
  },
  {
   "cell_type": "code",
   "execution_count": 23,
   "id": "eddc302a-d139-4c77-933e-51be052bb1d4",
   "metadata": {},
   "outputs": [],
   "source": [
    "# c[0] = 3   # TypeError: 'tuple' object does not support item assignment"
   ]
  },
  {
   "cell_type": "code",
   "execution_count": 25,
   "id": "277c609a-2e3f-422d-9d23-7975024b1352",
   "metadata": {},
   "outputs": [
    {
     "data": {
      "text/plain": [
       "(('사과', '복숭아', '딸기'), tuple)"
      ]
     },
     "execution_count": 25,
     "metadata": {},
     "output_type": "execute_result"
    }
   ],
   "source": [
    "# 튜플의 괄호는 생략해도 된다.\n",
    "# 쉼표로 요소는 하나 이상이어야 한다.\n",
    "fruits = '사과', '복숭아', '딸기'\n",
    "fruits, type(fruits)"
   ]
  },
  {
   "cell_type": "code",
   "execution_count": 34,
   "id": "1b0412c9-dab4-4e5d-87a1-cb10cbf13bef",
   "metadata": {},
   "outputs": [
    {
     "data": {
      "text/plain": [
       "(1, 2, 3)"
      ]
     },
     "execution_count": 34,
     "metadata": {},
     "output_type": "execute_result"
    }
   ],
   "source": [
    "# 패킹, 언패킹\n",
    "\n",
    "nums = [1, 2, 3]\n",
    "a, b, c = nums       # list unpacking\n",
    "a, b, c"
   ]
  },
  {
   "cell_type": "code",
   "execution_count": 38,
   "id": "5314239d-70d7-4d47-8e6c-4a2ea89d66d3",
   "metadata": {},
   "outputs": [
    {
     "data": {
      "text/plain": [
       "('h', ['e', 'l', 'l'], 'o')"
      ]
     },
     "execution_count": 38,
     "metadata": {},
     "output_type": "execute_result"
    }
   ],
   "source": [
    "s = 'hello'  # packing\n",
    "a, *b, c = s         # unpacking * - rest\n",
    "a, b, c"
   ]
  },
  {
   "cell_type": "code",
   "execution_count": 39,
   "id": "939bd763-d8c2-42b0-ae82-3a05aeceb3d1",
   "metadata": {},
   "outputs": [
    {
     "data": {
      "text/plain": [
       "('홍길동', 20, '1학년')"
      ]
     },
     "execution_count": 39,
     "metadata": {},
     "output_type": "execute_result"
    }
   ],
   "source": [
    "student = ('홍길동', 20, '1학년') # 패킹\n",
    "student"
   ]
  },
  {
   "cell_type": "code",
   "execution_count": 41,
   "id": "891d6a97-e954-4285-b556-a89649f233f8",
   "metadata": {},
   "outputs": [
    {
     "data": {
      "text/plain": [
       "'이름은 홍길동이고, 나이는 20이고, 1학년입니다.'"
      ]
     },
     "execution_count": 41,
     "metadata": {},
     "output_type": "execute_result"
    }
   ],
   "source": [
    "name, age, grade = student   # 언패킹\n",
    "f'이름은 {name}이고, 나이는 {age}이고, {grade}입니다.'"
   ]
  },
  {
   "cell_type": "code",
   "execution_count": 44,
   "id": "b326d5cf-024e-45ab-8120-709a62f6b3e2",
   "metadata": {},
   "outputs": [
    {
     "data": {
      "text/plain": [
       "(2, 1)"
      ]
     },
     "execution_count": 44,
     "metadata": {},
     "output_type": "execute_result"
    }
   ],
   "source": [
    "# 미션\n",
    "x = 1\n",
    "y = 2\n",
    "\n",
    "x, y = y, x\n",
    "\n",
    "x, y   # tuple의 패킹, 언패킹"
   ]
  },
  {
   "cell_type": "code",
   "execution_count": 48,
   "id": "46a3e30f-acb5-4609-a45b-9f704feda7cc",
   "metadata": {},
   "outputs": [
    {
     "name": "stdout",
     "output_type": "stream",
     "text": [
      "5 4 3\n",
      "(3, 4, 5)\n"
     ]
    }
   ],
   "source": [
    "# 함수의 정의\n",
    "def func_a(a, b, c):\n",
    "    print(a, b, c)\n",
    "    return c, b, a\n",
    "\n",
    "# 함수의 호출\n",
    "result = func_a(5, 4, 3)\n",
    "\n",
    "# 함수의 반환값\n",
    "print(result)"
   ]
  },
  {
   "cell_type": "code",
   "execution_count": 49,
   "id": "03ef26ca-daf8-49c6-bf9a-cf76a3c8dddd",
   "metadata": {},
   "outputs": [
    {
     "name": "stdout",
     "output_type": "stream",
     "text": [
      "1 2 3\n"
     ]
    },
    {
     "data": {
      "text/plain": [
       "(3, 2, 1)"
      ]
     },
     "execution_count": 49,
     "metadata": {},
     "output_type": "execute_result"
    }
   ],
   "source": [
    "a1, b1, c1 = func_a(1, 2, 3)\n",
    "a1, b1, c1"
   ]
  },
  {
   "cell_type": "code",
   "execution_count": 50,
   "id": "49ad3045-bdca-4670-96c0-033aaec30a2e",
   "metadata": {},
   "outputs": [],
   "source": [
    "# 튜플에 값을 추가하려면?\n",
    "# 형변환 -> 리스트"
   ]
  },
  {
   "cell_type": "code",
   "execution_count": 51,
   "id": "2b4e2239-7f65-4a05-b67f-b646d2b6c941",
   "metadata": {},
   "outputs": [
    {
     "data": {
      "text/plain": [
       "('가연', '지훈', '지희')"
      ]
     },
     "execution_count": 51,
     "metadata": {},
     "output_type": "execute_result"
    }
   ],
   "source": [
    "name_tuple = (\"가연\", '지훈', '지희')\n",
    "name_tuple"
   ]
  },
  {
   "cell_type": "code",
   "execution_count": 52,
   "id": "23115795-426a-4d57-be39-7168f48b4914",
   "metadata": {},
   "outputs": [
    {
     "data": {
      "text/plain": [
       "['가연', '지훈', '지희', '유석']"
      ]
     },
     "execution_count": 52,
     "metadata": {},
     "output_type": "execute_result"
    }
   ],
   "source": [
    "name_list = list(name_tuple)\n",
    "name_list.append('유석')\n",
    "name_list"
   ]
  },
  {
   "cell_type": "code",
   "execution_count": 53,
   "id": "4d6885aa-f1a5-4f3c-b0b2-415bfa752293",
   "metadata": {},
   "outputs": [
    {
     "data": {
      "text/plain": [
       "('가연', '지훈', '지희', '유석')"
      ]
     },
     "execution_count": 53,
     "metadata": {},
     "output_type": "execute_result"
    }
   ],
   "source": [
    "name_tuple = tuple(name_list)\n",
    "name_tuple"
   ]
  },
  {
   "cell_type": "code",
   "execution_count": 56,
   "id": "a7f4a0ab-0486-4e79-8d8a-d6ca66c28c20",
   "metadata": {
    "scrolled": true
   },
   "outputs": [
    {
     "data": {
      "text/plain": [
       "['__add__',\n",
       " '__class__',\n",
       " '__class_getitem__',\n",
       " '__contains__',\n",
       " '__delattr__',\n",
       " '__dir__',\n",
       " '__doc__',\n",
       " '__eq__',\n",
       " '__format__',\n",
       " '__ge__',\n",
       " '__getattribute__',\n",
       " '__getitem__',\n",
       " '__getnewargs__',\n",
       " '__getstate__',\n",
       " '__gt__',\n",
       " '__hash__',\n",
       " '__init__',\n",
       " '__init_subclass__',\n",
       " '__iter__',\n",
       " '__le__',\n",
       " '__len__',\n",
       " '__lt__',\n",
       " '__mul__',\n",
       " '__ne__',\n",
       " '__new__',\n",
       " '__reduce__',\n",
       " '__reduce_ex__',\n",
       " '__repr__',\n",
       " '__rmul__',\n",
       " '__setattr__',\n",
       " '__sizeof__',\n",
       " '__str__',\n",
       " '__subclasshook__',\n",
       " 'count',\n",
       " 'index']"
      ]
     },
     "execution_count": 56,
     "metadata": {},
     "output_type": "execute_result"
    }
   ],
   "source": [
    "dir(name_tuple)"
   ]
  },
  {
   "cell_type": "code",
   "execution_count": 57,
   "id": "0c1dc54c-df5b-451f-8650-1302c1fac655",
   "metadata": {},
   "outputs": [],
   "source": [
    "# __add__ : +\n",
    "# __mul__ : *"
   ]
  },
  {
   "cell_type": "code",
   "execution_count": 65,
   "id": "5112643b-d636-4e4e-8647-ce4c91680f45",
   "metadata": {},
   "outputs": [
    {
     "data": {
      "text/plain": [
       "('가연', '지훈', '지희', '유석')"
      ]
     },
     "execution_count": 65,
     "metadata": {},
     "output_type": "execute_result"
    }
   ],
   "source": [
    "name_tuple = (\"가연\", '지훈', '지희')\n",
    "name_tuple = name_tuple.__add__(('유석',))\n",
    "name_tuple"
   ]
  },
  {
   "cell_type": "code",
   "execution_count": 66,
   "id": "df118845-3b74-4370-a610-07aa14e19601",
   "metadata": {},
   "outputs": [
    {
     "data": {
      "text/plain": [
       "('가연', '지훈', '지희', '유석', '가연', '지훈', '지희', '유석', '가연', '지훈', '지희', '유석')"
      ]
     },
     "execution_count": 66,
     "metadata": {},
     "output_type": "execute_result"
    }
   ],
   "source": [
    "name_tuple * 3"
   ]
  },
  {
   "cell_type": "markdown",
   "id": "558fdd59-faed-44ee-a077-94bc5c17e78a",
   "metadata": {},
   "source": [
    "---"
   ]
  },
  {
   "cell_type": "markdown",
   "id": "f93b9ac1-7316-4389-a394-4ae0279c3cb7",
   "metadata": {},
   "source": [
    "# 집합\n",
    "\n",
    "- set(), { }\n",
    "- 중복이 안된다. 순서도 없다, 키도 없다\n",
    "- 속도가 빠르다. 해싱을 하는 자료형 (딕셔너리, 집합)"
   ]
  },
  {
   "cell_type": "code",
   "execution_count": 68,
   "id": "0a692ed5-a73f-4e7f-b051-643f7b9e0aa6",
   "metadata": {},
   "outputs": [
    {
     "data": {
      "text/plain": [
       "{1, 2, 3}"
      ]
     },
     "execution_count": 68,
     "metadata": {},
     "output_type": "execute_result"
    }
   ],
   "source": [
    "s = set([1, 2, 3])\n",
    "s"
   ]
  },
  {
   "cell_type": "code",
   "execution_count": 69,
   "id": "8ba43a35-42b4-439a-a5ac-618c195ed6d4",
   "metadata": {},
   "outputs": [
    {
     "data": {
      "text/plain": [
       "{1, 2, 3}"
      ]
     },
     "execution_count": 69,
     "metadata": {},
     "output_type": "execute_result"
    }
   ],
   "source": [
    "s1 = {1, 2, 3}\n",
    "s1"
   ]
  },
  {
   "cell_type": "code",
   "execution_count": 70,
   "id": "1065655b-0009-45da-807d-83c03e1d75a8",
   "metadata": {},
   "outputs": [
    {
     "data": {
      "text/plain": [
       "{1, 2, 3}"
      ]
     },
     "execution_count": 70,
     "metadata": {},
     "output_type": "execute_result"
    }
   ],
   "source": [
    "s2 = {1, 2, 3, 1}\n",
    "s2"
   ]
  },
  {
   "cell_type": "code",
   "execution_count": 79,
   "id": "0560aeae-802c-4aa1-aa70-b6f780ff7011",
   "metadata": {},
   "outputs": [
    {
     "data": {
      "text/plain": [
       "[1, 2, 3, 1, 2, 3]"
      ]
     },
     "execution_count": 79,
     "metadata": {},
     "output_type": "execute_result"
    }
   ],
   "source": [
    "l2 = [1, 2, 3]\n",
    "l2 *= 2\n",
    "l2"
   ]
  },
  {
   "cell_type": "code",
   "execution_count": 73,
   "id": "e24af937-dd05-427b-8b6b-74f6ebf56db8",
   "metadata": {},
   "outputs": [
    {
     "data": {
      "text/plain": [
       "{1, 2, 3}"
      ]
     },
     "execution_count": 73,
     "metadata": {},
     "output_type": "execute_result"
    }
   ],
   "source": [
    "# set으로 중복 제거\n",
    "s3 = set(l2)\n",
    "s3"
   ]
  },
  {
   "cell_type": "code",
   "execution_count": 80,
   "id": "f5ed81ba-218e-4688-9e2a-6245009c9131",
   "metadata": {},
   "outputs": [
    {
     "data": {
      "text/plain": [
       "[1, 2, 3, 1, 2, 3, [4, 5, 6]]"
      ]
     },
     "execution_count": 80,
     "metadata": {},
     "output_type": "execute_result"
    }
   ],
   "source": [
    "l2.append([4, 5, 6])\n",
    "l2"
   ]
  },
  {
   "cell_type": "code",
   "execution_count": 81,
   "id": "62ff9413-c76f-4baa-8542-71ebb515509a",
   "metadata": {},
   "outputs": [
    {
     "data": {
      "text/plain": [
       "([1, 2, 3, 1, 2, 3, [4, 5, 6]], list)"
      ]
     },
     "execution_count": 81,
     "metadata": {},
     "output_type": "execute_result"
    }
   ],
   "source": [
    "l2, type(l2)"
   ]
  },
  {
   "cell_type": "code",
   "execution_count": 102,
   "id": "eec45faa-a7a7-487c-ac9c-014b4d900e2b",
   "metadata": {},
   "outputs": [],
   "source": [
    "# set(l2)  TypeError: unhashable type: 'list'"
   ]
  },
  {
   "cell_type": "code",
   "execution_count": 107,
   "id": "934a73fc-b8c7-4ce8-85ae-44ffc6be06b6",
   "metadata": {},
   "outputs": [
    {
     "data": {
      "text/plain": [
       "8931441466601598391"
      ]
     },
     "execution_count": 107,
     "metadata": {},
     "output_type": "execute_result"
    }
   ],
   "source": [
    "hash('hi')  # 해시코드 -> 해싱 가능한 데이터: 문자열"
   ]
  },
  {
   "cell_type": "code",
   "execution_count": 106,
   "id": "f5c8ed14-918f-4c1b-a74e-91a7bc5cb7ba",
   "metadata": {},
   "outputs": [
    {
     "data": {
      "text/plain": [
       "123"
      ]
     },
     "execution_count": 106,
     "metadata": {},
     "output_type": "execute_result"
    }
   ],
   "source": [
    "hash(123)  # 해싱 가능 int, float, boolean"
   ]
  },
  {
   "cell_type": "code",
   "execution_count": 108,
   "id": "1507aeec-5c03-4c45-8d81-987adbfafff5",
   "metadata": {},
   "outputs": [
    {
     "data": {
      "text/plain": [
       "{123, 'hi'}"
      ]
     },
     "execution_count": 108,
     "metadata": {},
     "output_type": "execute_result"
    }
   ],
   "source": [
    "set(['hi', 123])  # 해싱으로 바귄 값을 저장 -> 집합 연산"
   ]
  },
  {
   "cell_type": "code",
   "execution_count": 101,
   "id": "cd8ef4be-65d6-4ffd-8a48-c75f3315e12e",
   "metadata": {},
   "outputs": [],
   "source": [
    "l1 = [1, 2, 3]\n",
    "# hash(l1)  TypeError: unhashable type: 'list'"
   ]
  },
  {
   "cell_type": "code",
   "execution_count": 110,
   "id": "083f543a-e6ef-4836-b1b6-e43801a19496",
   "metadata": {},
   "outputs": [
    {
     "data": {
      "text/plain": [
       "529344067295497451"
      ]
     },
     "execution_count": 110,
     "metadata": {},
     "output_type": "execute_result"
    }
   ],
   "source": [
    "hash((1, 2, 3))   # 튜플은 통채로 바로 해싱 가능"
   ]
  },
  {
   "cell_type": "code",
   "execution_count": 111,
   "id": "71d249d0-d4ce-4051-9c94-ede0ffb0f92b",
   "metadata": {},
   "outputs": [],
   "source": [
    "# hash({1, 2, 3})  # set: 해싱 불가능, 요소는 해싱 가능해야 함!! TypeError: unhashable type: 'set'"
   ]
  },
  {
   "cell_type": "markdown",
   "id": "1cff1b3b-4c72-4bb7-9fb1-e478da471520",
   "metadata": {},
   "source": [
    "# set 집합 연산\n",
    "\n",
    "- 교집합 &, intersection()\n",
    "- 합집합 |, union()\n",
    "- 차집합 -, difference()"
   ]
  },
  {
   "cell_type": "code",
   "execution_count": 90,
   "id": "7c730017-8aa0-4346-9c56-f06ed44e2e27",
   "metadata": {},
   "outputs": [],
   "source": [
    "s = set([1, 2, 3, 4])\n",
    "x = {2, 3, 4}\n",
    "y = {3, 4, 5}"
   ]
  },
  {
   "cell_type": "code",
   "execution_count": 97,
   "id": "d84f1e3e-79ec-4484-b029-021a63904151",
   "metadata": {},
   "outputs": [
    {
     "data": {
      "text/plain": [
       "{3, 4}"
      ]
     },
     "execution_count": 97,
     "metadata": {},
     "output_type": "execute_result"
    }
   ],
   "source": [
    "# 교집합\n",
    "x & y"
   ]
  },
  {
   "cell_type": "code",
   "execution_count": 92,
   "id": "870fa9c8-b7b0-4d23-9774-570772e278b5",
   "metadata": {},
   "outputs": [
    {
     "data": {
      "text/plain": [
       "{3, 4}"
      ]
     },
     "execution_count": 92,
     "metadata": {},
     "output_type": "execute_result"
    }
   ],
   "source": [
    "x.intersection(y)"
   ]
  },
  {
   "cell_type": "code",
   "execution_count": 98,
   "id": "23fb150e-9395-4542-abfc-010b140de95c",
   "metadata": {},
   "outputs": [
    {
     "data": {
      "text/plain": [
       "{5}"
      ]
     },
     "execution_count": 98,
     "metadata": {},
     "output_type": "execute_result"
    }
   ],
   "source": [
    "# 차집합\n",
    "y - x"
   ]
  },
  {
   "cell_type": "code",
   "execution_count": 94,
   "id": "9561ad44-b003-4bb6-8b91-3914de7166be",
   "metadata": {},
   "outputs": [
    {
     "data": {
      "text/plain": [
       "{1, 2}"
      ]
     },
     "execution_count": 94,
     "metadata": {},
     "output_type": "execute_result"
    }
   ],
   "source": [
    "s.difference(y)"
   ]
  },
  {
   "cell_type": "code",
   "execution_count": 99,
   "id": "386147b4-f13f-4be5-8b49-d8a818337df4",
   "metadata": {},
   "outputs": [
    {
     "data": {
      "text/plain": [
       "{2, 3, 4, 5}"
      ]
     },
     "execution_count": 99,
     "metadata": {},
     "output_type": "execute_result"
    }
   ],
   "source": [
    "# 합집합\n",
    "x | y"
   ]
  },
  {
   "cell_type": "code",
   "execution_count": 100,
   "id": "a2f5adbd-0fd0-4303-8a4c-0749973167b7",
   "metadata": {},
   "outputs": [
    {
     "data": {
      "text/plain": [
       "{2, 3, 4, 5}"
      ]
     },
     "execution_count": 100,
     "metadata": {},
     "output_type": "execute_result"
    }
   ],
   "source": [
    "x.union(y)"
   ]
  },
  {
   "cell_type": "code",
   "execution_count": 103,
   "id": "7b5a11f2-15c6-40e0-ac61-c558c73da97b",
   "metadata": {
    "collapsed": true,
    "jupyter": {
     "outputs_hidden": true
    }
   },
   "outputs": [
    {
     "data": {
      "text/plain": [
       "['__and__',\n",
       " '__class__',\n",
       " '__class_getitem__',\n",
       " '__contains__',\n",
       " '__delattr__',\n",
       " '__dir__',\n",
       " '__doc__',\n",
       " '__eq__',\n",
       " '__format__',\n",
       " '__ge__',\n",
       " '__getattribute__',\n",
       " '__getstate__',\n",
       " '__gt__',\n",
       " '__hash__',\n",
       " '__iand__',\n",
       " '__init__',\n",
       " '__init_subclass__',\n",
       " '__ior__',\n",
       " '__isub__',\n",
       " '__iter__',\n",
       " '__ixor__',\n",
       " '__le__',\n",
       " '__len__',\n",
       " '__lt__',\n",
       " '__ne__',\n",
       " '__new__',\n",
       " '__or__',\n",
       " '__rand__',\n",
       " '__reduce__',\n",
       " '__reduce_ex__',\n",
       " '__repr__',\n",
       " '__ror__',\n",
       " '__rsub__',\n",
       " '__rxor__',\n",
       " '__setattr__',\n",
       " '__sizeof__',\n",
       " '__str__',\n",
       " '__sub__',\n",
       " '__subclasshook__',\n",
       " '__xor__',\n",
       " 'add',\n",
       " 'clear',\n",
       " 'copy',\n",
       " 'difference',\n",
       " 'difference_update',\n",
       " 'discard',\n",
       " 'intersection',\n",
       " 'intersection_update',\n",
       " 'isdisjoint',\n",
       " 'issubset',\n",
       " 'issuperset',\n",
       " 'pop',\n",
       " 'remove',\n",
       " 'symmetric_difference',\n",
       " 'symmetric_difference_update',\n",
       " 'union',\n",
       " 'update']"
      ]
     },
     "execution_count": 103,
     "metadata": {},
     "output_type": "execute_result"
    }
   ],
   "source": [
    "dir(s)"
   ]
  },
  {
   "cell_type": "markdown",
   "id": "202a1081-2a71-4d62-b894-5a91318500cd",
   "metadata": {},
   "source": [
    "# 자료형 비교\n",
    "\n",
    "| 항목       | 리스트 `[]`  | 딕셔너리 `{}`      | 튜플 `()`     | 세트 `set()`          |\n",
    "| -------- | --------- | -------------- | ----------- | ------------------- |\n",
    "| 변경 가능성   | ✅ mutable | ✅ mutable      | ❌ immutable | ✅ mutable (내용)      |\n",
    "| 구분 기호    | `[]`      | `{key: value}` | `()`        | `{값, 값}` 또는 `set()` |\n",
    "| 순서       | ✅ 있음      | ✅ 있음 (3.7 이후)  | ✅ 있음        | ❌ 없음 (정렬 안 됨)       |\n",
    "| 중복 허용    | ✅ 허용      | ❌ 키 중복 불가      | ✅ 허용        | ❌ 허용 안 함            |\n",
    "| 인덱싱/슬라이싱 | ✅ 가능      | ❌ 키로 접근        | ✅ 가능        | ❌ 불가능               |\n",
    "| 주요 용도    | 순차적 자료 보관 | 키-값 쌍 저장       | 고정된 값 묶음    | 집합 연산, 중복 제거        |"
   ]
  },
  {
   "cell_type": "markdown",
   "id": "5387e736-d0ef-450c-8890-fa553a4a2c3f",
   "metadata": {},
   "source": [
    "1. 리스트 numbers가 다음과 같을 때, 첫 번째 원소와 마지막 원소의 합을 구하는 코드를 작성하세요."
   ]
  },
  {
   "cell_type": "code",
   "execution_count": 112,
   "id": "465c233a-d06c-407f-948d-b3784fdd0386",
   "metadata": {},
   "outputs": [
    {
     "name": "stdout",
     "output_type": "stream",
     "text": [
      "110\n"
     ]
    }
   ],
   "source": [
    "numbers = [10, 20,  30,  40,  50,  60, 70, 80, 90, 100]\n",
    "sum = numbers[0] + numbers[-1]\n",
    "print(sum)"
   ]
  },
  {
   "cell_type": "markdown",
   "id": "a0acf5f0-dd76-448e-8d3f-34a8d2792f10",
   "metadata": {},
   "source": [
    "2. 리스트 colors가 다음과 같을 때, 첫 3개 원소와 마지막 2개 원소를 슬라이싱을 사용하여 출력하는 코드를 작성하세요."
   ]
  },
  {
   "cell_type": "code",
   "execution_count": 113,
   "id": "96217643-35d1-466c-bbb6-9cb202ee02e4",
   "metadata": {},
   "outputs": [
    {
     "name": "stdout",
     "output_type": "stream",
     "text": [
      "['red', 'green', 'blue'] ['orange', 'black']\n"
     ]
    }
   ],
   "source": [
    "colors = [\"red\", \"green\", \"blue\", \"yellow\", \"purple\", \"orange\", \"black\"]\n",
    "first_three = colors[:3]\n",
    "last_two = colors[-2:]\n",
    "print(first_three, last_two)"
   ]
  },
  {
   "cell_type": "markdown",
   "id": "9c0996b2-57ef-4886-a6e4-040830537e27",
   "metadata": {},
   "source": [
    "3. 다음 리스트에서 \"korean\"이라는 문자열을 찾아 출력하는 코드를 작성하세요. - indexing"
   ]
  },
  {
   "cell_type": "code",
   "execution_count": 143,
   "id": "ef276f69-88c6-4bee-b3f2-804beb348e93",
   "metadata": {},
   "outputs": [
    {
     "name": "stdout",
     "output_type": "stream",
     "text": [
      "korean\n"
     ]
    }
   ],
   "source": [
    "list_a = [\n",
    "    [1, 2, 3],\n",
    "    [\"red\", \"green\", \"blue\"],\n",
    "    [False, \"korean\", True]\n",
    "]\n",
    "print(list_a[2][1])"
   ]
  },
  {
   "cell_type": "code",
   "execution_count": 144,
   "id": "2b112913-9e05-4664-b403-6ac5e3fe8137",
   "metadata": {},
   "outputs": [
    {
     "name": "stdout",
     "output_type": "stream",
     "text": [
      "korean\n"
     ]
    }
   ],
   "source": [
    "for i in list_a:\n",
    "    for j in i:\n",
    "        if j == 'korean':\n",
    "            print(j)"
   ]
  },
  {
   "cell_type": "markdown",
   "id": "7428b909-8e00-4c62-9c7b-29ca9459bfc6",
   "metadata": {},
   "source": [
    "4. 리스트 list_a과 list_b가 다음과 같을 때, 두 리스트를 합쳐서 새로운 리스트 list_c를 만드는 코드를 작성하세요."
   ]
  },
  {
   "cell_type": "code",
   "execution_count": 115,
   "id": "4c279866-46a9-4399-ac5c-08096debc34e",
   "metadata": {},
   "outputs": [
    {
     "name": "stdout",
     "output_type": "stream",
     "text": [
      "[1, 2, 3, 4, 5, 6]\n"
     ]
    }
   ],
   "source": [
    "list_a = [1, 2, 3]\n",
    "list_b = [4, 5, 6]\n",
    "list_c = list_a + list_b\n",
    "print(list_c)"
   ]
  },
  {
   "cell_type": "markdown",
   "id": "a89edf1e-cb97-44b4-a2b6-f82599f379d5",
   "metadata": {},
   "source": [
    "5. 아래의 튜플 tuple_a에서 \"banana\"를 \"blueberry\"로 변경하는 코드를 작성하세요."
   ]
  },
  {
   "cell_type": "code",
   "execution_count": 120,
   "id": "45ad7383-04db-4330-8f53-9a6912aef000",
   "metadata": {},
   "outputs": [
    {
     "name": "stdout",
     "output_type": "stream",
     "text": [
      "('apple', 'blueberry', 'cherry')\n"
     ]
    }
   ],
   "source": [
    "tuple_a = (\"apple\", \"banana\", \"cherry\")\n",
    "list1 = list(tuple_a)\n",
    "list1[1] = \"blueberry\"\n",
    "tuple_a = tuple(list1)\n",
    "print(tuple_a)"
   ]
  },
  {
   "cell_type": "markdown",
   "id": "148e38ba-253c-402d-a75b-ba4b66f8b30a",
   "metadata": {},
   "source": [
    "6. 변수 a, b, c의 값을 사용하여 튜플 tuple_a를 생성하고 출력하는 코드를 작성하세요."
   ]
  },
  {
   "cell_type": "code",
   "execution_count": 122,
   "id": "8fe372c7-ee30-4ef3-b7a7-710ca7c02b62",
   "metadata": {},
   "outputs": [
    {
     "name": "stdout",
     "output_type": "stream",
     "text": [
      "(5, 10, 15)\n"
     ]
    }
   ],
   "source": [
    "a = 5\n",
    "b = 10\n",
    "c = 15\n",
    "\n",
    "tuple_a = (a, b, c)\n",
    "print(tuple_a)"
   ]
  },
  {
   "cell_type": "markdown",
   "id": "92d51557-d324-40bc-b416-5f38ee231a9d",
   "metadata": {},
   "source": [
    "7. 튜플 numbers가 주어졌을 때, 튜플의 최대값과 최소값을 출력하는 코드를 작성하세요."
   ]
  },
  {
   "cell_type": "code",
   "execution_count": 125,
   "id": "af45418b-d2bf-4f3d-ae3f-2ca5bb511eb0",
   "metadata": {},
   "outputs": [
    {
     "name": "stdout",
     "output_type": "stream",
     "text": [
      "92\n",
      "19\n"
     ]
    }
   ],
   "source": [
    "numbers = (92, 89, 72, 31, 71, 33, 19)\n",
    "print(max(numbers))\n",
    "print(min(numbers))"
   ]
  },
  {
   "cell_type": "markdown",
   "id": "427ef910-263a-4659-86d1-37ecd30b943d",
   "metadata": {},
   "source": [
    "8. dict 타입의 student(변수명)를 생성하고, 아래의 키-값 쌍을 추가하는 코드를 작성하세요.\n",
    "- name: \"Alice\"\n",
    "- age: 24\n",
    "- major: \"Computer Science\""
   ]
  },
  {
   "cell_type": "code",
   "execution_count": 132,
   "id": "ac99be59-8e46-42dd-8d30-8ef69b23685a",
   "metadata": {},
   "outputs": [
    {
     "name": "stdout",
     "output_type": "stream",
     "text": [
      "{'name': 'Alice', 'age': 24, 'major': 'Computer Science'}\n"
     ]
    }
   ],
   "source": [
    "student = {}\n",
    "\n",
    "student.update(name=\"Alice\", age=24, major=\"Computer Science\")\n",
    "print(student)"
   ]
  },
  {
   "cell_type": "markdown",
   "id": "bf585dbd-bba3-4cf6-8c6a-42ddfc931848",
   "metadata": {},
   "source": [
    "9. 위에서 생성한 student에서, 모든 키와 값을 출력하는 코드를 작성하세요"
   ]
  },
  {
   "cell_type": "code",
   "execution_count": 136,
   "id": "1933d48e-42be-40c4-8c25-586bf50f03bd",
   "metadata": {},
   "outputs": [
    {
     "name": "stdout",
     "output_type": "stream",
     "text": [
      "dict_items([('name', 'Alice'), ('age', 24), ('major', 'Computer Science')])\n"
     ]
    }
   ],
   "source": [
    "print(student.items())"
   ]
  },
  {
   "cell_type": "code",
   "execution_count": 145,
   "id": "0cb4d98f-efe9-4dbd-9d5d-f77f4ffda42c",
   "metadata": {},
   "outputs": [
    {
     "name": "stdout",
     "output_type": "stream",
     "text": [
      "name:Alice\n",
      "age:26\n",
      "major:Computer Science\n"
     ]
    }
   ],
   "source": [
    "for k, v in student.items():\n",
    "    print(f'{k}:{v}')"
   ]
  },
  {
   "cell_type": "markdown",
   "id": "6cf5b5c0-02f2-40a6-b892-3da6fcdd66ef",
   "metadata": {},
   "source": [
    "10. 위에서 생성한 student에서, age(나이)를 26으로 변경하세요."
   ]
  },
  {
   "cell_type": "code",
   "execution_count": 137,
   "id": "b49f8de1-a76e-4e7f-a987-2e7401925878",
   "metadata": {},
   "outputs": [
    {
     "name": "stdout",
     "output_type": "stream",
     "text": [
      "{'name': 'Alice', 'age': 26, 'major': 'Computer Science'}\n"
     ]
    }
   ],
   "source": [
    "student.update(age=26)\n",
    "print(student)"
   ]
  },
  {
   "cell_type": "markdown",
   "id": "0e98e3f1-e6b3-47c0-ba97-63217a28417c",
   "metadata": {},
   "source": [
    "11. 다음 딕셔너리 students에서 name의 값을 리스트(name_list)로, age의 값을 튜플(age_tuple) 만드는 코드를 작성하세요"
   ]
  },
  {
   "cell_type": "code",
   "execution_count": 139,
   "id": "6a32ce43-eb44-4ee4-bdeb-e59c6ff48b4c",
   "metadata": {},
   "outputs": [],
   "source": [
    "students = {\n",
    "    \"student1\": {\"name\": \"Alice\", \"age\": 24},\n",
    "    \"student2\": {\"name\": \"Bob\", \"age\": 22},\n",
    "    \"student3\": {\"name\": \"Charlie\", \"age\": 23}\n",
    "}"
   ]
  },
  {
   "cell_type": "code",
   "execution_count": 141,
   "id": "c409ed91-36bb-4cce-bee6-62da0e62ba68",
   "metadata": {},
   "outputs": [
    {
     "name": "stdout",
     "output_type": "stream",
     "text": [
      "['Alice', 'Bob', 'Charlie']\n",
      "(24, 22, 23)\n"
     ]
    }
   ],
   "source": [
    "name_list = []\n",
    "age_list = []\n",
    "\n",
    "for key in students:\n",
    "    student_num = students[key]\n",
    "    name_list.append(student_num[\"name\"])\n",
    "    age_list.append(student_num[\"age\"])\n",
    "\n",
    "age_tuple = tuple(age_list)\n",
    "\n",
    "print(name_list)\n",
    "print(age_tuple)"
   ]
  }
 ],
 "metadata": {
  "kernelspec": {
   "display_name": "Python 3 (ipykernel)",
   "language": "python",
   "name": "python3"
  },
  "language_info": {
   "codemirror_mode": {
    "name": "ipython",
    "version": 3
   },
   "file_extension": ".py",
   "mimetype": "text/x-python",
   "name": "python",
   "nbconvert_exporter": "python",
   "pygments_lexer": "ipython3",
   "version": "3.12.9"
  }
 },
 "nbformat": 4,
 "nbformat_minor": 5
}
