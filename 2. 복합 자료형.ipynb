{
 "cells": [
  {
   "cell_type": "markdown",
   "id": "fece4a70-3141-4d8f-b782-adab771a74b8",
   "metadata": {},
   "source": [
    "# 복합 자료형"
   ]
  },
  {
   "cell_type": "markdown",
   "id": "0d608ca1-048a-4ec6-b0f4-2eb28f442564",
   "metadata": {},
   "source": [
    "# 복합자료 리스트\n",
    "여러개의 값을 묶어서 하나의 변수로 다루는 자료형   \n",
    "\n",
    "생성법\n",
    "1. [] 대괄호를 사용\n",
    "2. 데이터는 ,(쉼표)로 구분\n",
    "3. [] 빈 대괄호는 초기화\n",
    "4. 숫자, 문자, 부울, 리스트 같은 객체를 모두 담을 수 있다.\n",
    "5. 순서 index를 가진다. -> 0 시작\n",
    "6. 음수 인덱스도 가진다."
   ]
  },
  {
   "cell_type": "code",
   "execution_count": 1,
   "id": "693d0df5-4401-4a95-ae70-853623c00fb0",
   "metadata": {},
   "outputs": [
    {
     "data": {
      "text/plain": [
       "30"
      ]
     },
     "execution_count": 1,
     "metadata": {},
     "output_type": "execute_result"
    }
   ],
   "source": [
    "score = [30, 50, 90, 80, 100]\n",
    "score[0]  # 첫 번째 학생의 점수"
   ]
  },
  {
   "cell_type": "code",
   "execution_count": 3,
   "id": "00e503ae-b31c-40ea-815d-f1d01bc86cb0",
   "metadata": {},
   "outputs": [
    {
     "data": {
      "text/plain": [
       "(list, int)"
      ]
     },
     "execution_count": 3,
     "metadata": {},
     "output_type": "execute_result"
    }
   ],
   "source": [
    "type(score), type(score[0])"
   ]
  },
  {
   "cell_type": "code",
   "execution_count": 4,
   "id": "08638fa8-6bb1-4879-93f1-380d1b7875c7",
   "metadata": {
    "scrolled": true
   },
   "outputs": [
    {
     "data": {
      "text/plain": [
       "['__add__',\n",
       " '__class__',\n",
       " '__class_getitem__',\n",
       " '__contains__',\n",
       " '__delattr__',\n",
       " '__delitem__',\n",
       " '__dir__',\n",
       " '__doc__',\n",
       " '__eq__',\n",
       " '__format__',\n",
       " '__ge__',\n",
       " '__getattribute__',\n",
       " '__getitem__',\n",
       " '__getstate__',\n",
       " '__gt__',\n",
       " '__hash__',\n",
       " '__iadd__',\n",
       " '__imul__',\n",
       " '__init__',\n",
       " '__init_subclass__',\n",
       " '__iter__',\n",
       " '__le__',\n",
       " '__len__',\n",
       " '__lt__',\n",
       " '__mul__',\n",
       " '__ne__',\n",
       " '__new__',\n",
       " '__reduce__',\n",
       " '__reduce_ex__',\n",
       " '__repr__',\n",
       " '__reversed__',\n",
       " '__rmul__',\n",
       " '__setattr__',\n",
       " '__setitem__',\n",
       " '__sizeof__',\n",
       " '__str__',\n",
       " '__subclasshook__',\n",
       " 'append',\n",
       " 'clear',\n",
       " 'copy',\n",
       " 'count',\n",
       " 'extend',\n",
       " 'index',\n",
       " 'insert',\n",
       " 'pop',\n",
       " 'remove',\n",
       " 'reverse',\n",
       " 'sort']"
      ]
     },
     "execution_count": 4,
     "metadata": {},
     "output_type": "execute_result"
    }
   ],
   "source": [
    "dir(score)"
   ]
  },
  {
   "cell_type": "code",
   "execution_count": 34,
   "id": "631e6fa3-d097-40f5-9bf9-d82ae14d1961",
   "metadata": {},
   "outputs": [],
   "source": [
    "ra = range(2, 20, 2)     # 범위 생성 -> 순열을 만들어 줌"
   ]
  },
  {
   "cell_type": "code",
   "execution_count": 22,
   "id": "e9a19dd7-7ad9-4cb4-8753-2650a22aa21e",
   "metadata": {},
   "outputs": [
    {
     "data": {
      "text/plain": [
       "[2, 4, 6, 8, 10, 12, 14, 16, 18]"
      ]
     },
     "execution_count": 22,
     "metadata": {},
     "output_type": "execute_result"
    }
   ],
   "source": [
    "num_list = list(ra)   # 생성자\n",
    "num_list"
   ]
  },
  {
   "cell_type": "code",
   "execution_count": 17,
   "id": "14af6336-84cc-453d-9e9e-055f9a0f7121",
   "metadata": {},
   "outputs": [
    {
     "data": {
      "text/plain": [
       "18"
      ]
     },
     "execution_count": 17,
     "metadata": {},
     "output_type": "execute_result"
    }
   ],
   "source": [
    "num_list[-1]"
   ]
  },
  {
   "cell_type": "code",
   "execution_count": 28,
   "id": "b13014c1-a87a-43f3-b978-cd73d8ef70cc",
   "metadata": {},
   "outputs": [
    {
     "data": {
      "text/plain": [
       "9"
      ]
     },
     "execution_count": 28,
     "metadata": {},
     "output_type": "execute_result"
    }
   ],
   "source": [
    "ra.__len__()      # method"
   ]
  },
  {
   "cell_type": "code",
   "execution_count": 29,
   "id": "b15612b6-0c83-40ad-80cb-78c2588c7986",
   "metadata": {},
   "outputs": [
    {
     "data": {
      "text/plain": [
       "1"
      ]
     },
     "execution_count": 29,
     "metadata": {},
     "output_type": "execute_result"
    }
   ],
   "source": [
    "num_list.count(10)"
   ]
  },
  {
   "cell_type": "markdown",
   "id": "bf97028f-3827-44f1-a596-44713f5b77c9",
   "metadata": {},
   "source": [
    "method와 function   \n",
    "1. method: 객체에 한해서 동작하는 함수 -> 객체명.함수()\n",
    "2. function: 함수(매개변수) -> 매개변수가 필요! 매개변수로 동작\n",
    "\n",
    "dir() -> function   \n",
    "list_obj.\\_\\_len\\__() -> method"
   ]
  },
  {
   "cell_type": "code",
   "execution_count": 32,
   "id": "5ea3e268-a630-475d-a6b8-0c210c605234",
   "metadata": {},
   "outputs": [],
   "source": [
    "str_1 = 'hello'\n",
    "# str_1[0] = 'H'   # TypeError -> str은 immutable!!"
   ]
  },
  {
   "cell_type": "code",
   "execution_count": 43,
   "id": "3503eec6-95d5-48b7-8b07-019d8bede138",
   "metadata": {},
   "outputs": [
    {
     "data": {
      "text/plain": [
       "'Hello'"
      ]
     },
     "execution_count": 43,
     "metadata": {},
     "output_type": "execute_result"
    }
   ],
   "source": [
    "str_2 = list(str_1)  # 문자열 -> 문자열 리스트\n",
    "str_2[0] = 'H'\n",
    "''.join(str_2)"
   ]
  },
  {
   "cell_type": "code",
   "execution_count": 48,
   "id": "52f0681d-0865-4485-8ec0-0c8a4fe42673",
   "metadata": {},
   "outputs": [
    {
     "data": {
      "text/plain": [
       "[['aaa', 'bbb', 'ccc'], [1, 2, 'aaa', 'bbb']]"
      ]
     },
     "execution_count": 48,
     "metadata": {},
     "output_type": "execute_result"
    }
   ],
   "source": [
    "# 리스트의 생성\n",
    "a = list()\n",
    "a = []\n",
    "b = [1, 2, 3, 4, 5]\n",
    "c = ['aaa', 'bbb', 'ccc']\n",
    "d = [1, 2, 'aaa', 'bbb']\n",
    "e = [c, d]\n",
    "e"
   ]
  },
  {
   "cell_type": "code",
   "execution_count": 49,
   "id": "929316fd-836e-4783-b4f8-601cac88bb6c",
   "metadata": {},
   "outputs": [
    {
     "data": {
      "text/plain": [
       "['aaa', 'bbb', 'ccc']"
      ]
     },
     "execution_count": 49,
     "metadata": {},
     "output_type": "execute_result"
    }
   ],
   "source": [
    "e[0]"
   ]
  },
  {
   "cell_type": "code",
   "execution_count": 50,
   "id": "1269f156-0043-4c22-bb42-e8743aff6dba",
   "metadata": {},
   "outputs": [
    {
     "data": {
      "text/plain": [
       "([1, 2, 'aaa', 'bbb'], [1, 2, 'aaa', 'bbb'])"
      ]
     },
     "execution_count": 50,
     "metadata": {},
     "output_type": "execute_result"
    }
   ],
   "source": [
    "e[1], e[-1]"
   ]
  },
  {
   "cell_type": "code",
   "execution_count": 51,
   "id": "a89c240c-70f1-4a17-b7dc-b78f9c2ae04b",
   "metadata": {},
   "outputs": [
    {
     "data": {
      "text/plain": [
       "'aaa'"
      ]
     },
     "execution_count": 51,
     "metadata": {},
     "output_type": "execute_result"
    }
   ],
   "source": [
    "e[1][2]"
   ]
  },
  {
   "cell_type": "code",
   "execution_count": 52,
   "id": "95812f3f-45a1-4622-b854-76be30d8da00",
   "metadata": {},
   "outputs": [
    {
     "data": {
      "text/plain": [
       "[1, 2]"
      ]
     },
     "execution_count": 52,
     "metadata": {},
     "output_type": "execute_result"
    }
   ],
   "source": [
    "e[1][:2]"
   ]
  },
  {
   "cell_type": "code",
   "execution_count": 58,
   "id": "8d810cb8-da83-4622-beb8-2f8c69273908",
   "metadata": {},
   "outputs": [
    {
     "data": {
      "text/plain": [
       "'bbb'"
      ]
     },
     "execution_count": 58,
     "metadata": {},
     "output_type": "execute_result"
    }
   ],
   "source": [
    "e[-1][-1]"
   ]
  },
  {
   "cell_type": "code",
   "execution_count": 59,
   "id": "92ea5913-180f-4a5b-abb3-0570cd23e6ac",
   "metadata": {},
   "outputs": [
    {
     "data": {
      "text/plain": [
       "[[1, 2], [3, 4]]"
      ]
     },
     "execution_count": 59,
     "metadata": {},
     "output_type": "execute_result"
    }
   ],
   "source": [
    "score = [[1, 2], [3, 4]]\n",
    "score"
   ]
  },
  {
   "cell_type": "markdown",
   "id": "5ddcff26-66ba-46e0-95a5-e9f9a619040e",
   "metadata": {},
   "source": [
    "복사   \n",
    "1. 얕은 복사 shallow copy\n",
    "2. 깊은 복사 deep copy"
   ]
  },
  {
   "cell_type": "code",
   "execution_count": 62,
   "id": "dd7c8912-5569-4b09-a261-3bc7aafa9931",
   "metadata": {},
   "outputs": [
    {
     "data": {
      "text/plain": [
       "[[100, 2], [3, 4]]"
      ]
     },
     "execution_count": 62,
     "metadata": {},
     "output_type": "execute_result"
    }
   ],
   "source": [
    "new_score = score[:]     # 얕은 copy\n",
    "new_score[0][0] = 100\n",
    "new_score"
   ]
  },
  {
   "cell_type": "code",
   "execution_count": 61,
   "id": "e25dacb5-c721-4bb6-b638-f4f9f558568f",
   "metadata": {},
   "outputs": [
    {
     "data": {
      "text/plain": [
       "[[100, 2], [3, 4]]"
      ]
     },
     "execution_count": 61,
     "metadata": {},
     "output_type": "execute_result"
    }
   ],
   "source": [
    "score"
   ]
  },
  {
   "cell_type": "code",
   "execution_count": 63,
   "id": "e3964a65-b490-4ede-b600-47ed2c9ad95e",
   "metadata": {},
   "outputs": [
    {
     "data": {
      "text/plain": [
       "[[100, 99], [3, 4]]"
      ]
     },
     "execution_count": 63,
     "metadata": {},
     "output_type": "execute_result"
    }
   ],
   "source": [
    "import copy\n",
    "copied = copy.copy(score)\n",
    "copied[0][1] = 99\n",
    "copied"
   ]
  },
  {
   "cell_type": "code",
   "execution_count": 64,
   "id": "c3ef495d-8038-4791-91f7-cf686b1528ea",
   "metadata": {},
   "outputs": [
    {
     "data": {
      "text/plain": [
       "[[100, 99], [3, 4]]"
      ]
     },
     "execution_count": 64,
     "metadata": {},
     "output_type": "execute_result"
    }
   ],
   "source": [
    "score"
   ]
  },
  {
   "cell_type": "code",
   "execution_count": 65,
   "id": "acc41dbd-c060-4d35-882b-794d26592fac",
   "metadata": {},
   "outputs": [
    {
     "data": {
      "text/plain": [
       "[[100, 99], [100, 4]]"
      ]
     },
     "execution_count": 65,
     "metadata": {},
     "output_type": "execute_result"
    }
   ],
   "source": [
    "deepcopied = copy.deepcopy(score)\n",
    "deepcopied[1][0] = 100\n",
    "deepcopied"
   ]
  },
  {
   "cell_type": "code",
   "execution_count": 66,
   "id": "180abf22-0bb8-4e01-b44b-b9afe25feac8",
   "metadata": {},
   "outputs": [
    {
     "data": {
      "text/plain": [
       "[[100, 99], [3, 4]]"
      ]
     },
     "execution_count": 66,
     "metadata": {},
     "output_type": "execute_result"
    }
   ],
   "source": [
    "score"
   ]
  },
  {
   "cell_type": "markdown",
   "id": "4be3d8aa-504f-4fb4-9b6f-c75e88cf2c38",
   "metadata": {},
   "source": [
    "# 리스트의 연산\n",
    "- `+` \\_\\_add\\__()\n",
    "- `*` \\_\\_mul\\__()\n",
    "- del list[항목]\n",
    "- in list -> True / False"
   ]
  },
  {
   "cell_type": "code",
   "execution_count": 74,
   "id": "2a9d99ff-60d6-43c8-8d5a-9a5cd78d5163",
   "metadata": {},
   "outputs": [
    {
     "data": {
      "text/plain": [
       "['해물라면', '샐러드', '떡볶이', '오므라이스', '볶음밥', '떡볶이', '제육볶음', '주먹밥']"
      ]
     },
     "execution_count": 74,
     "metadata": {},
     "output_type": "execute_result"
    }
   ],
   "source": [
    "lunch1 = ['해물라면', '샐러드', '떡볶이']\n",
    "lunch2 = ['오므라이스', '볶음밥', '떡볶이', '제육볶음', '주먹밥']\n",
    "lunch1 + lunch2"
   ]
  },
  {
   "cell_type": "code",
   "execution_count": 75,
   "id": "5fc4d1ef-e11b-4413-84d3-17576e410ede",
   "metadata": {},
   "outputs": [
    {
     "data": {
      "text/plain": [
       "['해물라면', '샐러드', '떡볶이', '해물라면', '샐러드', '떡볶이']"
      ]
     },
     "execution_count": 75,
     "metadata": {},
     "output_type": "execute_result"
    }
   ],
   "source": [
    "lunch1 * 2"
   ]
  },
  {
   "cell_type": "code",
   "execution_count": 76,
   "id": "c659e314-74b6-4373-b40f-81cd6103bd3c",
   "metadata": {},
   "outputs": [
    {
     "data": {
      "text/plain": [
       "['샐러드', '떡볶이']"
      ]
     },
     "execution_count": 76,
     "metadata": {},
     "output_type": "execute_result"
    }
   ],
   "source": [
    "del lunch1[0]\n",
    "lunch1"
   ]
  },
  {
   "cell_type": "code",
   "execution_count": 77,
   "id": "a1d24611-29f1-4498-a84d-c4966470f117",
   "metadata": {},
   "outputs": [
    {
     "data": {
      "text/plain": [
       "['샐러드', '오므라이스', '볶음밥', '떡볶이', '제육볶음', '주먹밥']"
      ]
     },
     "execution_count": 77,
     "metadata": {},
     "output_type": "execute_result"
    }
   ],
   "source": [
    "# lunch1과 lunch2를 합하고 '떡볶이' 1개를 지우기\n",
    "lunchall = lunch1 + lunch2\n",
    "del lunchall[1]\n",
    "lunchall"
   ]
  },
  {
   "cell_type": "code",
   "execution_count": 79,
   "id": "fb959e1d-8fe7-453c-890a-275678e01f4b",
   "metadata": {},
   "outputs": [
    {
     "data": {
      "text/plain": [
       "True"
      ]
     },
     "execution_count": 79,
     "metadata": {},
     "output_type": "execute_result"
    }
   ],
   "source": [
    "'떡볶이' in lunchall"
   ]
  },
  {
   "cell_type": "code",
   "execution_count": 110,
   "id": "57d823b7-bd7e-4622-ba75-e4fc44304db6",
   "metadata": {},
   "outputs": [
    {
     "name": "stdin",
     "output_type": "stream",
     "text": [
      "먹고 싶은 간식을 추가하세요. 단 쉼표(,)로 연결하세요. 홈런볼, 사이다\n"
     ]
    },
    {
     "name": "stdout",
     "output_type": "stream",
     "text": [
      "['초코파이', '홈런볼', '사이다']\n"
     ]
    }
   ],
   "source": [
    "# 간식박스 관리 프로그램\n",
    "snack_box = ['초코파이']\n",
    "new_input = input('먹고 싶은 간식을 추가하세요. 단 쉼표(,)로 연결하세요.')\n",
    "new_input = new_input.replace(' ', '')\n",
    "new_snack = new_input.split(',')\n",
    "snack_box += new_snack\n",
    "\n",
    "print(snack_box)"
   ]
  },
  {
   "cell_type": "code",
   "execution_count": 111,
   "id": "575c2635-eab6-49fb-a81c-90f6c49972a4",
   "metadata": {},
   "outputs": [
    {
     "name": "stdin",
     "output_type": "stream",
     "text": [
      "간식 박스를 몇 세트로 포장할까요? 예: 2 -> 2box 2\n"
     ]
    },
    {
     "data": {
      "text/plain": [
       "['초코파이', '홈런볼', '사이다', '초코파이', '홈런볼', '사이다']"
      ]
     },
     "execution_count": 111,
     "metadata": {},
     "output_type": "execute_result"
    }
   ],
   "source": [
    "qty = int(input('간식 박스를 몇 세트로 포장할까요? 예: 2 -> 2box'))\n",
    "snack_box *= qty\n",
    "snack_box"
   ]
  },
  {
   "cell_type": "code",
   "execution_count": 112,
   "id": "ee32791b-0d5c-407a-bdc7-fbe909893e7b",
   "metadata": {},
   "outputs": [
    {
     "name": "stdout",
     "output_type": "stream",
     "text": [
      "주문하신 간식 상자는 초코파이, 홈런볼, 사이다 등 입니다. 확인해주세요.\n"
     ]
    }
   ],
   "source": [
    "print(f'주문하신 간식 상자는 {snack_box[0]}, {snack_box[1]}, {snack_box[2]} 등 입니다. 확인해주세요.')"
   ]
  },
  {
   "cell_type": "code",
   "execution_count": 113,
   "id": "38ae423d-0966-4cc4-8caf-9859c0b05ec3",
   "metadata": {},
   "outputs": [
    {
     "name": "stdin",
     "output_type": "stream",
     "text": [
      "혹시 빼고 싶은 간식이 있으면 번호를 입력하세요 (0 ~ 5) 1\n"
     ]
    },
    {
     "data": {
      "text/plain": [
       "['초코파이', '사이다', '초코파이', '홈런볼', '사이다']"
      ]
     },
     "execution_count": 113,
     "metadata": {},
     "output_type": "execute_result"
    }
   ],
   "source": [
    "snack_no = int(input(f'혹시 빼고 싶은 간식이 있으면 번호를 입력하세요 (0 ~ {len(snack_box)-1})'))\n",
    "del snack_box[snack_no]\n",
    "snack_box"
   ]
  },
  {
   "cell_type": "code",
   "execution_count": 114,
   "id": "526e53f9-e804-4f20-9a67-ec4680112cfa",
   "metadata": {},
   "outputs": [
    {
     "name": "stdin",
     "output_type": "stream",
     "text": [
      "찾고 싶은 간식이름을 입력하세요:  사이다\n"
     ]
    },
    {
     "name": "stdout",
     "output_type": "stream",
     "text": [
      "있어요\n"
     ]
    }
   ],
   "source": [
    "# 찾고 싶은 간식이름을 입력하세요\n",
    "# 있어요 or 없어요 출력\n",
    "\n",
    "snack_find = input('찾고 싶은 간식이름을 입력하세요: ')\n",
    "if snack_find in snack_box:\n",
    "    print('있어요')\n",
    "else:\n",
    "    print('없어요')"
   ]
  },
  {
   "cell_type": "code",
   "execution_count": 115,
   "id": "01a072a1-b72d-4971-bf56-17d36ea6b281",
   "metadata": {},
   "outputs": [
    {
     "name": "stdout",
     "output_type": "stream",
     "text": [
      "주문하신 간식박스는 뒤에서부터 다음과 같습니다\n",
      "['사이다', '홈런볼', '초코파이', '사이다', '초코파이'], 총 5개입니다.\n"
     ]
    }
   ],
   "source": [
    "print('주문하신 간식박스는 뒤에서부터 다음과 같습니다')\n",
    "print(f'{snack_box[::-1]}, 총 {len(snack_box)}개입니다.')"
   ]
  },
  {
   "cell_type": "markdown",
   "id": "524dd838-74a7-41b8-a105-89197f25387c",
   "metadata": {},
   "source": [
    "| 메서드                  | 사용 예시                    | 설명                |\n",
    "| -------------------- | ------------------------ | ----------------- |\n",
    "| append(x)          | lst.append(4)          | 맨 뒤에 x 추가       |\n",
    "| insert(i, x)       | lst.insert(1, \"a\")     | i 위치에 x 삽입    |\n",
    "| extend(iter)       | lst.extend([4, 5])     | 리스트에 여러 값 추가      |\n",
    "| remove(x)          | lst.remove(\"a\")        | x와 일치하는 첫 항목 삭제 |\n",
    "| pop()              | lst.pop()              | 마지막 항목 제거하고 반환    |\n",
    "| pop(i)             | lst.pop(0)             | i번째 항목 제거하고 반환  |\n",
    "| clear()            | lst.clear()            | 리스트 전체 비우기        |\n",
    "| index(x)           | lst.index(\"a\")         | x의 위치(인덱스) 반환   |\n",
    "| count(x)           | lst.count(\"a\")         | x의 개수 세기        |\n",
    "| sort()             | lst.sort()             | 오름차순 정렬 (원본 변경)   |\n",
    "| sort(reverse=True) | lst.sort(reverse=True) | 내림차순 정렬           |\n",
    "| reverse()          | lst.reverse()          | 항목 순서 뒤집기         |\n",
    "| copy()             | lst2 = lst.copy()      | 리스트 복사            |"
   ]
  },
  {
   "cell_type": "code",
   "execution_count": 139,
   "id": "baee8af3-ae61-404f-9db0-7889e5eccc38",
   "metadata": {},
   "outputs": [],
   "source": [
    "list_a = [1, 2, 3, 'aa', 'bb', [10, 20], 'Dd']"
   ]
  },
  {
   "cell_type": "code",
   "execution_count": 140,
   "id": "a5df8374-3a10-44b0-896e-f52d11f4cf92",
   "metadata": {},
   "outputs": [
    {
     "name": "stdout",
     "output_type": "stream",
     "text": [
      "[1, 2, 3, 'aa', 'bb', [10, 20], 'Dd', 11]\n"
     ]
    }
   ],
   "source": [
    "list_a.append(11)\n",
    "print(list_a)"
   ]
  },
  {
   "cell_type": "code",
   "execution_count": 141,
   "id": "8b71f1e3-f439-40ba-9bca-c6082db73158",
   "metadata": {},
   "outputs": [
    {
     "name": "stdout",
     "output_type": "stream",
     "text": [
      "[1, 'aa', 2, 3, 'aa', 'bb', [10, 20], 'Dd', 11]\n"
     ]
    }
   ],
   "source": [
    "list_a.insert(1, 'aa')\n",
    "print(list_a)"
   ]
  },
  {
   "cell_type": "code",
   "execution_count": 142,
   "id": "935305f3-e8cc-495d-9639-fa7af3a37408",
   "metadata": {},
   "outputs": [
    {
     "name": "stdout",
     "output_type": "stream",
     "text": [
      "[1, 'aa', 2, 3, 'aa', 'bb', [10, 20], 'Dd', 11, 8, '6y']\n"
     ]
    }
   ],
   "source": [
    "list_a.extend([8, '6y'])\n",
    "print(list_a)"
   ]
  },
  {
   "cell_type": "code",
   "execution_count": 143,
   "id": "afe73cc8-09ff-4d46-98e7-9662dc4855ce",
   "metadata": {},
   "outputs": [
    {
     "name": "stdout",
     "output_type": "stream",
     "text": [
      "[1, 2, 3, 'aa', 'bb', [10, 20], 'Dd', 11, 8, '6y']\n"
     ]
    }
   ],
   "source": [
    "list_a.remove('aa')\n",
    "print(list_a)"
   ]
  },
  {
   "cell_type": "code",
   "execution_count": 144,
   "id": "1bac8e38-c790-45b2-be08-cb5cede23b7d",
   "metadata": {},
   "outputs": [
    {
     "data": {
      "text/plain": [
       "'6y'"
      ]
     },
     "execution_count": 144,
     "metadata": {},
     "output_type": "execute_result"
    }
   ],
   "source": [
    "list_a.pop()"
   ]
  },
  {
   "cell_type": "code",
   "execution_count": 145,
   "id": "a47c2541-63fc-4097-849d-ce40730c0704",
   "metadata": {},
   "outputs": [
    {
     "data": {
      "text/plain": [
       "11"
      ]
     },
     "execution_count": 145,
     "metadata": {},
     "output_type": "execute_result"
    }
   ],
   "source": [
    "list_a.pop(-2)"
   ]
  },
  {
   "cell_type": "code",
   "execution_count": 146,
   "id": "6c18f844-0e92-4a92-804f-10660205d3b4",
   "metadata": {},
   "outputs": [
    {
     "name": "stdout",
     "output_type": "stream",
     "text": [
      "[1, 2, 3, 'aa', 'bb', [10, 20], 'Dd', 8]\n"
     ]
    }
   ],
   "source": [
    "print(list_a)"
   ]
  },
  {
   "cell_type": "code",
   "execution_count": 148,
   "id": "8bf87959-4bc9-4f5c-84bf-4fb039f9e8e2",
   "metadata": {},
   "outputs": [
    {
     "name": "stdout",
     "output_type": "stream",
     "text": [
      "[]\n"
     ]
    }
   ],
   "source": [
    "list_a.clear()\n",
    "print(list_a)"
   ]
  },
  {
   "cell_type": "code",
   "execution_count": 157,
   "id": "5bf6804c-3391-4229-a201-a4d188e72e0d",
   "metadata": {},
   "outputs": [],
   "source": [
    "list_b = [1, 2, 'aa', [20, 10], 'Dd']\n",
    "# list_b.sort()  # TypeError: '<' not supported between instances of 'str' and 'int'"
   ]
  },
  {
   "cell_type": "code",
   "execution_count": 154,
   "id": "3824f1a0-29f2-41bf-be05-b7a2936ccabd",
   "metadata": {},
   "outputs": [
    {
     "name": "stdout",
     "output_type": "stream",
     "text": [
      "[1, 2, 3, 4, 7]\n"
     ]
    }
   ],
   "source": [
    "list_c = [1, 3, 2, 7, 4]\n",
    "list_c.sort()\n",
    "print(list_c)"
   ]
  },
  {
   "cell_type": "code",
   "execution_count": 155,
   "id": "7f570894-d052-461e-b883-dbd938b80ae2",
   "metadata": {},
   "outputs": [
    {
     "name": "stdout",
     "output_type": "stream",
     "text": [
      "[7, 4, 3, 2, 1]\n"
     ]
    }
   ],
   "source": [
    "list_c.sort(reverse=True)\n",
    "print(list_c)"
   ]
  },
  {
   "cell_type": "code",
   "execution_count": 162,
   "id": "7236d2f4-0406-4d42-b875-bef7c73ee0be",
   "metadata": {},
   "outputs": [
    {
     "name": "stdout",
     "output_type": "stream",
     "text": [
      "['a', 'c', 'ff', 't']\n"
     ]
    }
   ],
   "source": [
    "list_d = ['a', 't', 'c', 'ff']\n",
    "list_d.sort()\n",
    "print(list_d)"
   ]
  },
  {
   "cell_type": "code",
   "execution_count": 163,
   "id": "ddb634ae-1fbb-456a-9329-8c1ed08557aa",
   "metadata": {},
   "outputs": [
    {
     "name": "stdout",
     "output_type": "stream",
     "text": [
      "['t', 'ff', 'c', 'a']\n"
     ]
    }
   ],
   "source": [
    "list_d.sort(reverse=True)\n",
    "print(list_d)"
   ]
  },
  {
   "cell_type": "code",
   "execution_count": 168,
   "id": "22bfaef0-1efb-4b06-bd1a-d7ead52fe752",
   "metadata": {},
   "outputs": [
    {
     "name": "stdout",
     "output_type": "stream",
     "text": [
      "[[], [1, 1, 2], [1, 2], [2, 1]]\n"
     ]
    }
   ],
   "source": [
    "list_e = [[1, 2], [2, 1], [1, 1, 2], []]\n",
    "list_e.sort()\n",
    "print(list_e)"
   ]
  },
  {
   "cell_type": "code",
   "execution_count": 170,
   "id": "52351b37-4e3d-4ab6-8563-e7aa8c340033",
   "metadata": {},
   "outputs": [
    {
     "name": "stdout",
     "output_type": "stream",
     "text": [
      "[[2, 1], [1, 2], [1, 1, 2], []]\n"
     ]
    }
   ],
   "source": [
    "list_e.sort(reverse=True)\n",
    "print(list_e)"
   ]
  },
  {
   "cell_type": "code",
   "execution_count": 158,
   "id": "7b5c7c10-3cf1-409e-81a4-8142677007b9",
   "metadata": {},
   "outputs": [
    {
     "name": "stdout",
     "output_type": "stream",
     "text": [
      "['Dd', [20, 10], 'aa', 2, 1]\n"
     ]
    }
   ],
   "source": [
    "list_b.reverse()\n",
    "print(list_b)"
   ]
  },
  {
   "cell_type": "code",
   "execution_count": 159,
   "id": "4a1f6225-a94b-47d1-8608-edd0b873b0d8",
   "metadata": {},
   "outputs": [
    {
     "data": {
      "text/plain": [
       "['Dd', [20, 10], 'aa', 2, 1]"
      ]
     },
     "execution_count": 159,
     "metadata": {},
     "output_type": "execute_result"
    }
   ],
   "source": [
    "listb_copy = list_b.copy()\n",
    "listb_copy"
   ]
  },
  {
   "cell_type": "code",
   "execution_count": null,
   "id": "251bbed1-b14d-47c8-9ee7-09b315be3519",
   "metadata": {},
   "outputs": [],
   "source": []
  }
 ],
 "metadata": {
  "kernelspec": {
   "display_name": "Python 3 (ipykernel)",
   "language": "python",
   "name": "python3"
  },
  "language_info": {
   "codemirror_mode": {
    "name": "ipython",
    "version": 3
   },
   "file_extension": ".py",
   "mimetype": "text/x-python",
   "name": "python",
   "nbconvert_exporter": "python",
   "pygments_lexer": "ipython3",
   "version": "3.12.9"
  }
 },
 "nbformat": 4,
 "nbformat_minor": 5
}
