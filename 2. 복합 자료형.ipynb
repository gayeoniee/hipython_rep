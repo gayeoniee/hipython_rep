{
 "cells": [
  {
   "cell_type": "markdown",
   "id": "fece4a70-3141-4d8f-b782-adab771a74b8",
   "metadata": {},
   "source": [
    "# 복합 자료형"
   ]
  },
  {
   "cell_type": "code",
   "execution_count": null,
   "id": "06351f35-9c5f-4c1f-89d0-68478b69623e",
   "metadata": {},
   "outputs": [],
   "source": []
  }
 ],
 "metadata": {
  "kernelspec": {
   "display_name": "Python 3 (ipykernel)",
   "language": "python",
   "name": "python3"
  },
  "language_info": {
   "codemirror_mode": {
    "name": "ipython",
    "version": 3
   },
   "file_extension": ".py",
   "mimetype": "text/x-python",
   "name": "python",
   "nbconvert_exporter": "python",
   "pygments_lexer": "ipython3",
   "version": "3.12.9"
  }
 },
 "nbformat": 4,
 "nbformat_minor": 5
}
