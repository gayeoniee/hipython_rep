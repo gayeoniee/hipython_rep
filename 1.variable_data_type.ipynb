{
 "cells": [
  {
   "cell_type": "code",
   "execution_count": 1,
   "id": "3366ea8d-0a3f-4185-a6bf-155bf77d7415",
   "metadata": {},
   "outputs": [
    {
     "name": "stdout",
     "output_type": "stream",
     "text": [
      "Hello, Jupyter!\n"
     ]
    }
   ],
   "source": [
    "print(\"Hello, Jupyter!\")"
   ]
  },
  {
   "cell_type": "markdown",
   "id": "226d5419-1c4e-419f-aef3-67f9d6a3ce2c",
   "metadata": {},
   "source": [
    "# 들어가기 : 주석"
   ]
  },
  {
   "cell_type": "code",
   "execution_count": 2,
   "id": "ae8cb7f2-eeaa-4241-af6a-4b1b4269241a",
   "metadata": {},
   "outputs": [],
   "source": [
    "# 이 코드는 실행되지 않습니다.\n",
    "# age = input('')\n",
    "# age"
   ]
  },
  {
   "cell_type": "markdown",
   "id": "38e723f4-4bdf-4337-bbe3-aaf19d6f3407",
   "metadata": {},
   "source": [
    "# 들여쓰기"
   ]
  },
  {
   "cell_type": "code",
   "execution_count": 5,
   "id": "9e259ef0-232c-42c1-b1f6-74939ff5e438",
   "metadata": {},
   "outputs": [
    {
     "name": "stdout",
     "output_type": "stream",
     "text": [
      "7\n"
     ]
    }
   ],
   "source": [
    "def calculate_sum(a, b):\n",
    "    result = a + b    # 들여쓰기된 코드 블록\n",
    "    return result     # 같은 레벨의 들여쓰기\n",
    "\n",
    "print(calculate_sum(3, 4))"
   ]
  },
  {
   "cell_type": "markdown",
   "id": "0d683f60-04cc-4ff8-9a74-8b437dd449bd",
   "metadata": {},
   "source": [
    "---"
   ]
  },
  {
   "cell_type": "markdown",
   "id": "78f7f8a9-75d0-49db-8486-9ce7687bc3de",
   "metadata": {},
   "source": [
    "# 표준 입력과 표준 출력"
   ]
  },
  {
   "cell_type": "code",
   "execution_count": 41,
   "id": "8eaf6c62-3bf8-4e77-9eaf-cf181c31e6cc",
   "metadata": {},
   "outputs": [
    {
     "data": {
      "text/plain": [
       "10"
      ]
     },
     "execution_count": 41,
     "metadata": {},
     "output_type": "execute_result"
    }
   ],
   "source": [
    "12345\n",
    "10\n",
    "# ipython 라이브러리의 기본 기능\n",
    "# print()와 같음! -> 표준 출력 기능을 내장하고 있음"
   ]
  },
  {
   "cell_type": "code",
   "execution_count": 42,
   "id": "99556595-dba7-48c8-8846-2bd676179995",
   "metadata": {},
   "outputs": [
    {
     "name": "stdout",
     "output_type": "stream",
     "text": [
      "12345\n"
     ]
    },
    {
     "data": {
      "text/plain": [
       "10"
      ]
     },
     "execution_count": 42,
     "metadata": {},
     "output_type": "execute_result"
    }
   ],
   "source": [
    "print(12345)  # 12345와 10 둘 다 나오게\n",
    "10"
   ]
  },
  {
   "cell_type": "code",
   "execution_count": 10,
   "id": "857a15bd-e5ad-42ec-b438-f6cdf40a90d8",
   "metadata": {},
   "outputs": [
    {
     "data": {
      "text/plain": [
       "'12345'"
      ]
     },
     "execution_count": 10,
     "metadata": {},
     "output_type": "execute_result"
    }
   ],
   "source": [
    "'12345'"
   ]
  },
  {
   "cell_type": "code",
   "execution_count": 12,
   "id": "a3bfe2fd-1b66-461a-a774-f47eba450655",
   "metadata": {},
   "outputs": [
    {
     "data": {
      "text/plain": [
       "int"
      ]
     },
     "execution_count": 12,
     "metadata": {},
     "output_type": "execute_result"
    }
   ],
   "source": [
    "type(12345)"
   ]
  },
  {
   "cell_type": "code",
   "execution_count": 13,
   "id": "8735b863-210c-41a6-b7a0-e0381d21c44e",
   "metadata": {},
   "outputs": [
    {
     "data": {
      "text/plain": [
       "str"
      ]
     },
     "execution_count": 13,
     "metadata": {},
     "output_type": "execute_result"
    }
   ],
   "source": [
    "type('12345')"
   ]
  },
  {
   "cell_type": "code",
   "execution_count": 14,
   "id": "21dadaad-5904-4296-a026-e03fbbddfcac",
   "metadata": {},
   "outputs": [
    {
     "data": {
      "text/plain": [
       "12355"
      ]
     },
     "execution_count": 14,
     "metadata": {},
     "output_type": "execute_result"
    }
   ],
   "source": [
    "12345 + 10"
   ]
  },
  {
   "cell_type": "code",
   "execution_count": 16,
   "id": "865e515e-789c-42cd-a912-88acec228bd3",
   "metadata": {},
   "outputs": [],
   "source": [
    "# '12345' + 10 -> TypeError: can only concatenate str (not \"int\") to str"
   ]
  },
  {
   "cell_type": "code",
   "execution_count": 18,
   "id": "8915c204-0c06-4bf9-accd-f1ef3d4c9a45",
   "metadata": {},
   "outputs": [
    {
     "data": {
      "text/plain": [
       "'123451234512345'"
      ]
     },
     "execution_count": 18,
     "metadata": {},
     "output_type": "execute_result"
    }
   ],
   "source": [
    "'12345' * 3"
   ]
  },
  {
   "cell_type": "code",
   "execution_count": 24,
   "id": "98da10b2-1204-46eb-8a38-8411bee28b66",
   "metadata": {},
   "outputs": [
    {
     "name": "stdin",
     "output_type": "stream",
     "text": [
      "당신의 이름을 입력하세요: 홍가연\n"
     ]
    }
   ],
   "source": [
    "name = input('당신의 이름을 입력하세요:')"
   ]
  },
  {
   "cell_type": "code",
   "execution_count": 28,
   "id": "d13b7044-cb76-446e-9a48-9a9c7a83cfc0",
   "metadata": {},
   "outputs": [
    {
     "name": "stdin",
     "output_type": "stream",
     "text": [
      "당신의 나이를 입력하세요: 26\n"
     ]
    }
   ],
   "source": [
    "age = input('당신의 나이를 입력하세요:')"
   ]
  },
  {
   "cell_type": "code",
   "execution_count": 25,
   "id": "f164ae8e-afb4-497d-8887-a7d8eb255076",
   "metadata": {},
   "outputs": [
    {
     "data": {
      "text/plain": [
       "'26'"
      ]
     },
     "execution_count": 25,
     "metadata": {},
     "output_type": "execute_result"
    }
   ],
   "source": [
    "age"
   ]
  },
  {
   "cell_type": "code",
   "execution_count": 29,
   "id": "071533e9-e040-48b7-a020-5b0b01bb3d0d",
   "metadata": {},
   "outputs": [
    {
     "data": {
      "text/plain": [
       "'홍가연'"
      ]
     },
     "execution_count": 29,
     "metadata": {},
     "output_type": "execute_result"
    }
   ],
   "source": [
    "# 입력받은 name을 출력\n",
    "name"
   ]
  },
  {
   "cell_type": "code",
   "execution_count": 32,
   "id": "3e8a1367-cfa4-492f-8ce2-bbd5a7096698",
   "metadata": {},
   "outputs": [
    {
     "name": "stdout",
     "output_type": "stream",
     "text": [
      "26 홍가연\n"
     ]
    }
   ],
   "source": [
    "print(age, name)"
   ]
  },
  {
   "cell_type": "code",
   "execution_count": 35,
   "id": "e7df9317-7610-4d8b-adab-26c68974e71a",
   "metadata": {},
   "outputs": [
    {
     "name": "stdout",
     "output_type": "stream",
     "text": [
      "나는 홍가연이고, 나이는 26입니다.\n"
     ]
    }
   ],
   "source": [
    "print('나는 ' + name + '이고, 나이는 ' + age + '입니다.')"
   ]
  },
  {
   "cell_type": "code",
   "execution_count": 39,
   "id": "6616683d-7613-4f56-986b-40fcf0c05263",
   "metadata": {},
   "outputs": [],
   "source": [
    "age = int(age)  # input()으로 받은 값은 무조건 str"
   ]
  },
  {
   "cell_type": "code",
   "execution_count": 40,
   "id": "f66b20be-70bd-41a8-ad44-ec1661fa1ca1",
   "metadata": {},
   "outputs": [
    {
     "data": {
      "text/plain": [
       "36"
      ]
     },
     "execution_count": 40,
     "metadata": {},
     "output_type": "execute_result"
    }
   ],
   "source": [
    "age + 10"
   ]
  },
  {
   "cell_type": "markdown",
   "id": "d0802f3e-da02-4557-afca-2801c6ff21a9",
   "metadata": {},
   "source": [
    "## 연습"
   ]
  },
  {
   "cell_type": "code",
   "execution_count": 43,
   "id": "44f193ba-3934-4d34-b55a-4e504fc8344f",
   "metadata": {},
   "outputs": [
    {
     "name": "stdout",
     "output_type": "stream",
     "text": [
      "바: 바밤바는 \n",
      "밤: 밤이 들어 있는\n",
      "바: 바이다\n"
     ]
    }
   ],
   "source": [
    "# 본인 이름으로 상행시 짓기\n",
    "\n",
    "print('바: 바밤바는 ')\n",
    "print('밤: 밤이 들어 있는')\n",
    "print('바: 바이다')"
   ]
  },
  {
   "cell_type": "code",
   "execution_count": 44,
   "id": "c4fee25c-aff8-4f08-ba99-839e9648b5b6",
   "metadata": {},
   "outputs": [
    {
     "name": "stdout",
     "output_type": "stream",
     "text": [
      "홍: 홍수가 지나간 자리엔\n",
      "가: 가만히 피어난 꽃이 있었다\n",
      "연: 연한 빛으로 세상을 물들이며\n"
     ]
    }
   ],
   "source": [
    "print('홍: 홍수가 지나간 자리엔')\n",
    "print('가: 가만히 피어난 꽃이 있었다')\n",
    "print('연: 연한 빛으로 세상을 물들이며')"
   ]
  },
  {
   "cell_type": "code",
   "execution_count": 55,
   "id": "df16c1d8-8052-4bb4-bee4-54727d8f0182",
   "metadata": {},
   "outputs": [
    {
     "name": "stdin",
     "output_type": "stream",
     "text": [
      "홍: 홍수가 지나간 자리엔\n",
      "가: 가만히 피어난 꽃이 있었다\n",
      "연: 연한 빛으로 세상을 물들이며\n"
     ]
    }
   ],
   "source": [
    "line1 = input('홍:')\n",
    "line2 = input('가:')\n",
    "line3 = input('연:')"
   ]
  },
  {
   "cell_type": "code",
   "execution_count": 57,
   "id": "13dcebe8-d78f-476e-a092-6ac6438cfd68",
   "metadata": {},
   "outputs": [
    {
     "name": "stdout",
     "output_type": "stream",
     "text": [
      "홍: 홍수가 지나간 자리엔\n",
      "가: 가만히 피어난 꽃이 있었다\n",
      "연: 연한 빛으로 세상을 물들이며\n"
     ]
    }
   ],
   "source": [
    "print(('홍: ' + line1), ('가: ' + line2), ('연: ' + line3), sep='\\n')  # 줄바꿈 기호"
   ]
  },
  {
   "cell_type": "markdown",
   "id": "9e0ef4b6-f487-469b-8a35-79509d486c62",
   "metadata": {},
   "source": [
    "문자열의 시작이 \\ 역슬래시 -> 이스케이프 문자(출력 형식 지정), 특수문자 \\n \\t \\"
   ]
  },
  {
   "cell_type": "markdown",
   "id": "559a7c78-f95c-433a-a20a-9025a88c17c4",
   "metadata": {},
   "source": [
    "---"
   ]
  },
  {
   "cell_type": "markdown",
   "id": "e3b328b3-5345-4e2d-9269-9342acf8366c",
   "metadata": {},
   "source": [
    "# 변수\n"
   ]
  },
  {
   "cell_type": "markdown",
   "id": "40be43f9-f11b-4639-a1db-7dd876d522df",
   "metadata": {},
   "source": [
    "변수는 type safe: 변수를 선언할 때 타입(유형)을 지정하지 않아도 되는 특성   \n",
    "변수명 = 값   "
   ]
  },
  {
   "cell_type": "markdown",
   "id": "f529d00f-4826-4fb6-b8c9-858c58e6b07c",
   "metadata": {},
   "source": [
    "## 변수의 명명규칙\n",
    "1. 문자, 숫자, 밑줄(_)을 가지고 만든다.\n",
    "2. 숫자로 시작 x\n",
    "3. 대소문자를 구분\n",
    "4. 예약어, 특수기호, 공백 x"
   ]
  },
  {
   "cell_type": "code",
   "execution_count": 60,
   "id": "7ec86918-9de6-4488-b04d-356a02352cae",
   "metadata": {},
   "outputs": [],
   "source": [
    "# False = 10 -> 예약어\n",
    "# false dd = 10 -> 공백\n",
    "false = 10"
   ]
  },
  {
   "cell_type": "code",
   "execution_count": 61,
   "id": "c2791bb0-1fd7-4482-a2fe-c03033234e93",
   "metadata": {},
   "outputs": [
    {
     "data": {
      "text/plain": [
       "(10, 'hello', 3.141592)"
      ]
     },
     "execution_count": 61,
     "metadata": {},
     "output_type": "execute_result"
    }
   ],
   "source": [
    "x = 10\n",
    "y = 'hello'\n",
    "z = 3.141592\n",
    "\n",
    "x, y, z"
   ]
  },
  {
   "cell_type": "code",
   "execution_count": 63,
   "id": "124da2b8-3d48-448b-8039-4cad65315ded",
   "metadata": {},
   "outputs": [
    {
     "name": "stdout",
     "output_type": "stream",
     "text": [
      "<class 'int'> <class 'str'> <class 'float'>\n"
     ]
    }
   ],
   "source": [
    "print(type(x), type(y), type(z))"
   ]
  },
  {
   "cell_type": "code",
   "execution_count": 65,
   "id": "3881d7d3-4e8f-45bf-8aa2-f91576ac18c0",
   "metadata": {},
   "outputs": [
    {
     "name": "stdout",
     "output_type": "stream",
     "text": [
      "10 20 30\n"
     ]
    }
   ],
   "source": [
    "a, b, c = 10, 20, 30   # a = 10; b = 20; c = 30;\n",
    "print(a, b, c)"
   ]
  },
  {
   "cell_type": "code",
   "execution_count": 66,
   "id": "ae69e56e-dcda-4af1-bd70-51bc8782e1da",
   "metadata": {},
   "outputs": [
    {
     "name": "stdout",
     "output_type": "stream",
     "text": [
      "40 40 40\n"
     ]
    }
   ],
   "source": [
    "a = b = c = 40\n",
    "print(a, b, c)"
   ]
  },
  {
   "cell_type": "code",
   "execution_count": 70,
   "id": "cd900d39-a8ec-46fc-b3bb-15e00daf14a2",
   "metadata": {},
   "outputs": [
    {
     "data": {
      "text/plain": [
       "(True, None)"
      ]
     },
     "execution_count": 70,
     "metadata": {},
     "output_type": "execute_result"
    }
   ],
   "source": [
    "d = True  # bool형\n",
    "e = None  # type이 없음 -> NoneType\n",
    "d, e"
   ]
  },
  {
   "cell_type": "code",
   "execution_count": 82,
   "id": "e655d762-aecf-4884-9e51-c7bcc81d5e5c",
   "metadata": {},
   "outputs": [
    {
     "name": "stdout",
     "output_type": "stream",
     "text": [
      "10 10\n"
     ]
    },
    {
     "data": {
      "text/plain": [
       "(140727410109144, 140727410109144)"
      ]
     },
     "execution_count": 82,
     "metadata": {},
     "output_type": "execute_result"
    }
   ],
   "source": [
    "a = 10\n",
    "b = a\n",
    "print(a, b)\n",
    "id(a), id(b)"
   ]
  },
  {
   "cell_type": "code",
   "execution_count": 84,
   "id": "a4c160e8-cbb7-4e52-8160-0d5202c60180",
   "metadata": {},
   "outputs": [
    {
     "name": "stdout",
     "output_type": "stream",
     "text": [
      "10 10\n"
     ]
    },
    {
     "data": {
      "text/plain": [
       "(140727410109144, 140727410109144)"
      ]
     },
     "execution_count": 84,
     "metadata": {},
     "output_type": "execute_result"
    }
   ],
   "source": [
    "aa = 10\n",
    "bb = 10\n",
    "print(aa, bb)\n",
    "id(aa), id(bb)     # 원래 달라야함..... 변수가 가리키고 있는 건 주소값!"
   ]
  },
  {
   "cell_type": "code",
   "execution_count": 85,
   "id": "7bdea43c-a0aa-4b11-bb2c-e9bf2b0f411e",
   "metadata": {},
   "outputs": [],
   "source": [
    "# 의미 부여 어려운 변수명 > 수식이 아닌 경우에는 사용하지 않음\n",
    "x = 100\n",
    "y = 100\n",
    "\n",
    "# 의미있는 변수명\n",
    "age = 26\n",
    "name = '홍가연'\n",
    "user_name = 'devuser'\n",
    "admin_name = 'gayeon'\n",
    "\n",
    "# 대문자 Upper-case 상수에 사용\n",
    "PI = 3.141592\n",
    "MAX_CONNECTIONS = 10   # 최대 연결 수\n",
    "MIN_VALUE = 0          # 최솟값"
   ]
  },
  {
   "cell_type": "markdown",
   "id": "8abdd32d-e55e-4d8c-b231-3bfa55576213",
   "metadata": {},
   "source": [
    "## NAME_SPACE\n",
    "\n",
    "변수가 최초로 정의된 영역에 따라 유효범위가 결정된다\n",
    "\n",
    "- 지역변수 : 함수 영역 내에서 선언한 변수\n",
    "- 전역변수 : 함수 영역 밖에서 선언한 변수 -> 쓰고 싶으면 global 키워드 사용\n",
    "- 정적변수 : 클래스에서 사용하는 변수"
   ]
  },
  {
   "cell_type": "code",
   "execution_count": 88,
   "id": "0c855840-da3b-4410-a268-f88db59bfb15",
   "metadata": {},
   "outputs": [
    {
     "name": "stdout",
     "output_type": "stream",
     "text": [
      "여기는 함수의 영역 100\n"
     ]
    }
   ],
   "source": [
    "# 지역변수\n",
    "def local_example():\n",
    "    local_var = 100\n",
    "    print('여기는 함수의 영역', local_var)\n",
    "\n",
    "# local_var -> NameError: name 'local_var' is not defined\n",
    "local_example()"
   ]
  },
  {
   "cell_type": "code",
   "execution_count": 90,
   "id": "9d797590-9abd-4b8d-b276-046be734d2ef",
   "metadata": {},
   "outputs": [
    {
     "name": "stdout",
     "output_type": "stream",
     "text": [
      "나는 전역\n"
     ]
    }
   ],
   "source": [
    "# 전역변수\n",
    "global_var = '나는 전역'\n",
    "print(global_var)"
   ]
  },
  {
   "cell_type": "code",
   "execution_count": 93,
   "id": "ae7ad5f7-f63b-49b7-89fb-6d249767cf3b",
   "metadata": {},
   "outputs": [
    {
     "name": "stdout",
     "output_type": "stream",
     "text": [
      "여기는 함수의 영역 나는 전역\n"
     ]
    }
   ],
   "source": [
    "def global_example():\n",
    "    print('여기는 함수의 영역', global_var)\n",
    "\n",
    "global_example()"
   ]
  },
  {
   "cell_type": "code",
   "execution_count": 100,
   "id": "17297a21-019d-4cab-bdec-d8e4ade64865",
   "metadata": {},
   "outputs": [
    {
     "name": "stdout",
     "output_type": "stream",
     "text": [
      "나는 전역\n",
      "여기는 함수의 영역 100\n",
      "100\n"
     ]
    }
   ],
   "source": [
    "var_test = '나는 전역'\n",
    "print(var_test)\n",
    "\n",
    "def global_example():\n",
    "    global var_test       # 전역변수를 그대로 사용하고 싶을 때 \n",
    "    var_test = 100\n",
    "    print('여기는 함수의 영역', var_test)\n",
    "\n",
    "global_example()\n",
    "print(var_test)"
   ]
  },
  {
   "cell_type": "code",
   "execution_count": 111,
   "id": "48a7401a-6461-405b-a57d-fe33b9dbb2c4",
   "metadata": {},
   "outputs": [
    {
     "name": "stdout",
     "output_type": "stream",
     "text": [
      "카운터: 1\n",
      "카운터: 2\n",
      "카운터: 3\n"
     ]
    }
   ],
   "source": [
    "# 변수 영역 연습\n",
    "\n",
    "counter = 0        # global\n",
    "\n",
    "def increment_counter():\n",
    "    global counter\n",
    "    # counter = counter + 1\n",
    "    counter += 1\n",
    "    print('카운터:', counter)\n",
    "\n",
    "increment_counter()\n",
    "increment_counter()\n",
    "increment_counter()"
   ]
  },
  {
   "cell_type": "markdown",
   "id": "4850f6c0-2ca2-4b53-bf3a-ab52bf5906bc",
   "metadata": {},
   "source": [
    "## 교재 변수 연습"
   ]
  },
  {
   "cell_type": "code",
   "execution_count": 113,
   "id": "bcaf56da-bb72-4ed4-96c2-912d54afb065",
   "metadata": {},
   "outputs": [
    {
     "name": "stdout",
     "output_type": "stream",
     "text": [
      "1 python [1, 2, 3]\n"
     ]
    }
   ],
   "source": [
    "a = 1\n",
    "b = 'python'\n",
    "c = [1, 2, 3]\n",
    "\n",
    "print(a, b, c)"
   ]
  },
  {
   "cell_type": "code",
   "execution_count": 114,
   "id": "03aa84cf-6026-4e36-9e1a-721dbfddc14a",
   "metadata": {},
   "outputs": [
    {
     "data": {
      "text/plain": [
       "2299536136704"
      ]
     },
     "execution_count": 114,
     "metadata": {},
     "output_type": "execute_result"
    }
   ],
   "source": [
    "a = [1, 2, 3]\n",
    "id(a)"
   ]
  },
  {
   "cell_type": "code",
   "execution_count": 115,
   "id": "f61c3aa3-a0e9-4e87-9cc6-1a66b6ba1559",
   "metadata": {},
   "outputs": [
    {
     "data": {
      "text/plain": [
       "(2299536136704, 2299536136704)"
      ]
     },
     "execution_count": 115,
     "metadata": {},
     "output_type": "execute_result"
    }
   ],
   "source": [
    "b = a\n",
    "id(a), id(b)"
   ]
  },
  {
   "cell_type": "code",
   "execution_count": 116,
   "id": "cd85224f-85e5-4e43-b7c0-fdaef5892c07",
   "metadata": {},
   "outputs": [
    {
     "data": {
      "text/plain": [
       "True"
      ]
     },
     "execution_count": 116,
     "metadata": {},
     "output_type": "execute_result"
    }
   ],
   "source": [
    "a is b"
   ]
  },
  {
   "cell_type": "code",
   "execution_count": 117,
   "id": "8d8d5d34-0a22-4d5f-8155-014fe8a14bc2",
   "metadata": {},
   "outputs": [
    {
     "data": {
      "text/plain": [
       "([1, 4, 3], [1, 4, 3])"
      ]
     },
     "execution_count": 117,
     "metadata": {},
     "output_type": "execute_result"
    }
   ],
   "source": [
    "a[1] = 4\n",
    "a, b"
   ]
  },
  {
   "cell_type": "code",
   "execution_count": 118,
   "id": "1765a54c-ac9c-4138-9c0a-96741863dd7a",
   "metadata": {},
   "outputs": [
    {
     "name": "stdout",
     "output_type": "stream",
     "text": [
      "python life\n"
     ]
    }
   ],
   "source": [
    "a, b = ('python', 'life')\n",
    "print(a, b)"
   ]
  },
  {
   "cell_type": "code",
   "execution_count": 119,
   "id": "93b7bf5a-8b68-4851-beb5-87e8f24e8c43",
   "metadata": {},
   "outputs": [
    {
     "name": "stdout",
     "output_type": "stream",
     "text": [
      "python life\n"
     ]
    }
   ],
   "source": [
    "(a, b) = 'python', 'life'\n",
    "print(a, b)"
   ]
  },
  {
   "cell_type": "code",
   "execution_count": 120,
   "id": "c193b1e5-278e-4f29-898e-10f119f7b7a5",
   "metadata": {},
   "outputs": [
    {
     "name": "stdout",
     "output_type": "stream",
     "text": [
      "python life\n"
     ]
    }
   ],
   "source": [
    "[a, b] = ['python', 'life']\n",
    "print(a, b)"
   ]
  },
  {
   "cell_type": "code",
   "execution_count": 121,
   "id": "20bdac7f-02b9-4c2d-8eac-a96cc1024736",
   "metadata": {},
   "outputs": [
    {
     "name": "stdout",
     "output_type": "stream",
     "text": [
      "python python\n"
     ]
    }
   ],
   "source": [
    "a = b = 'python'\n",
    "print(a, b)"
   ]
  },
  {
   "cell_type": "code",
   "execution_count": 122,
   "id": "02b87de9-92ec-4efd-af2d-d137f6b7df34",
   "metadata": {},
   "outputs": [
    {
     "name": "stdout",
     "output_type": "stream",
     "text": [
      "5\n",
      "3\n"
     ]
    }
   ],
   "source": [
    "a = 3\n",
    "b = 5\n",
    "a, b = b, a\n",
    "print(a)\n",
    "print(b)"
   ]
  },
  {
   "cell_type": "code",
   "execution_count": 126,
   "id": "1fda19b1-d9da-47ba-9107-0e11ac048d12",
   "metadata": {},
   "outputs": [
    {
     "name": "stdout",
     "output_type": "stream",
     "text": [
      "2299530629376 2299536177088\n"
     ]
    },
    {
     "data": {
      "text/plain": [
       "False"
      ]
     },
     "execution_count": 126,
     "metadata": {},
     "output_type": "execute_result"
    }
   ],
   "source": [
    "a = [1, 2, 3]\n",
    "b = [1, 2, 3]\n",
    "print(id(a), id(b))\n",
    "a is b"
   ]
  },
  {
   "cell_type": "markdown",
   "id": "49bfc773-ef36-4263-a4ab-0d54bab6a4ce",
   "metadata": {},
   "source": [
    "---"
   ]
  },
  {
   "cell_type": "markdown",
   "id": "90ce808d-f594-47f9-b2c4-583e8e1ab595",
   "metadata": {},
   "source": [
    "# 초보자를 위한 파이썬 300제 입출력(001~010)"
   ]
  },
  {
   "cell_type": "code",
   "execution_count": 153,
   "id": "93ced8a8-4860-4b60-84aa-4199ac52b999",
   "metadata": {},
   "outputs": [
    {
     "name": "stdout",
     "output_type": "stream",
     "text": [
      "Mary's cosmetics\n"
     ]
    }
   ],
   "source": [
    "# 002 print 기초\n",
    "# 화면에 Mary's cosmetics을 출력하세요. (중간에 '가 있음에 주의하세요)\n",
    "print(\"Mary's cosmetics\")"
   ]
  },
  {
   "cell_type": "code",
   "execution_count": 154,
   "id": "cdd7be5f-131a-4e99-9719-f372ef0c839e",
   "metadata": {},
   "outputs": [
    {
     "name": "stdout",
     "output_type": "stream",
     "text": [
      "신씨가 소리질렀다. \"도둑이야\".\n"
     ]
    }
   ],
   "source": [
    "# 003 print 기초\n",
    "# 화면에 아래 문장을 출력하세요. (중간에 \"가 있음에 주의하세요.)\n",
    "# 신씨가 소리질렀다. \"도둑이야\".\n",
    "print('신씨가 소리질렀다. \"도둑이야\".')"
   ]
  },
  {
   "cell_type": "code",
   "execution_count": 155,
   "id": "e21fd74e-a4fe-4872-afdc-2cd6f9f90330",
   "metadata": {},
   "outputs": [
    {
     "name": "stdout",
     "output_type": "stream",
     "text": [
      "C:\\Windows\n"
     ]
    }
   ],
   "source": [
    "# 004 print 기초\n",
    "# 화면에 C:\\Windows를 출력하세요.\n",
    "print('C:\\\\Windows')"
   ]
  },
  {
   "cell_type": "code",
   "execution_count": 156,
   "id": "055b942f-26f0-463d-91bf-0f3396aaa124",
   "metadata": {},
   "outputs": [
    {
     "name": "stdout",
     "output_type": "stream",
     "text": [
      "naver;kakao;sk;samsung\n"
     ]
    }
   ],
   "source": [
    "# 007 print 기초\n",
    "# print() 함수를 사용하여 다음과 같이 출력하세요.\n",
    "# naver;kakao;sk;samsung\n",
    "print('naver', 'kakao', 'sk', 'samsung', sep=';')"
   ]
  },
  {
   "cell_type": "code",
   "execution_count": 157,
   "id": "c72b561b-3399-4276-a286-a0d1686ec9ee",
   "metadata": {},
   "outputs": [
    {
     "name": "stdout",
     "output_type": "stream",
     "text": [
      "naver/kakao/sk/samsung\n"
     ]
    }
   ],
   "source": [
    "# 008 print 기초\n",
    "# print() 함수를 사용하여 다음과 같이 출력하세요.\n",
    "# naver/kakao/sk/samsung\n",
    "print('naver', 'kakao', 'sk', 'samsung', sep='/')"
   ]
  },
  {
   "cell_type": "code",
   "execution_count": 158,
   "id": "92defaac-899a-4997-b80f-5430fe2f945c",
   "metadata": {},
   "outputs": [
    {
     "name": "stdout",
     "output_type": "stream",
     "text": [
      "firstsecond\n"
     ]
    }
   ],
   "source": [
    "# 009 print 줄바꿈\n",
    "# 다음 코드를 수정하여 줄바꿈이 없이 출력하세요. (힌트: end='') print 함수는 두 번 사용합니다. \n",
    "# 세미콜론 (;)은 한줄에 여러 개의 명령을 작성하기 위해 사용합니다.\n",
    "#print(\"first\");print(\"second\")\n",
    "print(\"first\", end=\"\"); print(\"second\")"
   ]
  },
  {
   "cell_type": "code",
   "execution_count": 161,
   "id": "2ab5b6b5-f28b-4f26-8c93-eac841feb740",
   "metadata": {},
   "outputs": [
    {
     "name": "stdout",
     "output_type": "stream",
     "text": [
      "1.6666666666666667\n"
     ]
    }
   ],
   "source": [
    "# 010 연산 결과 출력\n",
    "# 5/3의 결과를 화면에 출력하세요.\n",
    "print(5/3)"
   ]
  },
  {
   "cell_type": "markdown",
   "id": "cfc155c9-b260-4568-b703-722f75a312ef",
   "metadata": {},
   "source": [
    "# 초보자를 위한 파이썬 300제 변수(011~020)"
   ]
  },
  {
   "cell_type": "code",
   "execution_count": 160,
   "id": "1f067d20-38f6-46fd-9374-b20406175774",
   "metadata": {},
   "outputs": [
    {
     "name": "stdout",
     "output_type": "stream",
     "text": [
      "500000\n"
     ]
    }
   ],
   "source": [
    "# 011 변수 사용하기\n",
    "# 삼성전자라는 변수로 50,000원을 바인딩해보세요. 삼성전자 주식 10주를 보유하고 있을 때 총 평가금액을 출력하세요.\n",
    "삼성전자 = 50000\n",
    "print(삼성전자 * 10)"
   ]
  },
  {
   "cell_type": "code",
   "execution_count": 130,
   "id": "52f37c5d-ef72-409e-bb2f-8b1199da0d84",
   "metadata": {},
   "outputs": [
    {
     "name": "stdout",
     "output_type": "stream",
     "text": [
      "298000000000000 <class 'int'>\n",
      "50000 <class 'int'>\n",
      "15.79 <class 'float'>\n"
     ]
    }
   ],
   "source": [
    "# 012 변수 사용하기\n",
    "# 다음 표는 삼성전자의 일부 투자정보입니다. 변수를 사용해서 시가총액, 현재가, PER 등을 바인딩해보세요.\n",
    "# 항목\t        값\n",
    "# 시가총액\t    298조\n",
    "# 현재가\t        50,000원\n",
    "# PER\t        15.79\n",
    "\n",
    "시가총액= 298000000000000\n",
    "현재가 = 50000\n",
    "per = 15.79\n",
    "\n",
    "print(시가총액, type(시가총액))\n",
    "print(현재가, type(현재가))\n",
    "print(per, type(per))"
   ]
  },
  {
   "cell_type": "code",
   "execution_count": 131,
   "id": "dd92f5f0-8c6e-4616-8c43-62a1c0aada2c",
   "metadata": {},
   "outputs": [
    {
     "name": "stdout",
     "output_type": "stream",
     "text": [
      "hello! python\n"
     ]
    }
   ],
   "source": [
    "# 013 문자열 출력\n",
    "# 변수 s와 t에는 각각 문자열이 바인딩 되어있습니다.\n",
    "\n",
    "s = \"hello\"\n",
    "t = \"python\"\n",
    "# 두 변수를 이용하여 아래와 같이 출력해보세요.\n",
    "# 실행 예: hello! python\n",
    "\n",
    "print(s + '!', t)"
   ]
  },
  {
   "cell_type": "code",
   "execution_count": 132,
   "id": "09c3bc12-c772-4e84-b8ee-da10c877e0e9",
   "metadata": {},
   "outputs": [
    {
     "data": {
      "text/plain": [
       "8"
      ]
     },
     "execution_count": 132,
     "metadata": {},
     "output_type": "execute_result"
    }
   ],
   "source": [
    "# 014 파이썬을 이용한 값 계산\n",
    "# 아래 코드의 실행 결과를 예상해보세요.\n",
    "# 2 + 2 * 3  -> 8\n",
    "2 + 2 * 3 "
   ]
  },
  {
   "cell_type": "code",
   "execution_count": 134,
   "id": "f62d0f15-b29e-4ccc-9ff1-bdcaaebb7bf4",
   "metadata": {},
   "outputs": [
    {
     "name": "stdout",
     "output_type": "stream",
     "text": [
      "<class 'str'>\n"
     ]
    }
   ],
   "source": [
    "# 015 type 함수\n",
    "# type() 함수는 데이터 타입을 판별합니다. 변수 a에는 128 숫자가 바인딩돼 있어 type 함수가 int (정수)형임을 알려줍니다.\n",
    "\n",
    "# >> a = 128\n",
    "# >> print (type(a))\n",
    "# <class 'int'>\n",
    "\n",
    "# 아래 변수에 바인딩된 값의 타입을 판별해보세요.\n",
    "a = \"132\"\n",
    "print(type(a))"
   ]
  },
  {
   "cell_type": "code",
   "execution_count": 139,
   "id": "3357d481-6fb7-4c74-8ea5-3dd59aa3047b",
   "metadata": {},
   "outputs": [
    {
     "name": "stdout",
     "output_type": "stream",
     "text": [
      "<class 'int'>\n"
     ]
    }
   ],
   "source": [
    "# 016 문자열을 정수로 변환\n",
    "# 문자열 '720'를 정수형으로 변환해보세요.\n",
    "\n",
    "num_str = \"720\"\n",
    "num_str = int(num_str)\n",
    "print(type(num_str))"
   ]
  },
  {
   "cell_type": "code",
   "execution_count": 138,
   "id": "faf44472-a79e-4abe-9177-0967e46c618b",
   "metadata": {},
   "outputs": [
    {
     "name": "stdout",
     "output_type": "stream",
     "text": [
      "<class 'str'>\n"
     ]
    }
   ],
   "source": [
    "# 017 정수를 문자열 100으로 변환\n",
    "# 정수 100을 문자열 '100'으로 변환해보세요.\n",
    "\n",
    "num = 100\n",
    "num = str(num)\n",
    "print(type(num))"
   ]
  },
  {
   "cell_type": "code",
   "execution_count": 140,
   "id": "22aaaf36-2d1b-4338-9c24-ec5fd562713a",
   "metadata": {},
   "outputs": [
    {
     "name": "stdout",
     "output_type": "stream",
     "text": [
      "<class 'float'>\n"
     ]
    }
   ],
   "source": [
    "# 018 문자열을 실수로 변환\n",
    "# 문자열 \"15.79\"를 실수(float) 타입으로 변환해보세요.\n",
    "\n",
    "num_float = '15.79'\n",
    "num_float = float(num_float)\n",
    "print(type(num_float))"
   ]
  },
  {
   "cell_type": "code",
   "execution_count": 142,
   "id": "a9dbcc43-b0bc-4515-aca4-2a7ef8380250",
   "metadata": {},
   "outputs": [
    {
     "name": "stdout",
     "output_type": "stream",
     "text": [
      "2019\n",
      "2018\n",
      "2017\n"
     ]
    }
   ],
   "source": [
    "# 019 문자열을 정수로 변환\n",
    "# year라는 변수가 문자열 타입의 연도를 바인딩하고 있습니다. 이를 정수로 변환한 후 최근 3년의 연도를 화면에 출력해보세요.\n",
    "\n",
    "year = \"2020\"\n",
    "year = int(year)\n",
    "print(year-1)\n",
    "print(year-2)\n",
    "print(year-3)"
   ]
  },
  {
   "cell_type": "code",
   "execution_count": 143,
   "id": "83a9aea5-799b-4044-8e2d-d23f43416f06",
   "metadata": {},
   "outputs": [
    {
     "name": "stdout",
     "output_type": "stream",
     "text": [
      "1749024\n"
     ]
    }
   ],
   "source": [
    "# 020 파이썬 계산\n",
    "# 에이컨이 월 48,584원에 무이자 36개월의 조건으로 홈쇼핑에서 판매되고 있습니다. \n",
    "# 총 금액은 계산한 후 이를 화면에 출력해보세요. (변수사용하기)\n",
    "\n",
    "monthly_price = 48584\n",
    "month = 36\n",
    "total_price = monthly_price * month\n",
    "print(total_price)"
   ]
  },
  {
   "cell_type": "markdown",
   "id": "99301f8e-247b-4944-8af3-5eebb471f72b",
   "metadata": {},
   "source": [
    "---"
   ]
  },
  {
   "cell_type": "markdown",
   "id": "f3e3df6a-e3cf-4dca-8dd0-50a73e739f93",
   "metadata": {},
   "source": [
    "# 자료형\n",
    "- 기본 자료형: 숫자형, 문자열형, 부울형\n",
    "- 복합 자료형: 리스트, 셋, 튜플, 딕셔너리"
   ]
  },
  {
   "cell_type": "markdown",
   "id": "f12c234f-3421-4af8-ba85-bf54a0147589",
   "metadata": {},
   "source": [
    "| type | 설명 | 예시 |\n",
    "|------|------|------|\n",
    "| 정수형 (int) | 정수를 저장하는 자료형 | 1, -5, 100 |\n",
    "| 실수형 (float) | 소수점이 있는 숫자를 저장하는 자료형 | 3.14, -0.001, 2.0 |\n",
    "| 문자열 (str) | 텍스트를 저장하는 자료형 | \"Hello\", '파이썬' |\n",
    "| 논리형 (bool) | 참/거짓 값을 저장하는 자료형 | True, False |"
   ]
  },
  {
   "cell_type": "markdown",
   "id": "0e2e98d4-0e62-4064-8283-1eb6948401e9",
   "metadata": {},
   "source": [
    "- 수정 불가능한 데이터 타입: 수치형, 부울형, 문자열, 튜플\n",
    "- 수정 가능한 데이터 타입: 리스트, 딕셔너리, 셋"
   ]
  },
  {
   "cell_type": "markdown",
   "id": "edfdd8c4-2468-4a9f-98dd-0a75b06149e7",
   "metadata": {},
   "source": [
    "# 기본 자료형"
   ]
  },
  {
   "cell_type": "markdown",
   "id": "b1784b32-2490-4c4c-a6df-4cc360d848ef",
   "metadata": {},
   "source": [
    "## 수치형 - int"
   ]
  },
  {
   "cell_type": "code",
   "execution_count": 210,
   "id": "7ab02a55-c391-43ec-a118-1b6e24abba43",
   "metadata": {},
   "outputs": [
    {
     "data": {
      "text/plain": [
       "(20, int)"
      ]
     },
     "execution_count": 210,
     "metadata": {},
     "output_type": "execute_result"
    }
   ],
   "source": [
    "#수치형 - int\n",
    "20, type(20)"
   ]
  },
  {
   "cell_type": "code",
   "execution_count": 164,
   "id": "b651e6f6-4d9e-4701-8348-c27243a16e79",
   "metadata": {},
   "outputs": [
    {
     "data": {
      "text/plain": [
       "int"
      ]
     },
     "execution_count": 164,
     "metadata": {},
     "output_type": "execute_result"
    }
   ],
   "source": [
    "age = 20\n",
    "type(age)"
   ]
  },
  {
   "cell_type": "markdown",
   "id": "862019bf-8f74-41cc-bb4c-3960b8e5974a",
   "metadata": {},
   "source": [
    "1. 진법: 10진수, 2진수, 8진수, 16진수\n",
    "2. 입력하는 방법은 다르지만 print() 결과는 동일하다"
   ]
  },
  {
   "cell_type": "code",
   "execution_count": 166,
   "id": "f430d2bc-0d6f-49e9-92b0-6112ab2b6819",
   "metadata": {},
   "outputs": [
    {
     "data": {
      "text/plain": [
       "(10, 5)"
      ]
     },
     "execution_count": 166,
     "metadata": {},
     "output_type": "execute_result"
    }
   ],
   "source": [
    "a = 10\n",
    "b = 0b0101  # 2진수 - 0, 1로 표현하는 방법 -> 0101 = 2^2 + 2^0 = 5\n",
    "a, b"
   ]
  },
  {
   "cell_type": "code",
   "execution_count": 186,
   "id": "affd8254-97d4-46ac-b0ed-8ee2c28a2675",
   "metadata": {},
   "outputs": [
    {
     "data": {
      "text/plain": [
       "8"
      ]
     },
     "execution_count": 186,
     "metadata": {},
     "output_type": "execute_result"
    }
   ],
   "source": [
    "c = 0o10    # 8진수 -> 10 = 8^1 + 0^0 = 8\n",
    "c"
   ]
  },
  {
   "cell_type": "code",
   "execution_count": 172,
   "id": "f94ea063-bcae-475d-82fb-a17a71d0693b",
   "metadata": {},
   "outputs": [
    {
     "data": {
      "text/plain": [
       "8"
      ]
     },
     "execution_count": 172,
     "metadata": {},
     "output_type": "execute_result"
    }
   ],
   "source": [
    "d = 0b1000\n",
    "d"
   ]
  },
  {
   "cell_type": "code",
   "execution_count": 175,
   "id": "17752ae5-f868-4a41-9726-8f0e6b6adf12",
   "metadata": {},
   "outputs": [
    {
     "data": {
      "text/plain": [
       "365"
      ]
     },
     "execution_count": 175,
     "metadata": {},
     "output_type": "execute_result"
    }
   ],
   "source": [
    "e = 0x16d   # 16진수 -> (1 * 16^2) + (6 * 16^1) + (d(13) * 16^0) = 256 + 96 + 13 = 365\n",
    "e"
   ]
  },
  {
   "cell_type": "markdown",
   "id": "1c05e14b-a03d-4370-99ec-1a3535b72d70",
   "metadata": {},
   "source": [
    "## 수치형 - float"
   ]
  },
  {
   "cell_type": "code",
   "execution_count": 176,
   "id": "801bf847-a1f0-4c31-98d1-9eb91a3b82f1",
   "metadata": {},
   "outputs": [
    {
     "data": {
      "text/plain": [
       "(3.14, float)"
      ]
     },
     "execution_count": 176,
     "metadata": {},
     "output_type": "execute_result"
    }
   ],
   "source": [
    "# float\n",
    "b = 3.14\n",
    "b, type(b)"
   ]
  },
  {
   "cell_type": "markdown",
   "id": "cdaeaec8-8e47-4c22-ab7f-4c490fa6ac4a",
   "metadata": {},
   "source": [
    "지수의 표기   \n",
    "\n",
    "숫자e2 -> 숫자 * 10^2   \n",
    "숫자e-2 -> 숫자 * 10^(-2)"
   ]
  },
  {
   "cell_type": "code",
   "execution_count": 177,
   "id": "1c73b3c0-39e0-4980-afc8-01a5e3dc02a7",
   "metadata": {},
   "outputs": [
    {
     "data": {
      "text/plain": [
       "1000.0"
      ]
     },
     "execution_count": 177,
     "metadata": {},
     "output_type": "execute_result"
    }
   ],
   "source": [
    "fa = 10e2\n",
    "fa"
   ]
  },
  {
   "cell_type": "code",
   "execution_count": 178,
   "id": "9013ed73-de92-41ac-a2d9-495ae4251bd5",
   "metadata": {},
   "outputs": [
    {
     "data": {
      "text/plain": [
       "0.1"
      ]
     },
     "execution_count": 178,
     "metadata": {},
     "output_type": "execute_result"
    }
   ],
   "source": [
    "fb = 10e-2\n",
    "fb"
   ]
  },
  {
   "cell_type": "code",
   "execution_count": 179,
   "id": "6c9c7ee1-4fb0-4df2-999c-cc334ca8d0bb",
   "metadata": {},
   "outputs": [
    {
     "data": {
      "text/plain": [
       "3141500000.0"
      ]
     },
     "execution_count": 179,
     "metadata": {},
     "output_type": "execute_result"
    }
   ],
   "source": [
    "fc = 3.1415e9\n",
    "fc"
   ]
  },
  {
   "cell_type": "markdown",
   "id": "6e6b7e3d-b4fe-41c3-b8e0-08f20fe35753",
   "metadata": {},
   "source": [
    "## boolean - True, False\n",
    "논리연산, 비교연산에서 사용함"
   ]
  },
  {
   "cell_type": "code",
   "execution_count": 181,
   "id": "66a250db-2906-4b28-84aa-71456e103b51",
   "metadata": {},
   "outputs": [
    {
     "data": {
      "text/plain": [
       "(bool, int)"
      ]
     },
     "execution_count": 181,
     "metadata": {},
     "output_type": "execute_result"
    }
   ],
   "source": [
    "ba = True\n",
    "# bb = true ->  NameError: name 'true' is not defined\n",
    "type(ba), type(bb)"
   ]
  },
  {
   "cell_type": "code",
   "execution_count": 182,
   "id": "9728e611-b4ba-4c84-848d-13427ac71548",
   "metadata": {},
   "outputs": [
    {
     "data": {
      "text/plain": [
       "True"
      ]
     },
     "execution_count": 182,
     "metadata": {},
     "output_type": "execute_result"
    }
   ],
   "source": [
    "ba == 1"
   ]
  },
  {
   "cell_type": "code",
   "execution_count": 183,
   "id": "69b24272-ff24-4c6e-81d1-3f4603270cf1",
   "metadata": {},
   "outputs": [
    {
     "data": {
      "text/plain": [
       "False"
      ]
     },
     "execution_count": 183,
     "metadata": {},
     "output_type": "execute_result"
    }
   ],
   "source": [
    "ba == 'True'"
   ]
  },
  {
   "cell_type": "code",
   "execution_count": 187,
   "id": "6f80173f-bb3b-4fc3-9072-b7bc65aee57b",
   "metadata": {},
   "outputs": [
    {
     "data": {
      "text/plain": [
       "1"
      ]
     },
     "execution_count": 187,
     "metadata": {},
     "output_type": "execute_result"
    }
   ],
   "source": [
    "# 논리 연산자 - and or not\n",
    "\n",
    "bc = 1\n",
    "ba and bc"
   ]
  },
  {
   "cell_type": "code",
   "execution_count": 190,
   "id": "dfa41909-10b9-467e-b00f-3b20803167a9",
   "metadata": {},
   "outputs": [],
   "source": [
    "# 사칙연산 + - * / // %\n",
    "a = 5\n",
    "b = 3"
   ]
  },
  {
   "cell_type": "code",
   "execution_count": 191,
   "id": "cc94bb30-438b-4967-aa53-8da9e1fc675a",
   "metadata": {},
   "outputs": [
    {
     "data": {
      "text/plain": [
       "2"
      ]
     },
     "execution_count": 191,
     "metadata": {},
     "output_type": "execute_result"
    }
   ],
   "source": [
    "a + b\n",
    "a - b\n",
    "a * b\n",
    "a / b\n",
    "a // b  # 몫\n",
    "a % b   # 나머지"
   ]
  },
  {
   "cell_type": "code",
   "execution_count": 196,
   "id": "cd6b0db0-d34d-47a5-892f-622906ccffc7",
   "metadata": {},
   "outputs": [
    {
     "data": {
      "text/plain": [
       "True"
      ]
     },
     "execution_count": 196,
     "metadata": {},
     "output_type": "execute_result"
    }
   ],
   "source": [
    "# 비교 연산자\n",
    "1 + 2 == 3\n",
    "1 + 2 != 3\n",
    "1 + 2 >= 3\n",
    "1 + 2 < 4"
   ]
  },
  {
   "cell_type": "code",
   "execution_count": 197,
   "id": "f989da22-fc7a-4b80-a2ef-274042dd8021",
   "metadata": {},
   "outputs": [
    {
     "data": {
      "text/plain": [
       "True"
      ]
     },
     "execution_count": 197,
     "metadata": {},
     "output_type": "execute_result"
    }
   ],
   "source": [
    "# 비교 연산자와 논리 연산자의 결합\n",
    "10 % 2 == 0 and 12 % 3 == 0"
   ]
  },
  {
   "cell_type": "code",
   "execution_count": 198,
   "id": "ad6e0c5a-23c8-49f6-9485-fa7f248aee54",
   "metadata": {},
   "outputs": [
    {
     "data": {
      "text/plain": [
       "('1234', '5678', 2299484756112, 2299531433408)"
      ]
     },
     "execution_count": 198,
     "metadata": {},
     "output_type": "execute_result"
    }
   ],
   "source": [
    "a = '1234'\n",
    "b = '5678'\n",
    "a, b, id(a), id(b)"
   ]
  },
  {
   "cell_type": "code",
   "execution_count": 199,
   "id": "efa1e587-9c88-4f21-8e68-c1047b0d8f00",
   "metadata": {},
   "outputs": [
    {
     "data": {
      "text/plain": [
       "False"
      ]
     },
     "execution_count": 199,
     "metadata": {},
     "output_type": "execute_result"
    }
   ],
   "source": [
    "id(a) == id(b)"
   ]
  },
  {
   "cell_type": "code",
   "execution_count": 200,
   "id": "e230eb9b-acd6-4707-87b1-b92157e759f2",
   "metadata": {},
   "outputs": [
    {
     "data": {
      "text/plain": [
       "(10, 12)"
      ]
     },
     "execution_count": 200,
     "metadata": {},
     "output_type": "execute_result"
    }
   ],
   "source": [
    "# 대입 연산자\n",
    "a = 10\n",
    "b = a + 2\n",
    "a, b"
   ]
  },
  {
   "cell_type": "code",
   "execution_count": 205,
   "id": "3f1ca251-560f-4c32-b454-932d7a9390a4",
   "metadata": {},
   "outputs": [
    {
     "data": {
      "text/plain": [
       "21"
      ]
     },
     "execution_count": 205,
     "metadata": {},
     "output_type": "execute_result"
    }
   ],
   "source": [
    "a = 20\n",
    "a += 1  # a = a + 1\n",
    "a"
   ]
  },
  {
   "cell_type": "code",
   "execution_count": 206,
   "id": "06f2b45f-000a-49ae-bedd-b6b3145dc2c2",
   "metadata": {},
   "outputs": [
    {
     "data": {
      "text/plain": [
       "20"
      ]
     },
     "execution_count": 206,
     "metadata": {},
     "output_type": "execute_result"
    }
   ],
   "source": [
    "a -= 1  # a = a - 1\n",
    "a"
   ]
  },
  {
   "cell_type": "code",
   "execution_count": 209,
   "id": "03fc9736-720d-4bef-939f-9c0d8a8132fd",
   "metadata": {},
   "outputs": [
    {
     "data": {
      "text/plain": [
       "7"
      ]
     },
     "execution_count": 209,
     "metadata": {},
     "output_type": "execute_result"
    }
   ],
   "source": [
    "a = 3 \n",
    "b = 2\n",
    "a += 2 + b\n",
    "a"
   ]
  },
  {
   "cell_type": "markdown",
   "id": "505261d6-4c23-4087-bc60-5cc723851325",
   "metadata": {},
   "source": [
    "## 문자열 str\n",
    "' ', \" \", \"\"\" \"\"\", ''' ''' docstring   \n",
    "\n",
    "인코딩을 하면 코드가 되고 그 숫자값이 정해져 있음 \"코드표\""
   ]
  },
  {
   "cell_type": "markdown",
   "id": "abaca71b-2675-4e8f-84d7-688ef819aa4e",
   "metadata": {},
   "source": [
    "유니코드: 전 세계 문자의 표준   \n",
    "영어는 ascii -> 유니코드   \n",
    "한국어도 유니코드   \n",
    "\n",
    "유니코드는 글자의 크기에 따라 utf-8(default), utf-16, utf-32   \n",
    "파이썬의 문자열 str도 유니코드 기반!   \n",
    "\n",
    "euc-kr: 예전에 우리나라에서 쓰던 한글 코드(간혹 안되는 파일에 사용)   \n",
    "cp949: 예전 MS 윈도우즈의 한글 코드"
   ]
  },
  {
   "cell_type": "code",
   "execution_count": 2,
   "id": "fa7c8be6-fda8-4e5f-b431-7af7bb2aad46",
   "metadata": {},
   "outputs": [
    {
     "name": "stdout",
     "output_type": "stream",
     "text": [
      "파이썬\n",
      "54028\n"
     ]
    }
   ],
   "source": [
    "text = '파이썬'\n",
    "print(text)\n",
    "print(ord('파'))"
   ]
  },
  {
   "cell_type": "code",
   "execution_count": 5,
   "id": "c40a99e3-25a7-44a1-b081-c12f65e8badd",
   "metadata": {},
   "outputs": [
    {
     "data": {
      "text/plain": [
       "b'\\xed\\x8c\\x8c\\xec\\x9d\\xb4\\xec\\x8d\\xac'"
      ]
     },
     "execution_count": 5,
     "metadata": {},
     "output_type": "execute_result"
    }
   ],
   "source": [
    "# 인코딩\n",
    "enc_text = text.encode('utf-8')\n",
    "enc_text"
   ]
  },
  {
   "cell_type": "code",
   "execution_count": 7,
   "id": "81515f14-2390-4702-b0df-f7b7a26b7964",
   "metadata": {},
   "outputs": [
    {
     "data": {
      "text/plain": [
       "'파이썬'"
      ]
     },
     "execution_count": 7,
     "metadata": {},
     "output_type": "execute_result"
    }
   ],
   "source": [
    "# 디코딩\n",
    "dec_text = enc_text.decode('utf-8')\n",
    "dec_text"
   ]
  },
  {
   "cell_type": "code",
   "execution_count": 8,
   "id": "25c51104-1e73-4c88-857a-573208f02123",
   "metadata": {},
   "outputs": [
    {
     "data": {
      "text/plain": [
       "b'\\xc6\\xc4\\xc0\\xcc\\xbd\\xe3'"
      ]
     },
     "execution_count": 8,
     "metadata": {},
     "output_type": "execute_result"
    }
   ],
   "source": [
    "enc_text2 = text.encode('euc-kr')\n",
    "enc_text2"
   ]
  },
  {
   "cell_type": "code",
   "execution_count": 10,
   "id": "7db2af58-70e9-4ca2-a0d0-77062f88277b",
   "metadata": {},
   "outputs": [],
   "source": [
    "# dec_text2 = enc_text2.decode('utf-8')  ->  UnicodeDecodeError\n",
    "# dec_text2"
   ]
  },
  {
   "cell_type": "code",
   "execution_count": 11,
   "id": "6dd1cf06-252a-4d0e-946e-e75807c6f015",
   "metadata": {},
   "outputs": [
    {
     "data": {
      "text/plain": [
       "b'\\xc6\\xc4\\xc0\\xcc\\xbd\\xe3'"
      ]
     },
     "execution_count": 11,
     "metadata": {},
     "output_type": "execute_result"
    }
   ],
   "source": [
    "enc_text3 = text.encode('cp949')\n",
    "enc_text3"
   ]
  },
  {
   "cell_type": "code",
   "execution_count": 13,
   "id": "7648d575-9445-4f2a-9eb8-08db3c3b96f9",
   "metadata": {},
   "outputs": [
    {
     "data": {
      "text/plain": [
       "'파이썬'"
      ]
     },
     "execution_count": 13,
     "metadata": {},
     "output_type": "execute_result"
    }
   ],
   "source": [
    "dec_text3 = enc_text3.decode('euc-kr')  # 얘는 되네...?\n",
    "dec_text3"
   ]
  },
  {
   "cell_type": "code",
   "execution_count": 217,
   "id": "f8160ca5-ed87-4687-9f7c-a3848408079f",
   "metadata": {},
   "outputs": [
    {
     "data": {
      "text/plain": [
       "'hellopython'"
      ]
     },
     "execution_count": 217,
     "metadata": {},
     "output_type": "execute_result"
    }
   ],
   "source": [
    "a = 'hello'\n",
    "b = 'python'\n",
    "a + b           # +는 문자열끼리 계산"
   ]
  },
  {
   "cell_type": "code",
   "execution_count": 218,
   "id": "8f493635-f89b-4f1b-919b-c4187f83737b",
   "metadata": {},
   "outputs": [
    {
     "data": {
      "text/plain": [
       "'**********'"
      ]
     },
     "execution_count": 218,
     "metadata": {},
     "output_type": "execute_result"
    }
   ],
   "source": [
    "c = '*'\n",
    "c * 10          # *는 숫자와 계산"
   ]
  },
  {
   "cell_type": "code",
   "execution_count": 214,
   "id": "b61aa3d3-48d5-4ce7-954f-1f2203bb4f0c",
   "metadata": {},
   "outputs": [
    {
     "data": {
      "text/plain": [
       "\"Kim's family\""
      ]
     },
     "execution_count": 214,
     "metadata": {},
     "output_type": "execute_result"
    }
   ],
   "source": [
    "d = \"Kim's family\"\n",
    "d"
   ]
  },
  {
   "cell_type": "code",
   "execution_count": 216,
   "id": "4edf1a64-9ee5-43f5-ab5b-3f95f3f90177",
   "metadata": {},
   "outputs": [
    {
     "data": {
      "text/plain": [
       "True"
      ]
     },
     "execution_count": 216,
     "metadata": {},
     "output_type": "execute_result"
    }
   ],
   "source": [
    "e = '1'\n",
    "e == '1'  # 문자열도 비교연산 가능!"
   ]
  },
  {
   "cell_type": "markdown",
   "id": "d9bd9f10-9df5-42dd-9bc4-df66722b28cf",
   "metadata": {},
   "source": [
    "### 인덱싱 슬라이싱"
   ]
  },
  {
   "cell_type": "markdown",
   "id": "3dc05935-9c8a-454b-867b-cca916c647e6",
   "metadata": {},
   "source": [
    "파이썬의 인덱스는 0부터 시작   \n",
    "음수 인덱스: 뒤에서부터 -1"
   ]
  },
  {
   "cell_type": "code",
   "execution_count": 253,
   "id": "56bf449b-2626-446b-94bf-f49736daae1d",
   "metadata": {},
   "outputs": [
    {
     "data": {
      "text/plain": [
       "'2'"
      ]
     },
     "execution_count": 253,
     "metadata": {},
     "output_type": "execute_result"
    }
   ],
   "source": [
    "# 문자열은 리스트, 열거형\n",
    "a = '20010331Rabcd'       # 13개 글자의 목록\n",
    "a[0]                      # 숫자 자리수 -> 인덱스"
   ]
  },
  {
   "cell_type": "code",
   "execution_count": 223,
   "id": "cbc964bb-6104-4938-9c71-0123cdda86dc",
   "metadata": {},
   "outputs": [
    {
     "data": {
      "text/plain": [
       "'1'"
      ]
     },
     "execution_count": 223,
     "metadata": {},
     "output_type": "execute_result"
    }
   ],
   "source": [
    "a[3] # 인덱싱"
   ]
  },
  {
   "cell_type": "code",
   "execution_count": 227,
   "id": "bcdd746d-9901-4d4a-8b2e-67129f33debe",
   "metadata": {},
   "outputs": [
    {
     "data": {
      "text/plain": [
       "'2001'"
      ]
     },
     "execution_count": 227,
     "metadata": {},
     "output_type": "execute_result"
    }
   ],
   "source": [
    "a[:4]  # 영역을 지정할 때 :(콜론)을 사용 -> 슬라이싱 slice"
   ]
  },
  {
   "cell_type": "code",
   "execution_count": 256,
   "id": "30fb69af-2c82-4f05-84db-55a43a404b2c",
   "metadata": {},
   "outputs": [
    {
     "data": {
      "text/plain": [
       "'Rab'"
      ]
     },
     "execution_count": 256,
     "metadata": {},
     "output_type": "execute_result"
    }
   ],
   "source": [
    "# Rab 가져오기\n",
    "a[8:11]\n",
    "a[-5:-2]"
   ]
  },
  {
   "cell_type": "code",
   "execution_count": 239,
   "id": "7d130ca8-6ac9-42ad-b49b-6d18238d8a99",
   "metadata": {},
   "outputs": [
    {
     "data": {
      "text/plain": [
       "'abcd'"
      ]
     },
     "execution_count": 239,
     "metadata": {},
     "output_type": "execute_result"
    }
   ],
   "source": [
    "a[9:]    # index는 0부터 시작!\n",
    "a[-4:]"
   ]
  },
  {
   "cell_type": "code",
   "execution_count": 241,
   "id": "370ff4aa-286d-4157-ab73-7b313e73559b",
   "metadata": {},
   "outputs": [
    {
     "data": {
      "text/plain": [
       "True"
      ]
     },
     "execution_count": 241,
     "metadata": {},
     "output_type": "execute_result"
    }
   ],
   "source": [
    "s = 'abc'\n",
    "a = s\n",
    "a is s"
   ]
  },
  {
   "cell_type": "code",
   "execution_count": 242,
   "id": "122e15e8-7a35-457e-83e3-478a85e3c87a",
   "metadata": {},
   "outputs": [
    {
     "data": {
      "text/plain": [
       "True"
      ]
     },
     "execution_count": 242,
     "metadata": {},
     "output_type": "execute_result"
    }
   ],
   "source": [
    "b = s[:]\n",
    "a is b"
   ]
  },
  {
   "cell_type": "markdown",
   "id": "db48b0f9-c666-4bec-a92a-fa25db755d84",
   "metadata": {},
   "source": [
    "`'''docstring \\n\n",
    "start \\n\n",
    "end \\n\n",
    "'''`\n",
    "\n",
    "\"\"\" \"\"\"   \n",
    "\n",
    "Shift + Tab 키를 누르면 함수의 설명이 나옴"
   ]
  },
  {
   "cell_type": "code",
   "execution_count": 17,
   "id": "7ed84dd4-a88c-4d63-a55e-21b4e207772b",
   "metadata": {},
   "outputs": [
    {
     "name": "stdout",
     "output_type": "stream",
     "text": [
      "docstring\n",
      "start\n",
      "end\n",
      "\n"
     ]
    },
    {
     "data": {
      "text/plain": [
       "'docstring\\nstart\\nend\\n'"
      ]
     },
     "execution_count": 17,
     "metadata": {},
     "output_type": "execute_result"
    }
   ],
   "source": [
    "docstring = '''docstring\n",
    "start\n",
    "end\n",
    "'''\n",
    "print(docstring)\n",
    "docstring  # docstring은 줄바꿈을 그대로 출력 (여러줄 쓸 때 사용)"
   ]
  },
  {
   "cell_type": "code",
   "execution_count": 18,
   "id": "c57cf0d0-e62e-4d34-846b-da989e62993a",
   "metadata": {},
   "outputs": [
    {
     "data": {
      "text/plain": [
       "str"
      ]
     },
     "execution_count": 18,
     "metadata": {},
     "output_type": "execute_result"
    }
   ],
   "source": [
    "type(text)"
   ]
  },
  {
   "cell_type": "markdown",
   "id": "52a8c8ad-4d1a-4758-8e4c-5dedc02a6be3",
   "metadata": {},
   "source": [
    "# str의 함수\n",
    "dir"
   ]
  },
  {
   "cell_type": "code",
   "execution_count": 19,
   "id": "7118af1a-b65e-4ad3-ac6b-181a5eb9c687",
   "metadata": {
    "scrolled": true
   },
   "outputs": [
    {
     "data": {
      "text/plain": [
       "['__add__',\n",
       " '__class__',\n",
       " '__contains__',\n",
       " '__delattr__',\n",
       " '__dir__',\n",
       " '__doc__',\n",
       " '__eq__',\n",
       " '__format__',\n",
       " '__ge__',\n",
       " '__getattribute__',\n",
       " '__getitem__',\n",
       " '__getnewargs__',\n",
       " '__getstate__',\n",
       " '__gt__',\n",
       " '__hash__',\n",
       " '__init__',\n",
       " '__init_subclass__',\n",
       " '__iter__',\n",
       " '__le__',\n",
       " '__len__',\n",
       " '__lt__',\n",
       " '__mod__',\n",
       " '__mul__',\n",
       " '__ne__',\n",
       " '__new__',\n",
       " '__reduce__',\n",
       " '__reduce_ex__',\n",
       " '__repr__',\n",
       " '__rmod__',\n",
       " '__rmul__',\n",
       " '__setattr__',\n",
       " '__sizeof__',\n",
       " '__str__',\n",
       " '__subclasshook__',\n",
       " 'capitalize',\n",
       " 'casefold',\n",
       " 'center',\n",
       " 'count',\n",
       " 'encode',\n",
       " 'endswith',\n",
       " 'expandtabs',\n",
       " 'find',\n",
       " 'format',\n",
       " 'format_map',\n",
       " 'index',\n",
       " 'isalnum',\n",
       " 'isalpha',\n",
       " 'isascii',\n",
       " 'isdecimal',\n",
       " 'isdigit',\n",
       " 'isidentifier',\n",
       " 'islower',\n",
       " 'isnumeric',\n",
       " 'isprintable',\n",
       " 'isspace',\n",
       " 'istitle',\n",
       " 'isupper',\n",
       " 'join',\n",
       " 'ljust',\n",
       " 'lower',\n",
       " 'lstrip',\n",
       " 'maketrans',\n",
       " 'partition',\n",
       " 'removeprefix',\n",
       " 'removesuffix',\n",
       " 'replace',\n",
       " 'rfind',\n",
       " 'rindex',\n",
       " 'rjust',\n",
       " 'rpartition',\n",
       " 'rsplit',\n",
       " 'rstrip',\n",
       " 'split',\n",
       " 'splitlines',\n",
       " 'startswith',\n",
       " 'strip',\n",
       " 'swapcase',\n",
       " 'title',\n",
       " 'translate',\n",
       " 'upper',\n",
       " 'zfill']"
      ]
     },
     "execution_count": 19,
     "metadata": {},
     "output_type": "execute_result"
    }
   ],
   "source": [
    "dir(text)"
   ]
  },
  {
   "cell_type": "code",
   "execution_count": 40,
   "id": "df03e117-9d4e-4b6e-9246-1610d96d6949",
   "metadata": {},
   "outputs": [
    {
     "data": {
      "text/plain": [
       "'파이썬4'"
      ]
     },
     "execution_count": 40,
     "metadata": {},
     "output_type": "execute_result"
    }
   ],
   "source": [
    "text.__add__('4')  # = text + '4'"
   ]
  },
  {
   "cell_type": "code",
   "execution_count": 42,
   "id": "daffc0ef-16a3-4e8c-a636-4d670771ff2e",
   "metadata": {},
   "outputs": [
    {
     "data": {
      "text/plain": [
       "'파이썬파이썬파이썬파이썬'"
      ]
     },
     "execution_count": 42,
     "metadata": {},
     "output_type": "execute_result"
    }
   ],
   "source": [
    "text.__mul__(4)    # = text * 4"
   ]
  },
  {
   "cell_type": "code",
   "execution_count": 25,
   "id": "8d623cfc-647f-48fe-8a9f-fc1460967bf1",
   "metadata": {},
   "outputs": [
    {
     "data": {
      "text/plain": [
       "0"
      ]
     },
     "execution_count": 25,
     "metadata": {},
     "output_type": "execute_result"
    }
   ],
   "source": [
    "text.count('t')"
   ]
  },
  {
   "cell_type": "code",
   "execution_count": 31,
   "id": "05860e16-fcb4-42ce-999a-7e5dbe678e2a",
   "metadata": {},
   "outputs": [
    {
     "data": {
      "text/plain": [
       "False"
      ]
     },
     "execution_count": 31,
     "metadata": {},
     "output_type": "execute_result"
    }
   ],
   "source": [
    "text.isnumeric()"
   ]
  },
  {
   "cell_type": "markdown",
   "id": "825f755a-1bd4-4035-83e9-1e0e26d8887c",
   "metadata": {},
   "source": [
    "escape 문자   \n",
    "\\ '역슬래시'   "
   ]
  },
  {
   "cell_type": "raw",
   "id": "d27ac1f8-fc27-4615-afbd-9523b9c29ae5",
   "metadata": {},
   "source": [
    "'hello\\nworld'"
   ]
  },
  {
   "cell_type": "code",
   "execution_count": 39,
   "id": "db09ef40-71a2-490e-b6f6-21598d6865fa",
   "metadata": {},
   "outputs": [
    {
     "name": "stdout",
     "output_type": "stream",
     "text": [
      "hello\n",
      "world's\n",
      "hello\n",
      "world's\n"
     ]
    }
   ],
   "source": [
    "print(\"hello\\nworld's\")\n",
    "print('hello\\nworld\\'s') # escape 문자는 특수문자를 그냥 텍스트로 인식하게 함"
   ]
  },
  {
   "cell_type": "markdown",
   "id": "6ea036a9-94b1-4334-8c39-197444d33a1f",
   "metadata": {},
   "source": [
    "raw-string: 모두 다 문자열로 하고 싶을 때 r'str?\\'   \n",
    "f-string: 형삭 코드를 내포하고 있는 문자열 f'str{text}' "
   ]
  },
  {
   "cell_type": "code",
   "execution_count": 55,
   "id": "200d79aa-ec5a-4de3-beab-cfb6e8174e8a",
   "metadata": {},
   "outputs": [
    {
     "data": {
      "text/plain": [
       "'12\\x04'"
      ]
     },
     "execution_count": 55,
     "metadata": {},
     "output_type": "execute_result"
    }
   ],
   "source": [
    "str_1 = '12\\4'  # 16진수 4로 해석 됨 '12\\x04'\n",
    "str_1"
   ]
  },
  {
   "cell_type": "code",
   "execution_count": 53,
   "id": "ae6752ce-e3a2-419e-a2b0-ca7b0c82e0f4",
   "metadata": {},
   "outputs": [
    {
     "name": "stdout",
     "output_type": "stream",
     "text": [
      "12\\4\n"
     ]
    }
   ],
   "source": [
    "raw_str = r'12\\4'\n",
    "print(raw_str)"
   ]
  },
  {
   "cell_type": "code",
   "execution_count": 52,
   "id": "56e39fa0-59e6-4a70-a59b-414594510567",
   "metadata": {},
   "outputs": [
    {
     "name": "stdout",
     "output_type": "stream",
     "text": [
      "Hello\\nworld\n"
     ]
    }
   ],
   "source": [
    "raw_str_1 = r'Hello\\nworld'\n",
    "print(raw_str_1)"
   ]
  },
  {
   "cell_type": "markdown",
   "id": "80924d48-a1e0-4bb8-8591-86de07a3b9b4",
   "metadata": {},
   "source": [
    "f'{수식} 문자열 {변수}'"
   ]
  },
  {
   "cell_type": "code",
   "execution_count": 65,
   "id": "2f42a79a-e2df-4b72-93cf-a36c40f1dba2",
   "metadata": {},
   "outputs": [
    {
     "name": "stdout",
     "output_type": "stream",
     "text": [
      "제 이름은 gayeon이고, 나이는 26이다.\n"
     ]
    }
   ],
   "source": [
    "name = 'gayeon'\n",
    "age = 26\n",
    "\n",
    "f_str_1 = f'제 이름은 {name}이고, 나이는 {age}이다.'\n",
    "print(f_str_1)"
   ]
  },
  {
   "cell_type": "code",
   "execution_count": 66,
   "id": "ed776533-c7a5-468f-a4c1-a9987f780005",
   "metadata": {},
   "outputs": [
    {
     "name": "stdin",
     "output_type": "stream",
     "text": [
      "이름을 입력하세요 홍가연\n",
      "소개를 작성하세요 하남에 사는 26살 여자입니다.\n"
     ]
    },
    {
     "name": "stdout",
     "output_type": "stream",
     "text": [
      "이름: 홍가연 \n",
      "소개: 하남에 사는 26살 여자입니다.\n"
     ]
    }
   ],
   "source": [
    "# 이름과 자기소개를 입력 받아 출력하는 프로그램 작성\n",
    "name = input('이름을 입력하세요')\n",
    "intro = input('소개를 작성하세요')\n",
    "print(f'이름: {name} \\n소개: {intro}')"
   ]
  },
  {
   "cell_type": "markdown",
   "id": "1e803808-841d-4209-ba87-ae10261c67a7",
   "metadata": {},
   "source": [
    "문자열.format()   \n",
    "\n",
    "문자열의 위치 인덱스를 사용해 포맷한 값을 지정할 수 있다."
   ]
  },
  {
   "cell_type": "code",
   "execution_count": 71,
   "id": "d7f25454-c864-43cf-9cdf-1196e0f18318",
   "metadata": {
    "scrolled": true
   },
   "outputs": [
    {
     "name": "stdout",
     "output_type": "stream",
     "text": [
      "99.9900 dollors are worth US$ 100\n"
     ]
    }
   ],
   "source": [
    "# dir(f_str_1)\n",
    "format_str = '{0:.4f} {1:s} are worth US$ {2:d}'         # template\n",
    "print(format_str.format(99.99, 'dollors', 100))"
   ]
  },
  {
   "cell_type": "code",
   "execution_count": 74,
   "id": "f68c2384-b46f-4975-8647-3d86e309ecc0",
   "metadata": {},
   "outputs": [
    {
     "name": "stdin",
     "output_type": "stream",
     "text": [
      "주문할 메뉴를 입력하세요! 수건\n",
      "한 개 가격이 얼마인가요? 6000\n",
      "몇 개를 주문하세요? 4\n"
     ]
    },
    {
     "name": "stdout",
     "output_type": "stream",
     "text": [
      "수건 메뉴의 4개 가격은 총 24,000원 입니다.\n"
     ]
    }
   ],
   "source": [
    "menu = input('주문할 메뉴를 입력하세요!')\n",
    "price = int(input('한 개 가격이 얼마인가요?'))\n",
    "count = int(input('몇 개를 주문하세요?'))\n",
    "\n",
    "total = price * count\n",
    "msg = '{} 메뉴의 {}개 가격은 총 {:,}원 입니다.'\n",
    "print(msg.format(menu, count, total))"
   ]
  },
  {
   "attachments": {
    "d65fbda3-4967-4fb3-9d73-a047f414e6ab.png": {
     "image/png": "[encoded data removed]"
    }
   },
   "cell_type": "markdown",
   "id": "20225608-fd83-4932-95a1-774fddeb7b12",
   "metadata": {},
   "source": [
    "![image.png](attachment:d65fbda3-4967-4fb3-9d73-a047f414e6ab.png)"
   ]
  },
  {
   "cell_type": "code",
   "execution_count": 134,
   "id": "8c57850e-9b0d-4327-8bde-e9fc546390e3",
   "metadata": {
    "scrolled": true
   },
   "outputs": [
    {
     "name": "stdout",
     "output_type": "stream",
     "text": [
      "상품명        가격         수량         총액        \n",
      "---------------------------------------------\n",
      "아메리카노     3,000        2          6,000     \n",
      "카페라떼      4,000        1          4,000     \n",
      "샌드위치      5,500        3          16,500    \n"
     ]
    }
   ],
   "source": [
    "items = [\n",
    "    {\"name\": \"아메리카노\", \"price\": 3000, \"qty\": 2},\n",
    "    {\"name\": \"카페라떼\", \"price\": 4000, \"qty\": 1},\n",
    "    {\"name\": \"샌드위치\", \"price\": 5500, \"qty\": 3}\n",
    "]\n",
    "\n",
    "print(f'{'상품명':10} {'가격':10} {'수량':10} {'총액':10}')\n",
    "print('-' * 45)\n",
    "\n",
    "for item in items:\n",
    "    total = item['price'] * item['qty']\n",
    "    print(f'{item['name']:9} {item['price']:<12,} {item['qty']:<10} {total:<10,}')"
   ]
  },
  {
   "cell_type": "code",
   "execution_count": 181,
   "id": "36a63d9f-52a1-4f7b-96ed-db46a4bd3026",
   "metadata": {},
   "outputs": [
    {
     "name": "stdout",
     "output_type": "stream",
     "text": [
      "상품명       가격        수량        총액        \n",
      "--------------------------------------------------\n",
      "아메리카노          3,000원         2개     6,000원\n",
      "카페라떼           4,000원         1개     4,000원\n",
      "샌드위치           5,500원         3개    16,500원\n"
     ]
    }
   ],
   "source": [
    "items = [\n",
    "    {\"name\": \"아메리카노\", \"price\": 3000, \"qty\": 2},\n",
    "    {\"name\": \"카페라떼\", \"price\": 4000, \"qty\": 1},\n",
    "    {\"name\": \"샌드위치\", \"price\": 5500, \"qty\": 3}\n",
    "]\n",
    "header_str = '{0:10}{1:10}{2:10}{3:10}'  #인덱스:데이터길이\n",
    "print(header_str.format('상품명', '가격', '수량', '총액'))\n",
    "print('-'*50)\n",
    "\n",
    "data_str = '{0:10}{1:10,}원{2:10}개{3:10,}원'\n",
    "for item in items :\n",
    "    item_name = item['name']\n",
    "    item_price = item['price']\n",
    "    item_qty = item['qty']\n",
    "    total_price = item_price * item_qty\n",
    "    print(data_str.format(item_name, item_price, item_qty, total_price))"
   ]
  },
  {
   "cell_type": "markdown",
   "id": "66ed3c7c-8dcc-4221-99b4-ebc6b0bfb053",
   "metadata": {},
   "source": [
    "| 함수                  | 설명                  | 예시                                        |\n",
    "| ------------------- | ------------------- | ----------------------------------------- |\n",
    "| `lower()`           | 모두 소문자로 변환          | `\"Python\".lower()` → `\"python\"`           |\n",
    "| `upper()`           | 모두 대문자로 변환          | `\"python\".upper()` → `\"PYTHON\"`           |\n",
    "| `capitalize()`      | 첫 글자만 대문자           | `\"hello\".capitalize()` → `\"Hello\"`        |\n",
    "| `title()`           | 각 단어의 첫 글자 대문자      | `\"hello world\".title()` → `\"Hello World\"` |\n",
    "| `strip()`           | 앞뒤 공백 제거            | `\" hello \".strip()` → `\"hello\"`           |\n",
    "| `lstrip()`          | 왼쪽 공백 제거            | `\" hello\".lstrip()`                       |\n",
    "| `rstrip()`          | 오른쪽 공백 제거           | `\"hello \".rstrip()`                       |\n",
    "| `replace(old, new)` | 문자열 바꾸기             | `\"hello\".replace(\"l\", \"x\")` → `\"hexxo\"`   |\n",
    "| `split()`           | 문자열 나누기 (기본: 공백)    | `\"a b c\".split()` → `['a', 'b', 'c']`     |\n",
    "| `join(list)`        | 리스트를 문자열로 결합        | `\" \".join(['a', 'b'])` → `\"a b\"`          |\n",
    "| `find(sub)`         | 처음 등장하는 위치 (없으면 -1) | `\"apple\".find(\"p\")` → `1`                 |\n",
    "| `index(sub)`        | 처음 등장하는 위치 (없으면 오류) | `\"apple\".index(\"p\")` → `1`                |\n",
    "| `count(sub)`        | 부분 문자열 개수           | `\"banana\".count(\"a\")` → `3`               |\n",
    "| `startswith(sub)`   | 해당 문자열로 시작?         | `\"python\".startswith(\"py\")` → `True`      |\n",
    "| `endswith(sub)`     | 해당 문자열로 끝남?         | `\"python\".endswith(\"on\")` → `True`        |\n",
    "| `isalnum()`         | 영문자+숫자인가?           | `\"abc123\".isalnum()` → `True`             |\n",
    "| `isalpha()`         | 영문자만인가?             | `\"abc\".isalpha()` → `True`                |\n",
    "| `isdigit()`         | 숫자만인가?              | `\"123\".isdigit()` → `True`                |\n",
    "| `isspace()`         | 공백문자만 있는가?          | `\" \\t\\n\".isspace()` → `True`              |"
   ]
  },
  {
   "cell_type": "code",
   "execution_count": 147,
   "id": "5c483b98-1cd3-4490-b63f-33fb338b40e5",
   "metadata": {},
   "outputs": [
    {
     "name": "stdout",
     "output_type": "stream",
     "text": [
      "aa bbc cdd\n",
      "AA BBC CDD\n",
      "Aa bbc cdd\n",
      "Aa Bbc Cdd\n"
     ]
    }
   ],
   "source": [
    "str1 = 'aa BbC cdD'\n",
    "print(str1.lower())\n",
    "print(str1.upper())\n",
    "print(str1.capitalize())\n",
    "print(str1.title())"
   ]
  },
  {
   "cell_type": "code",
   "execution_count": 151,
   "id": "e0ed4e73-cbff-41f0-b408-99e455971253",
   "metadata": {},
   "outputs": [
    {
     "name": "stdout",
     "output_type": "stream",
     "text": [
      "absb sUKfbkSFdj\n",
      "absb sUKfbkSFdj   \n",
      "  absb sUKfbkSFdj\n"
     ]
    }
   ],
   "source": [
    "str2 = '  absb sUKfbkSFdj   '\n",
    "print(str2.strip())\n",
    "print(str2.lstrip())\n",
    "print(str2.rstrip())"
   ]
  },
  {
   "cell_type": "code",
   "execution_count": 163,
   "id": "d809917d-638a-47d5-bbac-6031ae924e15",
   "metadata": {},
   "outputs": [
    {
     "name": "stdout",
     "output_type": "stream",
     "text": [
      "hsrRGJ DJsfrh\n",
      "['hsjRGJ', 'DJsfjh']\n",
      "ab#cd#ef\n"
     ]
    }
   ],
   "source": [
    "str3 = 'hsjRGJ DJsfjh'\n",
    "print(str3.replace('j', 'r'))\n",
    "print(str3.split())\n",
    "\n",
    "list1 = ['ab', 'cd', 'ef']\n",
    "print('#'.join(list1))"
   ]
  },
  {
   "cell_type": "code",
   "execution_count": 166,
   "id": "5f263626-3b93-40cc-bdfc-5182259fd014",
   "metadata": {},
   "outputs": [
    {
     "name": "stdout",
     "output_type": "stream",
     "text": [
      "2\n",
      "2\n",
      "-1\n"
     ]
    }
   ],
   "source": [
    "print(str3.find('j'))\n",
    "print(str3.index('j'))\n",
    "\n",
    "print(str3.find('q'))   # -> -1\n",
    "# print(str3.index('q'))  ->  ValueError: substring not found"
   ]
  },
  {
   "cell_type": "code",
   "execution_count": 173,
   "id": "bd2e170a-2abd-4ba6-81bc-5d17f2c35f58",
   "metadata": {},
   "outputs": [
    {
     "name": "stdout",
     "output_type": "stream",
     "text": [
      "2\n",
      "True\n",
      "False\n",
      "True\n",
      "False\n"
     ]
    }
   ],
   "source": [
    "str4 = 'jsj37 kDFi 4r4'\n",
    "print(str4.count('j'))\n",
    "print(str4.startswith('jsj'))\n",
    "print(str4.startswith('jd'))\n",
    "print(str4.endswith('4'))\n",
    "print(str4.endswith('4r'))"
   ]
  },
  {
   "cell_type": "code",
   "execution_count": 179,
   "id": "d8cd09ea-f063-48ac-bef1-a7a0acf033a9",
   "metadata": {},
   "outputs": [
    {
     "name": "stdout",
     "output_type": "stream",
     "text": [
      "False\n",
      "True\n",
      "False\n",
      "False\n",
      "False\n"
     ]
    }
   ],
   "source": [
    "str5 = 'huwe7777773gfw'\n",
    "print(str4.isalnum())  # 공백도 있으면 false!\n",
    "print(str5.isalnum())\n",
    "\n",
    "print(str4.isalpha())\n",
    "print(str4.isdigit())\n",
    "print(str4.isspace())"
   ]
  },
  {
   "cell_type": "markdown",
   "id": "27b859bd-6be8-4be6-a33e-80f7d331d428",
   "metadata": {},
   "source": [
    "## 문자열 함수 연습\n",
    "Q1. 홍길동 씨의 주민등록번호는 881120-1068234이다. 홍길동씨의 주민등록번호를 연월일 [YYYYMMDD] 부분과 그 뒤의 숫자 부분으로 나누어 출력해 보자.\n",
    "\n",
    "Q2. 주민등록번호 뒷자리의 맨 첫 번째 숫자는 성별을 나타낸다. 주민등록번호에서 성별을 나타내는 숫자를 출력해 보자\n",
    "\n",
    "Q3. 숫자와 문자를 나누어 a1,a2 변수에 넣으세요.\n",
    "\n",
    "a = '20010331Rainy'\n",
    "\n",
    "Q4. 모두 대문자로, 모두 소문자로 바꾸세요.\n",
    "\n",
    "a = 'Hi'\n",
    "\n",
    "Q5. 아래 변수의 화이트 스페이스를 제거하고 출력하세요.\n",
    "\n",
    "a = ' hi '\n",
    "\n",
    "Q6. 아기상어 동요 속에는 '뚜루루뚜루' 가 몇개나 들어 있을까요?"
   ]
  },
  {
   "cell_type": "code",
   "execution_count": 195,
   "id": "f7baecf8-b383-4b56-a2be-85a4e23497e5",
   "metadata": {},
   "outputs": [
    {
     "name": "stdout",
     "output_type": "stream",
     "text": [
      "881120\n",
      "1068234\n"
     ]
    }
   ],
   "source": [
    "# Q1\n",
    "id = '881120-1068234'\n",
    "id_list = id.split('-')\n",
    "print(id_list[0])\n",
    "print(id_list[1])"
   ]
  },
  {
   "cell_type": "code",
   "execution_count": 199,
   "id": "372c9aa2-4990-42fa-b8ac-b967c0af6d1a",
   "metadata": {},
   "outputs": [
    {
     "name": "stdout",
     "output_type": "stream",
     "text": [
      "1\n"
     ]
    }
   ],
   "source": [
    "# Q2\n",
    "index = id.find('-')\n",
    "print(id[index + 1])"
   ]
  },
  {
   "cell_type": "code",
   "execution_count": 209,
   "id": "70217e31-903b-44a8-9014-209d55a45939",
   "metadata": {},
   "outputs": [],
   "source": [
    "# Q3\n",
    "a = '20010331Rainy'\n",
    "a1 = a[:8]\n",
    "a2 = a[8:]"
   ]
  },
  {
   "cell_type": "code",
   "execution_count": 202,
   "id": "dacb843a-010f-4e68-bf19-68222f853dbf",
   "metadata": {},
   "outputs": [
    {
     "name": "stdout",
     "output_type": "stream",
     "text": [
      "HI\n",
      "hi\n"
     ]
    }
   ],
   "source": [
    "# Q4\n",
    "a = 'Hi'\n",
    "print(a.upper())\n",
    "print(a.lower())"
   ]
  },
  {
   "cell_type": "code",
   "execution_count": 203,
   "id": "0656c753-eb45-43e1-9f47-b0b698491f7e",
   "metadata": {},
   "outputs": [
    {
     "name": "stdout",
     "output_type": "stream",
     "text": [
      "hi\n"
     ]
    }
   ],
   "source": [
    "# Q5\n",
    "a = ' hi '\n",
    "print(a.strip())"
   ]
  },
  {
   "cell_type": "code",
   "execution_count": 213,
   "id": "64408278-5e11-416b-832a-135df29cb8b9",
   "metadata": {},
   "outputs": [
    {
     "data": {
      "text/plain": [
       "51"
      ]
     },
     "execution_count": 213,
     "metadata": {},
     "output_type": "execute_result"
    }
   ],
   "source": [
    "# Q6\n",
    "baby_shark = '''아기상어\n",
    "뚜루루뚜루\n",
    "귀여운\n",
    "뚜루루뚜루\n",
    "바닷속\n",
    "뚜루루뚜루\n",
    "아기상어!''' * 17\n",
    "baby_shark.count('뚜루루뚜루')"
   ]
  },
  {
   "cell_type": "markdown",
   "id": "be488cef-fdea-46e9-a411-5793721726bb",
   "metadata": {},
   "source": [
    "TypeError와 ValueError"
   ]
  },
  {
   "cell_type": "code",
   "execution_count": 59,
   "id": "702a46a2-a553-4fed-8d06-ee642ffa96b2",
   "metadata": {},
   "outputs": [
    {
     "data": {
      "text/plain": [
       "5"
      ]
     },
     "execution_count": 59,
     "metadata": {},
     "output_type": "execute_result"
    }
   ],
   "source": [
    "b = 2\n",
    "c = '3'\n",
    "# b + c  # TypeError\n",
    "b + int(c)"
   ]
  },
  {
   "cell_type": "code",
   "execution_count": 61,
   "id": "69513850-ebf6-46f9-b93e-5cdc990601d3",
   "metadata": {},
   "outputs": [],
   "source": [
    "c = '3a'\n",
    "# b + int(c)  # ValueError: invalid literal for int() with base 10: '3a'"
   ]
  },
  {
   "cell_type": "code",
   "execution_count": 63,
   "id": "7df98032-3527-4560-8ec6-478bb4b2790e",
   "metadata": {},
   "outputs": [
    {
     "data": {
      "text/plain": [
       "5"
      ]
     },
     "execution_count": 63,
     "metadata": {},
     "output_type": "execute_result"
    }
   ],
   "source": [
    "b + int(c[0])"
   ]
  }
 ],
 "metadata": {
  "kernelspec": {
   "display_name": "Python 3 (ipykernel)",
   "language": "python",
   "name": "python3"
  },
  "language_info": {
   "codemirror_mode": {
    "name": "ipython",
    "version": 3
   },
   "file_extension": ".py",
   "mimetype": "text/x-python",
   "name": "python",
   "nbconvert_exporter": "python",
   "pygments_lexer": "ipython3",
   "version": "3.12.9"
  }
 },
 "nbformat": 4,
 "nbformat_minor": 5
}
