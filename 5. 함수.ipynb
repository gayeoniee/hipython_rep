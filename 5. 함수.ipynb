{
 "cells": [
  {
   "cell_type": "markdown",
   "id": "2cde6856-b59f-4ecc-a90a-af0d5f1c7454",
   "metadata": {},
   "source": [
    "# 함수\n",
    "\n",
    "- 인자 = 매개변수, 입력, 파라미터\n",
    "- 반환값 = 리턴값, 결과값\n",
    "- 함수 이름\n",
    "   \n",
    "   \n",
    "- 함수 정의 -> 호출"
   ]
  },
  {
   "cell_type": "code",
   "execution_count": 19,
   "id": "95d17bfc-59a3-4dfe-9451-df263497f2d9",
   "metadata": {},
   "outputs": [],
   "source": [
    "# definition\n",
    "def my_func():\n",
    "    print('home')\n",
    "    print(\"let's go\")"
   ]
  },
  {
   "cell_type": "code",
   "execution_count": 4,
   "id": "33784f89-d690-41d1-a419-c3e9eb5d3802",
   "metadata": {},
   "outputs": [
    {
     "name": "stdout",
     "output_type": "stream",
     "text": [
      "home\n",
      "let's go\n"
     ]
    }
   ],
   "source": [
    "# call\n",
    "my_func()"
   ]
  },
  {
   "cell_type": "code",
   "execution_count": 5,
   "id": "96c8e9ac-e915-4b7d-bb1d-a244c5211def",
   "metadata": {},
   "outputs": [
    {
     "data": {
      "text/plain": [
       "function"
      ]
     },
     "execution_count": 5,
     "metadata": {},
     "output_type": "execute_result"
    }
   ],
   "source": [
    "type(my_func)"
   ]
  },
  {
   "cell_type": "code",
   "execution_count": 28,
   "id": "b1c76b39-abcf-441d-bf8d-334f601d4c84",
   "metadata": {},
   "outputs": [
    {
     "name": "stdout",
     "output_type": "stream",
     "text": [
      "home\n",
      "let's go\n"
     ]
    }
   ],
   "source": [
    "# 리턴이 없는 경우\n",
    "my_func_var = my_func()"
   ]
  },
  {
   "cell_type": "code",
   "execution_count": 17,
   "id": "c17a1d73-2cc3-405e-bd54-d56cfd45d592",
   "metadata": {},
   "outputs": [
    {
     "name": "stdout",
     "output_type": "stream",
     "text": [
      "None\n"
     ]
    }
   ],
   "source": [
    "print(my_func_var)"
   ]
  },
  {
   "cell_type": "code",
   "execution_count": 20,
   "id": "2d41cb93-5227-4677-8a97-61c4985f2d53",
   "metadata": {},
   "outputs": [],
   "source": [
    "def my_func1():\n",
    "    print('home')\n",
    "    print(\"let's go\")\n",
    "    return 'hello'"
   ]
  },
  {
   "cell_type": "code",
   "execution_count": 29,
   "id": "7eca7dfd-6cb2-435e-aed8-cb0acd4eb7f9",
   "metadata": {},
   "outputs": [
    {
     "name": "stdout",
     "output_type": "stream",
     "text": [
      "home\n",
      "let's go\n"
     ]
    }
   ],
   "source": [
    "# 리턴이 있는 경우\n",
    "my_func_var1 = my_func1()"
   ]
  },
  {
   "cell_type": "code",
   "execution_count": 27,
   "id": "7a675fda-c2af-4bf3-a915-e723cc2c6ba4",
   "metadata": {},
   "outputs": [
    {
     "name": "stdout",
     "output_type": "stream",
     "text": [
      "hello\n"
     ]
    }
   ],
   "source": [
    "print(my_func_var1)"
   ]
  },
  {
   "cell_type": "markdown",
   "id": "ff9c5d55-6acb-4472-91f8-280ef050d06f",
   "metadata": {},
   "source": [
    "# 입력값이 있는 함수"
   ]
  },
  {
   "cell_type": "code",
   "execution_count": 30,
   "id": "33c10406-de8d-47cf-859b-4d66a84c7d07",
   "metadata": {},
   "outputs": [],
   "source": [
    "def my_calc(x):\n",
    "    print(f'{x}를 계산합니다.')"
   ]
  },
  {
   "cell_type": "code",
   "execution_count": 31,
   "id": "20b85262-e2a2-458d-a927-97a72359b4a6",
   "metadata": {},
   "outputs": [
    {
     "name": "stdout",
     "output_type": "stream",
     "text": [
      "10를 계산합니다.\n"
     ]
    }
   ],
   "source": [
    "my_calc(10)"
   ]
  },
  {
   "cell_type": "code",
   "execution_count": 32,
   "id": "6fdefe48-8893-4be7-9022-be4335fc4548",
   "metadata": {},
   "outputs": [],
   "source": [
    "def my_calc1(x):\n",
    "    print(f'{x}를 계산합니다.')\n",
    "    z = x * 20\n",
    "    return z"
   ]
  },
  {
   "cell_type": "code",
   "execution_count": 33,
   "id": "78b2e3f8-1d06-4f37-83ce-992d813d8ab3",
   "metadata": {},
   "outputs": [
    {
     "name": "stdout",
     "output_type": "stream",
     "text": [
      "10를 계산합니다.\n",
      "200\n"
     ]
    }
   ],
   "source": [
    "result = my_calc1(10)\n",
    "print(result)"
   ]
  },
  {
   "cell_type": "code",
   "execution_count": 34,
   "id": "e5733a15-6fff-485f-8ed3-6ae7e0466ba4",
   "metadata": {},
   "outputs": [],
   "source": [
    "def my_calc2(x, y):\n",
    "    print(f'{x}와 {y}를 계산합니다.')\n",
    "    add_result = x + y\n",
    "    mul_result = x * y\n",
    "    return add_result, mul_result"
   ]
  },
  {
   "cell_type": "code",
   "execution_count": 37,
   "id": "f4ee4516-97f7-4b46-b385-10f1b6e8165d",
   "metadata": {},
   "outputs": [
    {
     "name": "stdout",
     "output_type": "stream",
     "text": [
      "10와 20를 계산합니다.\n"
     ]
    },
    {
     "data": {
      "text/plain": [
       "(30, 200)"
      ]
     },
     "execution_count": 37,
     "metadata": {},
     "output_type": "execute_result"
    }
   ],
   "source": [
    "func_result = my_calc2(10, 20)\n",
    "func_result   # 튜플"
   ]
  },
  {
   "cell_type": "code",
   "execution_count": 41,
   "id": "d7e297ae-3fab-46ae-8df1-40af7b83af01",
   "metadata": {},
   "outputs": [
    {
     "name": "stdout",
     "output_type": "stream",
     "text": [
      "10와 20를 계산합니다.\n"
     ]
    },
    {
     "data": {
      "text/plain": [
       "30"
      ]
     },
     "execution_count": 41,
     "metadata": {},
     "output_type": "execute_result"
    }
   ],
   "source": [
    "func_result1, func_result2 = my_calc2(10, 20)  # 언패킹\n",
    "func_result1"
   ]
  },
  {
   "cell_type": "code",
   "execution_count": 42,
   "id": "69d124c9-622c-4fb0-a80d-5a256d8e796f",
   "metadata": {},
   "outputs": [
    {
     "data": {
      "text/plain": [
       "200"
      ]
     },
     "execution_count": 42,
     "metadata": {},
     "output_type": "execute_result"
    }
   ],
   "source": [
    "func_result2"
   ]
  },
  {
   "cell_type": "markdown",
   "id": "9d992d11-efba-47e1-92e7-8530083c1824",
   "metadata": {},
   "source": [
    "## 입력값의 타입: 수치형 vs (리스트) 객체형\n",
    "\n",
    "- 수치형: 값에 의한 전달 call by value   \n",
    "- 객체형: 값(참조)의 전달 call by reference -> 같은 객체를 다룸"
   ]
  },
  {
   "cell_type": "code",
   "execution_count": 45,
   "id": "701a4235-26ee-4bf5-808a-441152c2ac61",
   "metadata": {},
   "outputs": [],
   "source": [
    "def my_calc3(a, lst1):\n",
    "    a += 1\n",
    "    lst1.append(a)\n",
    "    return a"
   ]
  },
  {
   "cell_type": "code",
   "execution_count": 47,
   "id": "8d62d775-6aed-4423-8288-2ee86a05c869",
   "metadata": {},
   "outputs": [
    {
     "name": "stdout",
     "output_type": "stream",
     "text": [
      "before: 10, [1, 2, 'aa']\n",
      "after: 10, [1, 2, 'aa', 11]\n"
     ]
    }
   ],
   "source": [
    "num = 10\n",
    "lst_num = [1, 2, 'aa']\n",
    "\n",
    "print(f'before: {num}, {lst_num}')\n",
    "my_calc3(num, lst_num)\n",
    "print(f'after: {num}, {lst_num}')"
   ]
  },
  {
   "cell_type": "code",
   "execution_count": 49,
   "id": "9c516f40-1fcb-4a80-808a-95aa53c01c74",
   "metadata": {},
   "outputs": [],
   "source": [
    "# my_calc3(lst_num, num)  # TypeError: 'int' object is not iterable"
   ]
  },
  {
   "cell_type": "markdown",
   "id": "465fa241-69b4-4cc9-81b8-93a66276c85b",
   "metadata": {},
   "source": [
    "키워드 매개변수: 함수의 매개변수 목록은 변수명이 매개변수 명인 것!   \n",
    "매개변수명을 이용한 호출은 매개변수의 순서와 무관함"
   ]
  },
  {
   "cell_type": "code",
   "execution_count": 53,
   "id": "a05ed63e-7dfb-47ac-a7bd-a3af94670c91",
   "metadata": {},
   "outputs": [
    {
     "data": {
      "text/plain": [
       "11"
      ]
     },
     "execution_count": 53,
     "metadata": {},
     "output_type": "execute_result"
    }
   ],
   "source": [
    "my_calc3(lst1 = lst_num, a = num)"
   ]
  },
  {
   "cell_type": "code",
   "execution_count": 56,
   "id": "ba8c0e81-ce37-45f0-bb70-bae821101eb9",
   "metadata": {},
   "outputs": [
    {
     "name": "stdout",
     "output_type": "stream",
     "text": [
      "hello, minsu님!\n"
     ]
    }
   ],
   "source": [
    "# 기본값, 기본인자\n",
    "def greeting(name, greeting='hello'):\n",
    "    print(f'{greeting}, {name}님!')\n",
    "\n",
    "greeting('minsu', 'hello')"
   ]
  },
  {
   "cell_type": "code",
   "execution_count": 58,
   "id": "8c889e7c-55b0-4a05-95ab-da96b2adcec8",
   "metadata": {},
   "outputs": [
    {
     "name": "stdout",
     "output_type": "stream",
     "text": [
      "hi, minsu님!\n",
      "hello, hoo님!\n"
     ]
    }
   ],
   "source": [
    "greeting('minsu', 'hi')\n",
    "greeting('hoo')"
   ]
  },
  {
   "cell_type": "code",
   "execution_count": 61,
   "id": "1422012b-6f9f-4da8-8dbe-5ff1f9808f74",
   "metadata": {},
   "outputs": [],
   "source": [
    "# 가변인자\n",
    "def sum_all(*args):\n",
    "    return sum(args)"
   ]
  },
  {
   "cell_type": "code",
   "execution_count": 62,
   "id": "21c4bf46-40e2-4706-a1bb-25e720596374",
   "metadata": {},
   "outputs": [
    {
     "data": {
      "text/plain": [
       "15"
      ]
     },
     "execution_count": 62,
     "metadata": {},
     "output_type": "execute_result"
    }
   ],
   "source": [
    "sum_all(1, 2, 3, 4, 5)"
   ]
  },
  {
   "cell_type": "code",
   "execution_count": 68,
   "id": "a5dc49dd-aaa8-4e49-abcf-00c35a2cfc6b",
   "metadata": {},
   "outputs": [],
   "source": [
    "def sum_all(arg1, arg2, *args):\n",
    "    print(args)\n",
    "    return arg1 + arg2 + sum(args)"
   ]
  },
  {
   "cell_type": "code",
   "execution_count": 69,
   "id": "d23c4bb2-18d9-49d9-b8fb-3e439d020b2c",
   "metadata": {},
   "outputs": [
    {
     "name": "stdout",
     "output_type": "stream",
     "text": [
      "(3, 4, 5)\n"
     ]
    },
    {
     "data": {
      "text/plain": [
       "15"
      ]
     },
     "execution_count": 69,
     "metadata": {},
     "output_type": "execute_result"
    }
   ],
   "source": [
    "sum_all(1, 2, 3, 4, 5)"
   ]
  },
  {
   "cell_type": "code",
   "execution_count": 65,
   "id": "71468246-424c-4de5-a94e-d316748a3a09",
   "metadata": {},
   "outputs": [],
   "source": [
    "# 매개변수의 순서가 중요\n",
    "def sum_all(arg1, *args, arg2):\n",
    "    return arg1 + arg2 + sum(args)"
   ]
  },
  {
   "cell_type": "code",
   "execution_count": 67,
   "id": "280a686d-6abb-42ec-bfa5-b97107d54c07",
   "metadata": {},
   "outputs": [],
   "source": [
    "# sum_all(1, 2, 3, 4, 5)  # TypeError: sum_all() missing 1 required keyword-only argument: 'arg2'"
   ]
  },
  {
   "cell_type": "markdown",
   "id": "1f1b35fd-2fa0-46bd-b62b-07748c4533ca",
   "metadata": {},
   "source": [
    "## **kwargs"
   ]
  },
  {
   "cell_type": "code",
   "execution_count": 72,
   "id": "2d70d088-6490-4e5d-bcfc-a50fec52efcd",
   "metadata": {},
   "outputs": [],
   "source": [
    "def print_info(**kwargs):\n",
    "    for k, v in kwargs.items():\n",
    "        print(f'{k}, {v}')"
   ]
  },
  {
   "cell_type": "code",
   "execution_count": 75,
   "id": "a77b196b-3796-4338-873e-05444b23beb9",
   "metadata": {},
   "outputs": [
    {
     "name": "stdout",
     "output_type": "stream",
     "text": [
      "name, hong\n",
      "age, 20\n",
      "city, seoul\n",
      "nick_name, h\n"
     ]
    }
   ],
   "source": [
    "print_info(name='hong', age=20, city='seoul', nick_name='h')"
   ]
  },
  {
   "cell_type": "markdown",
   "id": "4eb09458-8527-4027-bf55-c65582ea58f6",
   "metadata": {},
   "source": [
    "# 요일 구하는 함수 정의\n",
    "- 입력: year, month, day\n",
    "- 출력: '월요일'\n",
    "- 함수명: 요일찾기()"
   ]
  },
  {
   "cell_type": "code",
   "execution_count": 97,
   "id": "9cbef6ac-6fe1-4c4a-b95f-4b5d7e78a53c",
   "metadata": {},
   "outputs": [
    {
     "data": {
      "text/plain": [
       "3"
      ]
     },
     "execution_count": 97,
     "metadata": {},
     "output_type": "execute_result"
    }
   ],
   "source": [
    "import datetime\n",
    "today = datetime.date(2025, 6, 5)\n",
    "# dir(today)\n",
    "today.weekday()"
   ]
  },
  {
   "cell_type": "code",
   "execution_count": 93,
   "id": "de436756-3dc8-408c-945c-a8037ed209be",
   "metadata": {},
   "outputs": [],
   "source": [
    "year = 2000\n",
    "month = 6 \n",
    "day = 28"
   ]
  },
  {
   "cell_type": "code",
   "execution_count": 98,
   "id": "fda4a703-6bf0-4b45-b5fe-d776d1e3e070",
   "metadata": {},
   "outputs": [
    {
     "name": "stdout",
     "output_type": "stream",
     "text": [
      "730119\n",
      "730271\n",
      "730299\n",
      "수요일\n"
     ]
    }
   ],
   "source": [
    "# 날짜 = 연, 월, 일  year=2025 month=06 day=05\n",
    "\n",
    "total_days = 0\n",
    "# 년도일수 계산 -> (입력년도 - 1) * 365\n",
    "# 윤년인지 체크 => 366일\n",
    "for i in range(1, year):\n",
    "    # 윤년: 400으로 나눈 나머지가 0 and 4로 나눈 나머지가 0\n",
    "    # 평년: 100으로 나눈 나머지가 0\n",
    "    if i % 400 == 0:\n",
    "        total_days += 366\n",
    "    elif i % 100 == 0:\n",
    "        total_days += 365\n",
    "    elif i % 4 == 0:\n",
    "        total_days += 366\n",
    "    else:\n",
    "        total_days += 365\n",
    "\n",
    "print(total_days)\n",
    "\n",
    "# 월일수 계산 -> (입력한 월 - 1) * 30\n",
    "# 월별 일수 따로 계산\n",
    "month_days = [0, 31, 28, 31, 30, 31, 30, 31, 31, 30, 31, 30, 31]\n",
    "for m in range(1, month):\n",
    "    total_days += month_days[m]\n",
    "\n",
    "# 올해가 윤년인지\n",
    "if month >= 3:\n",
    "    if year % 400 == 0:\n",
    "        total_days += 1\n",
    "    elif year % 100 == 0:\n",
    "        total_days += 0\n",
    "    elif year % 4 == 0:\n",
    "        total_days += 1\n",
    "    else:\n",
    "        total_days += 0\n",
    "    \n",
    "print(total_days)\n",
    "# 일수 계산 -> 입력한 일\n",
    "total_days += day\n",
    "\n",
    "print(total_days)\n",
    "\n",
    "# 요일 정하기\n",
    "remain_days = total_days % 7\n",
    "if remain_days == 1:\n",
    "    print('월요일')\n",
    "elif remain_days == 2:\n",
    "    print('화요일')\n",
    "elif remain_days == 3:\n",
    "    print('수요일')\n",
    "elif remain_days == 4:\n",
    "    print('목요일')\n",
    "elif remain_days == 5:\n",
    "    print('금요일')\n",
    "elif remain_days == 6:\n",
    "    print('토요일')\n",
    "else:\n",
    "    print('일요일')\n"
   ]
  },
  {
   "cell_type": "code",
   "execution_count": 115,
   "id": "04c56b48-35e1-42b8-b98d-28f4a20615b0",
   "metadata": {},
   "outputs": [],
   "source": [
    "def 윤년체크(year):   \n",
    "    if year % 400 == 0:\n",
    "        return True\n",
    "    elif year % 100 == 0:\n",
    "        return False\n",
    "    elif year % 4 == 0:\n",
    "        return True\n",
    "    else:\n",
    "        return False"
   ]
  },
  {
   "cell_type": "code",
   "execution_count": 116,
   "id": "9b401326-7c49-433a-970e-a91f0b8f74ad",
   "metadata": {},
   "outputs": [],
   "source": [
    "def 요일찾기(year, month, day):\n",
    "    week_day_name = ''\n",
    "\n",
    "    total_days = 0\n",
    "    # 년도일수 계산 -> (입력년도 - 1) * 365\n",
    "    # 윤년인지 체크 => 366일\n",
    "    for i in range(1, year):\n",
    "        # 윤년: 400으로 나눈 나머지가 0 and 4로 나눈 나머지가 0\n",
    "        # 평년: 100으로 나눈 나머지가 0\n",
    "        if 윤년체크(i):\n",
    "            total_days += 366\n",
    "        else:\n",
    "            total_days += 365\n",
    "    \n",
    "    print(total_days)\n",
    "    \n",
    "    # 월일수 계산 -> (입력한 월 - 1) * 30\n",
    "    # 월별 일수 따로 계산\n",
    "    month_days = [0, 31, 28, 31, 30, 31, 30, 31, 31, 30, 31, 30, 31]\n",
    "    for m in range(1, month):\n",
    "        total_days += month_days[m]\n",
    "    \n",
    "    # 올해가 윤년인지\n",
    "    if month >= 3:\n",
    "        if 윤년체크(year):\n",
    "            total_days += 1\n",
    "        \n",
    "    print(total_days)\n",
    "    # 일수 계산 -> 입력한 일\n",
    "    total_days += day\n",
    "    \n",
    "    print(total_days)\n",
    "    \n",
    "    # 요일 정하기\n",
    "    remain_days = total_days % 7\n",
    "    day_names = ['일요일', '월요일', '화요일', '수요일', '목요일', '금요일', '토요일']\n",
    "\n",
    "    week_day_name = day_names[remain_days]\n",
    "    \n",
    "    return week_day_name"
   ]
  },
  {
   "cell_type": "code",
   "execution_count": 117,
   "id": "5bd25897-bb8c-4a71-a1d1-2a020b15ca8b",
   "metadata": {},
   "outputs": [
    {
     "name": "stdout",
     "output_type": "stream",
     "text": [
      "730119\n",
      "730271\n",
      "730299\n",
      "입력하신 날짜는 수요일입니다.\n"
     ]
    }
   ],
   "source": [
    "year = 2000\n",
    "month = 6 \n",
    "day = 28\n",
    "\n",
    "day_name =  요일찾기(year, month, day)\n",
    "print(f'입력하신 날짜는 {day_name}입니다.')"
   ]
  },
  {
   "cell_type": "markdown",
   "id": "52692166-e715-4c9a-9947-607789577816",
   "metadata": {},
   "source": [
    "# 성적처리 시스템\n",
    "- calc_total()\n",
    "- calc_average()\n",
    "- calc_order()\n",
    "  \n",
    "- print_student(students): 전 학생의 성적 출력\n",
    "- print_class(): 반 평균, 각 과목별 평균 출력"
   ]
  },
  {
   "cell_type": "code",
   "execution_count": 219,
   "id": "50f0fac6-822e-419f-8242-b7acd69ed278",
   "metadata": {},
   "outputs": [],
   "source": [
    "students = [\n",
    "               {'num':'1','name':'김철수','kor':90,'eng':80,'math':85,'total':0,'avg':0.0,'order':0 },\n",
    "               {'num':'2','name':'박제동','kor':90,'eng':85,'math':90,'total':0,'avg':0.0,'order':0 },\n",
    "               {'num':'3','name':'홍길동','kor':80,'eng':80,'math':80,'total':0,'avg':0.0,'order':0 }\n",
    "           ]"
   ]
  },
  {
   "cell_type": "code",
   "execution_count": 220,
   "id": "a5bfd19d-7d6d-46d7-aecb-52fcc65a3999",
   "metadata": {},
   "outputs": [],
   "source": [
    "def calc_total(stus):\n",
    "    for s in stus:\n",
    "        s['total'] = s['kor'] + s['eng'] + s['math']"
   ]
  },
  {
   "cell_type": "code",
   "execution_count": 221,
   "id": "18ee2908-73d4-43d2-b405-418b081cb6a2",
   "metadata": {},
   "outputs": [],
   "source": [
    "def calc_average(stus):\n",
    "    for s in stus:\n",
    "        s['avg'] = (s['kor'] + s['eng'] + s['math']) / 3"
   ]
  },
  {
   "cell_type": "code",
   "execution_count": 222,
   "id": "940a0bb6-9da1-45bf-b6d4-732d5b5c18bc",
   "metadata": {},
   "outputs": [],
   "source": [
    "def calc_order(stus):\n",
    "    for s in stus:\n",
    "        rank = 1\n",
    "        for other in stus:\n",
    "            if other['total'] > s['total']:\n",
    "                rank += 1\n",
    "        s['order'] = rank"
   ]
  },
  {
   "cell_type": "code",
   "execution_count": 223,
   "id": "2d513ee7-2698-46c4-84d7-eec32c3529c1",
   "metadata": {},
   "outputs": [],
   "source": [
    "def print_student(stus):   \n",
    "    for s in stus:\n",
    "        print(f'등수:{s['order']} > 이름:{s['name']} 국어점수:{s['kor']} 영어점수:{s['eng']} 수학점수:{s['math']} 총점:{s['total']} 평균:{s['avg']}')"
   ]
  },
  {
   "cell_type": "code",
   "execution_count": 229,
   "id": "d2670a8e-7795-45a1-81f0-c03e51877449",
   "metadata": {},
   "outputs": [],
   "source": [
    "def print_class(stus):\n",
    "    total_avg = 0\n",
    "    kor_avg = 0\n",
    "    eng_avg = 0\n",
    "    math_avg = 0\n",
    "\n",
    "    count = len(stus)\n",
    "    \n",
    "    for s in stus:\n",
    "        total_avg = sum(s['total'] for s in stus) / count / 3\n",
    "        kor_avg = sum(s['kor'] for s in stus) / count\n",
    "        eng_avg = sum(s['eng'] for s in stus) / count\n",
    "        math_avg = sum(s['math'] for s in stus) / count\n",
    "             \n",
    "    print(f'반평균:{total_avg}') \n",
    "    print(f'국어평균:{kor_avg}')\n",
    "    print(f'영어평균{eng_avg}')\n",
    "    print(f'수학평균{math_avg}')"
   ]
  },
  {
   "cell_type": "code",
   "execution_count": 230,
   "id": "1f5bc893-e509-4591-9458-b0381681cd7b",
   "metadata": {},
   "outputs": [
    {
     "name": "stdout",
     "output_type": "stream",
     "text": [
      "등수:2 > 이름:김철수 국어점수:90 영어점수:80 수학점수:85 총점:255 평균:85.0\n",
      "등수:1 > 이름:박제동 국어점수:90 영어점수:85 수학점수:90 총점:265 평균:88.33333333333333\n",
      "등수:3 > 이름:홍길동 국어점수:80 영어점수:80 수학점수:80 총점:240 평균:80.0\n",
      "반평균:84.44444444444444\n",
      "국어평균:86.66666666666667\n",
      "영어평균81.66666666666667\n",
      "수학평균85.0\n"
     ]
    }
   ],
   "source": [
    "calc_total(students)\n",
    "calc_average(students)\n",
    "calc_order(students)\n",
    "print_student(students)\n",
    "print_class(students)"
   ]
  },
  {
   "cell_type": "markdown",
   "id": "2a0d2af4-8a2d-4751-880d-a8bb23c84e32",
   "metadata": {},
   "source": [
    "# 람다함수\n",
    "\n",
    "선언 >> lambda <매개변수>: 코드\n",
    "   \n",
    "호출 >> (lambda <매개변수>: 코드)(매개변수값)"
   ]
  },
  {
   "cell_type": "code",
   "execution_count": 1,
   "id": "2f5837fa-b7b1-4e92-ae4a-6229a8837260",
   "metadata": {},
   "outputs": [],
   "source": [
    "def aaa(a):\n",
    "    result = a + 1\n",
    "    return result"
   ]
  },
  {
   "cell_type": "code",
   "execution_count": 2,
   "id": "61e77c8b-8f32-4a22-9cf3-310ad539a8ce",
   "metadata": {},
   "outputs": [
    {
     "data": {
      "text/plain": [
       "<function __main__.<lambda>(a)>"
      ]
     },
     "execution_count": 2,
     "metadata": {},
     "output_type": "execute_result"
    }
   ],
   "source": [
    "lambda a: a + 1"
   ]
  },
  {
   "cell_type": "code",
   "execution_count": 6,
   "id": "d94ebbbf-1b13-4301-a4f5-88de2a16a344",
   "metadata": {},
   "outputs": [
    {
     "data": {
      "text/plain": [
       "3"
      ]
     },
     "execution_count": 6,
     "metadata": {},
     "output_type": "execute_result"
    }
   ],
   "source": [
    "(lambda a: a + 1)(2)  # 람다의 전의 즉시 호출"
   ]
  },
  {
   "cell_type": "code",
   "execution_count": 9,
   "id": "29fa4fb5-858f-443d-8607-de6fbdef4b6b",
   "metadata": {},
   "outputs": [
    {
     "data": {
      "text/plain": [
       "51"
      ]
     },
     "execution_count": 9,
     "metadata": {},
     "output_type": "execute_result"
    }
   ],
   "source": [
    "my_lambda = lambda a: a + 1  # 람다의 재정의\n",
    "my_lambda(50)"
   ]
  },
  {
   "cell_type": "code",
   "execution_count": 10,
   "id": "b6f0896d-a2d5-432a-ad76-6ed9c12f9293",
   "metadata": {},
   "outputs": [
    {
     "data": {
      "text/plain": [
       "5"
      ]
     },
     "execution_count": 10,
     "metadata": {},
     "output_type": "execute_result"
    }
   ],
   "source": [
    "def sum1(a, b):\n",
    "    return a + b\n",
    "\n",
    "sum1(2, 3)"
   ]
  },
  {
   "cell_type": "code",
   "execution_count": 11,
   "id": "113bad9f-1c30-4218-86ef-be3d793e5db4",
   "metadata": {},
   "outputs": [
    {
     "data": {
      "text/plain": [
       "5"
      ]
     },
     "execution_count": 11,
     "metadata": {},
     "output_type": "execute_result"
    }
   ],
   "source": [
    "(lambda a, b: a + b)(2, 3)"
   ]
  },
  {
   "cell_type": "code",
   "execution_count": 12,
   "id": "580cb7e1-69e1-40a6-8dcf-00f76f957e0f",
   "metadata": {},
   "outputs": [],
   "source": [
    "def calc_func(a, b, opr_func):\n",
    "    result = opr_func(a, b)\n",
    "    return result"
   ]
  },
  {
   "cell_type": "code",
   "execution_count": 14,
   "id": "c93aafb7-25d4-43ed-827d-b58e7c2d62ae",
   "metadata": {},
   "outputs": [
    {
     "data": {
      "text/plain": [
       "5"
      ]
     },
     "execution_count": 14,
     "metadata": {},
     "output_type": "execute_result"
    }
   ],
   "source": [
    "calc_func(2, 3, lambda x, y: x + y)"
   ]
  },
  {
   "cell_type": "code",
   "execution_count": 15,
   "id": "32ee301e-ae18-4fe1-91d4-221a8201453e",
   "metadata": {},
   "outputs": [
    {
     "data": {
      "text/plain": [
       "6"
      ]
     },
     "execution_count": 15,
     "metadata": {},
     "output_type": "execute_result"
    }
   ],
   "source": [
    "calc_func(2, 3, lambda x, y: x * y)"
   ]
  },
  {
   "cell_type": "code",
   "execution_count": 16,
   "id": "8b118e3d-1345-4bbf-8155-e0568c373999",
   "metadata": {},
   "outputs": [
    {
     "data": {
      "text/plain": [
       "0.6666666666666666"
      ]
     },
     "execution_count": 16,
     "metadata": {},
     "output_type": "execute_result"
    }
   ],
   "source": [
    "calc_func(2, 3, lambda x, y: x / y)"
   ]
  },
  {
   "cell_type": "code",
   "execution_count": 17,
   "id": "55d2c660-a451-4dc6-9663-4f11374ce9d1",
   "metadata": {},
   "outputs": [
    {
     "data": {
      "text/plain": [
       "-1"
      ]
     },
     "execution_count": 17,
     "metadata": {},
     "output_type": "execute_result"
    }
   ],
   "source": [
    "calc_func(2, 3, lambda x, y: x - y)"
   ]
  },
  {
   "cell_type": "code",
   "execution_count": 29,
   "id": "0df15752-798b-487c-a1ed-51702afe476b",
   "metadata": {},
   "outputs": [
    {
     "data": {
      "text/plain": [
       "['APPLE', 'BANANA', 'CHERRY']"
      ]
     },
     "execution_count": 29,
     "metadata": {},
     "output_type": "execute_result"
    }
   ],
   "source": [
    "# map 함수\n",
    "fruits = ['apple', 'banana', 'cherry']\n",
    "# fruits[0].upper()\n",
    "list(map(str.upper, fruits))"
   ]
  },
  {
   "cell_type": "code",
   "execution_count": 30,
   "id": "81c59830-5126-4703-8a80-8da52a0b3e3c",
   "metadata": {},
   "outputs": [
    {
     "data": {
      "text/plain": [
       "['1', '2', '3', '4', '5']"
      ]
     },
     "execution_count": 30,
     "metadata": {},
     "output_type": "execute_result"
    }
   ],
   "source": [
    "str_number = '12345'\n",
    "list(str_number)  # 문자열이 들어있는 리스트"
   ]
  },
  {
   "cell_type": "code",
   "execution_count": 31,
   "id": "b45c2c7b-6d04-4f72-a9fe-c56fd6b3102c",
   "metadata": {},
   "outputs": [
    {
     "data": {
      "text/plain": [
       "[1, 2, 3, 4, 5]"
      ]
     },
     "execution_count": 31,
     "metadata": {},
     "output_type": "execute_result"
    }
   ],
   "source": [
    "numbers = list(map(int, str_number))\n",
    "numbers"
   ]
  },
  {
   "cell_type": "code",
   "execution_count": 32,
   "id": "350af234-188e-4182-8e7e-6213f3fd6473",
   "metadata": {},
   "outputs": [
    {
     "data": {
      "text/plain": [
       "[1, 4, 9, 16, 25]"
      ]
     },
     "execution_count": 32,
     "metadata": {},
     "output_type": "execute_result"
    }
   ],
   "source": [
    "list(map(lambda x: x ** 2, numbers))"
   ]
  },
  {
   "cell_type": "code",
   "execution_count": 58,
   "id": "31fc6c2c-0b23-48c8-a7de-5c50eb09b81f",
   "metadata": {},
   "outputs": [
    {
     "data": {
      "text/plain": [
       "[215, 240, 250]"
      ]
     },
     "execution_count": 58,
     "metadata": {},
     "output_type": "execute_result"
    }
   ],
   "source": [
    "kor_score = [80, 90, 75]\n",
    "eng_score = [75, 70, 90]\n",
    "math_score = [60, 80, 85]\n",
    "\n",
    "list(map(lambda x, y, z: x + y + z, kor_score, eng_score, math_score))"
   ]
  },
  {
   "cell_type": "code",
   "execution_count": 59,
   "id": "f44f8fbd-98ea-4427-820d-f704f19ef920",
   "metadata": {},
   "outputs": [
    {
     "data": {
      "text/plain": [
       "[215, 240, 250]"
      ]
     },
     "execution_count": 59,
     "metadata": {},
     "output_type": "execute_result"
    }
   ],
   "source": [
    "list(map(lambda s: sum(s), zip(kor_score, eng_score, math_score)))"
   ]
  },
  {
   "cell_type": "code",
   "execution_count": 60,
   "id": "c4cefe2a-b059-432b-82b1-df52e4007079",
   "metadata": {},
   "outputs": [
    {
     "data": {
      "text/plain": [
       "[71.66666666666667, 80.0, 83.33333333333333]"
      ]
     },
     "execution_count": 60,
     "metadata": {},
     "output_type": "execute_result"
    }
   ],
   "source": [
    "# 평균, 최대값, 최솟값\n",
    "list(map(lambda s: sum(s)/3, zip(kor_score, eng_score, math_score)))"
   ]
  },
  {
   "cell_type": "code",
   "execution_count": 61,
   "id": "762b4b8a-0a9a-42a3-a32c-2f44dfc1a67b",
   "metadata": {},
   "outputs": [
    {
     "data": {
      "text/plain": [
       "[60, 70, 75]"
      ]
     },
     "execution_count": 61,
     "metadata": {},
     "output_type": "execute_result"
    }
   ],
   "source": [
    "list(map(lambda s: min(s), zip(kor_score, eng_score, math_score)))"
   ]
  },
  {
   "cell_type": "code",
   "execution_count": 62,
   "id": "dcde4626-1181-4dac-9745-4eb73af0fd56",
   "metadata": {},
   "outputs": [
    {
     "data": {
      "text/plain": [
       "[80, 90, 90]"
      ]
     },
     "execution_count": 62,
     "metadata": {},
     "output_type": "execute_result"
    }
   ],
   "source": [
    "list(map(lambda s: max(s), zip(kor_score, eng_score, math_score)))"
   ]
  },
  {
   "cell_type": "markdown",
   "id": "aabe42f6-c667-457e-96e5-dd80b14f919f",
   "metadata": {},
   "source": [
    "# 랩업_함수_람다_문자열_배포"
   ]
  },
  {
   "cell_type": "markdown",
   "id": "e6b10a24-eff7-4511-88bd-187652dc7baa",
   "metadata": {},
   "source": [
    "1. 두 수를 입력 받아 그 곱을 반환하는 함수를 작성하세요."
   ]
  },
  {
   "cell_type": "code",
   "execution_count": 101,
   "id": "2ef1f900-1245-4dc0-b511-868d41317e12",
   "metadata": {},
   "outputs": [
    {
     "data": {
      "text/plain": [
       "15"
      ]
     },
     "execution_count": 101,
     "metadata": {},
     "output_type": "execute_result"
    }
   ],
   "source": [
    "#답을 작성하세요.\n",
    "def multiply_numbers(a, b):\n",
    "    return a * b\n",
    "\n",
    "multiply_numbers(3, 5)"
   ]
  },
  {
   "cell_type": "markdown",
   "id": "0ae3dc39-1adf-4187-8ad8-d48c0b941109",
   "metadata": {},
   "source": [
    "2. 숫자 리스트를 입력 받아 평균을 반환하는 함수를 작성하세요."
   ]
  },
  {
   "cell_type": "code",
   "execution_count": 102,
   "id": "139229cf-6b5f-45cf-9009-0293e3f045ec",
   "metadata": {},
   "outputs": [],
   "source": [
    "#답을 작성하세요.\n",
    "def calc_average(numbers):\n",
    "    return sum(numbers) / len(numbers)"
   ]
  },
  {
   "cell_type": "code",
   "execution_count": 105,
   "id": "cb36bf03-41c2-427a-8f91-287187fd7395",
   "metadata": {},
   "outputs": [
    {
     "data": {
      "text/plain": [
       "30.0"
      ]
     },
     "execution_count": 105,
     "metadata": {},
     "output_type": "execute_result"
    }
   ],
   "source": [
    "#람다로 정의\n",
    "calc_average = lambda x: sum(x) / len(numbers)\n",
    "calc_average([10, 20, 30, 40, 50])"
   ]
  },
  {
   "cell_type": "code",
   "execution_count": 104,
   "id": "70fd84d3-588b-44ec-b412-e51c5bb6c392",
   "metadata": {},
   "outputs": [
    {
     "name": "stdout",
     "output_type": "stream",
     "text": [
      "30.0\n"
     ]
    }
   ],
   "source": [
    "print(calc_average([10, 20, 30, 40, 50]))"
   ]
  },
  {
   "cell_type": "markdown",
   "id": "5dabcc67-08ad-440c-84cf-ff986234e41a",
   "metadata": {},
   "source": [
    "3. 주어진 숫자가 짝수이면 True, 홀수이면 False를 반환하는 함수를 작성하세요."
   ]
  },
  {
   "cell_type": "code",
   "execution_count": 114,
   "id": "9f639c13-b853-4f8f-8666-03aa75a71e10",
   "metadata": {},
   "outputs": [],
   "source": [
    "#답을 작성하세요.\n",
    "def is_even(n):\n",
    "    return True if n % 2 == 0 else False"
   ]
  },
  {
   "cell_type": "code",
   "execution_count": 117,
   "id": "3404dcdc-0b02-4d79-a159-1de2b65b958a",
   "metadata": {},
   "outputs": [
    {
     "data": {
      "text/plain": [
       "True"
      ]
     },
     "execution_count": 117,
     "metadata": {},
     "output_type": "execute_result"
    }
   ],
   "source": [
    "#람다버전\n",
    "is_even = lambda x: x % 2 == 0\n",
    "is_even(14)"
   ]
  },
  {
   "cell_type": "code",
   "execution_count": 116,
   "id": "d657681a-d730-4dc1-8f4e-f41fa1756369",
   "metadata": {},
   "outputs": [
    {
     "name": "stdout",
     "output_type": "stream",
     "text": [
      "True\n",
      "False\n"
     ]
    }
   ],
   "source": [
    "print(is_even(14))  # True\n",
    "print(is_even(21))  # False"
   ]
  },
  {
   "cell_type": "markdown",
   "id": "370057b3-a782-4642-a8d9-19216d6feab1",
   "metadata": {},
   "source": [
    "4. 주어진 리스트의 모든 요소를 문자열로 변환하여 반환하는 함수와, 람다 함수를 작성하세요."
   ]
  },
  {
   "cell_type": "code",
   "execution_count": 127,
   "id": "4a2113f9-c388-40cc-9e44-089c7bf11b37",
   "metadata": {},
   "outputs": [],
   "source": [
    "#함수\n",
    "def to_string_list(lst):\n",
    "  for idx, i in enumerate(lst):\n",
    "      lst[idx] = str(i)\n",
    "  return lst"
   ]
  },
  {
   "cell_type": "code",
   "execution_count": 133,
   "id": "1163f0b9-5b7c-4f03-ac4f-a7e1270ee813",
   "metadata": {},
   "outputs": [
    {
     "data": {
      "text/plain": [
       "['1', '2', '3', '4', '5']"
      ]
     },
     "execution_count": 133,
     "metadata": {},
     "output_type": "execute_result"
    }
   ],
   "source": [
    "#답을 작성하세요.\n",
    "to_string_list = list(map(lambda x: str(x), [1, 2, 3, 4, 5]))\n",
    "to_string_list"
   ]
  },
  {
   "cell_type": "code",
   "execution_count": 128,
   "id": "053aa086-2a19-47d9-a06d-ad390e34e699",
   "metadata": {},
   "outputs": [
    {
     "name": "stdout",
     "output_type": "stream",
     "text": [
      "['1', '2', '3', '4', '5']\n"
     ]
    }
   ],
   "source": [
    "# 테스트\n",
    "print(to_string_list([1, 2, 3, 4, 5]))  # ['1', '2', '3', '4', '5']"
   ]
  },
  {
   "cell_type": "markdown",
   "id": "b86ce414-820e-4932-a4d6-757d08766f49",
   "metadata": {},
   "source": [
    "5. 두 문자열을 입력받아 합친 문자열을 반환하는 함수와 람다 함수를 작성하세요."
   ]
  },
  {
   "cell_type": "code",
   "execution_count": 134,
   "id": "a4a63563-6ef3-4b12-8043-073582039fe7",
   "metadata": {},
   "outputs": [],
   "source": [
    "def concat_strings(s1, s2):\n",
    "  return s1 + s2"
   ]
  },
  {
   "cell_type": "code",
   "execution_count": 138,
   "id": "5fa55af1-7f75-4912-80ba-169dcd240f5c",
   "metadata": {},
   "outputs": [
    {
     "data": {
      "text/plain": [
       "'Hello, World!'"
      ]
     },
     "execution_count": 138,
     "metadata": {},
     "output_type": "execute_result"
    }
   ],
   "source": [
    "#답을 작성하세요.\n",
    "concat_strings = lambda s1, s2: s1 + s2\n",
    "concat_strings(\"Hello, \", \"World!\")"
   ]
  },
  {
   "cell_type": "code",
   "execution_count": 135,
   "id": "14695e0b-77f3-466a-8041-a8529dfa98ba",
   "metadata": {},
   "outputs": [
    {
     "name": "stdout",
     "output_type": "stream",
     "text": [
      "Hello, World!\n"
     ]
    }
   ],
   "source": [
    "# 테스트\n",
    "print(concat_strings(\"Hello, \", \"World!\"))  # \"Hello, World!\""
   ]
  },
  {
   "cell_type": "markdown",
   "id": "de2c7bc9-d610-4e15-b6f0-d19730c03921",
   "metadata": {},
   "source": [
    "6. 주어진 문자열에서 모든 모음(a,e,i,o,u)을 제거한 문자열을 반환하는 함수를 작성하세요."
   ]
  },
  {
   "cell_type": "code",
   "execution_count": 165,
   "id": "4f541f3e-52f2-4c23-8fb7-2c6ae8c37c51",
   "metadata": {},
   "outputs": [],
   "source": [
    "#답을 작성하세요.\n",
    "def remove_vowels(s):\n",
    "  vowels = 'aeiou'\n",
    "  for v in vowels:\n",
    "        s = s.replace(v, '')\n",
    "  return s"
   ]
  },
  {
   "cell_type": "code",
   "execution_count": 157,
   "id": "589581ff-061a-4eb3-90fa-655561173611",
   "metadata": {},
   "outputs": [],
   "source": [
    "remove_vowels = None"
   ]
  },
  {
   "cell_type": "code",
   "execution_count": 166,
   "id": "0a21292f-4268-479a-a557-8b25d66cfd67",
   "metadata": {},
   "outputs": [
    {
     "name": "stdout",
     "output_type": "stream",
     "text": [
      "bcdfghjklmnpqrstvwxyz\n"
     ]
    }
   ],
   "source": [
    "# 테스트\n",
    "print(remove_vowels(\"abcdefghijklmnopqrstuvwxyz\"))  # \"bcdfghjklmnpqrstvwxyz\""
   ]
  },
  {
   "cell_type": "markdown",
   "id": "612bb5a1-405d-4483-869f-d3736a3906ce",
   "metadata": {},
   "source": [
    "7. 문자열을 입력 받아, 해당 문자열에서 가장 긴 단어와 길이를 반환하는 함수를 작성하세요."
   ]
  },
  {
   "cell_type": "code",
   "execution_count": 74,
   "id": "310daf5b-7dde-4d9c-b163-68d3ffaa0db0",
   "metadata": {},
   "outputs": [],
   "source": [
    "#답을 작성하세요.\n",
    "def find_longest_word(s):\n",
    "    list_s = s.split(' ')\n",
    "    "
   ]
  },
  {
   "cell_type": "code",
   "execution_count": 111,
   "id": "0fcc832f-2819-4b2d-a63f-0b6548c0c42a",
   "metadata": {},
   "outputs": [],
   "source": [
    "find_longest_word = None"
   ]
  },
  {
   "cell_type": "code",
   "execution_count": null,
   "id": "b9dca4c9-3959-4ef8-bb88-d1664f88ee02",
   "metadata": {},
   "outputs": [],
   "source": [
    "# 테스트\n",
    "print(find_longest_word(\"Life is for one generation a good name is forever.\"))  # \"generation\", 10"
   ]
  },
  {
   "cell_type": "markdown",
   "id": "a535581d-806f-4742-8c61-e5543f44bb52",
   "metadata": {},
   "source": [
    "8. 주어진 문자열에서 숫자와 문자를 분리하는 함수를 작성하세요."
   ]
  },
  {
   "cell_type": "code",
   "execution_count": 112,
   "id": "843b86cb-b506-441d-bbc8-38b9e997c3a2",
   "metadata": {},
   "outputs": [],
   "source": [
    "#답을 작성하세요.\n",
    "def split_numbers_letters(s):\n",
    "    # 1. 숫자를 담을 리스트, 문자를 담을 리스트를 만든다.\n",
    "    numbers = []\n",
    "    letters = []\n",
    "    return numbers, letters"
   ]
  },
  {
   "cell_type": "code",
   "execution_count": null,
   "id": "6a9841c2-1074-4274-8a34-cbee3f002ec9",
   "metadata": {},
   "outputs": [],
   "source": [
    "# 테스트\n",
    "print(split_numbers_letters(\"a1b2c3d4\")) # [\"a\", \"b\", \"c\", \"d\"], [1, 2, 3, 4]"
   ]
  },
  {
   "cell_type": "markdown",
   "id": "ad69bb2d-4da1-43a2-bd88-98728bf002c3",
   "metadata": {},
   "source": [
    "9. 주어진 문자열(알파벳)을 입력 받아, 각 알파벳의 종류와 개수를 dict형으로 반환하는 함수를 만드세요."
   ]
  },
  {
   "cell_type": "code",
   "execution_count": 113,
   "id": "bd2bac12-d93c-4010-8bf2-a6c2b1706f61",
   "metadata": {},
   "outputs": [],
   "source": [
    "#답을 작성하세요.\n",
    "def count_alphabets(s):\n",
    "  pass"
   ]
  },
  {
   "cell_type": "code",
   "execution_count": null,
   "id": "aef6ae83-8d9a-4243-8bbf-b6b29e878015",
   "metadata": {},
   "outputs": [],
   "source": [
    "# 테스트\n",
    "print(count_alphabets(\"hello\"))  # {\"h\": 1, \"e\": 1, \"l\": 2, \"o\": \"1\"}"
   ]
  }
 ],
 "metadata": {
  "kernelspec": {
   "display_name": "Python 3 (ipykernel)",
   "language": "python",
   "name": "python3"
  },
  "language_info": {
   "codemirror_mode": {
    "name": "ipython",
    "version": 3
   },
   "file_extension": ".py",
   "mimetype": "text/x-python",
   "name": "python",
   "nbconvert_exporter": "python",
   "pygments_lexer": "ipython3",
   "version": "3.12.9"
  }
 },
 "nbformat": 4,
 "nbformat_minor": 5
}
