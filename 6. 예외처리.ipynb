{
 "cells": [
  {
   "cell_type": "markdown",
   "id": "e24a67a2-1a13-49d8-a9ed-5ece7beb692d",
   "metadata": {},
   "source": [
    "# 예외의 종류\n",
    "1. 문법오류 : SyntaxError, NameError, TypeError\n",
    "   - https://docs.python.org/ko/3/library/exceptions.html#bltin-exceptions\n",
    "2. 논리오류\n",
    "3. 예외상황"
   ]
  },
  {
   "cell_type": "markdown",
   "id": "772a73ba-514f-415e-b6a5-7644ee80b9ea",
   "metadata": {},
   "source": [
    "# try:\n",
    "except"
   ]
  },
  {
   "cell_type": "code",
   "execution_count": 2,
   "id": "063980c7-b6c9-4064-8057-e3e669e6649c",
   "metadata": {},
   "outputs": [],
   "source": [
    "# 10/0  ZeroDivisionError   "
   ]
  },
  {
   "cell_type": "code",
   "execution_count": 3,
   "id": "fadc7294-9448-4fc6-8e6e-8aa7cecb1546",
   "metadata": {},
   "outputs": [],
   "source": [
    "def divide(m, n):\n",
    "    return m/n"
   ]
  },
  {
   "cell_type": "code",
   "execution_count": 4,
   "id": "f70171a7-ff60-4914-a5d1-08d1f2cafbb3",
   "metadata": {},
   "outputs": [
    {
     "data": {
      "text/plain": [
       "1.5"
      ]
     },
     "execution_count": 4,
     "metadata": {},
     "output_type": "execute_result"
    }
   ],
   "source": [
    "result = divide(3, 2)\n",
    "result"
   ]
  },
  {
   "cell_type": "code",
   "execution_count": 8,
   "id": "72b70c45-b28b-437d-9e86-e0505a5521ed",
   "metadata": {},
   "outputs": [],
   "source": [
    "# result = divide(3, 0)  ZeroDivisionError     \n",
    "# result"
   ]
  },
  {
   "cell_type": "code",
   "execution_count": 28,
   "id": "f785e652-83da-406e-9a1e-3f2cbad19d85",
   "metadata": {},
   "outputs": [],
   "source": [
    "def divide(m, n):\n",
    "    try:\n",
    "        result = m/n\n",
    "        return result\n",
    "    except ZeroDivisionError:\n",
    "        print('0으로 나눌 수 없습니다')\n",
    "        return None\n",
    "    except :  # 안써주면 나머지 모든 에러를 받음\n",
    "        print('다른 에러가 발생했습니다.')\n",
    "        return None\n",
    "    finally:\n",
    "        print(\"항상 실행되는 코드입니다.\")"
   ]
  },
  {
   "cell_type": "code",
   "execution_count": 29,
   "id": "3b7955a6-52cd-4608-aa62-3e9fcdb7fbdf",
   "metadata": {},
   "outputs": [
    {
     "name": "stdout",
     "output_type": "stream",
     "text": [
      "0으로 나눌 수 없습니다\n",
      "항상 실행되는 코드입니다.\n"
     ]
    }
   ],
   "source": [
    "result = divide(3, 0)\n",
    "result"
   ]
  },
  {
   "cell_type": "code",
   "execution_count": 30,
   "id": "6debd009-91b2-4b6c-9b47-5f4342bd39cf",
   "metadata": {},
   "outputs": [
    {
     "name": "stdout",
     "output_type": "stream",
     "text": [
      "다른 에러가 발생했습니다.\n",
      "항상 실행되는 코드입니다.\n"
     ]
    }
   ],
   "source": [
    "divide(None, 0)"
   ]
  },
  {
   "cell_type": "markdown",
   "id": "8080a737-12ac-4935-821c-ddf430273fd1",
   "metadata": {},
   "source": [
    "# 예외 발생시키기"
   ]
  },
  {
   "cell_type": "code",
   "execution_count": 33,
   "id": "bec10c13-a2bb-44ed-830b-06e24f4c2982",
   "metadata": {},
   "outputs": [],
   "source": [
    "# raise TypeError('입력값 오류')\n",
    "\n",
    "# ---------------------------------------------------------------------------\n",
    "# TypeError                                 Traceback (most recent call last)\n",
    "# Cell In[32], line 1\n",
    "# ----> 1 raise TypeError('입력값 오류')\n",
    "\n",
    "# TypeError: 입력값 오류"
   ]
  },
  {
   "cell_type": "code",
   "execution_count": 34,
   "id": "b6137463-9b33-49cd-9977-749b77663531",
   "metadata": {},
   "outputs": [
    {
     "name": "stdout",
     "output_type": "stream",
     "text": [
      "('입력값 오류',)\n"
     ]
    }
   ],
   "source": [
    "try:\n",
    "    raise TypeError('입력값 오류')\n",
    "except TypeError as e:\n",
    "    print(e.args)"
   ]
  },
  {
   "cell_type": "markdown",
   "id": "6376c2fb-5af9-46c6-a34b-2a4ad5dea0bc",
   "metadata": {},
   "source": [
    "# 내가 정의하는 예외\n",
    "\n",
    "1. 예외 클래스 작성 : 각 예외상황에 맞는 메세지를 작성\n",
    "2. 호출할 때 try: except로 받아준다"
   ]
  },
  {
   "cell_type": "code",
   "execution_count": 36,
   "id": "4106670e-9495-40f8-a82c-08c457b5b8ce",
   "metadata": {},
   "outputs": [],
   "source": [
    "class AgeException(Exception):\n",
    "    def __init__(self, msg):\n",
    "        self._message = msg\n",
    "\n",
    "def input_age():\n",
    "    age = int(input('나이를 입력하세요:'))\n",
    "\n",
    "    if age < 0:\n",
    "        raise AgeException('나이는 양수입니다')\n",
    "    elif age > 150:\n",
    "        raise AgeException('150세 이상??!')\n",
    "    else:\n",
    "        return age"
   ]
  },
  {
   "cell_type": "code",
   "execution_count": 42,
   "id": "e9b96a6a-aea5-45e8-9546-b7212d4d92b9",
   "metadata": {},
   "outputs": [
    {
     "name": "stdin",
     "output_type": "stream",
     "text": [
      "나이를 입력하세요: 26\n"
     ]
    },
    {
     "name": "stdout",
     "output_type": "stream",
     "text": [
      "입력하신 나이는 26입니다.\n"
     ]
    }
   ],
   "source": [
    "try:\n",
    "    age = input_age()\n",
    "except AgeException as e:\n",
    "    print(e.args[0])\n",
    "else:\n",
    "    print(f'입력하신 나이는 {age}입니다.')"
   ]
  },
  {
   "cell_type": "code",
   "execution_count": 45,
   "id": "29019022-2d98-43fe-a46d-0d65966323cc",
   "metadata": {},
   "outputs": [],
   "source": [
    "def select_menu():\n",
    "    \"\"\"\n",
    "    메뉴를 선택하는 함수.\n",
    "    선택된 메뉴 인덱스를 반환.\n",
    "    \"\"\"\n",
    "    print(\"=\"*45)\n",
    "    print(f'{store_name:^40}')\n",
    "    print(\"=\"*45)\n",
    "    print(\"어서오세요 아이스크림을 또 주는 또젤라또입니다\\n\")\n",
    "\n",
    "    for i, menu in enumerate(menu_list):\n",
    "        print(f'{i + 1}. {menu[\"name\"]:<6} {menu[\"count\"]:>12} {menu[\"price\"]:>10,}원')\n",
    "    print(\"=\"*45)\n",
    "\n",
    "    order_input = input('주문할 메뉴 번호를 입력해주세요: ').strip().lower()\n",
    "\n",
    "    if not order_input.isdigit() or not (1 <= int(order_input) <= len(menu_list)):\n",
    "        print(\"잘못된 입력입니다. 다시 시도해주세요.\\n\")\n",
    "        return None\n",
    "\n",
    "    return int(order_input) - 1"
   ]
  },
  {
   "cell_type": "code",
   "execution_count": 66,
   "id": "74fe5694-c2e9-44dd-acc0-02a043536638",
   "metadata": {},
   "outputs": [],
   "source": [
    "def select_menu():\n",
    "    \"\"\"\n",
    "    메뉴를 선택하는 함수.\n",
    "    선택된 메뉴 인덱스를 반환.\n",
    "    \"\"\"\n",
    "    print(\"=\"*45)\n",
    "    print(f'{store_name:^40}')\n",
    "    print(\"=\"*45)\n",
    "    print(\"어서오세요 아이스크림을 또 주는 또젤라또입니다\\n\")\n",
    "\n",
    "    for i, menu in enumerate(menu_list):\n",
    "        print(f'{i + 1}. {menu[\"name\"]:<6} {menu[\"count\"]:>12} {menu[\"price\"]:>10,}원')\n",
    "    print(\"=\"*45)\n",
    "\n",
    "    try:\n",
    "        order_input = input('주문할 메뉴 번호를 입력해주세요: ').strip().lower()\n",
    "        order_num = int(order_input) -1\n",
    "\n",
    "        if order_num not in range(len(menu_list)):\n",
    "            raise IndexError('없는 메뉴번호입니다. 다시 시도해주세요.\\n')\n",
    "            \n",
    "    except ValueError:\n",
    "        print('숫자를 입력해주세요.\\n')\n",
    "        return None\n",
    "        \n",
    "    except IndexError as e:\n",
    "        print(e)\n",
    "        return None\n",
    "\n",
    "    return order_num"
   ]
  },
  {
   "cell_type": "code",
   "execution_count": 58,
   "id": "e5c1495d-e2e1-4ac2-b9ab-0409fbc88923",
   "metadata": {
    "jupyter": {
     "source_hidden": true
    }
   },
   "outputs": [],
   "source": [
    "store_name = '또!젤라또'\n",
    "\n",
    "menu_list = [\n",
    "    {'name':'또젤라또','count':'1가지맛', 'price':3000},\n",
    "    {'name':'또또젤라또','count':'2가지맛', 'price':5000},\n",
    "    {'name':'또또또젤라또','count':'3가지맛', 'price':7000}\n",
    "]\n",
    "\n",
    "flavor_list = [\n",
    "    {'flavor':'달콤초코봄바람'},\n",
    "    {'flavor':'새콤달콤딸기정원'},\n",
    "    {'flavor':'요거트빛파도'},\n",
    "    {'flavor':'말차소풍'},\n",
    "    {'flavor':'체리팝송'},\n",
    "    {'flavor':'포도에몽'},\n",
    "    {'flavor':'바닐라하모니'},\n",
    "    {'flavor':'쿠키크러쉬'},\n",
    "    {'flavor':'소금바다우유'},\n",
    "    {'flavor':'블루베리썸머'},\n",
    "    {'flavor':'스윗피치'},\n",
    "    {'flavor':'레몬샤워'},\n",
    "]"
   ]
  },
  {
   "cell_type": "code",
   "execution_count": 67,
   "id": "a614f8f9-ca64-499c-8e45-d2125cb5923a",
   "metadata": {},
   "outputs": [
    {
     "name": "stdout",
     "output_type": "stream",
     "text": [
      "=============================================\n",
      "                 또!젤라또                  \n",
      "=============================================\n",
      "어서오세요 아이스크림을 또 주는 또젤라또입니다\n",
      "\n",
      "1. 또젤라또           1가지맛      3,000원\n",
      "2. 또또젤라또          2가지맛      5,000원\n",
      "3. 또또또젤라또         3가지맛      7,000원\n",
      "=============================================\n"
     ]
    },
    {
     "name": "stdin",
     "output_type": "stream",
     "text": [
      "주문할 메뉴 번호를 입력해주세요:  6\n"
     ]
    },
    {
     "name": "stdout",
     "output_type": "stream",
     "text": [
      "없는 메뉴번호입니다. 다시 시도해주세요.\n",
      "\n",
      "None\n",
      "=============================================\n",
      "                 또!젤라또                  \n",
      "=============================================\n",
      "어서오세요 아이스크림을 또 주는 또젤라또입니다\n",
      "\n",
      "1. 또젤라또           1가지맛      3,000원\n",
      "2. 또또젤라또          2가지맛      5,000원\n",
      "3. 또또또젤라또         3가지맛      7,000원\n",
      "=============================================\n"
     ]
    },
    {
     "name": "stdin",
     "output_type": "stream",
     "text": [
      "주문할 메뉴 번호를 입력해주세요:  8\n"
     ]
    },
    {
     "name": "stdout",
     "output_type": "stream",
     "text": [
      "없는 메뉴번호입니다. 다시 시도해주세요.\n",
      "\n",
      "None\n",
      "=============================================\n",
      "                 또!젤라또                  \n",
      "=============================================\n",
      "어서오세요 아이스크림을 또 주는 또젤라또입니다\n",
      "\n",
      "1. 또젤라또           1가지맛      3,000원\n",
      "2. 또또젤라또          2가지맛      5,000원\n",
      "3. 또또또젤라또         3가지맛      7,000원\n",
      "=============================================\n"
     ]
    },
    {
     "name": "stdin",
     "output_type": "stream",
     "text": [
      "주문할 메뉴 번호를 입력해주세요:  -1\n"
     ]
    },
    {
     "name": "stdout",
     "output_type": "stream",
     "text": [
      "없는 메뉴번호입니다. 다시 시도해주세요.\n",
      "\n",
      "None\n",
      "=============================================\n",
      "                 또!젤라또                  \n",
      "=============================================\n",
      "어서오세요 아이스크림을 또 주는 또젤라또입니다\n",
      "\n",
      "1. 또젤라또           1가지맛      3,000원\n",
      "2. 또또젤라또          2가지맛      5,000원\n",
      "3. 또또또젤라또         3가지맛      7,000원\n",
      "=============================================\n"
     ]
    },
    {
     "name": "stdin",
     "output_type": "stream",
     "text": [
      "주문할 메뉴 번호를 입력해주세요:  f\n"
     ]
    },
    {
     "name": "stdout",
     "output_type": "stream",
     "text": [
      "숫자를 입력해주세요.\n",
      "\n",
      "None\n",
      "=============================================\n",
      "                 또!젤라또                  \n",
      "=============================================\n",
      "어서오세요 아이스크림을 또 주는 또젤라또입니다\n",
      "\n",
      "1. 또젤라또           1가지맛      3,000원\n",
      "2. 또또젤라또          2가지맛      5,000원\n",
      "3. 또또또젤라또         3가지맛      7,000원\n",
      "=============================================\n"
     ]
    },
    {
     "name": "stdin",
     "output_type": "stream",
     "text": [
      "주문할 메뉴 번호를 입력해주세요:  77\n"
     ]
    },
    {
     "name": "stdout",
     "output_type": "stream",
     "text": [
      "없는 메뉴번호입니다. 다시 시도해주세요.\n",
      "\n",
      "None\n",
      "=============================================\n",
      "                 또!젤라또                  \n",
      "=============================================\n",
      "어서오세요 아이스크림을 또 주는 또젤라또입니다\n",
      "\n",
      "1. 또젤라또           1가지맛      3,000원\n",
      "2. 또또젤라또          2가지맛      5,000원\n",
      "3. 또또또젤라또         3가지맛      7,000원\n",
      "=============================================\n"
     ]
    },
    {
     "name": "stdin",
     "output_type": "stream",
     "text": [
      "주문할 메뉴 번호를 입력해주세요:  3\n"
     ]
    },
    {
     "name": "stdout",
     "output_type": "stream",
     "text": [
      "2\n",
      "=============================================\n",
      "                 또!젤라또                  \n",
      "=============================================\n",
      "어서오세요 아이스크림을 또 주는 또젤라또입니다\n",
      "\n",
      "1. 또젤라또           1가지맛      3,000원\n",
      "2. 또또젤라또          2가지맛      5,000원\n",
      "3. 또또또젤라또         3가지맛      7,000원\n",
      "=============================================\n"
     ]
    },
    {
     "ename": "KeyboardInterrupt",
     "evalue": "Interrupted by user",
     "output_type": "error",
     "traceback": [
      "\u001b[31m---------------------------------------------------------------------------\u001b[39m",
      "\u001b[31mKeyboardInterrupt\u001b[39m                         Traceback (most recent call last)",
      "\u001b[36mCell\u001b[39m\u001b[36m \u001b[39m\u001b[32mIn[67]\u001b[39m\u001b[32m, line 3\u001b[39m\n\u001b[32m      1\u001b[39m \u001b[38;5;28;01mwhile\u001b[39;00m \u001b[38;5;28;01mTrue\u001b[39;00m:\n\u001b[32m      2\u001b[39m         \u001b[38;5;66;03m# 메뉴 선택\u001b[39;00m\n\u001b[32m----> \u001b[39m\u001b[32m3\u001b[39m         order_num = select_menu()\n\u001b[32m      4\u001b[39m         \u001b[38;5;28mprint\u001b[39m(order_num)\n",
      "\u001b[36mCell\u001b[39m\u001b[36m \u001b[39m\u001b[32mIn[66]\u001b[39m\u001b[32m, line 16\u001b[39m, in \u001b[36mselect_menu\u001b[39m\u001b[34m()\u001b[39m\n\u001b[32m     13\u001b[39m \u001b[38;5;28mprint\u001b[39m(\u001b[33m\"\u001b[39m\u001b[33m=\u001b[39m\u001b[33m\"\u001b[39m*\u001b[32m45\u001b[39m)\n\u001b[32m     15\u001b[39m \u001b[38;5;28;01mtry\u001b[39;00m:\n\u001b[32m---> \u001b[39m\u001b[32m16\u001b[39m     order_input = \u001b[38;5;28minput\u001b[39m(\u001b[33m'\u001b[39m\u001b[33m주문할 메뉴 번호를 입력해주세요: \u001b[39m\u001b[33m'\u001b[39m).strip().lower()\n\u001b[32m     17\u001b[39m     order_num = \u001b[38;5;28mint\u001b[39m(order_input) -\u001b[32m1\u001b[39m\n\u001b[32m     19\u001b[39m     \u001b[38;5;28;01mif\u001b[39;00m order_num \u001b[38;5;129;01mnot\u001b[39;00m \u001b[38;5;129;01min\u001b[39;00m \u001b[38;5;28mrange\u001b[39m(\u001b[38;5;28mlen\u001b[39m(menu_list)):\n",
      "\u001b[36mFile \u001b[39m\u001b[32m~\\miniconda3\\envs\\hipython\\Lib\\site-packages\\ipykernel\\kernelbase.py:1282\u001b[39m, in \u001b[36mKernel.raw_input\u001b[39m\u001b[34m(self, prompt)\u001b[39m\n\u001b[32m   1280\u001b[39m     msg = \u001b[33m\"\u001b[39m\u001b[33mraw_input was called, but this frontend does not support input requests.\u001b[39m\u001b[33m\"\u001b[39m\n\u001b[32m   1281\u001b[39m     \u001b[38;5;28;01mraise\u001b[39;00m StdinNotImplementedError(msg)\n\u001b[32m-> \u001b[39m\u001b[32m1282\u001b[39m \u001b[38;5;28;01mreturn\u001b[39;00m \u001b[38;5;28mself\u001b[39m._input_request(\n\u001b[32m   1283\u001b[39m     \u001b[38;5;28mstr\u001b[39m(prompt),\n\u001b[32m   1284\u001b[39m     \u001b[38;5;28mself\u001b[39m._parent_ident[\u001b[33m\"\u001b[39m\u001b[33mshell\u001b[39m\u001b[33m\"\u001b[39m],\n\u001b[32m   1285\u001b[39m     \u001b[38;5;28mself\u001b[39m.get_parent(\u001b[33m\"\u001b[39m\u001b[33mshell\u001b[39m\u001b[33m\"\u001b[39m),\n\u001b[32m   1286\u001b[39m     password=\u001b[38;5;28;01mFalse\u001b[39;00m,\n\u001b[32m   1287\u001b[39m )\n",
      "\u001b[36mFile \u001b[39m\u001b[32m~\\miniconda3\\envs\\hipython\\Lib\\site-packages\\ipykernel\\kernelbase.py:1325\u001b[39m, in \u001b[36mKernel._input_request\u001b[39m\u001b[34m(self, prompt, ident, parent, password)\u001b[39m\n\u001b[32m   1322\u001b[39m \u001b[38;5;28;01mexcept\u001b[39;00m \u001b[38;5;167;01mKeyboardInterrupt\u001b[39;00m:\n\u001b[32m   1323\u001b[39m     \u001b[38;5;66;03m# re-raise KeyboardInterrupt, to truncate traceback\u001b[39;00m\n\u001b[32m   1324\u001b[39m     msg = \u001b[33m\"\u001b[39m\u001b[33mInterrupted by user\u001b[39m\u001b[33m\"\u001b[39m\n\u001b[32m-> \u001b[39m\u001b[32m1325\u001b[39m     \u001b[38;5;28;01mraise\u001b[39;00m \u001b[38;5;167;01mKeyboardInterrupt\u001b[39;00m(msg) \u001b[38;5;28;01mfrom\u001b[39;00m\u001b[38;5;250m \u001b[39m\u001b[38;5;28;01mNone\u001b[39;00m\n\u001b[32m   1326\u001b[39m \u001b[38;5;28;01mexcept\u001b[39;00m \u001b[38;5;167;01mException\u001b[39;00m:\n\u001b[32m   1327\u001b[39m     \u001b[38;5;28mself\u001b[39m.log.warning(\u001b[33m\"\u001b[39m\u001b[33mInvalid Message:\u001b[39m\u001b[33m\"\u001b[39m, exc_info=\u001b[38;5;28;01mTrue\u001b[39;00m)\n",
      "\u001b[31mKeyboardInterrupt\u001b[39m: Interrupted by user"
     ]
    }
   ],
   "source": [
    "while True:\n",
    "        # 메뉴 선택\n",
    "        order_num = select_menu()\n",
    "        print(order_num)"
   ]
  },
  {
   "cell_type": "code",
   "execution_count": null,
   "id": "79933fb3-76d9-4b4d-88c3-6744b0c9c367",
   "metadata": {},
   "outputs": [],
   "source": []
  }
 ],
 "metadata": {
  "kernelspec": {
   "display_name": "Python 3 (ipykernel)",
   "language": "python",
   "name": "python3"
  },
  "language_info": {
   "codemirror_mode": {
    "name": "ipython",
    "version": 3
   },
   "file_extension": ".py",
   "mimetype": "text/x-python",
   "name": "python",
   "nbconvert_exporter": "python",
   "pygments_lexer": "ipython3",
   "version": "3.12.9"
  }
 },
 "nbformat": 4,
 "nbformat_minor": 5
}
